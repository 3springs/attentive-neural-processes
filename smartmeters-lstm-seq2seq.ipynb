{
 "cells": [
  {
   "cell_type": "markdown",
   "metadata": {},
   "source": [
    "# This notebook uses pytorch lightning & optuna & an LSTM\n",
    "\n",
    "This notebook trains an LSTM on timeseries data from smartmeters.\n",
    "\n",
    "It uses pytorch lighting for the training loop. And Optuna for the hyperparameter optimisation.\n",
    "\n",
    "It also pushes results to the tensorboard hyperparameter dashboard for examination.\n",
    "\n",
    "- https://github.com/optuna/optuna/blob/master/examples/pytorch_lightning_simple.py"
   ]
  },
  {
   "cell_type": "code",
   "execution_count": 1,
   "metadata": {
    "ExecuteTime": {
     "end_time": "2020-03-15T06:20:36.851033Z",
     "start_time": "2020-03-15T06:20:36.437549Z"
    }
   },
   "outputs": [],
   "source": [
    "%matplotlib inline\n",
    "%reload_ext autoreload\n",
    "%autoreload 2"
   ]
  },
  {
   "cell_type": "code",
   "execution_count": 2,
   "metadata": {
    "ExecuteTime": {
     "end_time": "2020-03-15T06:20:38.916046Z",
     "start_time": "2020-03-15T06:20:36.853938Z"
    }
   },
   "outputs": [],
   "source": [
    "import sys, re, os, itertools, functools, collections\n",
    "import pandas as pd\n",
    "import numpy as np\n",
    "import matplotlib.pyplot as plt\n",
    "import collections\n",
    "from pathlib import Path\n",
    "from tqdm.auto import tqdm\n",
    "\n",
    "import pytorch_lightning as pl\n",
    "import optuna\n",
    "from optuna.integration import PyTorchLightningPruningCallback\n",
    "\n",
    "\n",
    "import math\n"
   ]
  },
  {
   "cell_type": "code",
   "execution_count": 3,
   "metadata": {
    "ExecuteTime": {
     "end_time": "2020-03-15T06:20:38.967554Z",
     "start_time": "2020-03-15T06:20:38.918712Z"
    }
   },
   "outputs": [],
   "source": [
    "import torch\n",
    "from torch import nn\n",
    "import torch.nn.functional as F"
   ]
  },
  {
   "cell_type": "code",
   "execution_count": 4,
   "metadata": {
    "ExecuteTime": {
     "end_time": "2020-03-15T06:20:39.092692Z",
     "start_time": "2020-03-15T06:20:38.969810Z"
    }
   },
   "outputs": [
    {
     "name": "stderr",
     "output_type": "stream",
     "text": [
      "/home/wassname/.pyenv/versions/jup3.7.3/lib/python3.7/site-packages/pytorch_lightning/core/decorators.py:13: UserWarning:\n",
      "\n",
      "data_loader decorator deprecated in 0.7.0. Will remove 0.9.0\n",
      "\n"
     ]
    }
   ],
   "source": [
    "from src.models.model import LatentModel\n",
    "from src.data.smart_meter import collate_fns, SmartMeterDataSet, get_smartmeter_df\n",
    "from src.plot import plot_from_loader\n",
    "from src.models.lstm_seqseq import LSTMSeq2Seq_PL\n",
    "from src.dict_logger import DictLogger\n",
    "from src.utils import PyTorchLightningPruningCallback\n",
    "from src.train import main, objective, add_number, run_trial"
   ]
  },
  {
   "cell_type": "code",
   "execution_count": 5,
   "metadata": {
    "ExecuteTime": {
     "end_time": "2020-03-15T06:20:39.145192Z",
     "start_time": "2020-03-15T06:20:39.094974Z"
    }
   },
   "outputs": [],
   "source": [
    "import logging\n",
    "logging.basicConfig(stream=sys.stdout, level=logging.INFO)\n",
    "logger = logging.getLogger(\"smartmeters.ipynb\")"
   ]
  },
  {
   "cell_type": "code",
   "execution_count": 6,
   "metadata": {
    "ExecuteTime": {
     "end_time": "2020-03-15T06:20:39.198086Z",
     "start_time": "2020-03-15T06:20:39.149038Z"
    }
   },
   "outputs": [],
   "source": [
    "# Params\n",
    "device='cuda'\n",
    "use_logy=False"
   ]
  },
  {
   "cell_type": "markdown",
   "metadata": {},
   "source": [
    "# Load kaggle smart meter data"
   ]
  },
  {
   "cell_type": "code",
   "execution_count": 7,
   "metadata": {
    "ExecuteTime": {
     "end_time": "2020-03-15T06:20:48.064675Z",
     "start_time": "2020-03-15T06:20:39.201048Z"
    }
   },
   "outputs": [],
   "source": [
    "df_train, df_val, df_test = get_smartmeter_df()"
   ]
  },
  {
   "cell_type": "code",
   "execution_count": 8,
   "metadata": {
    "ExecuteTime": {
     "end_time": "2020-03-15T06:20:48.833613Z",
     "start_time": "2020-03-15T06:20:48.067617Z"
    }
   },
   "outputs": [
    {
     "data": {
      "text/plain": [
       "<matplotlib.legend.Legend at 0x7fbc2cb9d160>"
      ]
     },
     "execution_count": 8,
     "metadata": {},
     "output_type": "execute_result"
    },
    {
     "data": {
      "image/png": "[encoded data removed]",
      "text/plain": [
       "<Figure size 432x288 with 1 Axes>"
      ]
     },
     "metadata": {
      "needs_background": "light"
     },
     "output_type": "display_data"
    }
   ],
   "source": [
    "# Show split\n",
    "df_train['energy(kWh/hh)'].plot(label='train')\n",
    "df_val['energy(kWh/hh)'].plot(label='val')\n",
    "df_test['energy(kWh/hh)'].plot(label='test')\n",
    "plt.title('energy(kWh/hh)')\n",
    "plt.legend()"
   ]
  },
  {
   "cell_type": "markdown",
   "metadata": {},
   "source": [
    "# Train"
   ]
  },
  {
   "cell_type": "markdown",
   "metadata": {},
   "source": [
    "[I 2020-01-29 08:42:54,398] Finished trial#8 resulted in value: 0.005635036621242762. Current best value is 0.005635036621242762 with parameters: {'batch_size': 16, 'bidirectional': False, 'grad_clip': 40, 'hidden_size': 128, 'input_size': 17, 'learning_rate': 0.00019134834148401144, 'lstm_dropout': 0.4080689425353674, 'lstm_layers': 8, 'max_nb_epochs': 20, 'num_workers': 4, 'target_length': 24, 'vis_i': 670, 'window_length': 48}."
   ]
  },
  {
   "cell_type": "code",
   "execution_count": null,
   "metadata": {
    "ExecuteTime": {
     "start_time": "2020-03-15T06:20:36.500Z"
    }
   },
   "outputs": [
    {
     "name": "stdout",
     "output_type": "stream",
     "text": [
      "now run `tensorboard --logdir lightning_logs`\n",
      "trial.number -9\n",
      "INFO:root:GPU available: True, used: True\n",
      "INFO:root:VISIBLE GPUS: 0\n",
      "INFO:root:\n",
      "   | Name                          | Type               | Params\n",
      "-----------------------------------------------------------------\n",
      "0  | model                         | Seq2SeqNet         | 8 M   \n",
      "1  | model.norm_input              | BatchNormSequence  | 36    \n",
      "2  | model.norm_input.norm         | BatchNorm1d        | 36    \n",
      "3  | model.encoder                 | LSTM               | 3 M   \n",
      "4  | model.multihead_attn          | MultiheadAttention | 263 K \n",
      "5  | model.multihead_attn.out_proj | Linear             | 65 K  \n",
      "6  | model.norm_target             | BatchNormSequence  | 34    \n",
      "7  | model.norm_target.norm        | BatchNorm1d        | 34    \n",
      "8  | model.decoder                 | LSTM               | 3 M   \n",
      "9  | model.mean                    | Linear             | 257   \n",
      "10 | model.std                     | Linear             | 257   \n"
     ]
    },
    {
     "data": {
      "application/vnd.jupyter.widget-view+json": {
       "model_id": "",
       "version_major": 2,
       "version_minor": 0
      },
      "text/plain": [
       "HBox(children=(FloatProgress(value=0.0, description='Validation sanity check', layout=Layout(flex='2'), max=5.…"
      ]
     },
     "metadata": {},
     "output_type": "display_data"
    },
    {
     "data": {
      "image/png": "[encoded data removed]",
      "text/plain": [
       "<Figure size 432x288 with 1 Axes>"
      ]
     },
     "metadata": {
      "needs_background": "light"
     },
     "output_type": "display_data"
    },
    {
     "name": "stdout",
     "output_type": "stream",
     "text": [
      "step 0, {'val_loss': '0.011164243333041668', 'val/loss_mse': '0.0032282730098813772', 'val/loss_p': '0.011164243333041668', 'val/sigma': '1.053402304649353'}\n",
      "\r"
     ]
    },
    {
     "data": {
      "application/vnd.jupyter.widget-view+json": {
       "model_id": "95ec1ebd044742369cfca380eee27943",
       "version_major": 2,
       "version_minor": 0
      },
      "text/plain": [
       "HBox(children=(FloatProgress(value=1.0, bar_style='info', layout=Layout(flex='2'), max=1.0), HTML(value='')), …"
      ]
     },
     "metadata": {},
     "output_type": "display_data"
    },
    {
     "data": {
      "application/vnd.jupyter.widget-view+json": {
       "model_id": "",
       "version_major": 2,
       "version_minor": 0
      },
      "text/plain": [
       "HBox(children=(FloatProgress(value=0.0, description='Validating', layout=Layout(flex='2'), max=117.0, style=Pr…"
      ]
     },
     "metadata": {},
     "output_type": "display_data"
    },
    {
     "data": {
      "image/png": "[encoded data removed]",
      "text/plain": [
       "<Figure size 432x288 with 1 Axes>"
      ]
     },
     "metadata": {
      "needs_background": "light"
     },
     "output_type": "display_data"
    },
    {
     "name": "stdout",
     "output_type": "stream",
     "text": [
      "step 1826, {'val_loss': '-0.0028804054018110037', 'val/loss_mse': '0.0003285847487859428', 'val/loss_p': '-0.0028804054018110037', 'val/sigma': '0.19125744700431824'}\n",
      "INFO:root:Detected KeyboardInterrupt, attempting graceful shutdown...\n",
      "\n",
      "Loading checkpoint lightning_logs/seq2seq/version_-9/_ckpt_epoch_0.ckpt\n"
     ]
    }
   ],
   "source": [
    "trial, trainer, model = run_trial(\n",
    "    name=\"seq2seq\",\n",
    "    params={\n",
    "        'bidirectional': False,\n",
    "        'hidden_size': 256,\n",
    "        'learning_rate': 2e-4,\n",
    "        'lstm_dropout': 0.4,\n",
    "        'lstm_layers': 8,\n",
    "    },\n",
    "    user_attrs = {\n",
    "        'batch_size': 16,\n",
    "        'grad_clip': 40,\n",
    "        'max_nb_epochs': 200,\n",
    "        'num_workers': 4,\n",
    "        'num_extra_target': 24*4,\n",
    "        'vis_i': '670',\n",
    "        'num_context': 24*4,\n",
    "        'input_size': 18,\n",
    "        'input_size_decoder': 17,\n",
    "        'context_in_target': True,\n",
    "        'output_size': 1,\n",
    "        'patience':2,\n",
    "    },\n",
    "    PL_MODEL_CLS=LSTMSeq2Seq_PL\n",
    ")"
   ]
  },
  {
   "cell_type": "code",
   "execution_count": null,
   "metadata": {
    "ExecuteTime": {
     "start_time": "2020-03-15T06:20:36.500Z"
    }
   },
   "outputs": [],
   "source": [
    "loader = model.val_dataloader()[0]\n",
    "dset_test = loader.dataset\n",
    "label_names = dset_test.label_names\n",
    "plot_from_loader(loader, model, i=670)"
   ]
  },
  {
   "cell_type": "code",
   "execution_count": null,
   "metadata": {
    "ExecuteTime": {
     "start_time": "2020-03-15T06:20:36.500Z"
    }
   },
   "outputs": [],
   "source": [
    "# Look at input data, low temp, and holidays imply \n",
    "rows_x, rows_y = dset_test.get_rows(670)\n",
    "rows_x[['apparentTemperature', 'holiday', 'dayofweek']].plot()"
   ]
  },
  {
   "cell_type": "markdown",
   "metadata": {
    "ExecuteTime": {
     "end_time": "2020-01-27T09:03:28.792465Z",
     "start_time": "2020-01-27T09:03:28.346446Z"
    }
   },
   "source": [
    "# Hyperparam opt"
   ]
  },
  {
   "cell_type": "code",
   "execution_count": null,
   "metadata": {},
   "outputs": [],
   "source": []
  },
  {
   "cell_type": "code",
   "execution_count": null,
   "metadata": {
    "ExecuteTime": {
     "start_time": "2020-03-15T06:20:36.500Z"
    }
   },
   "outputs": [],
   "source": [
    "import argparse \n",
    "\n",
    "parser = argparse.ArgumentParser(description='PyTorch Lightning example.')\n",
    "parser.add_argument('--pruning', '-p', action='store_true',\n",
    "                    help='Activate the pruning feature. `MedianPruner` stops unpromising '\n",
    "                         'trials at the early stages of training.')\n",
    "args = parser.parse_args(['-p'])\n",
    "\n",
    "pruner = optuna.pruners.MedianPruner() if args.pruning else optuna.pruners.NopPruner()\n",
    "\n",
    "study = optuna.create_study(direction='minimize', pruner=pruner, storage=f'sqlite:///optuna_result/{name}.db', study_name='no-name-b60e37fc-4ab6-4793-8a0a-c87a1b40c5c0', load_if_exists=True)\n",
    "\n",
    "# shutil.rmtree(MODEL_DIR)"
   ]
  },
  {
   "cell_type": "code",
   "execution_count": null,
   "metadata": {
    "ExecuteTime": {
     "end_time": "2020-01-27T23:38:16.813496Z",
     "start_time": "2020-01-27T23:38:16.766674Z"
    }
   },
   "outputs": [],
   "source": []
  },
  {
   "cell_type": "code",
   "execution_count": null,
   "metadata": {
    "ExecuteTime": {
     "start_time": "2020-03-15T06:20:36.600Z"
    }
   },
   "outputs": [],
   "source": [
    "study.optimize(objective, n_trials=200, timeout=6000)\n",
    "\n",
    "print('Number of finished trials: {}'.format(len(study.trials)))\n",
    "\n",
    "print('Best trial:')\n",
    "trial = study.best_trial\n",
    "\n",
    "print('  Value: {}'.format(trial.value))\n",
    "\n",
    "print('  Params: ')\n",
    "for key, value in trial.params.items():\n",
    "    print('    {}: {}'.format(key, value))\n"
   ]
  },
  {
   "cell_type": "code",
   "execution_count": null,
   "metadata": {
    "ExecuteTime": {
     "start_time": "2020-03-15T06:20:36.600Z"
    }
   },
   "outputs": [],
   "source": [
    "study.optimize(objective, n_trials=200, timeout=6000)"
   ]
  },
  {
   "cell_type": "code",
   "execution_count": null,
   "metadata": {
    "ExecuteTime": {
     "start_time": "2020-03-15T06:20:36.600Z"
    }
   },
   "outputs": [],
   "source": [
    "df = study.trials_dataframe(attrs=('number', 'value', 'params', 'state'))\n",
    "df.sort_values('value')"
   ]
  },
  {
   "cell_type": "markdown",
   "metadata": {},
   "source": [
    "# Scratch"
   ]
  },
  {
   "cell_type": "code",
   "execution_count": null,
   "metadata": {
    "ExecuteTime": {
     "start_time": "2020-03-15T06:20:36.600Z"
    }
   },
   "outputs": [],
   "source": [
    "model, trainer = main(trial, train=False)"
   ]
  },
  {
   "cell_type": "code",
   "execution_count": null,
   "metadata": {
    "ExecuteTime": {
     "start_time": "2020-03-15T06:20:36.600Z"
    }
   },
   "outputs": [],
   "source": [
    "loader = model.val_dataloader()[0]\n",
    "dset_test = loader.dataset\n",
    "label_names = dset_test.label_names"
   ]
  },
  {
   "cell_type": "code",
   "execution_count": null,
   "metadata": {
    "ExecuteTime": {
     "start_time": "2020-03-15T06:20:36.600Z"
    }
   },
   "outputs": [],
   "source": [
    "x_rows, y_rows = dset_test.iloc(10)\n",
    "x_rows.loc[x_rows.index[model.hparams.window_length:], dset_test.label_names] = 0.\n",
    "x_rows"
   ]
  },
  {
   "cell_type": "code",
   "execution_count": null,
   "metadata": {
    "ExecuteTime": {
     "start_time": "2020-03-15T06:20:36.600Z"
    }
   },
   "outputs": [],
   "source": [
    "x_rows.loc[x_rows.index[model.hparams.window_length:]]"
   ]
  },
  {
   "cell_type": "code",
   "execution_count": null,
   "metadata": {
    "ExecuteTime": {
     "start_time": "2020-03-15T06:20:36.600Z"
    }
   },
   "outputs": [],
   "source": [
    "self=dset_test\n",
    "idx=10\n",
    "k = idx + self.hparams.window_length + self.hparams.target_length\n",
    "j = k - self.hparams.target_length\n",
    "i = j - self.hparams.window_length\n",
    "idx, k, j, i, self.hparams.window_length + self.hparams.target_length"
   ]
  },
  {
   "cell_type": "code",
   "execution_count": null,
   "metadata": {
    "ExecuteTime": {
     "start_time": "2020-03-15T06:20:36.600Z"
    }
   },
   "outputs": [],
   "source": [
    "j-i"
   ]
  },
  {
   "cell_type": "code",
   "execution_count": null,
   "metadata": {
    "ExecuteTime": {
     "start_time": "2020-03-15T06:20:36.600Z"
    }
   },
   "outputs": [],
   "source": [
    "self.hparams.window_length + self.hparams.target_length"
   ]
  },
  {
   "cell_type": "code",
   "execution_count": null,
   "metadata": {},
   "outputs": [],
   "source": []
  }
 ],
 "metadata": {
  "file_extension": ".py",
  "kernelspec": {
   "display_name": "jup3.7.3",
   "language": "python",
   "name": "jup3.7.3"
  },
  "language_info": {
   "codemirror_mode": {
    "name": "ipython",
    "version": 3
   },
   "file_extension": ".py",
   "mimetype": "text/x-python",
   "name": "python",
   "nbconvert_exporter": "python",
   "pygments_lexer": "ipython3",
   "version": "3.7.3"
  },
  "mimetype": "text/x-python",
  "name": "python",
  "npconvert_exporter": "python",
  "pygments_lexer": "ipython3",
  "toc": {
   "base_numbering": 1,
   "nav_menu": {},
   "number_sections": true,
   "sideBar": true,
   "skip_h1_title": false,
   "title_cell": "Table of Contents",
   "title_sidebar": "Contents",
   "toc_cell": false,
   "toc_position": {
    "height": "calc(100% - 180px)",
    "left": "10px",
    "top": "150px",
    "width": "384px"
   },
   "toc_section_display": true,
   "toc_window_display": true
  },
  "version": 3
 },
 "nbformat": 4,
 "nbformat_minor": 2
}
