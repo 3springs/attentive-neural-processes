{
 "cells": [
  {
   "cell_type": "markdown",
   "metadata": {},
   "source": [
    "# This notebook tests ANP-RNN + MC Dropout \n",
    "\n",
    "Ideally a NP should learn uncertainty, but it may also be overconfident. In neural network monte carlo dropout often provides a more robust uncertainty. Here I compare it and find that the uncertainty from MCLoss improved the validation loss when added to the models estimation of uncertainty."
   ]
  },
  {
   "cell_type": "code",
   "execution_count": 1,
   "metadata": {
    "ExecuteTime": {
     "end_time": "2020-03-15T04:21:34.567835Z",
     "start_time": "2020-03-15T04:21:34.203299Z"
    }
   },
   "outputs": [],
   "source": [
    "%matplotlib inline\n",
    "%reload_ext autoreload\n",
    "%autoreload 2"
   ]
  },
  {
   "cell_type": "code",
   "execution_count": 2,
   "metadata": {
    "ExecuteTime": {
     "end_time": "2020-03-15T04:21:36.521830Z",
     "start_time": "2020-03-15T04:21:34.570308Z"
    }
   },
   "outputs": [],
   "source": [
    "import sys, re, os, itertools, functools, collections\n",
    "import pandas as pd\n",
    "import numpy as np\n",
    "import matplotlib.pyplot as plt\n",
    "import collections\n",
    "from pathlib import Path\n",
    "from tqdm.auto import tqdm\n",
    "\n",
    "import optuna\n",
    "import pytorch_lightning as pl\n",
    "from optuna.integration import PyTorchLightningPruningCallback\n",
    "import math"
   ]
  },
  {
   "cell_type": "code",
   "execution_count": 3,
   "metadata": {
    "ExecuteTime": {
     "end_time": "2020-03-15T04:21:36.575605Z",
     "start_time": "2020-03-15T04:21:36.524805Z"
    }
   },
   "outputs": [],
   "source": [
    "import logging\n",
    "logging.basicConfig(stream=sys.stdout, level=logging.INFO)\n",
    "logger = logging.getLogger(\"RANP.ipynb\")"
   ]
  },
  {
   "cell_type": "code",
   "execution_count": 4,
   "metadata": {
    "ExecuteTime": {
     "end_time": "2020-03-15T04:21:36.636886Z",
     "start_time": "2020-03-15T04:21:36.578525Z"
    }
   },
   "outputs": [],
   "source": [
    "import torch\n",
    "from torch import nn\n",
    "import torch.nn.functional as F"
   ]
  },
  {
   "cell_type": "code",
   "execution_count": null,
   "metadata": {
    "ExecuteTime": {
     "end_time": "2020-03-14T01:44:26.470097Z",
     "start_time": "2020-03-14T01:44:26.405276Z"
    }
   },
   "outputs": [],
   "source": []
  },
  {
   "cell_type": "code",
   "execution_count": 5,
   "metadata": {
    "ExecuteTime": {
     "end_time": "2020-03-15T04:21:36.774252Z",
     "start_time": "2020-03-15T04:21:36.640871Z"
    }
   },
   "outputs": [],
   "source": [
    "from src.models.model import LatentModel\n",
    "from src.data.smart_meter import collate_fns, SmartMeterDataSet, get_smartmeter_df\n",
    "from src.plot import plot_from_loader\n",
    "from src.models.lightning_anp import LatentModelPL\n",
    "from src.dict_logger import DictLogger\n",
    "from src.train import main, objective, add_number, run_trial\n",
    "from src.utils import init_random_seed"
   ]
  },
  {
   "cell_type": "code",
   "execution_count": 6,
   "metadata": {
    "ExecuteTime": {
     "end_time": "2020-03-15T04:21:36.827443Z",
     "start_time": "2020-03-15T04:21:36.777328Z"
    }
   },
   "outputs": [],
   "source": [
    "# Params\n",
    "device='cuda'\n",
    "use_logy=False"
   ]
  },
  {
   "cell_type": "markdown",
   "metadata": {},
   "source": [
    "# Load kaggle smart meter data"
   ]
  },
  {
   "cell_type": "code",
   "execution_count": 7,
   "metadata": {
    "ExecuteTime": {
     "end_time": "2020-03-15T04:21:45.600155Z",
     "start_time": "2020-03-15T04:21:36.830088Z"
    }
   },
   "outputs": [],
   "source": [
    "df_train, df_val, df_test = get_smartmeter_df()"
   ]
  },
  {
   "cell_type": "code",
   "execution_count": 8,
   "metadata": {
    "ExecuteTime": {
     "end_time": "2020-03-15T04:21:46.355566Z",
     "start_time": "2020-03-15T04:21:45.603079Z"
    }
   },
   "outputs": [
    {
     "data": {
      "text/plain": [
       "<matplotlib.legend.Legend at 0x7fa433509198>"
      ]
     },
     "execution_count": 8,
     "metadata": {},
     "output_type": "execute_result"
    },
    {
     "data": {
      "image/png": "[encoded data removed]",
      "text/plain": [
       "<Figure size 432x288 with 1 Axes>"
      ]
     },
     "metadata": {
      "needs_background": "light"
     },
     "output_type": "display_data"
    }
   ],
   "source": [
    "# Show split\n",
    "df_train['energy(kWh/hh)'].plot(label='train')\n",
    "df_val['energy(kWh/hh)'].plot(label='val')\n",
    "df_test['energy(kWh/hh)'].plot(label='test')\n",
    "plt.title('energy(kWh/hh)')\n",
    "plt.legend()"
   ]
  },
  {
   "cell_type": "markdown",
   "metadata": {},
   "source": [
    "# Train helpers"
   ]
  },
  {
   "cell_type": "code",
   "execution_count": null,
   "metadata": {
    "ExecuteTime": {
     "end_time": "2020-01-27T23:41:43.464247Z",
     "start_time": "2020-01-27T23:41:43.410516Z"
    }
   },
   "outputs": [],
   "source": []
  },
  {
   "cell_type": "code",
   "execution_count": 9,
   "metadata": {
    "ExecuteTime": {
     "end_time": "2020-03-15T04:21:46.415821Z",
     "start_time": "2020-03-15T04:21:46.358409Z"
    }
   },
   "outputs": [
    {
     "name": "stdout",
     "output_type": "stream",
     "text": [
      "now run `tensorboard --logdir /media/wassname/Storage5/projects2/3ST/attentive-neural-processes/lightning_logs`\n"
     ]
    }
   ],
   "source": [
    "PERCENT_TEST_EXAMPLES = 0.5\n",
    "# EPOCHS = 5\n",
    "DIR = Path(os.getcwd())\n",
    "MODEL_DIR = DIR/ 'lightning_logs'\n",
    "name = 'anp-rnn-mcdropout' # study name\n",
    "MODEL_DIR.mkdir(parents=True, exist_ok=True)\n",
    "print(f\"now run `tensorboard --logdir {MODEL_DIR}`\")"
   ]
  },
  {
   "cell_type": "code",
   "execution_count": null,
   "metadata": {
    "ExecuteTime": {
     "end_time": "2020-03-14T11:02:03.427985Z",
     "start_time": "2020-03-14T11:02:03.306881Z"
    }
   },
   "outputs": [],
   "source": []
  },
  {
   "cell_type": "code",
   "execution_count": 10,
   "metadata": {
    "ExecuteTime": {
     "end_time": "2020-03-15T04:21:46.473382Z",
     "start_time": "2020-03-15T04:21:46.418158Z"
    }
   },
   "outputs": [],
   "source": [
    "from typing import Callable\n",
    "\n",
    "def convert_layers(model:nn.Module, original:nn.Module, value: bool):\n",
    "    \"\"\"\n",
    "    Turn dropout on\n",
    "    \"\"\"\n",
    "    for child_name, child in model.named_children():\n",
    "        if isinstance(child, original):\n",
    "#             print(child, 'from', child.training, 'to', value)\n",
    "            child.train(value)\n",
    "            \n",
    "        else:\n",
    "            convert_layers(child, original, value)"
   ]
  },
  {
   "cell_type": "code",
   "execution_count": 11,
   "metadata": {
    "ExecuteTime": {
     "end_time": "2020-03-15T04:21:46.542599Z",
     "start_time": "2020-03-15T04:21:46.476541Z"
    }
   },
   "outputs": [],
   "source": [
    "from src.plot import plot_rows\n",
    "\n",
    "\n",
    "def eval_mc(model, loader, i):\n",
    "    device = next(model.parameters()).device\n",
    "\n",
    "    data = loader.collate_fn([loader.dataset[i]], sample=False)\n",
    "    data = [d.to(device) for d in data]\n",
    "    context_x, context_y, target_x_extra, target_y_extra = data\n",
    "    target_x = target_x_extra\n",
    "    target_y = target_y_extra\n",
    "\n",
    "    # do MCDropout estimation\n",
    "    model.eval()\n",
    "    convert_layers(model, torch.nn.modules.dropout.Dropout2d, True)\n",
    "    model.model._lstm.train()\n",
    "\n",
    "    y_preds = []\n",
    "    y_stds = []\n",
    "    with torch.no_grad():\n",
    "        for i in range(n_mcdropout):\n",
    "            y_pred, losses, extra = model(context_x, context_y, target_x, target_y)\n",
    "            y_std = extra['dist'].scale\n",
    "            y_preds.append(y_pred)\n",
    "            y_stds.append(y_std)\n",
    "    y_stds = torch.stack(y_stds)\n",
    "    y_preds = torch.stack(y_preds)\n",
    "\n",
    "\n",
    "    mean = y_preds.mean(0)\n",
    "    sigma = y_stds.mean(0)\n",
    "\n",
    "    dist = torch.distributions.Normal(mean, sigma)\n",
    "    log_p = dist.log_prob(target_y).mean(-1)\n",
    "    loss_mc = - log_p\n",
    "\n",
    "\n",
    "    # Try without MCDropout\n",
    "    model.eval()\n",
    "    with torch.no_grad():\n",
    "#         y_pred, kl, loss_test, loss_mse, y_std \n",
    "        y_pred, losses, extra = model(context_x, context_y, target_x, target_y)\n",
    "        y_std = extra['dist'].scale\n",
    "    \n",
    "\n",
    "    dist = torch.distributions.Normal(y_pred, y_std)\n",
    "    log_p = dist.log_prob(target_y).mean(-1)\n",
    "    loss = - log_p   \n",
    "\n",
    "    return loss_mc.cpu(), loss.cpu()"
   ]
  },
  {
   "cell_type": "code",
   "execution_count": null,
   "metadata": {
    "ExecuteTime": {
     "end_time": "2020-03-14T02:12:57.509900Z",
     "start_time": "2020-03-14T02:12:57.456668Z"
    }
   },
   "outputs": [],
   "source": []
  },
  {
   "cell_type": "markdown",
   "metadata": {},
   "source": [
    "# Default params"
   ]
  },
  {
   "cell_type": "code",
   "execution_count": 12,
   "metadata": {
    "ExecuteTime": {
     "end_time": "2020-03-15T04:21:46.623359Z",
     "start_time": "2020-03-15T04:21:46.545401Z"
    }
   },
   "outputs": [],
   "source": [
    "default_params = {\n",
    " 'attention_dropout': 0,\n",
    " 'attention_layers': 2,\n",
    " 'batchnorm': False,\n",
    " 'det_enc_cross_attn_type': 'multihead',\n",
    " 'det_enc_self_attn_type': 'uniform',\n",
    " 'dropout': 0, \n",
    " 'hidden_dim': 512,\n",
    " 'latent_dim': 128,\n",
    " 'latent_enc_self_attn_type': 'uniform',\n",
    " 'learning_rate': 0.002, \n",
    " 'n_decoder_layers': 4,\n",
    " 'n_det_encoder_layers': 4,\n",
    " 'n_latent_encoder_layers': 2, \n",
    " 'num_heads': 8, \n",
    " 'use_deterministic_path': True,\n",
    " 'use_lvar': True,\n",
    " 'use_self_attn': True, \n",
    " 'use_rnn': False, \n",
    "}\n",
    "default_attrs = {\n",
    "    'context_in_target': True,\n",
    "    'x_dim': 17,\n",
    "     'y_dim': 1,\n",
    "    'vis_i': '670',\n",
    "    'num_workers': 3,\n",
    "    'num_context': 24*4,\n",
    "    'num_extra_target': 24*4,\n",
    "    'max_nb_epochs': 200,\n",
    "    'min_std': 0.005,\n",
    "    'grad_clip': 40,\n",
    "    'batch_size': 16,\n",
    "    'patience': 3\n",
    "}"
   ]
  },
  {
   "cell_type": "markdown",
   "metadata": {},
   "source": [
    "# Train ANP-RNN"
   ]
  },
  {
   "cell_type": "markdown",
   "metadata": {
    "ExecuteTime": {
     "end_time": "2020-02-15T07:40:36.819548Z",
     "start_time": "2020-02-15T07:40:07.785566Z"
    }
   },
   "source": [
    "# ANP-RNN 2"
   ]
  },
  {
   "cell_type": "code",
   "execution_count": null,
   "metadata": {
    "ExecuteTime": {
     "start_time": "2020-03-15T04:21:34.300Z"
    },
    "scrolled": true
   },
   "outputs": [
    {
     "data": {
      "application/vnd.jupyter.widget-view+json": {
       "model_id": "5cb10609275744a9a48c326717631348",
       "version_major": 2,
       "version_minor": 0
      },
      "text/plain": [
       "HBox(children=(FloatProgress(value=0.0, description='seeds', max=4.0, style=ProgressStyle(description_width='i…"
      ]
     },
     "metadata": {},
     "output_type": "display_data"
    },
    {
     "name": "stdout",
     "output_type": "stream",
     "text": [
      "now run `tensorboard --logdir lightning_logs`\n",
      "trial.number -20\n",
      "INFO:root:GPU available: True, used: True\n",
      "INFO:root:VISIBLE GPUS: 0\n",
      "INFO:root:\n",
      "   | Name                                                                      | Type                 | Params\n",
      "---------------------------------------------------------------------------------------------------------------\n",
      "0  | model                                                                     | LatentModel          | 3 M   \n",
      "1  | model.norm_x                                                              | BatchNormSequence    | 34    \n",
      "2  | model.norm_x.norm                                                         | BatchNorm1d          | 34    \n",
      "3  | model.norm_y                                                              | BatchNormSequence    | 2     \n",
      "4  | model.norm_y.norm                                                         | BatchNorm1d          | 2     \n",
      "5  | model._lstm_x                                                             | LSTM                 | 807 K \n",
      "6  | model._lstm_y                                                             | LSTM                 | 791 K \n",
      "7  | model._latent_encoder                                                     | LatentEncoder        | 394 K \n",
      "8  | model._latent_encoder._encoder                                            | BatchMLP             | 196 K \n",
      "9  | model._latent_encoder._encoder.initial                                    | NPBlockRelu2d        | 131 K \n",
      "10 | model._latent_encoder._encoder.initial.linear                             | Linear               | 131 K \n",
      "11 | model._latent_encoder._encoder.initial.act                                | ReLU                 | 0     \n",
      "12 | model._latent_encoder._encoder.initial.dropout                            | Dropout2d            | 0     \n",
      "13 | model._latent_encoder._encoder.encoder                                    | Sequential           | 0     \n",
      "14 | model._latent_encoder._encoder.final                                      | Linear               | 65 K  \n",
      "15 | model._latent_encoder._self_attention                                     | Attention            | 0     \n",
      "16 | model._latent_encoder._penultimate_layer                                  | Linear               | 65 K  \n",
      "17 | model._latent_encoder._mean                                               | Linear               | 65 K  \n",
      "18 | model._latent_encoder._log_var                                            | Linear               | 65 K  \n",
      "19 | model._deterministic_encoder                                              | DeterministicEncoder | 852 K \n",
      "20 | model._deterministic_encoder._d_encoder                                   | BatchMLP             | 327 K \n",
      "21 | model._deterministic_encoder._d_encoder.initial                           | NPBlockRelu2d        | 131 K \n",
      "22 | model._deterministic_encoder._d_encoder.initial.linear                    | Linear               | 131 K \n",
      "23 | model._deterministic_encoder._d_encoder.initial.act                       | ReLU                 | 0     \n",
      "24 | model._deterministic_encoder._d_encoder.initial.dropout                   | Dropout2d            | 0     \n",
      "25 | model._deterministic_encoder._d_encoder.encoder                           | Sequential           | 131 K \n",
      "26 | model._deterministic_encoder._d_encoder.encoder.0                         | NPBlockRelu2d        | 65 K  \n",
      "27 | model._deterministic_encoder._d_encoder.encoder.0.linear                  | Linear               | 65 K  \n",
      "28 | model._deterministic_encoder._d_encoder.encoder.0.act                     | ReLU                 | 0     \n",
      "29 | model._deterministic_encoder._d_encoder.encoder.0.dropout                 | Dropout2d            | 0     \n",
      "30 | model._deterministic_encoder._d_encoder.encoder.1                         | NPBlockRelu2d        | 65 K  \n",
      "31 | model._deterministic_encoder._d_encoder.encoder.1.linear                  | Linear               | 65 K  \n",
      "32 | model._deterministic_encoder._d_encoder.encoder.1.act                     | ReLU                 | 0     \n",
      "33 | model._deterministic_encoder._d_encoder.encoder.1.dropout                 | Dropout2d            | 0     \n",
      "34 | model._deterministic_encoder._d_encoder.final                             | Linear               | 65 K  \n",
      "35 | model._deterministic_encoder._self_attention                              | Attention            | 0     \n",
      "36 | model._deterministic_encoder._cross_attention                             | Attention            | 524 K \n",
      "37 | model._deterministic_encoder._cross_attention.batch_mlp_k                 | BatchMLP             | 131 K \n",
      "38 | model._deterministic_encoder._cross_attention.batch_mlp_k.initial         | NPBlockRelu2d        | 65 K  \n",
      "39 | model._deterministic_encoder._cross_attention.batch_mlp_k.initial.linear  | Linear               | 65 K  \n",
      "40 | model._deterministic_encoder._cross_attention.batch_mlp_k.initial.act     | ReLU                 | 0     \n",
      "41 | model._deterministic_encoder._cross_attention.batch_mlp_k.initial.dropout | Dropout2d            | 0     \n",
      "42 | model._deterministic_encoder._cross_attention.batch_mlp_k.encoder         | Sequential           | 0     \n",
      "43 | model._deterministic_encoder._cross_attention.batch_mlp_k.final           | Linear               | 65 K  \n",
      "44 | model._deterministic_encoder._cross_attention.batch_mlp_q                 | BatchMLP             | 131 K \n",
      "45 | model._deterministic_encoder._cross_attention.batch_mlp_q.initial         | NPBlockRelu2d        | 65 K  \n",
      "46 | model._deterministic_encoder._cross_attention.batch_mlp_q.initial.linear  | Linear               | 65 K  \n",
      "47 | model._deterministic_encoder._cross_attention.batch_mlp_q.initial.act     | ReLU                 | 0     \n",
      "48 | model._deterministic_encoder._cross_attention.batch_mlp_q.initial.dropout | Dropout2d            | 0     \n",
      "49 | model._deterministic_encoder._cross_attention.batch_mlp_q.encoder         | Sequential           | 0     \n",
      "50 | model._deterministic_encoder._cross_attention.batch_mlp_q.final           | Linear               | 65 K  \n",
      "51 | model._deterministic_encoder._cross_attention._W                          | MultiheadAttention   | 262 K \n",
      "52 | model._deterministic_encoder._cross_attention._W.out_proj                 | Linear               | 65 K  \n",
      "53 | model._decoder                                                            | Decoder              | 1 M   \n",
      "54 | model._decoder._target_transform                                          | Linear               | 65 K  \n",
      "55 | model._decoder._decoder                                                   | BatchMLP             | 1 M   \n",
      "56 | model._decoder._decoder.initial                                           | NPBlockRelu2d        | 262 K \n",
      "57 | model._decoder._decoder.initial.linear                                    | Linear               | 262 K \n",
      "58 | model._decoder._decoder.initial.act                                       | ReLU                 | 0     \n",
      "59 | model._decoder._decoder.initial.dropout                                   | Dropout2d            | 0     \n",
      "60 | model._decoder._decoder.encoder                                           | Sequential           | 524 K \n",
      "61 | model._decoder._decoder.encoder.0                                         | NPBlockRelu2d        | 262 K \n",
      "62 | model._decoder._decoder.encoder.0.linear                                  | Linear               | 262 K \n",
      "63 | model._decoder._decoder.encoder.0.act                                     | ReLU                 | 0     \n",
      "64 | model._decoder._decoder.encoder.0.dropout                                 | Dropout2d            | 0     \n",
      "65 | model._decoder._decoder.encoder.1                                         | NPBlockRelu2d        | 262 K \n",
      "66 | model._decoder._decoder.encoder.1.linear                                  | Linear               | 262 K \n",
      "67 | model._decoder._decoder.encoder.1.act                                     | ReLU                 | 0     \n",
      "68 | model._decoder._decoder.encoder.1.dropout                                 | Dropout2d            | 0     \n",
      "69 | model._decoder._decoder.final                                             | Linear               | 262 K \n",
      "70 | model._decoder._mean                                                      | Linear               | 513   \n",
      "71 | model._decoder._std                                                       | Linear               | 513   \n"
     ]
    }
   ],
   "source": [
    "n_mcdropout=10\n",
    "n_steps=600\n",
    "vis_i=670\n",
    "results = []\n",
    "\n",
    "for seed in tqdm([1, 10, 20, 100], desc='seeds'):\n",
    "    init_random_seed(seed)\n",
    "    \n",
    "    trial, trainer, model = run_trial(\n",
    "        name=\"anp-rnn-mcdropout\",\n",
    "        params={\n",
    "         **default_params, \n",
    "         'det_enc_cross_attn_type': 'ptmultihead',\n",
    "         'det_enc_self_attn_type': 'uniform',\n",
    "         'latent_enc_self_attn_type': 'uniform',\n",
    "         'dropout': 0.2,\n",
    "         'hidden_dim': 128*2,\n",
    "         'latent_dim': 128*2, \n",
    "         'use_deterministic_path': False,\n",
    "         'use_rnn': True,\n",
    "         'vis_i': 670\n",
    "        },\n",
    "        user_attrs = default_attrs,\n",
    "        PL_MODEL_CLS=LatentModelPL\n",
    "    )\n",
    "    \n",
    "    # MCDropout\n",
    "    loader = model.val_dataloader()\n",
    "    device = next(model.parameters()).device\n",
    "    inds = np.random.randint(0, len(loader.dataset), n_steps)\n",
    "\n",
    "    losses_mc = []\n",
    "    losses = []\n",
    "    for i in tqdm(inds, desc='MCDropout eval'):\n",
    "        loss_mc, loss = eval_mc(model, loader, i)\n",
    "        losses_mc.append(loss_mc)\n",
    "        losses.append(loss)\n",
    "\n",
    "    loss_mc = torch.stack(losses_mc).mean().item()\n",
    "    loss = torch.stack(losses).mean().item()\n",
    "    \n",
    "    results.append(dict(seed=seed, loss=loss, loss_mc=loss_mc, inds=inds))\n",
    "    print(f\"seed={seed}. Lower is better, validation loss\")\n",
    "    print(f\"MCDropout: {loss_mc:2.2f}\")\n",
    "    print(f\"Inference: {loss:2.2f}\")"
   ]
  },
  {
   "cell_type": "code",
   "execution_count": null,
   "metadata": {
    "ExecuteTime": {
     "start_time": "2020-03-15T04:21:34.300Z"
    }
   },
   "outputs": [],
   "source": [
    "%debug"
   ]
  },
  {
   "cell_type": "code",
   "execution_count": null,
   "metadata": {
    "ExecuteTime": {
     "start_time": "2020-03-15T04:21:34.300Z"
    }
   },
   "outputs": [],
   "source": [
    "df_result = pd.DataFrame(results)\n",
    "df_result['loss'] = df_result['loss'].astype(float)\n",
    "df_result['loss_mc'] = df_result['loss_mc'].astype(float)\n",
    "print('lower is better')\n",
    "df_result"
   ]
  },
  {
   "cell_type": "markdown",
   "metadata": {
    "ExecuteTime": {
     "end_time": "2020-02-15T07:00:04.268233Z",
     "start_time": "2020-02-15T06:57:58.700Z"
    },
    "scrolled": true
   },
   "source": [
    "# MCDropout test\n",
    "\n",
    "https://towardsdatascience.com/bayesian-deep-learning-with-fastai-how-not-to-be-uncertain-about-your-uncertainty-6a99d1aa686e\n",
    "\n",
    "We will apply mcdropout by:\n",
    "- replacing dropout with a class that will still be on during test\n",
    "- doing multiple inference"
   ]
  },
  {
   "cell_type": "code",
   "execution_count": null,
   "metadata": {
    "ExecuteTime": {
     "end_time": "2020-03-14T23:57:16.530307Z",
     "start_time": "2020-03-14T23:57:16.450761Z"
    }
   },
   "outputs": [],
   "source": []
  },
  {
   "cell_type": "code",
   "execution_count": null,
   "metadata": {
    "ExecuteTime": {
     "start_time": "2020-03-15T04:21:34.300Z"
    },
    "scrolled": true
   },
   "outputs": [],
   "source": [
    "loader = model.val_dataloader()\n",
    "dset_test = loader.dataset\n",
    "label_names = dset_test.label_names\n",
    "plot_from_loader(loader, model, i=670)"
   ]
  },
  {
   "cell_type": "code",
   "execution_count": null,
   "metadata": {
    "ExecuteTime": {
     "start_time": "2020-03-15T04:21:34.300Z"
    }
   },
   "outputs": [],
   "source": [
    "from src.plot import plot_rows\n",
    "loader = model.val_dataloader()\n",
    "device = next(model.parameters()).device\n",
    "\n",
    "# Get data\n",
    "i = 670\n",
    "data = loader.collate_fn([loader.dataset[i]], sample=False)\n",
    "data = [d.to(device) for d in data]\n",
    "context_x, context_y, target_x_extra, target_y_extra = data\n",
    "target_x = target_x_extra\n",
    "target_y = target_y_extra\n",
    "\n",
    "# for plotting\n",
    "x_rows, y_rows = loader.dataset.get_rows(i)\n",
    "max_num_context = context_x.shape[1]\n",
    "y_context_rows = y_rows[:max_num_context]\n",
    "y_target_extra_rows = y_rows[max_num_context:]\n",
    "x_context_rows = x_rows[:max_num_context]\n",
    "x_target_extra_rows = x_rows[max_num_context:]\n",
    "dt = y_target_extra_rows.index[0]\n",
    "y_target_rows = y_rows"
   ]
  },
  {
   "cell_type": "code",
   "execution_count": null,
   "metadata": {
    "ExecuteTime": {
     "start_time": "2020-03-15T04:21:34.300Z"
    }
   },
   "outputs": [],
   "source": [
    "# do MCDropout estimation\n",
    "model.eval()\n",
    "convert_layers(model, torch.nn.modules.dropout.Dropout2d, True)\n",
    "model.model._lstm.train()\n",
    "\n",
    "y_preds = []\n",
    "y_stds = []\n",
    "with torch.no_grad():\n",
    "    for i in range(10):\n",
    "        y_pred, losses, extra = model(context_x, context_y, target_x, target_y)\n",
    "        y_std = extra['dist'].scale\n",
    "        y_preds.append(y_pred.cpu().numpy())\n",
    "        y_stds.append(y_std.cpu().numpy())\n",
    "\n",
    "y_stds = np.stack(y_stds)\n",
    "y_preds = np.stack(y_preds)\n"
   ]
  },
  {
   "cell_type": "code",
   "execution_count": null,
   "metadata": {
    "ExecuteTime": {
     "start_time": "2020-03-15T04:21:34.300Z"
    }
   },
   "outputs": [],
   "source": [
    "# Lets add variation to std, since it it's unsure.. std should be higher. Although this is small\n",
    "# When it's unsure of the mean, we will also add that, this is large\n",
    "# This is just a quick and dirty uncalibrated one sure, we could use\n",
    "y_std = y_stds.mean(0) + y_stds.std(0) + y_preds.std(0)\n",
    "y_std = y_preds.std(0)\n",
    "print(f'predicted std {y_stds.mean():2.2f} \\nstd of std {y_stds.std(0).mean():2.2f} \\nmcdropout of mean {y_preds.std(0).mean():2.2f}')\n",
    "y_pred = y_preds.mean(0)"
   ]
  },
  {
   "cell_type": "code",
   "execution_count": null,
   "metadata": {
    "ExecuteTime": {
     "start_time": "2020-03-15T04:21:34.300Z"
    }
   },
   "outputs": [],
   "source": [
    "# with 3 sources of uncertainrty: model output and std of mean\n",
    "y_std = y_stds.mean(0) + y_preds.std(0)\n",
    "plot_rows(\n",
    "    x_target_rows=x_target_extra_rows,\n",
    "    x_context_rows=x_context_rows,\n",
    "    target_y_rows=y_target_rows,\n",
    "    context_y_rows=y_context_rows,\n",
    "    pred_y=y_pred,\n",
    "    std=y_std,\n",
    "    legend=False\n",
    ")\n",
    "plt.show()"
   ]
  },
  {
   "cell_type": "code",
   "execution_count": null,
   "metadata": {
    "ExecuteTime": {
     "start_time": "2020-03-15T04:21:34.300Z"
    }
   },
   "outputs": [],
   "source": [
    "# Try without MCDropout\n",
    "model.eval()\n",
    "with torch.no_grad():\n",
    "    y_pred, losses, extra = model(context_x, context_y, target_x, target_y)\n",
    "    y_std = extra['dist'].scale\n",
    "\n",
    "plot_rows(\n",
    "    x_target_rows=x_target_extra_rows,\n",
    "    x_context_rows=x_context_rows,\n",
    "    target_y_rows=y_target_rows,\n",
    "    context_y_rows=y_context_rows,\n",
    "    pred_y=y_pred.detach().cpu().numpy(),\n",
    "    std=y_std.detach().cpu().numpy(),\n",
    "    legend=False\n",
    ")\n",
    "plt.show()"
   ]
  },
  {
   "cell_type": "code",
   "execution_count": null,
   "metadata": {},
   "outputs": [],
   "source": []
  }
 ],
 "metadata": {
  "file_extension": ".py",
  "kernelspec": {
   "display_name": "jup3.7.3",
   "language": "python",
   "name": "jup3.7.3"
  },
  "language_info": {
   "codemirror_mode": {
    "name": "ipython",
    "version": 3
   },
   "file_extension": ".py",
   "mimetype": "text/x-python",
   "name": "python",
   "nbconvert_exporter": "python",
   "pygments_lexer": "ipython3",
   "version": "3.7.3"
  },
  "mimetype": "text/x-python",
  "name": "python",
  "npconvert_exporter": "python",
  "pygments_lexer": "ipython3",
  "toc": {
   "base_numbering": 1,
   "nav_menu": {},
   "number_sections": true,
   "sideBar": true,
   "skip_h1_title": false,
   "title_cell": "Table of Contents",
   "title_sidebar": "Contents",
   "toc_cell": false,
   "toc_position": {
    "height": "calc(100% - 180px)",
    "left": "10px",
    "top": "150px",
    "width": "384px"
   },
   "toc_section_display": true,
   "toc_window_display": true
  },
  "version": 3
 },
 "nbformat": 4,
 "nbformat_minor": 2
}
