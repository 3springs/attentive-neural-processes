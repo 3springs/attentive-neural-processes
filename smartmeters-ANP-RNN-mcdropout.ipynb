{
 "cells": [
  {
   "cell_type": "markdown",
   "metadata": {},
   "source": [
    "# This notebook tests ANP-RNN + MC Dropout \n",
    "\n",
    "Ideally a NP should learn uncertainty, but it may also be overconfident. In neural network monte carlo dropout often provides a more robust uncertainty. Here I compare it and find that the uncertainty from MCLoss improved the validation loss when added to the models estimation of uncertainty."
   ]
  },
  {
   "cell_type": "code",
   "execution_count": 1,
   "metadata": {
    "ExecuteTime": {
     "end_time": "2020-03-14T01:45:49.987491Z",
     "start_time": "2020-03-14T01:45:49.591262Z"
    }
   },
   "outputs": [],
   "source": [
    "%matplotlib inline\n",
    "%reload_ext autoreload\n",
    "%autoreload 2"
   ]
  },
  {
   "cell_type": "code",
   "execution_count": 2,
   "metadata": {
    "ExecuteTime": {
     "end_time": "2020-03-14T01:45:52.012228Z",
     "start_time": "2020-03-14T01:45:49.990328Z"
    }
   },
   "outputs": [],
   "source": [
    "import sys, re, os, itertools, functools, collections\n",
    "import pandas as pd\n",
    "import numpy as np\n",
    "import matplotlib.pyplot as plt\n",
    "import collections\n",
    "from pathlib import Path\n",
    "from tqdm.auto import tqdm\n",
    "\n",
    "import optuna\n",
    "import pytorch_lightning as pl\n",
    "from optuna.integration import PyTorchLightningPruningCallback\n",
    "import math\n"
   ]
  },
  {
   "cell_type": "code",
   "execution_count": 3,
   "metadata": {
    "ExecuteTime": {
     "end_time": "2020-03-14T01:45:52.081201Z",
     "start_time": "2020-03-14T01:45:52.015589Z"
    }
   },
   "outputs": [],
   "source": [
    "import logging\n",
    "logging.basicConfig(stream=sys.stdout, level=logging.INFO)\n",
    "logger = logging.getLogger(\"RANP.ipynb\")"
   ]
  },
  {
   "cell_type": "code",
   "execution_count": 4,
   "metadata": {
    "ExecuteTime": {
     "end_time": "2020-03-14T01:45:52.141051Z",
     "start_time": "2020-03-14T01:45:52.084457Z"
    }
   },
   "outputs": [],
   "source": [
    "import torch\n",
    "from torch import nn\n",
    "import torch.nn.functional as F"
   ]
  },
  {
   "cell_type": "code",
   "execution_count": null,
   "metadata": {
    "ExecuteTime": {
     "end_time": "2020-03-14T01:44:26.470097Z",
     "start_time": "2020-03-14T01:44:26.405276Z"
    }
   },
   "outputs": [],
   "source": []
  },
  {
   "cell_type": "code",
   "execution_count": 5,
   "metadata": {
    "ExecuteTime": {
     "end_time": "2020-03-14T01:45:52.259434Z",
     "start_time": "2020-03-14T01:45:52.143347Z"
    }
   },
   "outputs": [],
   "source": [
    "from src.models.model import LatentModel\n",
    "from src.data.smart_meter import collate_fns, SmartMeterDataSet, get_smartmeter_df\n",
    "from src.plot import plot_from_loader\n",
    "from src.models.lightning_anp import LatentModelPL\n",
    "from src.dict_logger import DictLogger"
   ]
  },
  {
   "cell_type": "code",
   "execution_count": 6,
   "metadata": {
    "ExecuteTime": {
     "end_time": "2020-03-14T01:45:52.310362Z",
     "start_time": "2020-03-14T01:45:52.261912Z"
    }
   },
   "outputs": [],
   "source": [
    "# Params\n",
    "device='cuda'\n",
    "use_logy=False"
   ]
  },
  {
   "cell_type": "markdown",
   "metadata": {},
   "source": [
    "# Load kaggle smart meter data"
   ]
  },
  {
   "cell_type": "code",
   "execution_count": 7,
   "metadata": {
    "ExecuteTime": {
     "end_time": "2020-03-14T01:46:01.109818Z",
     "start_time": "2020-03-14T01:45:52.312752Z"
    }
   },
   "outputs": [],
   "source": [
    "df_train, df_test = get_smartmeter_df()"
   ]
  },
  {
   "cell_type": "code",
   "execution_count": 8,
   "metadata": {
    "ExecuteTime": {
     "end_time": "2020-03-14T01:46:01.845837Z",
     "start_time": "2020-03-14T01:46:01.115288Z"
    }
   },
   "outputs": [
    {
     "data": {
      "text/plain": [
       "<matplotlib.legend.Legend at 0x7fa9f1df1fd0>"
      ]
     },
     "execution_count": 8,
     "metadata": {},
     "output_type": "execute_result"
    },
    {
     "data": {
      "image/png": "[encoded data removed]",
      "text/plain": [
       "<Figure size 432x288 with 1 Axes>"
      ]
     },
     "metadata": {
      "needs_background": "light"
     },
     "output_type": "display_data"
    }
   ],
   "source": [
    "# Show split\n",
    "df_train['energy(kWh/hh)'].plot(label='train')\n",
    "df_test['energy(kWh/hh)'].plot(label='test')\n",
    "plt.title('energy(kWh/hh)')\n",
    "plt.legend()"
   ]
  },
  {
   "cell_type": "markdown",
   "metadata": {},
   "source": [
    "# Train helpers"
   ]
  },
  {
   "cell_type": "code",
   "execution_count": null,
   "metadata": {
    "ExecuteTime": {
     "end_time": "2020-01-27T23:41:43.464247Z",
     "start_time": "2020-01-27T23:41:43.410516Z"
    }
   },
   "outputs": [],
   "source": []
  },
  {
   "cell_type": "code",
   "execution_count": 9,
   "metadata": {
    "ExecuteTime": {
     "end_time": "2020-03-14T01:46:01.901463Z",
     "start_time": "2020-03-14T01:46:01.848538Z"
    }
   },
   "outputs": [
    {
     "name": "stdout",
     "output_type": "stream",
     "text": [
      "now run `tensorboard --logdir /media/wassname/Storage5/projects2/3ST/attentive-neural-processes/optuna_result/anp-rnn-mcdropout\n"
     ]
    }
   ],
   "source": [
    "PERCENT_TEST_EXAMPLES = 0.5\n",
    "# EPOCHS = 5\n",
    "DIR = Path(os.getcwd())\n",
    "MODEL_DIR = DIR/ 'optuna_result'/ 'anp-rnn-mcdropout'\n",
    "name = 'anp-rnn-mcdropout' # study name\n",
    "MODEL_DIR.mkdir(parents=True, exist_ok=True)\n",
    "print(f\"now run `tensorboard --logdir {MODEL_DIR}\")"
   ]
  },
  {
   "cell_type": "code",
   "execution_count": null,
   "metadata": {},
   "outputs": [],
   "source": []
  },
  {
   "cell_type": "code",
   "execution_count": 10,
   "metadata": {
    "ExecuteTime": {
     "end_time": "2020-03-14T01:46:02.003319Z",
     "start_time": "2020-03-14T01:46:01.903776Z"
    }
   },
   "outputs": [],
   "source": [
    "def main(trial, train=True):    \n",
    "    checkpoint_callback = pl.callbacks.ModelCheckpoint(\n",
    "        os.path.join(MODEL_DIR, name, 'version_{}'.format(trial.number), \"chk\"), monitor='val_loss', mode=\"min\")\n",
    "\n",
    "    # The default logger in PyTorch Lightning writes to event files to be consumed by\n",
    "    # TensorBoard. We create a simple logger instead that holds the log in memory so that the\n",
    "    # final accuracy can be obtained after optimization. When using the default logger, the\n",
    "    # final accuracy could be stored in an attribute of the `Trainer` instead.\n",
    "    logger = DictLogger(MODEL_DIR, name=\"anp-rnn\", version=trial.number)\n",
    "\n",
    "    trainer = pl.Trainer(\n",
    "        logger=logger,\n",
    "        val_percent_check=PERCENT_TEST_EXAMPLES,\n",
    "        gradient_clip_val=trial.params[\"grad_clip\"],\n",
    "        checkpoint_callback=checkpoint_callback,\n",
    "        max_epochs=trial.params['max_nb_epochs'],\n",
    "        gpus=-1 if torch.cuda.is_available() else None,\n",
    "        early_stop_callback=PyTorchLightningPruningCallback(trial, monitor='val_loss')\n",
    "    )\n",
    "    model = LatentModelPL(trial.params)\n",
    "    if train:\n",
    "        trainer.fit(model)\n",
    "    \n",
    "    return model, trainer\n",
    "\n",
    "\n",
    "def add_sugg(trial):\n",
    "    \n",
    "    trial.suggest_loguniform(\"learning_rate\", 1e-5, 1e-2)\n",
    "\n",
    "    trial.suggest_categorical(\"hidden_dim\", [8*2**i for i in range(6)])\n",
    "    trial.suggest_categorical(\"latent_dim\", [8*2**i for i in range(6)])\n",
    "    \n",
    "    trial.suggest_int(\"attention_layers\", 1, 4)\n",
    "    trial.suggest_categorical(\"n_latent_encoder_layers\", [1, 2, 4, 8])\n",
    "    trial.suggest_categorical(\"n_det_encoder_layers\", [1, 2, 4, 8])\n",
    "    trial.suggest_categorical(\"n_decoder_layers\", [1, 2, 4, 8])\n",
    "\n",
    "    trial.suggest_categorical(\"dropout\", [0, 0.2, 0.5])\n",
    "    trial.suggest_categorical(\"attention_dropout\", [0, 0.2, 0.5])\n",
    "\n",
    "    trial.suggest_categorical(\n",
    "        \"latent_enc_self_attn_type\", ['uniform', 'multihead', 'ptmultihead']\n",
    "    )\n",
    "    trial.suggest_categorical(\"det_enc_self_attn_type\",  ['uniform', 'multihead', 'ptmultihead'])\n",
    "    trial.suggest_categorical(\"det_enc_cross_attn_type\", ['uniform', 'multihead', 'ptmultihead'])\n",
    "\n",
    "    trial.suggest_categorical(\"batchnorm\", [False, True])\n",
    "    trial.suggest_categorical(\"use_self_attn\", [False, True])\n",
    "    trial.suggest_categorical(\"use_lvar\", [False, True])\n",
    "    trial.suggest_categorical(\"use_deterministic_path\", [False, True])\n",
    "    trial.suggest_categorical(\"use_rnn\", [True, False])\n",
    "\n",
    "    # training specific (for this model)\n",
    "    trial.suggest_uniform(\"min_std\", 0.005, 0.005)\n",
    "    trial.suggest_int(\"grad_clip\", 40, 40)\n",
    "    trial.suggest_int(\"num_context\", 24 * 4, 24 * 4)\n",
    "    trial.suggest_int(\"num_extra_target\", 24*4, 24*4)\n",
    "    trial.suggest_int(\"max_nb_epochs\", 10, 10)\n",
    "    trial.suggest_int(\"num_workers\", 3, 3)\n",
    "    trial.suggest_int(\"batch_size\", 16, 16)\n",
    "    trial.suggest_int(\"num_heads\", 8, 8)\n",
    "\n",
    "    trial.suggest_int(\"x_dim\", 17, 17)\n",
    "    trial.suggest_int(\"y_dim\", 1, 1)\n",
    "    trial.suggest_int(\"vis_i\", 670, 670)\n",
    "    \n",
    "    trial.suggest_categorical(\"context_in_target\", [True, True])\n",
    "    \n",
    "    return trial\n",
    "\n",
    "def add_trial_number(trial, dir_name):\n",
    "    # Optuna needs a number for each trial. For manual trials lets go -1, -2, etc\n",
    "    versions = [int(s.stem.split('_')[1]) for s in (MODEL_DIR/name).glob('*')] + [0]\n",
    "    trial.number = min(versions) - 1\n",
    "    return trial\n",
    "\n",
    "def objective(trial):\n",
    "    # see https://github.com/optuna/optuna/blob/cf6f02d/examples/pytorch_lightning_simple.py\n",
    "    \n",
    "    trial = add_sugg(trial)\n",
    "    \n",
    "    print('trial', trial.number, 'params', trial.params)\n",
    "    \n",
    "    \n",
    "    # PyTorch Lightning will try to restore model parameters from previous trials if checkpoint\n",
    "    # filenames match. Therefore, the filenames for each trial must be made unique.\n",
    "    model, trainer = main(trial)\n",
    "    \n",
    "    # also report to tensorboard & print\n",
    "    print('logger.metrics', model.logger.metrics[-1:])\n",
    "    model.logger.experiment.add_hparams(trial.params, model.logger.metrics[-1])\n",
    "    \n",
    "    return model.logger.metrics[-1]['val_loss']\n"
   ]
  },
  {
   "cell_type": "markdown",
   "metadata": {},
   "source": [
    "# Default params"
   ]
  },
  {
   "cell_type": "code",
   "execution_count": 11,
   "metadata": {
    "ExecuteTime": {
     "end_time": "2020-03-14T01:46:02.059875Z",
     "start_time": "2020-03-14T01:46:02.006336Z"
    }
   },
   "outputs": [],
   "source": [
    "default_params = {\n",
    " 'attention_dropout': 0,\n",
    " 'attention_layers': 2,\n",
    " 'batch_size': 16,\n",
    " 'batchnorm': False,\n",
    " 'det_enc_cross_attn_type': 'multihead',\n",
    " 'det_enc_self_attn_type': 'uniform',\n",
    " 'dropout': 0,\n",
    " 'grad_clip': 40,\n",
    " 'hidden_dim': 128,\n",
    " 'latent_dim': 128,\n",
    " 'latent_enc_self_attn_type': 'uniform',\n",
    " 'learning_rate': 0.002,\n",
    " 'max_nb_epochs': 10,\n",
    " 'min_std': 0.005,\n",
    " 'n_decoder_layers': 4,\n",
    " 'n_det_encoder_layers': 4,\n",
    " 'n_latent_encoder_layers': 2,\n",
    " 'num_context': 24*4,\n",
    " 'num_extra_target': 24*4,\n",
    " 'num_heads': 8,\n",
    " 'num_workers': 3,\n",
    " 'use_deterministic_path': True,\n",
    " 'use_lvar': True,\n",
    " 'use_self_attn': True,\n",
    " 'vis_i': '670',\n",
    " 'x_dim': 17,\n",
    " 'y_dim': 1,\n",
    " 'use_rnn': False,\n",
    " 'context_in_target': True\n",
    "}"
   ]
  },
  {
   "cell_type": "code",
   "execution_count": null,
   "metadata": {
    "ExecuteTime": {
     "end_time": "2020-02-16T07:16:14.744691Z",
     "start_time": "2020-02-16T07:16:14.694113Z"
    }
   },
   "outputs": [],
   "source": []
  },
  {
   "cell_type": "code",
   "execution_count": null,
   "metadata": {
    "ExecuteTime": {
     "end_time": "2020-02-15T07:05:44.545917Z",
     "start_time": "2020-02-15T07:05:44.487280Z"
    }
   },
   "outputs": [],
   "source": []
  },
  {
   "cell_type": "markdown",
   "metadata": {},
   "source": [
    "# Train ANP-RNN"
   ]
  },
  {
   "cell_type": "markdown",
   "metadata": {
    "ExecuteTime": {
     "end_time": "2020-02-15T07:40:36.819548Z",
     "start_time": "2020-02-15T07:40:07.785566Z"
    }
   },
   "source": [
    "# ANP-RNN 2"
   ]
  },
  {
   "cell_type": "code",
   "execution_count": null,
   "metadata": {
    "ExecuteTime": {
     "start_time": "2020-03-14T01:47:05.000Z"
    },
    "scrolled": true
   },
   "outputs": [
    {
     "name": "stdout",
     "output_type": "stream",
     "text": [
      "INFO:root:GPU available: True, used: True\n",
      "INFO:root:VISIBLE GPUS: 0\n",
      "INFO:root:\n",
      "   | Name                                                                      | Type                 | Params\n",
      "---------------------------------------------------------------------------------------------------------------\n",
      "0  | model                                                                     | LatentModel          | 3 M   \n",
      "1  | model._lstm                                                               | LSTM                 | 807 K \n",
      "2  | model._latent_encoder                                                     | LatentEncoder        | 328 K \n",
      "3  | model._latent_encoder._encoder                                            | BatchMLP             | 131 K \n",
      "4  | model._latent_encoder._encoder.initial                                    | NPBlockRelu2d        | 65 K  \n",
      "5  | model._latent_encoder._encoder.initial.linear                             | Linear               | 65 K  \n",
      "6  | model._latent_encoder._encoder.initial.act                                | ReLU                 | 0     \n",
      "7  | model._latent_encoder._encoder.initial.dropout                            | Dropout2d            | 0     \n",
      "8  | model._latent_encoder._encoder.encoder                                    | Sequential           | 0     \n",
      "9  | model._latent_encoder._encoder.final                                      | Linear               | 65 K  \n",
      "10 | model._latent_encoder._self_attention                                     | Attention            | 0     \n",
      "11 | model._latent_encoder._penultimate_layer                                  | Linear               | 65 K  \n",
      "12 | model._latent_encoder._mean                                               | Linear               | 65 K  \n",
      "13 | model._latent_encoder._log_var                                            | Linear               | 65 K  \n",
      "14 | model._deterministic_encoder                                              | DeterministicEncoder | 787 K \n",
      "15 | model._deterministic_encoder._d_encoder                                   | BatchMLP             | 262 K \n",
      "16 | model._deterministic_encoder._d_encoder.initial                           | NPBlockRelu2d        | 65 K  \n",
      "17 | model._deterministic_encoder._d_encoder.initial.linear                    | Linear               | 65 K  \n",
      "18 | model._deterministic_encoder._d_encoder.initial.act                       | ReLU                 | 0     \n",
      "19 | model._deterministic_encoder._d_encoder.initial.dropout                   | Dropout2d            | 0     \n",
      "20 | model._deterministic_encoder._d_encoder.encoder                           | Sequential           | 131 K \n",
      "21 | model._deterministic_encoder._d_encoder.encoder.0                         | NPBlockRelu2d        | 65 K  \n",
      "22 | model._deterministic_encoder._d_encoder.encoder.0.linear                  | Linear               | 65 K  \n",
      "23 | model._deterministic_encoder._d_encoder.encoder.0.act                     | ReLU                 | 0     \n",
      "24 | model._deterministic_encoder._d_encoder.encoder.0.dropout                 | Dropout2d            | 0     \n",
      "25 | model._deterministic_encoder._d_encoder.encoder.1                         | NPBlockRelu2d        | 65 K  \n",
      "26 | model._deterministic_encoder._d_encoder.encoder.1.linear                  | Linear               | 65 K  \n",
      "27 | model._deterministic_encoder._d_encoder.encoder.1.act                     | ReLU                 | 0     \n",
      "28 | model._deterministic_encoder._d_encoder.encoder.1.dropout                 | Dropout2d            | 0     \n",
      "29 | model._deterministic_encoder._d_encoder.final                             | Linear               | 65 K  \n",
      "30 | model._deterministic_encoder._self_attention                              | Attention            | 0     \n",
      "31 | model._deterministic_encoder._cross_attention                             | Attention            | 524 K \n",
      "32 | model._deterministic_encoder._cross_attention.batch_mlp_k                 | BatchMLP             | 131 K \n",
      "33 | model._deterministic_encoder._cross_attention.batch_mlp_k.initial         | NPBlockRelu2d        | 65 K  \n",
      "34 | model._deterministic_encoder._cross_attention.batch_mlp_k.initial.linear  | Linear               | 65 K  \n",
      "35 | model._deterministic_encoder._cross_attention.batch_mlp_k.initial.act     | ReLU                 | 0     \n",
      "36 | model._deterministic_encoder._cross_attention.batch_mlp_k.initial.dropout | Dropout2d            | 0     \n",
      "37 | model._deterministic_encoder._cross_attention.batch_mlp_k.encoder         | Sequential           | 0     \n",
      "38 | model._deterministic_encoder._cross_attention.batch_mlp_k.final           | Linear               | 65 K  \n",
      "39 | model._deterministic_encoder._cross_attention.batch_mlp_q                 | BatchMLP             | 131 K \n",
      "40 | model._deterministic_encoder._cross_attention.batch_mlp_q.initial         | NPBlockRelu2d        | 65 K  \n",
      "41 | model._deterministic_encoder._cross_attention.batch_mlp_q.initial.linear  | Linear               | 65 K  \n",
      "42 | model._deterministic_encoder._cross_attention.batch_mlp_q.initial.act     | ReLU                 | 0     \n",
      "43 | model._deterministic_encoder._cross_attention.batch_mlp_q.initial.dropout | Dropout2d            | 0     \n",
      "44 | model._deterministic_encoder._cross_attention.batch_mlp_q.encoder         | Sequential           | 0     \n",
      "45 | model._deterministic_encoder._cross_attention.batch_mlp_q.final           | Linear               | 65 K  \n",
      "46 | model._deterministic_encoder._cross_attention._W                          | MultiheadAttention   | 262 K \n",
      "47 | model._deterministic_encoder._cross_attention._W.out_proj                 | Linear               | 65 K  \n",
      "48 | model._decoder                                                            | Decoder              | 1 M   \n",
      "49 | model._decoder._target_transform                                          | Linear               | 65 K  \n",
      "50 | model._decoder._decoder                                                   | BatchMLP             | 1 M   \n",
      "51 | model._decoder._decoder.initial                                           | NPBlockRelu2d        | 262 K \n",
      "52 | model._decoder._decoder.initial.linear                                    | Linear               | 262 K \n",
      "53 | model._decoder._decoder.initial.act                                       | ReLU                 | 0     \n",
      "54 | model._decoder._decoder.initial.dropout                                   | Dropout2d            | 0     \n",
      "55 | model._decoder._decoder.encoder                                           | Sequential           | 524 K \n",
      "56 | model._decoder._decoder.encoder.0                                         | NPBlockRelu2d        | 262 K \n",
      "57 | model._decoder._decoder.encoder.0.linear                                  | Linear               | 262 K \n",
      "58 | model._decoder._decoder.encoder.0.act                                     | ReLU                 | 0     \n",
      "59 | model._decoder._decoder.encoder.0.dropout                                 | Dropout2d            | 0     \n",
      "60 | model._decoder._decoder.encoder.1                                         | NPBlockRelu2d        | 262 K \n",
      "61 | model._decoder._decoder.encoder.1.linear                                  | Linear               | 262 K \n",
      "62 | model._decoder._decoder.encoder.1.act                                     | ReLU                 | 0     \n",
      "63 | model._decoder._decoder.encoder.1.dropout                                 | Dropout2d            | 0     \n",
      "64 | model._decoder._decoder.final                                             | Linear               | 262 K \n",
      "65 | model._decoder._mean                                                      | Linear               | 513   \n",
      "66 | model._decoder._std                                                       | Linear               | 513   \n"
     ]
    },
    {
     "data": {
      "application/vnd.jupyter.widget-view+json": {
       "model_id": "",
       "version_major": 2,
       "version_minor": 0
      },
      "text/plain": [
       "HBox(children=(FloatProgress(value=0.0, description='Validation sanity check', layout=Layout(flex='2'), max=5.…"
      ]
     },
     "metadata": {},
     "output_type": "display_data"
    },
    {
     "data": {
      "image/png": "[encoded data removed]",
      "text/plain": [
       "<Figure size 432x288 with 1 Axes>"
      ]
     },
     "metadata": {
      "needs_background": "light"
     },
     "output_type": "display_data"
    },
    {
     "name": "stdout",
     "output_type": "stream",
     "text": [
      "step val 0, {'val_loss': '1.0232683420181274', 'val/kl': '0.500285804271698', 'val/mse': '0.22834806144237518', 'val/std': '1.0002851486206055'} {}\n",
      "\r"
     ]
    },
    {
     "data": {
      "application/vnd.jupyter.widget-view+json": {
       "model_id": "6c20adf0b61c495eb80f5a32bdff8482",
       "version_major": 2,
       "version_minor": 0
      },
      "text/plain": [
       "HBox(children=(FloatProgress(value=1.0, bar_style='info', layout=Layout(flex='2'), max=1.0), HTML(value='')), …"
      ]
     },
     "metadata": {},
     "output_type": "display_data"
    },
    {
     "data": {
      "application/vnd.jupyter.widget-view+json": {
       "model_id": "daf96d8ae3b141a9a5eb3efe0c6a15a9",
       "version_major": 2,
       "version_minor": 0
      },
      "text/plain": [
       "HBox(children=(FloatProgress(value=0.0, description='Validating', layout=Layout(flex='2'), max=234.0, style=Pr…"
      ]
     },
     "metadata": {},
     "output_type": "display_data"
    }
   ],
   "source": [
    "name = 'anp-rnn-mcdropout'\n",
    "\n",
    "params =default_params.copy()\n",
    "params.update({\n",
    " 'det_enc_cross_attn_type': 'ptmultihead',\n",
    " 'det_enc_self_attn_type': 'uniform',\n",
    " 'latent_enc_self_attn_type': 'uniform',\n",
    " 'dropout': 0.2,\n",
    " 'hidden_dim': 128*2,\n",
    " 'latent_dim': 128*2, \n",
    " 'use_deterministic_path': False,\n",
    " 'use_rnn': True,\n",
    "})\n",
    "trial = optuna.trial.FixedTrial(params)\n",
    "trial = add_sugg(trial)\n",
    "trial = add_trial_number(trial, MODEL_DIR/name)\n",
    "\n",
    "\n",
    "checkpoint_callback = pl.callbacks.ModelCheckpoint(\n",
    "    os.path.join(MODEL_DIR, name, 'version_{}'.format(trial.number), \"chk\"), monitor='val_loss', mode=\"min\")\n",
    "\n",
    "logger = DictLogger(MODEL_DIR, name=\"anp\", version=trial.number)\n",
    "\n",
    "trainer = pl.Trainer(\n",
    "    gradient_clip_val=trial.params[\"grad_clip\"],\n",
    "    checkpoint_callback=checkpoint_callback,\n",
    "    max_epochs=trial.params['max_nb_epochs'],\n",
    "    gpus=-1 if torch.cuda.is_available() else None,\n",
    "    early_stop_callback=True\n",
    ")\n",
    "model = LatentModelPL(trial.params)\n",
    "\n",
    "trainer.fit(model)\n",
    "\n",
    "# plot, main metric\n",
    "loader = model.val_dataloader()[0]\n",
    "vis_i=670\n",
    "plot_from_loader(loader, model, i=vis_i)\n",
    "\n",
    "print(trainer.test(model))"
   ]
  },
  {
   "cell_type": "code",
   "execution_count": null,
   "metadata": {
    "ExecuteTime": {
     "end_time": "2020-03-14T01:46:54.331599Z",
     "start_time": "2020-03-14T01:46:54.258559Z"
    }
   },
   "outputs": [],
   "source": []
  },
  {
   "cell_type": "code",
   "execution_count": null,
   "metadata": {
    "ExecuteTime": {
     "end_time": "2020-03-14T01:46:17.333555Z",
     "start_time": "2020-03-14T01:45:49.700Z"
    }
   },
   "outputs": [],
   "source": [
    "logger.save_dir, logger.experiment.log_dir"
   ]
  },
  {
   "cell_type": "code",
   "execution_count": null,
   "metadata": {
    "ExecuteTime": {
     "end_time": "2020-03-14T01:46:17.335032Z",
     "start_time": "2020-03-14T01:45:49.800Z"
    },
    "scrolled": true
   },
   "outputs": [],
   "source": [
    "# # plot lots of metrics\n",
    "# loader = model.val_dataloader()[0]\n",
    "# for i in range(0, len(loader), 10):\n",
    "#     plot_from_loader(loader, model, i=i)\n",
    "#     plt.show()"
   ]
  },
  {
   "cell_type": "markdown",
   "metadata": {
    "ExecuteTime": {
     "end_time": "2020-02-15T07:00:04.268233Z",
     "start_time": "2020-02-15T06:57:58.700Z"
    },
    "scrolled": true
   },
   "source": [
    "# MCDropout test\n",
    "\n",
    "https://towardsdatascience.com/bayesian-deep-learning-with-fastai-how-not-to-be-uncertain-about-your-uncertainty-6a99d1aa686e\n",
    "\n",
    "We will apply mcdropout by:\n",
    "- replacing dropout with a class that will still be on during test\n",
    "- doing multiple inference"
   ]
  },
  {
   "cell_type": "code",
   "execution_count": null,
   "metadata": {
    "ExecuteTime": {
     "end_time": "2020-03-14T01:46:17.336327Z",
     "start_time": "2020-03-14T01:45:49.800Z"
    }
   },
   "outputs": [],
   "source": [
    "from typing import Callable\n",
    "\n",
    "def convert_layers(model:nn.Module, original:nn.Module, value: bool):\n",
    "    \"\"\"\n",
    "    Turn dropout on\n",
    "    \"\"\"\n",
    "    for child_name, child in model.named_children():\n",
    "        if isinstance(child, original):\n",
    "#             print(child, 'from', child.training, 'to', value)\n",
    "            child.train(value)\n",
    "            \n",
    "        else:\n",
    "            convert_layers(child, original, value)"
   ]
  },
  {
   "cell_type": "code",
   "execution_count": null,
   "metadata": {
    "ExecuteTime": {
     "end_time": "2020-02-16T08:09:11.284347Z",
     "start_time": "2020-02-16T08:09:11.231084Z"
    },
    "scrolled": true
   },
   "outputs": [],
   "source": []
  },
  {
   "cell_type": "code",
   "execution_count": null,
   "metadata": {
    "ExecuteTime": {
     "end_time": "2020-03-14T01:46:17.337540Z",
     "start_time": "2020-03-14T01:45:49.800Z"
    }
   },
   "outputs": [],
   "source": [
    "from src.plot import plot_rows\n",
    "loader = model.val_dataloader()[0]\n",
    "device = next(model.parameters()).device\n",
    "\n",
    "# Get data\n",
    "i = 670\n",
    "data = loader.collate_fn([loader.dataset[i]], sample=False)\n",
    "data = [d.to(device) for d in data]\n",
    "context_x, context_y, target_x_extra, target_y_extra = data\n",
    "target_x = target_x_extra\n",
    "target_y = target_y_extra\n",
    "\n",
    "# for plotting\n",
    "x_rows, y_rows = loader.dataset.get_rows(i)\n",
    "max_num_context = context_x.shape[1]\n",
    "y_context_rows = y_rows[:max_num_context]\n",
    "y_target_extra_rows = y_rows[max_num_context:]\n",
    "dt = y_target_extra_rows.index[0]\n",
    "y_target_rows = y_rows"
   ]
  },
  {
   "cell_type": "code",
   "execution_count": null,
   "metadata": {
    "ExecuteTime": {
     "end_time": "2020-03-14T01:46:17.338835Z",
     "start_time": "2020-03-14T01:45:49.800Z"
    }
   },
   "outputs": [],
   "source": [
    "# do MCDropout estimation\n",
    "model.eval()\n",
    "convert_layers(model, torch.nn.modules.dropout.Dropout2d, True)\n",
    "model.model._lstm.train()\n",
    "\n",
    "y_preds = []\n",
    "y_stds = []\n",
    "with torch.no_grad():\n",
    "    for i in range(10):\n",
    "        y_pred, kl, loss_test, loss_mse, y_std = model(context_x, context_y, target_x, target_y)\n",
    "        y_preds.append(y_pred.cpu().numpy())\n",
    "        y_stds.append(y_std.cpu().numpy())\n",
    "\n",
    "y_stds = np.stack(y_stds)\n",
    "y_preds = np.stack(y_preds)\n"
   ]
  },
  {
   "cell_type": "code",
   "execution_count": null,
   "metadata": {
    "ExecuteTime": {
     "end_time": "2020-03-14T01:46:17.340131Z",
     "start_time": "2020-03-14T01:45:49.800Z"
    }
   },
   "outputs": [],
   "source": [
    "# Lets add variation to std, since it it's unsure.. std should be higher. Although this is small\n",
    "# When it's unsure of the mean, we will also add that, this is large\n",
    "# This is just a quick and dirty uncalibrated one sure, we could use\n",
    "y_std = y_stds.mean(0) + y_stds.std(0) + y_preds.std(0)\n",
    "y_std = y_preds.std(0)\n",
    "print(f'predicted std {y_stds.mean():2.2f} \\nstd of std {y_stds.std(0).mean():2.2f} \\nmcdropout of mean {y_preds.std(0).mean():2.2f}')\n",
    "y_pred = y_preds.mean(0)"
   ]
  },
  {
   "cell_type": "code",
   "execution_count": null,
   "metadata": {
    "ExecuteTime": {
     "end_time": "2020-03-14T01:46:17.341469Z",
     "start_time": "2020-03-14T01:45:49.800Z"
    }
   },
   "outputs": [],
   "source": [
    "# with 3 sources of uncertainrty: model output and std of mean\n",
    "y_std = y_stds.mean(0) + y_preds.std(0)\n",
    "plot_rows(\n",
    "    y_target_rows,\n",
    "    y_context_rows,\n",
    "    y_pred,\n",
    "    y_std,\n",
    "    legend=False\n",
    ")\n",
    "plt.show()"
   ]
  },
  {
   "cell_type": "code",
   "execution_count": null,
   "metadata": {
    "ExecuteTime": {
     "end_time": "2020-03-14T01:46:17.342912Z",
     "start_time": "2020-03-14T01:45:49.800Z"
    }
   },
   "outputs": [],
   "source": [
    "# Try without MCDropout\n",
    "model.eval()\n",
    "with torch.no_grad():\n",
    "    y_pred, kl, loss_test, loss_mse, y_std = model(context_x, context_y, target_x, target_y)\n",
    "\n",
    "plot_rows(\n",
    "    y_target_rows,\n",
    "    y_context_rows,\n",
    "    y_pred.detach().cpu().numpy(),\n",
    "    y_std.detach().cpu().numpy(),\n",
    ")\n",
    "plt.show()"
   ]
  },
  {
   "cell_type": "markdown",
   "metadata": {
    "ExecuteTime": {
     "end_time": "2020-02-16T08:13:21.017398Z",
     "start_time": "2020-02-16T08:13:20.967852Z"
    }
   },
   "source": [
    "## Full test"
   ]
  },
  {
   "cell_type": "code",
   "execution_count": null,
   "metadata": {
    "ExecuteTime": {
     "end_time": "2020-03-14T01:46:17.344434Z",
     "start_time": "2020-03-14T01:45:49.800Z"
    }
   },
   "outputs": [],
   "source": [
    "from src.plot import plot_rows"
   ]
  },
  {
   "cell_type": "code",
   "execution_count": null,
   "metadata": {
    "ExecuteTime": {
     "end_time": "2020-03-14T01:46:17.345856Z",
     "start_time": "2020-03-14T01:45:49.800Z"
    }
   },
   "outputs": [],
   "source": [
    "\n",
    "\n",
    "def eval_mc(model, loader, i):\n",
    "    loader = model.val_dataloader()[0]\n",
    "    device = next(model.parameters()).device\n",
    "\n",
    "    data = loader.collate_fn([loader.dataset[i]], sample=False)\n",
    "    data = [d.to(device) for d in data]\n",
    "    context_x, context_y, target_x_extra, target_y_extra = data\n",
    "    target_x = target_x_extra\n",
    "    target_y = target_y_extra\n",
    "\n",
    "    # do MCDropout estimation\n",
    "    model.eval()\n",
    "    convert_layers(model, torch.nn.modules.dropout.Dropout2d, True)\n",
    "    model.model._lstm.train()\n",
    "\n",
    "    y_preds = []\n",
    "    y_stds = []\n",
    "    with torch.no_grad():\n",
    "        for i in range(n_mcdropout):\n",
    "            y_pred, kl, loss_test, loss_mse, y_std = model(context_x, context_y, target_x, target_y)\n",
    "            y_preds.append(y_pred)\n",
    "            y_stds.append(y_std)\n",
    "    y_stds = torch.stack(y_stds)\n",
    "    y_preds = torch.stack(y_preds)\n",
    "\n",
    "\n",
    "    mean = y_preds.mean(0)\n",
    "    sigma = y_stds.mean(0)\n",
    "\n",
    "    dist = torch.distributions.Normal(mean, sigma)\n",
    "    log_p = dist.log_prob(target_y).mean(-1)\n",
    "    loss_mc = - log_p\n",
    "\n",
    "\n",
    "    # Try without MCDropout\n",
    "    model.eval()\n",
    "    with torch.no_grad():\n",
    "        y_pred, kl, loss_test, loss_mse, y_std = model(context_x, context_y, target_x, target_y)\n",
    "\n",
    "    dist = torch.distributions.Normal(y_pred, y_std)\n",
    "    log_p = dist.log_prob(target_y).mean(-1)\n",
    "    loss = - log_p   \n",
    "\n",
    "    return loss_mc.cpu(), loss.cpu()"
   ]
  },
  {
   "cell_type": "code",
   "execution_count": null,
   "metadata": {
    "ExecuteTime": {
     "end_time": "2020-03-14T01:46:17.347199Z",
     "start_time": "2020-03-14T01:45:49.800Z"
    }
   },
   "outputs": [],
   "source": [
    "n_mcdropout=10\n",
    "n_steps=300"
   ]
  },
  {
   "cell_type": "code",
   "execution_count": null,
   "metadata": {
    "ExecuteTime": {
     "end_time": "2020-03-14T01:46:17.348545Z",
     "start_time": "2020-03-14T01:45:49.800Z"
    }
   },
   "outputs": [],
   "source": [
    "# Get data\n",
    "inds = np.random.randint(0, len(loader.dataset), n_steps)\n",
    "\n",
    "losses_mc = []\n",
    "losses = []\n",
    "for i in tqdm(inds):\n",
    "    loss_mc, loss = eval_mc(model, loader, i)\n",
    "    losses_mc.append(loss_mc)\n",
    "    losses.append(loss)\n",
    "    "
   ]
  },
  {
   "cell_type": "code",
   "execution_count": null,
   "metadata": {
    "ExecuteTime": {
     "end_time": "2020-03-14T01:46:17.349825Z",
     "start_time": "2020-03-14T01:45:49.800Z"
    }
   },
   "outputs": [],
   "source": [
    "loss_mc = torch.stack(losses_mc).mean()\n",
    "loss = torch.stack(losses).mean()\n",
    "print(f\"Lower is better, validation loss\")\n",
    "print(f\"MCDropout: {loss_mc:2.2f}\")\n",
    "print(f\"Inference: {loss:2.2f}\")"
   ]
  },
  {
   "cell_type": "markdown",
   "metadata": {},
   "source": [
    "We can see that we get a better (lower) loss when we not only use the models estimate of the loss, but we take a step back and add an estimate of how unsure the model behaves. \n",
    "\n",
    "There are remaining sources of uncertainty that are not reflected in how the model behaviour varies with dropout.\n"
   ]
  },
  {
   "cell_type": "code",
   "execution_count": null,
   "metadata": {
    "ExecuteTime": {
     "end_time": "2020-02-16T13:45:00.767510Z",
     "start_time": "2020-02-16T13:45:00.758163Z"
    }
   },
   "outputs": [],
   "source": []
  },
  {
   "cell_type": "code",
   "execution_count": null,
   "metadata": {},
   "outputs": [],
   "source": []
  }
 ],
 "metadata": {
  "file_extension": ".py",
  "kernelspec": {
   "display_name": "jup3.7.3",
   "language": "python",
   "name": "jup3.7.3"
  },
  "language_info": {
   "codemirror_mode": {
    "name": "ipython",
    "version": 3
   },
   "file_extension": ".py",
   "mimetype": "text/x-python",
   "name": "python",
   "nbconvert_exporter": "python",
   "pygments_lexer": "ipython3",
   "version": "3.7.3"
  },
  "mimetype": "text/x-python",
  "name": "python",
  "npconvert_exporter": "python",
  "pygments_lexer": "ipython3",
  "toc": {
   "base_numbering": 1,
   "nav_menu": {},
   "number_sections": true,
   "sideBar": true,
   "skip_h1_title": false,
   "title_cell": "Table of Contents",
   "title_sidebar": "Contents",
   "toc_cell": false,
   "toc_position": {
    "height": "calc(100% - 180px)",
    "left": "10px",
    "top": "150px",
    "width": "384px"
   },
   "toc_section_display": true,
   "toc_window_display": true
  },
  "version": 3
 },
 "nbformat": 4,
 "nbformat_minor": 2
}
