{
 "cells": [
  {
   "cell_type": "markdown",
   "metadata": {},
   "source": [
    "# This notebook uses pytorch lightning & optuna & an LSTM\n",
    "\n",
    "This notebook trains an LSTM on timeseries data from smartmeters.\n",
    "\n",
    "It uses pytorch lighting for the training loop. And Optuna for the hyperparameter optimisation.\n",
    "\n",
    "It also pushes results to the tensorboard hyperparameter dashboard for examination.\n",
    "\n",
    "- https://github.com/optuna/optuna/blob/master/examples/pytorch_lightning_simple.py"
   ]
  },
  {
   "cell_type": "code",
   "execution_count": 1,
   "metadata": {
    "ExecuteTime": {
     "end_time": "2020-01-27T09:16:13.478035Z",
     "start_time": "2020-01-27T09:16:11.443192Z"
    }
   },
   "outputs": [],
   "source": [
    "import sys, re, os, itertools, functools, collections\n",
    "import pandas as pd\n",
    "import numpy as np\n",
    "import matplotlib.pyplot as plt\n",
    "import collections\n",
    "from pathlib import Path\n",
    "from tqdm.auto import tqdm\n",
    "\n",
    "import pytorch_lightning as pl\n",
    "import optuna\n",
    "from optuna.integration import PyTorchLightningPruningCallback\n",
    "\n",
    "\n",
    "import math\n",
    "%matplotlib inline\n",
    "%reload_ext autoreload\n",
    "%autoreload 2"
   ]
  },
  {
   "cell_type": "code",
   "execution_count": 2,
   "metadata": {
    "ExecuteTime": {
     "end_time": "2020-01-27T09:16:13.518944Z",
     "start_time": "2020-01-27T09:16:13.480810Z"
    }
   },
   "outputs": [],
   "source": [
    "import logging\n",
    "logging.basicConfig(stream=sys.stdout, level=logging.INFO)\n",
    "logger = logging.getLogger(\"smartmeters.ipynb\")"
   ]
  },
  {
   "cell_type": "code",
   "execution_count": 3,
   "metadata": {
    "ExecuteTime": {
     "end_time": "2020-01-27T09:16:13.559666Z",
     "start_time": "2020-01-27T09:16:13.521864Z"
    }
   },
   "outputs": [],
   "source": [
    "import torch\n",
    "from torch import nn\n",
    "import torch.nn.functional as F"
   ]
  },
  {
   "cell_type": "code",
   "execution_count": 4,
   "metadata": {
    "ExecuteTime": {
     "end_time": "2020-01-27T09:16:13.663063Z",
     "start_time": "2020-01-27T09:16:13.562115Z"
    }
   },
   "outputs": [],
   "source": [
    "from src.models.model import LatentModel\n",
    "from src.data.smart_meter import collate_fns, SmartMeterDataSet, get_smartmeter_df\n",
    "from src.plot import plot_from_loader\n",
    "from src.models.lstm import SequenceDfDataSet, LSTM_PL\n",
    "from src.dict_logger import DictLogger"
   ]
  },
  {
   "cell_type": "code",
   "execution_count": 5,
   "metadata": {
    "ExecuteTime": {
     "end_time": "2020-01-27T09:16:13.720549Z",
     "start_time": "2020-01-27T09:16:13.665200Z"
    }
   },
   "outputs": [],
   "source": [
    "# Params\n",
    "device='cuda'\n",
    "use_logy=False"
   ]
  },
  {
   "cell_type": "markdown",
   "metadata": {},
   "source": [
    "# Load kaggle smart meter data"
   ]
  },
  {
   "cell_type": "code",
   "execution_count": 6,
   "metadata": {
    "ExecuteTime": {
     "end_time": "2020-01-27T09:16:22.429851Z",
     "start_time": "2020-01-27T09:16:13.723294Z"
    }
   },
   "outputs": [],
   "source": [
    "df_train, df_test = get_smartmeter_df()"
   ]
  },
  {
   "cell_type": "code",
   "execution_count": 7,
   "metadata": {
    "ExecuteTime": {
     "end_time": "2020-01-27T09:16:23.088727Z",
     "start_time": "2020-01-27T09:16:22.432605Z"
    }
   },
   "outputs": [
    {
     "data": {
      "text/plain": [
       "<matplotlib.legend.Legend at 0x7f7b849030b8>"
      ]
     },
     "execution_count": 7,
     "metadata": {},
     "output_type": "execute_result"
    },
    {
     "data": {
      "image/png": "[encoded data removed]",
      "text/plain": [
       "<Figure size 432x288 with 1 Axes>"
      ]
     },
     "metadata": {
      "needs_background": "light"
     },
     "output_type": "display_data"
    }
   ],
   "source": [
    "# Show split\n",
    "df_train['energy(kWh/hh)'].plot(label='train')\n",
    "df_test['energy(kWh/hh)'].plot(label='test')\n",
    "plt.title('energy(kWh/hh)')\n",
    "plt.legend()"
   ]
  },
  {
   "cell_type": "code",
   "execution_count": null,
   "metadata": {
    "ExecuteTime": {
     "end_time": "2020-01-25T05:07:36.234226Z",
     "start_time": "2020-01-25T05:07:36.198552Z"
    }
   },
   "outputs": [],
   "source": []
  },
  {
   "cell_type": "markdown",
   "metadata": {},
   "source": [
    "# Hyperparam search"
   ]
  },
  {
   "cell_type": "code",
   "execution_count": 8,
   "metadata": {
    "ExecuteTime": {
     "end_time": "2020-01-27T09:16:23.132107Z",
     "start_time": "2020-01-27T09:16:23.092355Z"
    }
   },
   "outputs": [],
   "source": [
    "PERCENT_TEST_EXAMPLES = 0.3\n",
    "EPOCHS = 2\n",
    "DIR = Path(os.getcwd())\n",
    "MODEL_DIR = DIR/ 'optuna_result'/ 'lstm'\n",
    "MODEL_DIR.mkdir(parents=True, exist_ok=True)"
   ]
  },
  {
   "cell_type": "code",
   "execution_count": 9,
   "metadata": {
    "ExecuteTime": {
     "end_time": "2020-01-27T09:16:23.175803Z",
     "start_time": "2020-01-27T09:16:23.134684Z"
    }
   },
   "outputs": [
    {
     "name": "stdout",
     "output_type": "stream",
     "text": [
      "now run `tensorboard --logdir /media/wassname/Storage5/projects2/3ST/attentive-neural-processes/optuna_result/lstm\n"
     ]
    }
   ],
   "source": [
    "print(f\"now run `tensorboard --logdir {MODEL_DIR}\")"
   ]
  },
  {
   "cell_type": "code",
   "execution_count": null,
   "metadata": {
    "ExecuteTime": {
     "end_time": "2020-01-27T04:59:44.555994Z",
     "start_time": "2020-01-27T04:59:44.486359Z"
    }
   },
   "outputs": [],
   "source": []
  },
  {
   "cell_type": "code",
   "execution_count": 10,
   "metadata": {
    "ExecuteTime": {
     "end_time": "2020-01-27T09:16:23.236356Z",
     "start_time": "2020-01-27T09:16:23.179477Z"
    }
   },
   "outputs": [],
   "source": [
    "\n",
    "def objective(trial):\n",
    "    # see https://github.com/optuna/optuna/blob/cf6f02d/examples/pytorch_lightning_simple.py\n",
    "    \n",
    "    trial.suggest_loguniform(\"learning_rate\", 1e-5, 1e-2)\n",
    "    trial.suggest_uniform(\"lstm_dropout\", 0, 0.75)\n",
    "    trial.suggest_categorical(\"hidden_size\", [1, 2, 4, 8, 16, 32, 64, 128])    \n",
    "    trial.suggest_categorical(\"lstm_layers\", [1, 2, 4, 8, 16, 32, 64, 128])    \n",
    "    trial.suggest_categorical(\"bidirectional\", [False, True])    \n",
    "    \n",
    "    # constants\n",
    "    trial.suggest_int(\"window_length\", 24 * 2, 24 * 2)\n",
    "    trial.suggest_int(\"target_length\", 24, 24)\n",
    "    trial.suggest_int(\"max_nb_epochs\", 20, 20)\n",
    "    trial.suggest_int(\"num_workers\", 4, 4)\n",
    "    trial.suggest_int(\"grad_clip\", 40, 40)\n",
    "    trial.suggest_int(\"vis_i\", 670, 670)\n",
    "    trial.suggest_int(\"input_size\", 17, 17)\n",
    "    trial.suggest_int(\"batch_size\", 16, 16)    \n",
    "    \n",
    "    print('trial', trial.number, 'params', trial.params)\n",
    "    \n",
    "    \n",
    "    # PyTorch Lightning will try to restore model parameters from previous trials if checkpoint\n",
    "    # filenames match. Therefore, the filenames for each trial must be made unique.\n",
    "    name = \"lstm\"\n",
    "    checkpoint_callback = pl.callbacks.ModelCheckpoint(\n",
    "        os.path.join(MODEL_DIR, name, 'version_{}'.format(trial.number), \"chk\"), monitor='val_loss', mode='min')\n",
    "\n",
    "    # The default logger in PyTorch Lightning writes to event files to be consumed by\n",
    "    # TensorBoard. We create a simple logger instead that holds the log in memory so that the\n",
    "    # final accuracy can be obtained after optimization. When using the default logger, the\n",
    "    # final accuracy could be stored in an attribute of the `Trainer` instead.\n",
    "    logger = DictLogger(MODEL_DIR, name=name, version=trial.number)\n",
    "#     print(\"log_dir\", logger.experiment.log_dir)\n",
    "\n",
    "    trainer = pl.Trainer(\n",
    "        logger=logger,\n",
    "        val_percent_check=PERCENT_TEST_EXAMPLES,\n",
    "        checkpoint_callback=checkpoint_callback,\n",
    "        max_epochs=trial.params['max_nb_epochs'],\n",
    "        gpus=-1 if torch.cuda.is_available() else None,\n",
    "        early_stop_callback=PyTorchLightningPruningCallback(trial, monitor='val_loss')\n",
    "    )\n",
    "    model = LSTM_PL(trial.params)\n",
    "    trainer.fit(model)\n",
    "    \n",
    "    \n",
    "    # also report to tensorboard & print\n",
    "    print('logger.metrics', logger.metrics[-1:])\n",
    "    model.logger.experiment.add_hparams(trial.params, logger.metrics[-1])\n",
    "    logger.save()\n",
    "    \n",
    "    return logger.metrics[-1]['val_loss']\n"
   ]
  },
  {
   "cell_type": "code",
   "execution_count": null,
   "metadata": {
    "ExecuteTime": {
     "start_time": "2020-01-27T09:16:11.600Z"
    }
   },
   "outputs": [
    {
     "name": "stdout",
     "output_type": "stream",
     "text": [
      "trial 0 params {'learning_rate': 0.00010146652064922795, 'lstm_dropout': 0.5524433594179708, 'hidden_size': 8, 'lstm_layers': 64, 'bidirectional': True, 'window_length': 48, 'target_length': 24, 'max_nb_epochs': 20, 'num_workers': 4, 'grad_clip': 40, 'vis_i': 670, 'input_size': 17, 'batch_size': 16}\n"
     ]
    },
    {
     "name": "stderr",
     "output_type": "stream",
     "text": [
      "INFO:root:gpu available: True, used: True\n",
      "INFO:root:VISIBLE GPUS: 0\n",
      "INFO:root:\n",
      "            Name     Type Params\n",
      "0         _model  LSTMNet  107 K\n",
      "1   _model.lstm1     LSTM  106 K\n",
      "2  _model.linear   Linear    1 K\n"
     ]
    },
    {
     "data": {
      "application/vnd.jupyter.widget-view+json": {
       "model_id": "",
       "version_major": 2,
       "version_minor": 0
      },
      "text/plain": [
       "HBox(children=(FloatProgress(value=0.0, description='Validation sanity check', layout=Layout(flex='2'), max=5.…"
      ]
     },
     "metadata": {},
     "output_type": "display_data"
    },
    {
     "name": "stdout",
     "output_type": "stream",
     "text": [
      "step 0, {'val_loss': '0.297493040561676'}\n",
      "\r"
     ]
    },
    {
     "data": {
      "application/vnd.jupyter.widget-view+json": {
       "model_id": "015bffde987142e7ad2e9d8ff3e11686",
       "version_major": 2,
       "version_minor": 0
      },
      "text/plain": [
       "HBox(children=(FloatProgress(value=1.0, bar_style='info', layout=Layout(flex='2'), max=1.0), HTML(value='')), …"
      ]
     },
     "metadata": {},
     "output_type": "display_data"
    }
   ],
   "source": [
    "import argparse \n",
    "\n",
    "parser = argparse.ArgumentParser(description='PyTorch Lightning example.')\n",
    "parser.add_argument('--pruning', '-p', action='store_true',\n",
    "                    help='Activate the pruning feature. `MedianPruner` stops unpromising '\n",
    "                         'trials at the early stages of training.')\n",
    "args = parser.parse_args(['-p'])\n",
    "\n",
    "pruner = optuna.pruners.MedianPruner() if args.pruning else optuna.pruners.NopPruner()\n",
    "\n",
    "study = optuna.create_study(direction='minimize', pruner=pruner)\n",
    "study.optimize(objective, n_trials=200, timeout=6000)\n",
    "\n",
    "print('Number of finished trials: {}'.format(len(study.trials)))\n",
    "\n",
    "print('Best trial:')\n",
    "trial = study.best_trial\n",
    "\n",
    "print('  Value: {}'.format(trial.value))\n",
    "\n",
    "print('  Params: ')\n",
    "for key, value in trial.params.items():\n",
    "    print('    {}: {}'.format(key, value))\n",
    "\n",
    "# shutil.rmtree(MODEL_DIR)"
   ]
  },
  {
   "cell_type": "code",
   "execution_count": null,
   "metadata": {
    "ExecuteTime": {
     "end_time": "2020-01-27T09:05:22.547568Z",
     "start_time": "2020-01-27T09:05:22.473558Z"
    }
   },
   "outputs": [],
   "source": []
  },
  {
   "cell_type": "code",
   "execution_count": null,
   "metadata": {
    "ExecuteTime": {
     "start_time": "2020-01-27T09:16:11.600Z"
    }
   },
   "outputs": [],
   "source": [
    "# test"
   ]
  },
  {
   "cell_type": "code",
   "execution_count": null,
   "metadata": {
    "ExecuteTime": {
     "start_time": "2020-01-27T09:16:11.600Z"
    }
   },
   "outputs": [],
   "source": [
    "trial = study.trials[0]\n",
    "model = LSTM_PL(trial.params)"
   ]
  },
  {
   "cell_type": "code",
   "execution_count": null,
   "metadata": {
    "ExecuteTime": {
     "start_time": "2020-01-27T09:16:11.600Z"
    }
   },
   "outputs": [],
   "source": [
    "loader = model.val_dataloader()[0]\n",
    "dset_test = loader.dataset"
   ]
  },
  {
   "cell_type": "code",
   "execution_count": null,
   "metadata": {
    "ExecuteTime": {
     "start_time": "2020-01-27T09:16:11.600Z"
    }
   },
   "outputs": [],
   "source": [
    "model.cuda()"
   ]
  },
  {
   "cell_type": "code",
   "execution_count": null,
   "metadata": {
    "ExecuteTime": {
     "end_time": "2020-01-27T09:02:48.225225Z",
     "start_time": "2020-01-27T09:02:48.174287Z"
    }
   },
   "outputs": [],
   "source": []
  },
  {
   "cell_type": "code",
   "execution_count": null,
   "metadata": {
    "ExecuteTime": {
     "end_time": "2020-01-27T09:03:20.413623Z",
     "start_time": "2020-01-27T09:03:20.313659Z"
    }
   },
   "outputs": [],
   "source": []
  },
  {
   "cell_type": "code",
   "execution_count": null,
   "metadata": {
    "ExecuteTime": {
     "end_time": "2020-01-27T09:03:28.792465Z",
     "start_time": "2020-01-27T09:03:28.346446Z"
    }
   },
   "outputs": [],
   "source": []
  },
  {
   "cell_type": "code",
   "execution_count": null,
   "metadata": {},
   "outputs": [],
   "source": []
  }
 ],
 "metadata": {
  "file_extension": ".py",
  "kernelspec": {
   "display_name": "jup3.7.3",
   "language": "python",
   "name": "jup3.7.3"
  },
  "language_info": {
   "codemirror_mode": {
    "name": "ipython",
    "version": 3
   },
   "file_extension": ".py",
   "mimetype": "text/x-python",
   "name": "python",
   "nbconvert_exporter": "python",
   "pygments_lexer": "ipython3",
   "version": "3.7.3"
  },
  "mimetype": "text/x-python",
  "name": "python",
  "npconvert_exporter": "python",
  "pygments_lexer": "ipython3",
  "toc": {
   "base_numbering": 1,
   "nav_menu": {},
   "number_sections": true,
   "sideBar": false,
   "skip_h1_title": false,
   "title_cell": "Table of Contents",
   "title_sidebar": "Contents",
   "toc_cell": false,
   "toc_position": {},
   "toc_section_display": true,
   "toc_window_display": true
  },
  "version": 3
 },
 "nbformat": 4,
 "nbformat_minor": 2
}
