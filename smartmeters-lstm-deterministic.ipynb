{
 "cells": [
  {
   "cell_type": "markdown",
   "metadata": {},
   "source": [
    "# This notebook uses pytorch lightning & optuna & an LSTM\n",
    "\n",
    "This notebook trains an LSTM on timeseries data from smartmeters.\n",
    "\n",
    "It uses pytorch lighting for the training loop. And Optuna for the hyperparameter optimisation.\n",
    "\n",
    "It also pushes results to the tensorboard hyperparameter dashboard for examination.\n",
    "\n",
    "- https://github.com/optuna/optuna/blob/master/examples/pytorch_lightning_simple.py"
   ]
  },
  {
   "cell_type": "code",
   "execution_count": 1,
   "metadata": {
    "ExecuteTime": {
     "end_time": "2020-02-16T02:36:50.055558Z",
     "start_time": "2020-02-16T02:36:49.665610Z"
    }
   },
   "outputs": [],
   "source": [
    "%matplotlib inline\n",
    "%reload_ext autoreload\n",
    "%autoreload 2"
   ]
  },
  {
   "cell_type": "code",
   "execution_count": 2,
   "metadata": {
    "ExecuteTime": {
     "end_time": "2020-02-16T02:36:52.060467Z",
     "start_time": "2020-02-16T02:36:50.058998Z"
    }
   },
   "outputs": [],
   "source": [
    "import sys, re, os, itertools, functools, collections\n",
    "import pandas as pd\n",
    "import numpy as np\n",
    "import matplotlib.pyplot as plt\n",
    "import collections\n",
    "from pathlib import Path\n",
    "from tqdm.auto import tqdm\n",
    "\n",
    "import pytorch_lightning as pl\n",
    "import optuna\n",
    "from optuna.integration import PyTorchLightningPruningCallback\n",
    "\n",
    "\n",
    "import math\n"
   ]
  },
  {
   "cell_type": "code",
   "execution_count": 3,
   "metadata": {
    "ExecuteTime": {
     "end_time": "2020-02-16T02:36:52.110420Z",
     "start_time": "2020-02-16T02:36:52.063895Z"
    }
   },
   "outputs": [],
   "source": [
    "import torch\n",
    "from torch import nn\n",
    "import torch.nn.functional as F"
   ]
  },
  {
   "cell_type": "code",
   "execution_count": 4,
   "metadata": {
    "ExecuteTime": {
     "end_time": "2020-02-16T02:36:52.251225Z",
     "start_time": "2020-02-16T02:36:52.113801Z"
    }
   },
   "outputs": [],
   "source": [
    "from neural_processes.models.model import LatentModel\n",
    "from neural_processes.data.smart_meter import collate_fns, SmartMeterDataSet, get_smartmeter_df\n",
    "# from neural_processes.plot import plot_from_loader\n",
    "from neural_processes.models.lstm import SequenceDfDataSet, LSTM_PL, plot_from_loader\n",
    "from neural_processes.dict_logger import DictLogger\n",
    "from neural_processes.utils import PyTorchLightningPruningCallback\n",
    "from neural_processes.train import main, objective, add_number, run_trial"
   ]
  },
  {
   "cell_type": "code",
   "execution_count": 5,
   "metadata": {
    "ExecuteTime": {
     "end_time": "2020-02-16T02:36:52.301399Z",
     "start_time": "2020-02-16T02:36:52.253328Z"
    }
   },
   "outputs": [],
   "source": [
    "import logging\n",
    "logging.basicConfig(stream=sys.stdout, level=logging.INFO)\n",
    "logger = logging.getLogger(\"smartmeters.ipynb\")"
   ]
  },
  {
   "cell_type": "code",
   "execution_count": 6,
   "metadata": {
    "ExecuteTime": {
     "end_time": "2020-02-16T02:36:52.350206Z",
     "start_time": "2020-02-16T02:36:52.303615Z"
    }
   },
   "outputs": [],
   "source": [
    "# Params\n",
    "device='cuda'\n",
    "use_logy=False"
   ]
  },
  {
   "cell_type": "markdown",
   "metadata": {},
   "source": [
    "# Load kaggle smart meter data"
   ]
  },
  {
   "cell_type": "code",
   "execution_count": 7,
   "metadata": {
    "ExecuteTime": {
     "end_time": "2020-02-16T02:37:01.154608Z",
     "start_time": "2020-02-16T02:36:52.352543Z"
    }
   },
   "outputs": [],
   "source": [
    "df_train, df_test = get_smartmeter_df()"
   ]
  },
  {
   "cell_type": "code",
   "execution_count": 8,
   "metadata": {
    "ExecuteTime": {
     "end_time": "2020-02-16T02:37:01.885138Z",
     "start_time": "2020-02-16T02:37:01.158353Z"
    }
   },
   "outputs": [
    {
     "data": {
      "text/plain": [
       "<matplotlib.legend.Legend at 0x7f6537185828>"
      ]
     },
     "execution_count": 8,
     "metadata": {},
     "output_type": "execute_result"
    },
    {
     "data": {
      "image/png": "[encoded data removed]",
      "text/plain": [
       "<Figure size 432x288 with 1 Axes>"
      ]
     },
     "metadata": {
      "needs_background": "light"
     },
     "output_type": "display_data"
    }
   ],
   "source": [
    "# Show split\n",
    "df_train['energy(kWh/hh)'].plot(label='train')\n",
    "df_test['energy(kWh/hh)'].plot(label='test')\n",
    "plt.title('energy(kWh/hh)')\n",
    "plt.legend()"
   ]
  },
  {
   "cell_type": "code",
   "execution_count": null,
   "metadata": {
    "ExecuteTime": {
     "end_time": "2020-02-16T00:24:15.905017Z",
     "start_time": "2020-02-16T00:24:15.747859Z"
    }
   },
   "outputs": [],
   "source": []
  },
  {
   "cell_type": "markdown",
   "metadata": {},
   "source": [
    "# Train helpers"
   ]
  },
  {
   "cell_type": "code",
   "execution_count": 9,
   "metadata": {
    "ExecuteTime": {
     "end_time": "2020-02-16T02:37:01.954099Z",
     "start_time": "2020-02-16T02:37:01.888477Z"
    }
   },
   "outputs": [],
   "source": []
  },
  {
   "cell_type": "code",
   "execution_count": 10,
   "metadata": {
    "ExecuteTime": {
     "end_time": "2020-02-16T02:37:02.018283Z",
     "start_time": "2020-02-16T02:37:01.956427Z"
    }
   },
   "outputs": [],
   "source": [
    "# def add_suggest(trial):\n",
    "#     trial.suggest_loguniform(\"learning_rate\", 1e-5, 1e-2)\n",
    "#     trial.suggest_uniform(\"lstm_dropout\", 0, 0.75)\n",
    "#     trial.suggest_categorical(\"hidden_size\", [1, 2, 4, 8, 16, 32, 64, 128])    \n",
    "#     trial.suggest_categorical(\"lstm_layers\", [1, 2, 4, 8])    \n",
    "#     trial.suggest_categorical(\"bidirectional\", [False, True])    \n",
    "    \n",
    "#     # constants\n",
    "#     trial.suggest_int(\"window_length\", 24 * 4, 24 * 4)\n",
    "#     trial.suggest_int(\"target_length\", 24*4, 24*4)\n",
    "#     trial.suggest_int(\"max_nb_epochs\", 20, 20)\n",
    "#     trial.suggest_int(\"num_workers\", 4, 4)\n",
    "#     trial.suggest_int(\"grad_clip\", 40, 40)\n",
    "#     trial.suggest_int(\"vis_i\", 670, 670)\n",
    "#     trial.suggest_int(\"input_size\", 17, 17)\n",
    "#     trial.suggest_int(\"batch_size\", 16, 16)    \n",
    "#     return trial"
   ]
  },
  {
   "cell_type": "code",
   "execution_count": 11,
   "metadata": {
    "ExecuteTime": {
     "end_time": "2020-02-16T02:37:02.081996Z",
     "start_time": "2020-02-16T02:37:02.020607Z"
    }
   },
   "outputs": [],
   "source": []
  },
  {
   "cell_type": "markdown",
   "metadata": {},
   "source": [
    "# Train"
   ]
  },
  {
   "cell_type": "code",
   "execution_count": 12,
   "metadata": {
    "ExecuteTime": {
     "end_time": "2020-02-16T02:37:02.139269Z",
     "start_time": "2020-02-16T02:37:02.084857Z"
    }
   },
   "outputs": [],
   "source": [
    "PERCENT_TEST_EXAMPLES = 0.3\n",
    "EPOCHS = 2\n",
    "DIR = Path(os.getcwd())\n",
    "MODEL_DIR = DIR/ 'optuna_result'/ 'lstm'\n",
    "name = \"lstm1\"\n",
    "MODEL_DIR.mkdir(parents=True, exist_ok=True)"
   ]
  },
  {
   "cell_type": "code",
   "execution_count": 13,
   "metadata": {
    "ExecuteTime": {
     "end_time": "2020-02-16T02:37:02.198129Z",
     "start_time": "2020-02-16T02:37:02.141432Z"
    }
   },
   "outputs": [
    {
     "name": "stdout",
     "output_type": "stream",
     "text": [
      "now run `tensorboard --logdir /media/wassname/Storage5/projects2/3ST/attentive-neural-processes/optuna_result/lstm\n"
     ]
    }
   ],
   "source": [
    "print(f\"now run `tensorboard --logdir {MODEL_DIR}\")"
   ]
  },
  {
   "cell_type": "markdown",
   "metadata": {},
   "source": [
    "[I 2020-01-29 08:42:54,398] Finished trial#8 resulted in value: 0.005635036621242762. Current best value is 0.005635036621242762 with parameters: {'batch_size': 16, 'bidirectional': False, 'grad_clip': 40, 'hidden_size': 128, 'input_size': 17, 'learning_rate': 0.00019134834148401144, 'lstm_dropout': 0.4080689425353674, 'lstm_layers': 8, 'max_nb_epochs': 20, 'num_workers': 4, 'target_length': 24, 'vis_i': 670, 'window_length': 48}."
   ]
  },
  {
   "cell_type": "code",
   "execution_count": null,
   "metadata": {
    "ExecuteTime": {
     "end_time": "2020-02-01T12:52:22.492191Z",
     "start_time": "2020-02-01T12:52:22.416653Z"
    }
   },
   "outputs": [],
   "source": []
  },
  {
   "cell_type": "markdown",
   "metadata": {
    "ExecuteTime": {
     "end_time": "2020-02-16T01:47:59.598921Z",
     "start_time": "2020-02-16T01:47:02.100Z"
    }
   },
   "source": [
    "Note that the LSTM has access to the y values for the first half of the plot (the context) to match the NP setup."
   ]
  },
  {
   "cell_type": "code",
   "execution_count": 16,
   "metadata": {
    "ExecuteTime": {
     "end_time": "2020-02-16T04:08:58.961223Z",
     "start_time": "2020-02-16T04:08:58.864759Z"
    },
    "scrolled": true
   },
   "outputs": [
    {
     "name": "stderr",
     "output_type": "stream",
     "text": [
      "/media/wassname/Storage5/projects2/3ST/pytorch-lightning/pytorch_lightning/callbacks/pt_callbacks.py:239: UserWarning:\n",
      "\n",
      "Checkpoint directory /media/wassname/Storage5/projects2/3ST/attentive-neural-processes/optuna_result/lstm/lstm1/version_109/chk exists and is not empty with save_top_k != 0.All files in this directory will be deleted when a checkpoint is saved!\n",
      "\n",
      "INFO:root:gpu available: True, used: True\n",
      "INFO:root:VISIBLE GPUS: 0\n"
     ]
    }
   ],
   "source": [
    "trial = optuna.trial.FixedTrial(\n",
    "    params={\n",
    "        'number': 45,\n",
    "        'batch_size': 16,\n",
    "        'bidirectional': False,\n",
    "        'grad_clip': 40,\n",
    "        'hidden_size': 128,\n",
    "        'input_size': 17,\n",
    "        'learning_rate': 2e-5,\n",
    "        'lstm_dropout': 0.4,\n",
    "        'lstm_layers': 8,\n",
    "        'max_nb_epochs': 20,\n",
    "        'num_workers': 4,\n",
    "        'target_length': 24*4,\n",
    "        'vis_i': '670',\n",
    "        'window_length': 24*4\n",
    "    })\n",
    "trial = LSTM_PL.add_suggest(trial)\n",
    "trial = add_number(trial, MODEL_DIR/name)\n",
    "model, trainer = main(trial, train=False)\n",
    "trainer.fit(model)"
   ]
  },
  {
   "cell_type": "code",
   "execution_count": null,
   "metadata": {
    "ExecuteTime": {
     "end_time": "2020-02-16T02:16:06.159986Z",
     "start_time": "2020-02-16T02:16:06.045538Z"
    }
   },
   "outputs": [],
   "source": []
  },
  {
   "cell_type": "code",
   "execution_count": 17,
   "metadata": {
    "ExecuteTime": {
     "end_time": "2020-02-16T04:10:17.489144Z",
     "start_time": "2020-02-16T04:09:03.917103Z"
    }
   },
   "outputs": [
    {
     "name": "stderr",
     "output_type": "stream",
     "text": [
      "INFO:root:\n",
      "            Name     Type Params\n",
      "0         _model  LSTMNet    1 M\n",
      "1   _model.lstm1     LSTM  999 K\n",
      "2  _model.linear   Linear  129  \n",
      "INFO:root:model and trainer restored from checkpoint: /media/wassname/Storage5/projects2/3ST/attentive-neural-processes/optuna_result/lstm/lstm1/version_109/chk/_ckpt_epoch_3.ckpt\n"
     ]
    },
    {
     "data": {
      "application/vnd.jupyter.widget-view+json": {
       "model_id": "b51a0a6c1a704a6c89d712401a461b7b",
       "version_major": 2,
       "version_minor": 0
      },
      "text/plain": [
       "HBox(children=(FloatProgress(value=0.0, description='Testing', layout=Layout(flex='2'), max=234.0, style=Progr…"
      ]
     },
     "metadata": {},
     "output_type": "display_data"
    },
    {
     "data": {
      "application/vnd.jupyter.widget-view+json": {
       "model_id": "304562568c6e4a14bd47be59577e05b5",
       "version_major": 2,
       "version_minor": 0
      },
      "text/plain": [
       "HBox(children=(FloatProgress(value=0.0, max=1.0), HTML(value='')))"
      ]
     },
     "metadata": {},
     "output_type": "display_data"
    },
    {
     "name": "stdout",
     "output_type": "stream",
     "text": [
      "\n"
     ]
    },
    {
     "data": {
      "image/png": "[encoded data removed]",
      "text/plain": [
       "<Figure size 432x288 with 1 Axes>"
      ]
     },
     "metadata": {
      "needs_background": "light"
     },
     "output_type": "display_data"
    },
    {
     "name": "stdout",
     "output_type": "stream",
     "text": [
      "step 10973, {'val_loss': '0.015320336446166039'}\n",
      "\n"
     ]
    }
   ],
   "source": [
    "# test\n",
    "trainer.test(model)"
   ]
  },
  {
   "cell_type": "code",
   "execution_count": 18,
   "metadata": {
    "ExecuteTime": {
     "end_time": "2020-02-16T04:10:18.042094Z",
     "start_time": "2020-02-16T04:10:17.491821Z"
    }
   },
   "outputs": [
    {
     "data": {
      "application/vnd.jupyter.widget-view+json": {
       "model_id": "0ba1a3bfe5284a898e91b6ca883f4dc5",
       "version_major": 2,
       "version_minor": 0
      },
      "text/plain": [
       "HBox(children=(FloatProgress(value=0.0, max=1.0), HTML(value='')))"
      ]
     },
     "metadata": {},
     "output_type": "display_data"
    },
    {
     "name": "stdout",
     "output_type": "stream",
     "text": [
      "\n"
     ]
    },
    {
     "data": {
      "image/png": "[encoded data removed]",
      "text/plain": [
       "<Figure size 432x288 with 1 Axes>"
      ]
     },
     "metadata": {
      "needs_background": "light"
     },
     "output_type": "display_data"
    }
   ],
   "source": [
    "loader = model.val_dataloader()[0]\n",
    "dset_test = loader.dataset\n",
    "label_names = dset_test.label_names\n",
    "plot_from_loader(loader, model, vis_i=670)"
   ]
  },
  {
   "cell_type": "markdown",
   "metadata": {
    "ExecuteTime": {
     "end_time": "2020-01-27T09:03:28.792465Z",
     "start_time": "2020-01-27T09:03:28.346446Z"
    }
   },
   "source": [
    "# Hyperparam opt"
   ]
  },
  {
   "cell_type": "code",
   "execution_count": null,
   "metadata": {},
   "outputs": [],
   "source": []
  },
  {
   "cell_type": "code",
   "execution_count": null,
   "metadata": {
    "ExecuteTime": {
     "end_time": "2020-02-16T04:08:45.711767Z",
     "start_time": "2020-02-16T02:36:49.800Z"
    }
   },
   "outputs": [],
   "source": [
    "import argparse \n",
    "\n",
    "parser = argparse.ArgumentParser(description='PyTorch Lightning example.')\n",
    "parser.add_argument('--pruning', '-p', action='store_true',\n",
    "                    help='Activate the pruning feature. `MedianPruner` stops unpromising '\n",
    "                         'trials at the early stages of training.')\n",
    "args = parser.parse_args(['-p'])\n",
    "\n",
    "pruner = optuna.pruners.MedianPruner() if args.pruning else optuna.pruners.NopPruner()\n",
    "\n",
    "study = optuna.create_study(direction='minimize', pruner=pruner, storage=f'sqlite:///optuna_result/{name}.db', study_name='no-name-b60e37fc-4ab6-4793-8a0a-c87a1b40c5c0', load_if_exists=True)\n",
    "\n",
    "# shutil.rmtree(MODEL_DIR)"
   ]
  },
  {
   "cell_type": "code",
   "execution_count": null,
   "metadata": {
    "ExecuteTime": {
     "end_time": "2020-01-27T23:38:16.813496Z",
     "start_time": "2020-01-27T23:38:16.766674Z"
    }
   },
   "outputs": [],
   "source": []
  },
  {
   "cell_type": "code",
   "execution_count": null,
   "metadata": {
    "ExecuteTime": {
     "end_time": "2020-02-16T04:08:45.713036Z",
     "start_time": "2020-02-16T02:36:49.800Z"
    }
   },
   "outputs": [],
   "source": [
    "study.optimize(objective, n_trials=200, timeout=6000)\n",
    "\n",
    "print('Number of finished trials: {}'.format(len(study.trials)))\n",
    "\n",
    "print('Best trial:')\n",
    "trial = study.best_trial\n",
    "\n",
    "print('  Value: {}'.format(trial.value))\n",
    "\n",
    "print('  Params: ')\n",
    "for key, value in trial.params.items():\n",
    "    print('    {}: {}'.format(key, value))\n"
   ]
  },
  {
   "cell_type": "code",
   "execution_count": null,
   "metadata": {
    "ExecuteTime": {
     "end_time": "2020-02-16T04:08:45.714257Z",
     "start_time": "2020-02-16T02:36:49.800Z"
    }
   },
   "outputs": [],
   "source": [
    "study.optimize(objective, n_trials=200, timeout=6000)"
   ]
  },
  {
   "cell_type": "code",
   "execution_count": null,
   "metadata": {
    "ExecuteTime": {
     "end_time": "2020-02-16T04:08:45.715466Z",
     "start_time": "2020-02-16T02:36:49.800Z"
    }
   },
   "outputs": [],
   "source": [
    "df = study.trials_dataframe(attrs=('number', 'value', 'params', 'state'))\n",
    "df.sort_values('value')"
   ]
  },
  {
   "cell_type": "markdown",
   "metadata": {},
   "source": [
    "# Scratch"
   ]
  },
  {
   "cell_type": "code",
   "execution_count": null,
   "metadata": {
    "ExecuteTime": {
     "end_time": "2020-02-16T04:08:45.716663Z",
     "start_time": "2020-02-16T02:36:49.800Z"
    }
   },
   "outputs": [],
   "source": [
    "model, trainer = main(trial, train=False)"
   ]
  },
  {
   "cell_type": "code",
   "execution_count": null,
   "metadata": {
    "ExecuteTime": {
     "end_time": "2020-02-16T04:08:45.717955Z",
     "start_time": "2020-02-16T02:36:49.800Z"
    }
   },
   "outputs": [],
   "source": [
    "loader = model.val_dataloader()[0]\n",
    "dset_test = loader.dataset\n",
    "label_names = dset_test.label_names"
   ]
  },
  {
   "cell_type": "code",
   "execution_count": null,
   "metadata": {
    "ExecuteTime": {
     "end_time": "2020-02-16T04:08:45.719361Z",
     "start_time": "2020-02-16T02:36:49.800Z"
    }
   },
   "outputs": [],
   "source": [
    "x_rows, y_rows = dset_test.iloc(10)\n",
    "x_rows.loc[x_rows.index[model.hparams.window_length:], dset_test.label_names] = 0.\n",
    "x_rows"
   ]
  },
  {
   "cell_type": "code",
   "execution_count": null,
   "metadata": {
    "ExecuteTime": {
     "end_time": "2020-02-16T04:08:45.720669Z",
     "start_time": "2020-02-16T02:36:49.800Z"
    }
   },
   "outputs": [],
   "source": [
    "x_rows.loc[x_rows.index[model.hparams.window_length:]]"
   ]
  },
  {
   "cell_type": "code",
   "execution_count": null,
   "metadata": {
    "ExecuteTime": {
     "end_time": "2020-02-16T04:08:45.721941Z",
     "start_time": "2020-02-16T02:36:49.800Z"
    }
   },
   "outputs": [],
   "source": [
    "self=dset_test\n",
    "idx=10\n",
    "k = idx + self.hparams.window_length + self.hparams.target_length\n",
    "j = k - self.hparams.target_length\n",
    "i = j - self.hparams.window_length\n",
    "idx, k, j, i, self.hparams.window_length + self.hparams.target_length"
   ]
  },
  {
   "cell_type": "code",
   "execution_count": null,
   "metadata": {
    "ExecuteTime": {
     "end_time": "2020-02-16T04:08:45.723150Z",
     "start_time": "2020-02-16T02:36:49.800Z"
    }
   },
   "outputs": [],
   "source": [
    "j-i"
   ]
  },
  {
   "cell_type": "code",
   "execution_count": null,
   "metadata": {
    "ExecuteTime": {
     "end_time": "2020-02-16T04:08:45.724301Z",
     "start_time": "2020-02-16T02:36:49.800Z"
    }
   },
   "outputs": [],
   "source": [
    "self.hparams.window_length + self.hparams.target_length"
   ]
  },
  {
   "cell_type": "code",
   "execution_count": null,
   "metadata": {},
   "outputs": [],
   "source": []
  }
 ],
 "metadata": {
  "file_extension": ".py",
  "kernelspec": {
   "display_name": "jup3.7.3",
   "language": "python",
   "name": "jup3.7.3"
  },
  "language_info": {
   "codemirror_mode": {
    "name": "ipython",
    "version": 3
   },
   "file_extension": ".py",
   "mimetype": "text/x-python",
   "name": "python",
   "nbconvert_exporter": "python",
   "pygments_lexer": "ipython3",
   "version": "3.7.3"
  },
  "mimetype": "text/x-python",
  "name": "python",
  "npconvert_exporter": "python",
  "pygments_lexer": "ipython3",
  "toc": {
   "base_numbering": 1,
   "nav_menu": {},
   "number_sections": true,
   "sideBar": true,
   "skip_h1_title": false,
   "title_cell": "Table of Contents",
   "title_sidebar": "Contents",
   "toc_cell": false,
   "toc_position": {
    "height": "calc(100% - 180px)",
    "left": "10px",
    "top": "150px",
    "width": "384px"
   },
   "toc_section_display": true,
   "toc_window_display": true
  },
  "version": 3
 },
 "nbformat": 4,
 "nbformat_minor": 2
}
