{
 "cells": [
  {
   "cell_type": "markdown",
   "metadata": {},
   "source": [
    "# This notebook uses pytorch lightning & optuna & an LSTM\n",
    "\n",
    "This notebook trains an LSTM on timeseries data from smartmeters.\n",
    "\n",
    "It uses pytorch lighting for the training loop. And Optuna for the hyperparameter optimisation.\n",
    "\n",
    "It also pushes results to the tensorboard hyperparameter dashboard for examination.\n",
    "\n",
    "- https://github.com/optuna/optuna/blob/master/examples/pytorch_lightning_simple.py"
   ]
  },
  {
   "cell_type": "code",
   "execution_count": 1,
   "metadata": {
    "ExecuteTime": {
     "end_time": "2020-03-15T06:47:52.361063Z",
     "start_time": "2020-03-15T06:47:51.979055Z"
    }
   },
   "outputs": [],
   "source": [
    "%matplotlib inline\n",
    "%reload_ext autoreload\n",
    "%autoreload 2"
   ]
  },
  {
   "cell_type": "code",
   "execution_count": 2,
   "metadata": {
    "ExecuteTime": {
     "end_time": "2020-03-15T06:47:54.400268Z",
     "start_time": "2020-03-15T06:47:52.363583Z"
    }
   },
   "outputs": [],
   "source": [
    "import sys, re, os, itertools, functools, collections\n",
    "import pandas as pd\n",
    "import numpy as np\n",
    "import matplotlib.pyplot as plt\n",
    "import collections\n",
    "from pathlib import Path\n",
    "from tqdm.auto import tqdm\n",
    "\n",
    "import pytorch_lightning as pl\n",
    "import optuna\n",
    "from optuna.integration import PyTorchLightningPruningCallback\n",
    "\n",
    "\n",
    "import math\n"
   ]
  },
  {
   "cell_type": "code",
   "execution_count": 3,
   "metadata": {
    "ExecuteTime": {
     "end_time": "2020-03-15T06:47:54.452790Z",
     "start_time": "2020-03-15T06:47:54.402875Z"
    }
   },
   "outputs": [],
   "source": [
    "import torch\n",
    "from torch import nn\n",
    "import torch.nn.functional as F"
   ]
  },
  {
   "cell_type": "code",
   "execution_count": 4,
   "metadata": {
    "ExecuteTime": {
     "end_time": "2020-03-15T06:47:54.579177Z",
     "start_time": "2020-03-15T06:47:54.455312Z"
    }
   },
   "outputs": [
    {
     "name": "stderr",
     "output_type": "stream",
     "text": [
      "/home/wassname/.pyenv/versions/jup3.7.3/lib/python3.7/site-packages/pytorch_lightning/core/decorators.py:13: UserWarning:\n",
      "\n",
      "data_loader decorator deprecated in 0.7.0. Will remove 0.9.0\n",
      "\n"
     ]
    }
   ],
   "source": [
    "from src.models.model import LatentModel\n",
    "from src.data.smart_meter import collate_fns, SmartMeterDataSet, get_smartmeter_df\n",
    "from src.plot import plot_from_loader\n",
    "from src.models.transformer_seq2seq import TransformerSeq2Seq_PL\n",
    "from src.dict_logger import DictLogger\n",
    "from src.utils import PyTorchLightningPruningCallback\n",
    "from src.train import main, objective, add_number, run_trial"
   ]
  },
  {
   "cell_type": "code",
   "execution_count": 5,
   "metadata": {
    "ExecuteTime": {
     "end_time": "2020-03-15T06:47:54.631604Z",
     "start_time": "2020-03-15T06:47:54.581548Z"
    }
   },
   "outputs": [],
   "source": [
    "import logging\n",
    "logging.basicConfig(stream=sys.stdout, level=logging.INFO)\n",
    "logger = logging.getLogger(\"smartmeters.ipynb\")"
   ]
  },
  {
   "cell_type": "code",
   "execution_count": 6,
   "metadata": {
    "ExecuteTime": {
     "end_time": "2020-03-15T06:47:54.684824Z",
     "start_time": "2020-03-15T06:47:54.635908Z"
    }
   },
   "outputs": [],
   "source": [
    "# Params\n",
    "device='cuda'\n",
    "use_logy=False"
   ]
  },
  {
   "cell_type": "markdown",
   "metadata": {},
   "source": [
    "# Load kaggle smart meter data"
   ]
  },
  {
   "cell_type": "code",
   "execution_count": 7,
   "metadata": {
    "ExecuteTime": {
     "end_time": "2020-03-15T06:48:03.637548Z",
     "start_time": "2020-03-15T06:47:54.690272Z"
    }
   },
   "outputs": [],
   "source": [
    "df_train, df_val, df_test = get_smartmeter_df()"
   ]
  },
  {
   "cell_type": "code",
   "execution_count": 8,
   "metadata": {
    "ExecuteTime": {
     "end_time": "2020-03-15T06:48:04.411537Z",
     "start_time": "2020-03-15T06:48:03.640121Z"
    }
   },
   "outputs": [
    {
     "data": {
      "text/plain": [
       "<matplotlib.legend.Legend at 0x7f83334e22b0>"
      ]
     },
     "execution_count": 8,
     "metadata": {},
     "output_type": "execute_result"
    },
    {
     "data": {
      "image/png": "[encoded data removed]",
      "text/plain": [
       "<Figure size 432x288 with 1 Axes>"
      ]
     },
     "metadata": {
      "needs_background": "light"
     },
     "output_type": "display_data"
    }
   ],
   "source": [
    "# Show split\n",
    "df_train['energy(kWh/hh)'].plot(label='train')\n",
    "df_val['energy(kWh/hh)'].plot(label='val')\n",
    "df_test['energy(kWh/hh)'].plot(label='test')\n",
    "plt.title('energy(kWh/hh)')\n",
    "plt.legend()"
   ]
  },
  {
   "cell_type": "code",
   "execution_count": null,
   "metadata": {
    "ExecuteTime": {
     "end_time": "2020-02-16T00:24:15.905017Z",
     "start_time": "2020-02-16T00:24:15.747859Z"
    }
   },
   "outputs": [],
   "source": []
  },
  {
   "cell_type": "markdown",
   "metadata": {},
   "source": [
    "# Train"
   ]
  },
  {
   "cell_type": "markdown",
   "metadata": {
    "ExecuteTime": {
     "end_time": "2020-02-16T01:47:59.598921Z",
     "start_time": "2020-02-16T01:47:02.100Z"
    }
   },
   "source": [
    "Note that the LSTM has access to the y values for the first half of the plot (the context) to match the NP setup."
   ]
  },
  {
   "cell_type": "code",
   "execution_count": null,
   "metadata": {
    "ExecuteTime": {
     "start_time": "2020-03-15T07:44:43.200Z"
    },
    "scrolled": true
   },
   "outputs": [
    {
     "name": "stdout",
     "output_type": "stream",
     "text": [
      "now run `tensorboard --logdir lightning_logs`\n",
      "trial.number -42\n",
      "INFO:root:GPU available: True, used: True\n",
      "INFO:root:VISIBLE GPUS: 0\n",
      "INFO:root:\n",
      "    | Name                                           | Type                    | Params\n",
      "---------------------------------------------------------------------------------------\n",
      "0   | model                                          | TransformerSeq2SeqNet   | 7 M   \n",
      "1   | model.enc_norm                                 | BatchNormSequence       | 36    \n",
      "2   | model.enc_norm.norm                            | BatchNorm1d             | 36    \n",
      "3   | model.enc_emb                                  | Linear                  | 4 K   \n",
      "4   | model.encoder                                  | TransformerEncoder      | 3 M   \n",
      "5   | model.encoder.layers                           | ModuleList              | 3 M   \n",
      "6   | model.encoder.layers.0                         | TransformerEncoderLayer | 789 K \n",
      "7   | model.encoder.layers.0.self_attn               | MultiheadAttention      | 263 K \n",
      "8   | model.encoder.layers.0.self_attn.out_proj      | Linear                  | 65 K  \n",
      "9   | model.encoder.layers.0.linear1                 | Linear                  | 263 K \n",
      "10  | model.encoder.layers.0.dropout                 | Dropout                 | 0     \n",
      "11  | model.encoder.layers.0.linear2                 | Linear                  | 262 K \n",
      "12  | model.encoder.layers.0.norm1                   | LayerNorm               | 512   \n",
      "13  | model.encoder.layers.0.norm2                   | LayerNorm               | 512   \n",
      "14  | model.encoder.layers.0.dropout1                | Dropout                 | 0     \n",
      "15  | model.encoder.layers.0.dropout2                | Dropout                 | 0     \n",
      "16  | model.encoder.layers.1                         | TransformerEncoderLayer | 789 K \n",
      "17  | model.encoder.layers.1.self_attn               | MultiheadAttention      | 263 K \n",
      "18  | model.encoder.layers.1.self_attn.out_proj      | Linear                  | 65 K  \n",
      "19  | model.encoder.layers.1.linear1                 | Linear                  | 263 K \n",
      "20  | model.encoder.layers.1.dropout                 | Dropout                 | 0     \n",
      "21  | model.encoder.layers.1.linear2                 | Linear                  | 262 K \n",
      "22  | model.encoder.layers.1.norm1                   | LayerNorm               | 512   \n",
      "23  | model.encoder.layers.1.norm2                   | LayerNorm               | 512   \n",
      "24  | model.encoder.layers.1.dropout1                | Dropout                 | 0     \n",
      "25  | model.encoder.layers.1.dropout2                | Dropout                 | 0     \n",
      "26  | model.encoder.layers.2                         | TransformerEncoderLayer | 789 K \n",
      "27  | model.encoder.layers.2.self_attn               | MultiheadAttention      | 263 K \n",
      "28  | model.encoder.layers.2.self_attn.out_proj      | Linear                  | 65 K  \n",
      "29  | model.encoder.layers.2.linear1                 | Linear                  | 263 K \n",
      "30  | model.encoder.layers.2.dropout                 | Dropout                 | 0     \n",
      "31  | model.encoder.layers.2.linear2                 | Linear                  | 262 K \n",
      "32  | model.encoder.layers.2.norm1                   | LayerNorm               | 512   \n",
      "33  | model.encoder.layers.2.norm2                   | LayerNorm               | 512   \n",
      "34  | model.encoder.layers.2.dropout1                | Dropout                 | 0     \n",
      "35  | model.encoder.layers.2.dropout2                | Dropout                 | 0     \n",
      "36  | model.encoder.layers.3                         | TransformerEncoderLayer | 789 K \n",
      "37  | model.encoder.layers.3.self_attn               | MultiheadAttention      | 263 K \n",
      "38  | model.encoder.layers.3.self_attn.out_proj      | Linear                  | 65 K  \n",
      "39  | model.encoder.layers.3.linear1                 | Linear                  | 263 K \n",
      "40  | model.encoder.layers.3.dropout                 | Dropout                 | 0     \n",
      "41  | model.encoder.layers.3.linear2                 | Linear                  | 262 K \n",
      "42  | model.encoder.layers.3.norm1                   | LayerNorm               | 512   \n",
      "43  | model.encoder.layers.3.norm2                   | LayerNorm               | 512   \n",
      "44  | model.encoder.layers.3.dropout1                | Dropout                 | 0     \n",
      "45  | model.encoder.layers.3.dropout2                | Dropout                 | 0     \n",
      "46  | model.encoder.norm                             | LayerNorm               | 512   \n",
      "47  | model.dec_norm                                 | BatchNormSequence       | 34    \n",
      "48  | model.dec_norm.norm                            | BatchNorm1d             | 34    \n",
      "49  | model.dec_emb                                  | Linear                  | 4 K   \n",
      "50  | model.decoder                                  | TransformerDecoder      | 4 M   \n",
      "51  | model.decoder.layers                           | ModuleList              | 4 M   \n",
      "52  | model.decoder.layers.0                         | TransformerDecoderLayer | 1 M   \n",
      "53  | model.decoder.layers.0.self_attn               | MultiheadAttention      | 263 K \n",
      "54  | model.decoder.layers.0.self_attn.out_proj      | Linear                  | 65 K  \n",
      "55  | model.decoder.layers.0.multihead_attn          | MultiheadAttention      | 263 K \n",
      "56  | model.decoder.layers.0.multihead_attn.out_proj | Linear                  | 65 K  \n",
      "57  | model.decoder.layers.0.linear1                 | Linear                  | 263 K \n",
      "58  | model.decoder.layers.0.dropout                 | Dropout                 | 0     \n",
      "59  | model.decoder.layers.0.linear2                 | Linear                  | 262 K \n",
      "60  | model.decoder.layers.0.norm1                   | LayerNorm               | 512   \n",
      "61  | model.decoder.layers.0.norm2                   | LayerNorm               | 512   \n",
      "62  | model.decoder.layers.0.norm3                   | LayerNorm               | 512   \n",
      "63  | model.decoder.layers.0.dropout1                | Dropout                 | 0     \n",
      "64  | model.decoder.layers.0.dropout2                | Dropout                 | 0     \n",
      "65  | model.decoder.layers.0.dropout3                | Dropout                 | 0     \n",
      "66  | model.decoder.layers.1                         | TransformerDecoderLayer | 1 M   \n",
      "67  | model.decoder.layers.1.self_attn               | MultiheadAttention      | 263 K \n",
      "68  | model.decoder.layers.1.self_attn.out_proj      | Linear                  | 65 K  \n",
      "69  | model.decoder.layers.1.multihead_attn          | MultiheadAttention      | 263 K \n",
      "70  | model.decoder.layers.1.multihead_attn.out_proj | Linear                  | 65 K  \n",
      "71  | model.decoder.layers.1.linear1                 | Linear                  | 263 K \n",
      "72  | model.decoder.layers.1.dropout                 | Dropout                 | 0     \n",
      "73  | model.decoder.layers.1.linear2                 | Linear                  | 262 K \n",
      "74  | model.decoder.layers.1.norm1                   | LayerNorm               | 512   \n",
      "75  | model.decoder.layers.1.norm2                   | LayerNorm               | 512   \n",
      "76  | model.decoder.layers.1.norm3                   | LayerNorm               | 512   \n",
      "77  | model.decoder.layers.1.dropout1                | Dropout                 | 0     \n",
      "78  | model.decoder.layers.1.dropout2                | Dropout                 | 0     \n",
      "79  | model.decoder.layers.1.dropout3                | Dropout                 | 0     \n",
      "80  | model.decoder.layers.2                         | TransformerDecoderLayer | 1 M   \n",
      "81  | model.decoder.layers.2.self_attn               | MultiheadAttention      | 263 K \n",
      "82  | model.decoder.layers.2.self_attn.out_proj      | Linear                  | 65 K  \n",
      "83  | model.decoder.layers.2.multihead_attn          | MultiheadAttention      | 263 K \n",
      "84  | model.decoder.layers.2.multihead_attn.out_proj | Linear                  | 65 K  \n",
      "85  | model.decoder.layers.2.linear1                 | Linear                  | 263 K \n",
      "86  | model.decoder.layers.2.dropout                 | Dropout                 | 0     \n",
      "87  | model.decoder.layers.2.linear2                 | Linear                  | 262 K \n",
      "88  | model.decoder.layers.2.norm1                   | LayerNorm               | 512   \n",
      "89  | model.decoder.layers.2.norm2                   | LayerNorm               | 512   \n",
      "90  | model.decoder.layers.2.norm3                   | LayerNorm               | 512   \n",
      "91  | model.decoder.layers.2.dropout1                | Dropout                 | 0     \n",
      "92  | model.decoder.layers.2.dropout2                | Dropout                 | 0     \n",
      "93  | model.decoder.layers.2.dropout3                | Dropout                 | 0     \n",
      "94  | model.decoder.layers.3                         | TransformerDecoderLayer | 1 M   \n",
      "95  | model.decoder.layers.3.self_attn               | MultiheadAttention      | 263 K \n",
      "96  | model.decoder.layers.3.self_attn.out_proj      | Linear                  | 65 K  \n",
      "97  | model.decoder.layers.3.multihead_attn          | MultiheadAttention      | 263 K \n",
      "98  | model.decoder.layers.3.multihead_attn.out_proj | Linear                  | 65 K  \n",
      "99  | model.decoder.layers.3.linear1                 | Linear                  | 263 K \n",
      "100 | model.decoder.layers.3.dropout                 | Dropout                 | 0     \n",
      "101 | model.decoder.layers.3.linear2                 | Linear                  | 262 K \n",
      "102 | model.decoder.layers.3.norm1                   | LayerNorm               | 512   \n",
      "103 | model.decoder.layers.3.norm2                   | LayerNorm               | 512   \n",
      "104 | model.decoder.layers.3.norm3                   | LayerNorm               | 512   \n",
      "105 | model.decoder.layers.3.dropout1                | Dropout                 | 0     \n",
      "106 | model.decoder.layers.3.dropout2                | Dropout                 | 0     \n",
      "107 | model.decoder.layers.3.dropout3                | Dropout                 | 0     \n",
      "108 | model.decoder.norm                             | LayerNorm               | 512   \n",
      "109 | model.mean                                     | Linear                  | 257   \n",
      "110 | model.std                                      | Linear                  | 257   \n"
     ]
    },
    {
     "data": {
      "application/vnd.jupyter.widget-view+json": {
       "model_id": "",
       "version_major": 2,
       "version_minor": 0
      },
      "text/plain": [
       "HBox(children=(FloatProgress(value=0.0, description='Validation sanity check', layout=Layout(flex='2'), max=5.…"
      ]
     },
     "metadata": {},
     "output_type": "display_data"
    },
    {
     "data": {
      "image/png": "[encoded data removed]",
      "text/plain": [
       "<Figure size 432x288 with 1 Axes>"
      ]
     },
     "metadata": {
      "needs_background": "light"
     },
     "output_type": "display_data"
    },
    {
     "name": "stdout",
     "output_type": "stream",
     "text": [
      "step 0, {'val_loss': '0.06682287901639938', 'val/loss_mse': '0.04928172752261162', 'val/loss_p': '0.06682287901639938', 'val/sigma': '0.348598837852478'}\n",
      "\r"
     ]
    },
    {
     "data": {
      "application/vnd.jupyter.widget-view+json": {
       "model_id": "f7942d9d3eea41b1b6f12aaafbeac81e",
       "version_major": 2,
       "version_minor": 0
      },
      "text/plain": [
       "HBox(children=(FloatProgress(value=1.0, bar_style='info', layout=Layout(flex='2'), max=1.0), HTML(value='')), …"
      ]
     },
     "metadata": {},
     "output_type": "display_data"
    },
    {
     "data": {
      "application/vnd.jupyter.widget-view+json": {
       "model_id": "",
       "version_major": 2,
       "version_minor": 0
      },
      "text/plain": [
       "HBox(children=(FloatProgress(value=0.0, description='Validating', layout=Layout(flex='2'), max=117.0, style=Pr…"
      ]
     },
     "metadata": {},
     "output_type": "display_data"
    },
    {
     "data": {
      "image/png": "[encoded data removed]",
      "text/plain": [
       "<Figure size 432x288 with 1 Axes>"
      ]
     },
     "metadata": {
      "needs_background": "light"
     },
     "output_type": "display_data"
    },
    {
     "name": "stdout",
     "output_type": "stream",
     "text": [
      "step 1826, {'val_loss': '-1.0226153135299683', 'val/loss_mse': '0.006492416374385357', 'val/loss_p': '-1.0226153135299683', 'val/sigma': '0.11520036309957504'}\n"
     ]
    }
   ],
   "source": [
    "trial, trainer, model = run_trial(\n",
    "    name=\"transformer_seq2seq\",\n",
    "    params={\n",
    "        'hidden_size': 256*4,\n",
    "        'hidden_out_size': 256,\n",
    "        'learning_rate': 2e-4,\n",
    "        'attention_dropout': 0.1,\n",
    "        'nlayers': 4,\n",
    "        'nhead': 8\n",
    "    },\n",
    "    user_attrs = {\n",
    "        'batch_size': 16,\n",
    "        'grad_clip': 40,\n",
    "        'max_nb_epochs': 200,\n",
    "        'num_workers': 3,\n",
    "        'num_extra_target': 24*4,\n",
    "        'vis_i': '670',\n",
    "        'num_context': 24*4,\n",
    "        'input_size': 18,\n",
    "        'input_size_decoder': 17,\n",
    "        'context_in_target': False,\n",
    "        'output_size': 1,\n",
    "        'min_std': 0.05\n",
    "    },\n",
    "    PL_MODEL_CLS=TransformerSeq2Seq_PL\n",
    ")"
   ]
  },
  {
   "cell_type": "code",
   "execution_count": null,
   "metadata": {
    "ExecuteTime": {
     "end_time": "2020-03-15T06:49:43.249789Z",
     "start_time": "2020-03-15T06:49:43.182662Z"
    }
   },
   "outputs": [],
   "source": []
  },
  {
   "cell_type": "code",
   "execution_count": null,
   "metadata": {
    "ExecuteTime": {
     "end_time": "2020-03-15T06:48:05.373207Z",
     "start_time": "2020-03-15T06:47:52.000Z"
    }
   },
   "outputs": [],
   "source": [
    "loader = model.val_dataloader()\n",
    "dset_test = loader.dataset\n",
    "label_names = dset_test.label_names\n",
    "plot_from_loader(loader, model, i=670)"
   ]
  },
  {
   "cell_type": "code",
   "execution_count": null,
   "metadata": {
    "ExecuteTime": {
     "end_time": "2020-03-15T06:48:05.374766Z",
     "start_time": "2020-03-15T06:47:52.000Z"
    },
    "scrolled": true
   },
   "outputs": [],
   "source": [
    "# Look at input data, low temp, and holidays imply \n",
    "rows_x, rows_y = dset_test.get_rows(670)\n",
    "rows_x[['apparentTemperature', 'holiday', 'dayofweek']].plot()"
   ]
  },
  {
   "cell_type": "markdown",
   "metadata": {
    "ExecuteTime": {
     "end_time": "2020-01-27T09:03:28.792465Z",
     "start_time": "2020-01-27T09:03:28.346446Z"
    }
   },
   "source": [
    "# Hyperparam opt"
   ]
  },
  {
   "cell_type": "code",
   "execution_count": null,
   "metadata": {},
   "outputs": [],
   "source": []
  },
  {
   "cell_type": "code",
   "execution_count": null,
   "metadata": {
    "ExecuteTime": {
     "end_time": "2020-03-15T06:48:05.376505Z",
     "start_time": "2020-03-15T06:47:52.100Z"
    }
   },
   "outputs": [],
   "source": [
    "import argparse \n",
    "\n",
    "parser = argparse.ArgumentParser(description='PyTorch Lightning example.')\n",
    "parser.add_argument('--pruning', '-p', action='store_true',\n",
    "                    help='Activate the pruning feature. `MedianPruner` stops unpromising '\n",
    "                         'trials at the early stages of training.')\n",
    "args = parser.parse_args(['-p'])\n",
    "\n",
    "pruner = optuna.pruners.MedianPruner() if args.pruning else optuna.pruners.NopPruner()\n",
    "\n",
    "study = optuna.create_study(direction='minimize', pruner=pruner, storage=f'sqlite:///optuna_result/{name}.db', study_name='no-name-b60e37fc-4ab6-4793-8a0a-c87a1b40c5c0', load_if_exists=True)\n",
    "\n",
    "# shutil.rmtree(MODEL_DIR)"
   ]
  },
  {
   "cell_type": "code",
   "execution_count": null,
   "metadata": {
    "ExecuteTime": {
     "end_time": "2020-01-27T23:38:16.813496Z",
     "start_time": "2020-01-27T23:38:16.766674Z"
    }
   },
   "outputs": [],
   "source": []
  },
  {
   "cell_type": "code",
   "execution_count": null,
   "metadata": {
    "ExecuteTime": {
     "end_time": "2020-03-15T06:48:05.378427Z",
     "start_time": "2020-03-15T06:47:52.100Z"
    }
   },
   "outputs": [],
   "source": [
    "study.optimize(objective, n_trials=200, timeout=6000)\n",
    "\n",
    "print('Number of finished trials: {}'.format(len(study.trials)))\n",
    "\n",
    "print('Best trial:')\n",
    "trial = study.best_trial\n",
    "\n",
    "print('  Value: {}'.format(trial.value))\n",
    "\n",
    "print('  Params: ')\n",
    "for key, value in trial.params.items():\n",
    "    print('    {}: {}'.format(key, value))"
   ]
  },
  {
   "cell_type": "code",
   "execution_count": null,
   "metadata": {
    "ExecuteTime": {
     "end_time": "2020-03-15T06:48:05.380349Z",
     "start_time": "2020-03-15T06:47:52.100Z"
    }
   },
   "outputs": [],
   "source": [
    "study.optimize(objective, n_trials=200, timeout=6000)"
   ]
  },
  {
   "cell_type": "code",
   "execution_count": null,
   "metadata": {
    "ExecuteTime": {
     "end_time": "2020-03-15T06:48:05.382222Z",
     "start_time": "2020-03-15T06:47:52.100Z"
    }
   },
   "outputs": [],
   "source": [
    "df = study.trials_dataframe(attrs=('number', 'value', 'params', 'state'))\n",
    "df.sort_values('value')"
   ]
  },
  {
   "cell_type": "markdown",
   "metadata": {},
   "source": [
    "# Scratch"
   ]
  },
  {
   "cell_type": "code",
   "execution_count": null,
   "metadata": {
    "ExecuteTime": {
     "end_time": "2020-03-15T06:48:05.383681Z",
     "start_time": "2020-03-15T06:47:52.100Z"
    }
   },
   "outputs": [],
   "source": [
    "model, trainer = main(trial, train=False)"
   ]
  },
  {
   "cell_type": "code",
   "execution_count": null,
   "metadata": {
    "ExecuteTime": {
     "end_time": "2020-03-15T06:48:05.384980Z",
     "start_time": "2020-03-15T06:47:52.100Z"
    }
   },
   "outputs": [],
   "source": [
    "loader = model.val_dataloader()[0]\n",
    "dset_test = loader.dataset\n",
    "label_names = dset_test.label_names"
   ]
  },
  {
   "cell_type": "code",
   "execution_count": null,
   "metadata": {
    "ExecuteTime": {
     "end_time": "2020-03-15T06:48:05.386666Z",
     "start_time": "2020-03-15T06:47:52.100Z"
    }
   },
   "outputs": [],
   "source": [
    "x_rows, y_rows = dset_test.iloc(10)\n",
    "x_rows.loc[x_rows.index[model.hparams.window_length:], dset_test.label_names] = 0.\n",
    "x_rows"
   ]
  },
  {
   "cell_type": "code",
   "execution_count": null,
   "metadata": {
    "ExecuteTime": {
     "end_time": "2020-03-15T06:48:05.387974Z",
     "start_time": "2020-03-15T06:47:52.100Z"
    }
   },
   "outputs": [],
   "source": [
    "x_rows.loc[x_rows.index[model.hparams.window_length:]]"
   ]
  },
  {
   "cell_type": "code",
   "execution_count": null,
   "metadata": {
    "ExecuteTime": {
     "end_time": "2020-03-15T06:48:05.390296Z",
     "start_time": "2020-03-15T06:47:52.100Z"
    }
   },
   "outputs": [],
   "source": [
    "self=dset_test\n",
    "idx=10\n",
    "k = idx + self.hparams.window_length + self.hparams.target_length\n",
    "j = k - self.hparams.target_length\n",
    "i = j - self.hparams.window_length\n",
    "idx, k, j, i, self.hparams.window_length + self.hparams.target_length"
   ]
  },
  {
   "cell_type": "code",
   "execution_count": null,
   "metadata": {
    "ExecuteTime": {
     "end_time": "2020-03-15T06:48:05.392029Z",
     "start_time": "2020-03-15T06:47:52.100Z"
    }
   },
   "outputs": [],
   "source": [
    "j-i"
   ]
  },
  {
   "cell_type": "code",
   "execution_count": null,
   "metadata": {
    "ExecuteTime": {
     "end_time": "2020-03-15T06:48:05.394072Z",
     "start_time": "2020-03-15T06:47:52.100Z"
    }
   },
   "outputs": [],
   "source": [
    "self.hparams.window_length + self.hparams.target_length"
   ]
  },
  {
   "cell_type": "code",
   "execution_count": null,
   "metadata": {},
   "outputs": [],
   "source": []
  },
  {
   "cell_type": "code",
   "execution_count": null,
   "metadata": {},
   "outputs": [],
   "source": []
  },
  {
   "cell_type": "code",
   "execution_count": null,
   "metadata": {},
   "outputs": [],
   "source": []
  },
  {
   "cell_type": "code",
   "execution_count": null,
   "metadata": {},
   "outputs": [],
   "source": []
  }
 ],
 "metadata": {
  "file_extension": ".py",
  "kernelspec": {
   "display_name": "jup3.7.3",
   "language": "python",
   "name": "jup3.7.3"
  },
  "language_info": {
   "codemirror_mode": {
    "name": "ipython",
    "version": 3
   },
   "file_extension": ".py",
   "mimetype": "text/x-python",
   "name": "python",
   "nbconvert_exporter": "python",
   "pygments_lexer": "ipython3",
   "version": "3.7.3"
  },
  "mimetype": "text/x-python",
  "name": "python",
  "npconvert_exporter": "python",
  "pygments_lexer": "ipython3",
  "toc": {
   "base_numbering": 1,
   "nav_menu": {},
   "number_sections": true,
   "sideBar": true,
   "skip_h1_title": false,
   "title_cell": "Table of Contents",
   "title_sidebar": "Contents",
   "toc_cell": false,
   "toc_position": {
    "height": "calc(100% - 180px)",
    "left": "10px",
    "top": "150px",
    "width": "384px"
   },
   "toc_section_display": true,
   "toc_window_display": true
  },
  "version": 3
 },
 "nbformat": 4,
 "nbformat_minor": 2
}
