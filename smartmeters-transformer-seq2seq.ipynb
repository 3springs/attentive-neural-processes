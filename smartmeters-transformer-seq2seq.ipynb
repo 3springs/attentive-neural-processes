{
 "cells": [
  {
   "cell_type": "markdown",
   "metadata": {},
   "source": [
    "# This notebook uses pytorch lightning & optuna & an LSTM\n",
    "\n",
    "This notebook trains an LSTM on timeseries data from smartmeters.\n",
    "\n",
    "It uses pytorch lighting for the training loop. And Optuna for the hyperparameter optimisation.\n",
    "\n",
    "It also pushes results to the tensorboard hyperparameter dashboard for examination.\n",
    "\n",
    "- https://github.com/optuna/optuna/blob/master/examples/pytorch_lightning_simple.py"
   ]
  },
  {
   "cell_type": "code",
   "execution_count": 1,
   "metadata": {
    "ExecuteTime": {
     "end_time": "2020-03-14T07:09:05.502663Z",
     "start_time": "2020-03-14T07:09:05.101070Z"
    }
   },
   "outputs": [],
   "source": [
    "%matplotlib inline\n",
    "%reload_ext autoreload\n",
    "%autoreload 2"
   ]
  },
  {
   "cell_type": "code",
   "execution_count": 2,
   "metadata": {
    "ExecuteTime": {
     "end_time": "2020-03-14T07:09:07.495992Z",
     "start_time": "2020-03-14T07:09:05.505650Z"
    }
   },
   "outputs": [],
   "source": [
    "import sys, re, os, itertools, functools, collections\n",
    "import pandas as pd\n",
    "import numpy as np\n",
    "import matplotlib.pyplot as plt\n",
    "import collections\n",
    "from pathlib import Path\n",
    "from tqdm.auto import tqdm\n",
    "\n",
    "import pytorch_lightning as pl\n",
    "import optuna\n",
    "from optuna.integration import PyTorchLightningPruningCallback\n",
    "\n",
    "\n",
    "import math\n"
   ]
  },
  {
   "cell_type": "code",
   "execution_count": 3,
   "metadata": {
    "ExecuteTime": {
     "end_time": "2020-03-14T07:09:07.553714Z",
     "start_time": "2020-03-14T07:09:07.500345Z"
    }
   },
   "outputs": [],
   "source": [
    "import torch\n",
    "from torch import nn\n",
    "import torch.nn.functional as F"
   ]
  },
  {
   "cell_type": "code",
   "execution_count": 4,
   "metadata": {
    "ExecuteTime": {
     "end_time": "2020-03-14T07:09:07.680674Z",
     "start_time": "2020-03-14T07:09:07.557348Z"
    }
   },
   "outputs": [
    {
     "name": "stderr",
     "output_type": "stream",
     "text": [
      "/home/wassname/.pyenv/versions/jup3.7.3/lib/python3.7/site-packages/pytorch_lightning/core/decorators.py:13: UserWarning:\n",
      "\n",
      "data_loader decorator deprecated in 0.7.0. Will remove 0.9.0\n",
      "\n"
     ]
    }
   ],
   "source": [
    "from src.models.model import LatentModel\n",
    "from src.data.smart_meter import collate_fns, SmartMeterDataSet, get_smartmeter_df\n",
    "from src.plot import plot_from_loader\n",
    "from src.models.transformer_seq2seq import TransformerSeq2Seq_PL\n",
    "from src.dict_logger import DictLogger\n",
    "from src.utils import  PyTorchLightningPruningCallback"
   ]
  },
  {
   "cell_type": "code",
   "execution_count": 5,
   "metadata": {
    "ExecuteTime": {
     "end_time": "2020-03-14T07:09:07.734741Z",
     "start_time": "2020-03-14T07:09:07.682916Z"
    }
   },
   "outputs": [],
   "source": [
    "import logging\n",
    "logging.basicConfig(stream=sys.stdout, level=logging.INFO)\n",
    "logger = logging.getLogger(\"smartmeters.ipynb\")"
   ]
  },
  {
   "cell_type": "code",
   "execution_count": 6,
   "metadata": {
    "ExecuteTime": {
     "end_time": "2020-03-14T07:09:07.788003Z",
     "start_time": "2020-03-14T07:09:07.737690Z"
    }
   },
   "outputs": [],
   "source": [
    "# Params\n",
    "device='cuda'\n",
    "use_logy=False"
   ]
  },
  {
   "cell_type": "markdown",
   "metadata": {},
   "source": [
    "# Load kaggle smart meter data"
   ]
  },
  {
   "cell_type": "code",
   "execution_count": 7,
   "metadata": {
    "ExecuteTime": {
     "end_time": "2020-03-14T07:09:16.678003Z",
     "start_time": "2020-03-14T07:09:07.790696Z"
    }
   },
   "outputs": [],
   "source": [
    "df_train, df_test = get_smartmeter_df()"
   ]
  },
  {
   "cell_type": "code",
   "execution_count": 8,
   "metadata": {
    "ExecuteTime": {
     "end_time": "2020-03-14T07:09:17.405503Z",
     "start_time": "2020-03-14T07:09:16.683653Z"
    }
   },
   "outputs": [
    {
     "data": {
      "text/plain": [
       "<matplotlib.legend.Legend at 0x7f26bed4bac8>"
      ]
     },
     "execution_count": 8,
     "metadata": {},
     "output_type": "execute_result"
    },
    {
     "data": {
      "image/png": "[encoded data removed]",
      "text/plain": [
       "<Figure size 432x288 with 1 Axes>"
      ]
     },
     "metadata": {
      "needs_background": "light"
     },
     "output_type": "display_data"
    }
   ],
   "source": [
    "# Show split\n",
    "df_train['energy(kWh/hh)'].plot(label='train')\n",
    "df_test['energy(kWh/hh)'].plot(label='test')\n",
    "plt.title('energy(kWh/hh)')\n",
    "plt.legend()"
   ]
  },
  {
   "cell_type": "code",
   "execution_count": null,
   "metadata": {
    "ExecuteTime": {
     "end_time": "2020-02-16T00:24:15.905017Z",
     "start_time": "2020-02-16T00:24:15.747859Z"
    }
   },
   "outputs": [],
   "source": []
  },
  {
   "cell_type": "markdown",
   "metadata": {},
   "source": [
    "# Train helpers"
   ]
  },
  {
   "cell_type": "code",
   "execution_count": null,
   "metadata": {
    "ExecuteTime": {
     "end_time": "2020-03-14T07:00:55.672759Z",
     "start_time": "2020-03-14T07:00:55.564212Z"
    }
   },
   "outputs": [],
   "source": []
  },
  {
   "cell_type": "code",
   "execution_count": null,
   "metadata": {
    "ExecuteTime": {
     "end_time": "2020-03-14T07:03:19.316016Z",
     "start_time": "2020-03-14T07:03:19.236454Z"
    }
   },
   "outputs": [],
   "source": []
  },
  {
   "cell_type": "code",
   "execution_count": 9,
   "metadata": {
    "ExecuteTime": {
     "end_time": "2020-03-14T07:09:17.486980Z",
     "start_time": "2020-03-14T07:09:17.409793Z"
    }
   },
   "outputs": [],
   "source": [
    "def main(trial, train=True):\n",
    "    # PyTorch Lightning will try to restore model parameters from previous trials if checkpoint\n",
    "    # filenames match. Therefore, the filenames for each trial must be made unique.\n",
    "    \n",
    "    checkpoint_callback = pl.callbacks.ModelCheckpoint(\n",
    "        os.path.join(MODEL_DIR, name, 'version_{}'.format(trial.number), \"chk\"), monitor='val_loss', mode='min')\n",
    "\n",
    "    # The default logger in PyTorch Lightning writes to event files to be consumed by\n",
    "    # TensorBoard. We create a simple logger instead that holds the log in memory so that the\n",
    "    # final accuracy can be obtained after optimization. When using the default logger, the\n",
    "    # final accuracy could be stored in an attribute of the `Trainer` instead.\n",
    "    logger = DictLogger(MODEL_DIR, name=name, version=trial.number)\n",
    "#     print(\"log_dir\", logger.experiment.log_dir)\n",
    "    hparams = dict(**trial.params, **trial.user_attrs)\n",
    "\n",
    "    trainer = pl.Trainer(\n",
    "        logger=logger,\n",
    "        val_percent_check=PERCENT_TEST_EXAMPLES,\n",
    "        checkpoint_callback=checkpoint_callback,\n",
    "        max_epochs=hparams['max_nb_epochs'],\n",
    "        gpus=-1 if torch.cuda.is_available() else None,\n",
    "        early_stop_callback=PyTorchLightningPruningCallback(trial, monitor='val_loss')\n",
    "    )\n",
    "    \n",
    "    model = TransformerSeq2Seq_PL(hparams)\n",
    "    if train:\n",
    "        trainer.fit(model)\n",
    "    return model, trainer"
   ]
  },
  {
   "cell_type": "code",
   "execution_count": 10,
   "metadata": {
    "ExecuteTime": {
     "end_time": "2020-03-14T07:09:17.552317Z",
     "start_time": "2020-03-14T07:09:17.489796Z"
    }
   },
   "outputs": [],
   "source": [
    "def add_suggest(trial):\n",
    "    trial.suggest_loguniform(\"learning_rate\", 1e-7, 1e-2)\n",
    "    trial.suggest_uniform(\"attention_dropout\", 0, 0.75)\n",
    "    trial.suggest_categorical(\"hidden_size\", [1, 2, 4, 8, 16, 32, 64, 128, 256, 512, 1024, 2048])    \n",
    "    trial.suggest_categorical(\"hidden_out_size\", [1, 2, 4, 8, 16, 32, 64, 128, 256, 512, 1024, 2048])    \n",
    "    trial.suggest_categorical(\"nlayers\", [1, 2, 4, 8])    \n",
    "    trial.suggest_categorical(\"nhead\", [1, 2, 8, 16])\n",
    "    \n",
    "\n",
    "    trial._user_attrs = {\n",
    "            'batch_size': 16,\n",
    "            'grad_clip': 40,\n",
    "            'max_nb_epochs': 200,\n",
    "            'num_workers': 4,\n",
    "            'num_extra_target': 24*4,\n",
    "            'vis_i': '670',\n",
    "            'num_context': 24*4,\n",
    "            'input_size': 18,\n",
    "            'input_size_decoder': 17,\n",
    "            'context_in_target': True,\n",
    "            'output_size': 1\n",
    "    }\n",
    "    \n",
    "    # For manual experiment we will start at -1 and deincr by 1\n",
    "    versions = [int(s.stem.split('_')[-1]) for s in (MODEL_DIR / name).glob('version_*')] + [-1]\n",
    "    trial.number = min(versions)-1\n",
    "    print('trial.number', trial.number)\n",
    "    return trial"
   ]
  },
  {
   "cell_type": "code",
   "execution_count": 11,
   "metadata": {
    "ExecuteTime": {
     "end_time": "2020-03-14T07:09:17.608044Z",
     "start_time": "2020-03-14T07:09:17.554643Z"
    }
   },
   "outputs": [],
   "source": [
    "\n",
    "def objective(trial):\n",
    "    # see https://github.com/optuna/optuna/blob/cf6f02d/examples/pytorch_lightning_simple.py\n",
    "    trial = add_suggest(trial)\n",
    "\n",
    "    \n",
    "    print('trial', trial.number, 'params', trial.params)\n",
    "    \n",
    "    model, trainer = main(trial)\n",
    "    \n",
    "    # also report to tensorboard & print\n",
    "    print('logger.metrics', model.logger.metrics[-1:])\n",
    "    model.logger.experiment.add_hparams(trial.params, logger.metrics[-1])\n",
    "    model.logger.save()\n",
    "    \n",
    "    return model.logger.metrics[-1]['val_loss']\n"
   ]
  },
  {
   "cell_type": "markdown",
   "metadata": {},
   "source": [
    "# Train"
   ]
  },
  {
   "cell_type": "code",
   "execution_count": 12,
   "metadata": {
    "ExecuteTime": {
     "end_time": "2020-03-14T07:09:17.660071Z",
     "start_time": "2020-03-14T07:09:17.610356Z"
    }
   },
   "outputs": [],
   "source": [
    "PERCENT_TEST_EXAMPLES = 0.3\n",
    "EPOCHS = 2\n",
    "DIR = Path(os.getcwd())\n",
    "name = \"transformer_seq2seq\"\n",
    "MODEL_DIR = DIR/ 'lightning_logs'\n",
    "\n",
    "MODEL_DIR.mkdir(parents=True, exist_ok=True)"
   ]
  },
  {
   "cell_type": "code",
   "execution_count": 13,
   "metadata": {
    "ExecuteTime": {
     "end_time": "2020-03-14T07:09:17.729742Z",
     "start_time": "2020-03-14T07:09:17.662794Z"
    }
   },
   "outputs": [
    {
     "name": "stdout",
     "output_type": "stream",
     "text": [
      "now run `tensorboard --logdir /media/wassname/Storage5/projects2/3ST/attentive-neural-processes/lightning_logs\n"
     ]
    }
   ],
   "source": [
    "print(f\"now run `tensorboard --logdir {MODEL_DIR}\")"
   ]
  },
  {
   "cell_type": "code",
   "execution_count": null,
   "metadata": {
    "ExecuteTime": {
     "end_time": "2020-03-14T05:06:20.950545Z",
     "start_time": "2020-03-14T05:06:20.876126Z"
    }
   },
   "outputs": [],
   "source": []
  },
  {
   "cell_type": "markdown",
   "metadata": {
    "ExecuteTime": {
     "end_time": "2020-02-16T01:47:59.598921Z",
     "start_time": "2020-02-16T01:47:02.100Z"
    }
   },
   "source": [
    "Note that the LSTM has access to the y values for the first half of the plot (the context) to match the NP setup."
   ]
  },
  {
   "cell_type": "code",
   "execution_count": null,
   "metadata": {
    "ExecuteTime": {
     "start_time": "2020-03-14T07:09:05.200Z"
    },
    "scrolled": true
   },
   "outputs": [
    {
     "name": "stdout",
     "output_type": "stream",
     "text": [
      "trial.number -17\n",
      "INFO:root:GPU available: True, used: True\n",
      "INFO:root:VISIBLE GPUS: 0\n",
      "INFO:root:\n",
      "   | Name                                           | Type                    | Params\n",
      "---------------------------------------------------------------------------------------\n",
      "0  | model                                          | TransformerSeq2SeqNet   | 1 M   \n",
      "1  | model.enc_emb                                  | Linear                  | 4 K   \n",
      "2  | model.encoder                                  | TransformerEncoder      | 660 K \n",
      "3  | model.encoder.layers                           | ModuleList              | 660 K \n",
      "4  | model.encoder.layers.0                         | TransformerEncoderLayer | 330 K \n",
      "5  | model.encoder.layers.0.self_attn               | MultiheadAttention      | 263 K \n",
      "6  | model.encoder.layers.0.self_attn.out_proj      | Linear                  | 65 K  \n",
      "7  | model.encoder.layers.0.linear1                 | Linear                  | 32 K  \n",
      "8  | model.encoder.layers.0.dropout                 | Dropout                 | 0     \n",
      "9  | model.encoder.layers.0.linear2                 | Linear                  | 33 K  \n",
      "10 | model.encoder.layers.0.norm1                   | LayerNorm               | 512   \n",
      "11 | model.encoder.layers.0.norm2                   | LayerNorm               | 512   \n",
      "12 | model.encoder.layers.0.dropout1                | Dropout                 | 0     \n",
      "13 | model.encoder.layers.0.dropout2                | Dropout                 | 0     \n",
      "14 | model.encoder.layers.1                         | TransformerEncoderLayer | 330 K \n",
      "15 | model.encoder.layers.1.self_attn               | MultiheadAttention      | 263 K \n",
      "16 | model.encoder.layers.1.self_attn.out_proj      | Linear                  | 65 K  \n",
      "17 | model.encoder.layers.1.linear1                 | Linear                  | 32 K  \n",
      "18 | model.encoder.layers.1.dropout                 | Dropout                 | 0     \n",
      "19 | model.encoder.layers.1.linear2                 | Linear                  | 33 K  \n",
      "20 | model.encoder.layers.1.norm1                   | LayerNorm               | 512   \n",
      "21 | model.encoder.layers.1.norm2                   | LayerNorm               | 512   \n",
      "22 | model.encoder.layers.1.dropout1                | Dropout                 | 0     \n",
      "23 | model.encoder.layers.1.dropout2                | Dropout                 | 0     \n",
      "24 | model.dec_emb                                  | Linear                  | 4 K   \n",
      "25 | model.decoder                                  | TransformerDecoder      | 1 M   \n",
      "26 | model.decoder.layers                           | ModuleList              | 1 M   \n",
      "27 | model.decoder.layers.0                         | TransformerDecoderLayer | 593 K \n",
      "28 | model.decoder.layers.0.self_attn               | MultiheadAttention      | 263 K \n",
      "29 | model.decoder.layers.0.self_attn.out_proj      | Linear                  | 65 K  \n",
      "30 | model.decoder.layers.0.multihead_attn          | MultiheadAttention      | 263 K \n",
      "31 | model.decoder.layers.0.multihead_attn.out_proj | Linear                  | 65 K  \n",
      "32 | model.decoder.layers.0.linear1                 | Linear                  | 32 K  \n",
      "33 | model.decoder.layers.0.dropout                 | Dropout                 | 0     \n",
      "34 | model.decoder.layers.0.linear2                 | Linear                  | 33 K  \n",
      "35 | model.decoder.layers.0.norm1                   | LayerNorm               | 512   \n",
      "36 | model.decoder.layers.0.norm2                   | LayerNorm               | 512   \n",
      "37 | model.decoder.layers.0.norm3                   | LayerNorm               | 512   \n",
      "38 | model.decoder.layers.0.dropout1                | Dropout                 | 0     \n",
      "39 | model.decoder.layers.0.dropout2                | Dropout                 | 0     \n",
      "40 | model.decoder.layers.0.dropout3                | Dropout                 | 0     \n",
      "41 | model.decoder.layers.1                         | TransformerDecoderLayer | 593 K \n",
      "42 | model.decoder.layers.1.self_attn               | MultiheadAttention      | 263 K \n",
      "43 | model.decoder.layers.1.self_attn.out_proj      | Linear                  | 65 K  \n",
      "44 | model.decoder.layers.1.multihead_attn          | MultiheadAttention      | 263 K \n",
      "45 | model.decoder.layers.1.multihead_attn.out_proj | Linear                  | 65 K  \n",
      "46 | model.decoder.layers.1.linear1                 | Linear                  | 32 K  \n",
      "47 | model.decoder.layers.1.dropout                 | Dropout                 | 0     \n",
      "48 | model.decoder.layers.1.linear2                 | Linear                  | 33 K  \n",
      "49 | model.decoder.layers.1.norm1                   | LayerNorm               | 512   \n",
      "50 | model.decoder.layers.1.norm2                   | LayerNorm               | 512   \n",
      "51 | model.decoder.layers.1.norm3                   | LayerNorm               | 512   \n",
      "52 | model.decoder.layers.1.dropout1                | Dropout                 | 0     \n",
      "53 | model.decoder.layers.1.dropout2                | Dropout                 | 0     \n",
      "54 | model.decoder.layers.1.dropout3                | Dropout                 | 0     \n",
      "55 | model.mean                                     | Linear                  | 257   \n",
      "56 | model.std                                      | Linear                  | 257   \n"
     ]
    },
    {
     "data": {
      "application/vnd.jupyter.widget-view+json": {
       "model_id": "",
       "version_major": 2,
       "version_minor": 0
      },
      "text/plain": [
       "HBox(children=(FloatProgress(value=0.0, description='Validation sanity check', layout=Layout(flex='2'), max=5.…"
      ]
     },
     "metadata": {},
     "output_type": "display_data"
    },
    {
     "data": {
      "image/png": "[encoded data removed]",
      "text/plain": [
       "<Figure size 432x288 with 1 Axes>"
      ]
     },
     "metadata": {
      "needs_background": "light"
     },
     "output_type": "display_data"
    },
    {
     "name": "stdout",
     "output_type": "stream",
     "text": [
      "step 0, {'val_loss': '1.146193265914917', 'val/loss_mse': '0.1482062190771103', 'val/loss_p': '1.146193265914917', 'val/sigma': '1.196487307548523'}\n",
      "\r"
     ]
    },
    {
     "data": {
      "application/vnd.jupyter.widget-view+json": {
       "model_id": "8d6007c3b6fc4fc8825cde7ecc9fed66",
       "version_major": 2,
       "version_minor": 0
      },
      "text/plain": [
       "HBox(children=(FloatProgress(value=1.0, bar_style='info', layout=Layout(flex='2'), max=1.0), HTML(value='')), …"
      ]
     },
     "metadata": {},
     "output_type": "display_data"
    },
    {
     "data": {
      "application/vnd.jupyter.widget-view+json": {
       "model_id": "",
       "version_major": 2,
       "version_minor": 0
      },
      "text/plain": [
       "HBox(children=(FloatProgress(value=0.0, description='Validating', layout=Layout(flex='2'), max=70.0, style=Pro…"
      ]
     },
     "metadata": {},
     "output_type": "display_data"
    },
    {
     "data": {
      "image/png": "[encoded data removed]",
      "text/plain": [
       "<Figure size 432x288 with 1 Axes>"
      ]
     },
     "metadata": {
      "needs_background": "light"
     },
     "output_type": "display_data"
    },
    {
     "name": "stdout",
     "output_type": "stream",
     "text": [
      "step 2194, {'val_loss': '-0.309064656496048', 'val/loss_mse': '0.023657485842704773', 'val/loss_p': '-0.309064656496048', 'val/sigma': '0.23991245031356812'}\n"
     ]
    },
    {
     "data": {
      "application/vnd.jupyter.widget-view+json": {
       "model_id": "",
       "version_major": 2,
       "version_minor": 0
      },
      "text/plain": [
       "HBox(children=(FloatProgress(value=0.0, description='Validating', layout=Layout(flex='2'), max=70.0, style=Pro…"
      ]
     },
     "metadata": {},
     "output_type": "display_data"
    },
    {
     "data": {
      "image/png": "[encoded data removed]",
      "text/plain": [
       "<Figure size 432x288 with 1 Axes>"
      ]
     },
     "metadata": {
      "needs_background": "light"
     },
     "output_type": "display_data"
    },
    {
     "name": "stdout",
     "output_type": "stream",
     "text": [
      "step 4389, {'val_loss': '-0.42497867345809937', 'val/loss_mse': '0.020270122215151787', 'val/loss_p': '-0.42497867345809937', 'val/sigma': '0.20783782005310059'}\n"
     ]
    }
   ],
   "source": [
    "trial = optuna.trial.FixedTrial(\n",
    "    params={\n",
    "        'hidden_size': 128,\n",
    "        'hidden_out_size': 256,\n",
    "        'learning_rate': 2e-5,\n",
    "        'attention_dropout': 0.0,\n",
    "        'nlayers': 2,\n",
    "        'nhead': 8\n",
    "    })\n",
    "trial = add_suggest(trial)\n",
    "trial._user_attrs = {\n",
    "        'batch_size': 16,\n",
    "        'grad_clip': 40,\n",
    "        'max_nb_epochs': 200,\n",
    "        'num_workers': 4,\n",
    "        'num_extra_target': 24*4,\n",
    "        'vis_i': '670',\n",
    "        'num_context': 24*4,\n",
    "        'input_size': 18,\n",
    "        'input_size_decoder': 17,\n",
    "        'context_in_target': False,\n",
    "        'output_size': 1\n",
    "}\n",
    "model, trainer = main(trial, train=False)\n",
    "trainer.fit(model)"
   ]
  },
  {
   "cell_type": "code",
   "execution_count": null,
   "metadata": {
    "ExecuteTime": {
     "end_time": "2020-03-14T07:07:13.794149Z",
     "start_time": "2020-03-14T07:07:11.052417Z"
    }
   },
   "outputs": [],
   "source": []
  },
  {
   "cell_type": "code",
   "execution_count": null,
   "metadata": {},
   "outputs": [],
   "source": []
  },
  {
   "cell_type": "code",
   "execution_count": null,
   "metadata": {
    "ExecuteTime": {
     "start_time": "2020-03-14T07:09:05.200Z"
    }
   },
   "outputs": [],
   "source": [
    "# test\n",
    "trainer.test(model)"
   ]
  },
  {
   "cell_type": "code",
   "execution_count": null,
   "metadata": {
    "ExecuteTime": {
     "start_time": "2020-03-14T07:09:05.200Z"
    }
   },
   "outputs": [],
   "source": [
    "loader = model.val_dataloader()\n",
    "dset_test = loader.dataset\n",
    "label_names = dset_test.label_names\n",
    "plot_from_loader(loader, model, i=670)"
   ]
  },
  {
   "cell_type": "code",
   "execution_count": null,
   "metadata": {
    "ExecuteTime": {
     "start_time": "2020-03-14T07:09:05.200Z"
    }
   },
   "outputs": [],
   "source": [
    "# Look at input data, low temp, and holidays imply \n",
    "rows_x, rows_y = dset_test.get_rows(670)\n",
    "rows_x[['apparentTemperature', 'holiday', 'dayofweek']].plot()"
   ]
  },
  {
   "cell_type": "markdown",
   "metadata": {
    "ExecuteTime": {
     "end_time": "2020-01-27T09:03:28.792465Z",
     "start_time": "2020-01-27T09:03:28.346446Z"
    }
   },
   "source": [
    "# Hyperparam opt"
   ]
  },
  {
   "cell_type": "code",
   "execution_count": null,
   "metadata": {},
   "outputs": [],
   "source": []
  },
  {
   "cell_type": "code",
   "execution_count": null,
   "metadata": {
    "ExecuteTime": {
     "start_time": "2020-03-14T07:09:05.200Z"
    }
   },
   "outputs": [],
   "source": [
    "import argparse \n",
    "\n",
    "parser = argparse.ArgumentParser(description='PyTorch Lightning example.')\n",
    "parser.add_argument('--pruning', '-p', action='store_true',\n",
    "                    help='Activate the pruning feature. `MedianPruner` stops unpromising '\n",
    "                         'trials at the early stages of training.')\n",
    "args = parser.parse_args(['-p'])\n",
    "\n",
    "pruner = optuna.pruners.MedianPruner() if args.pruning else optuna.pruners.NopPruner()\n",
    "\n",
    "study = optuna.create_study(direction='minimize', pruner=pruner, storage=f'sqlite:///optuna_result/{name}.db', study_name='no-name-b60e37fc-4ab6-4793-8a0a-c87a1b40c5c0', load_if_exists=True)\n",
    "\n",
    "# shutil.rmtree(MODEL_DIR)"
   ]
  },
  {
   "cell_type": "code",
   "execution_count": null,
   "metadata": {
    "ExecuteTime": {
     "end_time": "2020-01-27T23:38:16.813496Z",
     "start_time": "2020-01-27T23:38:16.766674Z"
    }
   },
   "outputs": [],
   "source": []
  },
  {
   "cell_type": "code",
   "execution_count": null,
   "metadata": {
    "ExecuteTime": {
     "start_time": "2020-03-14T07:09:05.200Z"
    }
   },
   "outputs": [],
   "source": [
    "study.optimize(objective, n_trials=200, timeout=6000)\n",
    "\n",
    "print('Number of finished trials: {}'.format(len(study.trials)))\n",
    "\n",
    "print('Best trial:')\n",
    "trial = study.best_trial\n",
    "\n",
    "print('  Value: {}'.format(trial.value))\n",
    "\n",
    "print('  Params: ')\n",
    "for key, value in trial.params.items():\n",
    "    print('    {}: {}'.format(key, value))"
   ]
  },
  {
   "cell_type": "code",
   "execution_count": null,
   "metadata": {
    "ExecuteTime": {
     "start_time": "2020-03-14T07:09:05.200Z"
    }
   },
   "outputs": [],
   "source": [
    "study.optimize(objective, n_trials=200, timeout=6000)"
   ]
  },
  {
   "cell_type": "code",
   "execution_count": null,
   "metadata": {
    "ExecuteTime": {
     "start_time": "2020-03-14T07:09:05.300Z"
    }
   },
   "outputs": [],
   "source": [
    "df = study.trials_dataframe(attrs=('number', 'value', 'params', 'state'))\n",
    "df.sort_values('value')"
   ]
  },
  {
   "cell_type": "markdown",
   "metadata": {},
   "source": [
    "# Scratch"
   ]
  },
  {
   "cell_type": "code",
   "execution_count": null,
   "metadata": {
    "ExecuteTime": {
     "start_time": "2020-03-14T07:09:05.300Z"
    }
   },
   "outputs": [],
   "source": [
    "model, trainer = main(trial, train=False)"
   ]
  },
  {
   "cell_type": "code",
   "execution_count": null,
   "metadata": {
    "ExecuteTime": {
     "start_time": "2020-03-14T07:09:05.300Z"
    }
   },
   "outputs": [],
   "source": [
    "loader = model.val_dataloader()[0]\n",
    "dset_test = loader.dataset\n",
    "label_names = dset_test.label_names"
   ]
  },
  {
   "cell_type": "code",
   "execution_count": null,
   "metadata": {
    "ExecuteTime": {
     "start_time": "2020-03-14T07:09:05.300Z"
    }
   },
   "outputs": [],
   "source": [
    "x_rows, y_rows = dset_test.iloc(10)\n",
    "x_rows.loc[x_rows.index[model.hparams.window_length:], dset_test.label_names] = 0.\n",
    "x_rows"
   ]
  },
  {
   "cell_type": "code",
   "execution_count": null,
   "metadata": {
    "ExecuteTime": {
     "start_time": "2020-03-14T07:09:05.300Z"
    }
   },
   "outputs": [],
   "source": [
    "x_rows.loc[x_rows.index[model.hparams.window_length:]]"
   ]
  },
  {
   "cell_type": "code",
   "execution_count": null,
   "metadata": {
    "ExecuteTime": {
     "start_time": "2020-03-14T07:09:05.300Z"
    }
   },
   "outputs": [],
   "source": [
    "self=dset_test\n",
    "idx=10\n",
    "k = idx + self.hparams.window_length + self.hparams.target_length\n",
    "j = k - self.hparams.target_length\n",
    "i = j - self.hparams.window_length\n",
    "idx, k, j, i, self.hparams.window_length + self.hparams.target_length"
   ]
  },
  {
   "cell_type": "code",
   "execution_count": null,
   "metadata": {
    "ExecuteTime": {
     "start_time": "2020-03-14T07:09:05.300Z"
    }
   },
   "outputs": [],
   "source": [
    "j-i"
   ]
  },
  {
   "cell_type": "code",
   "execution_count": null,
   "metadata": {
    "ExecuteTime": {
     "start_time": "2020-03-14T07:09:05.300Z"
    }
   },
   "outputs": [],
   "source": [
    "self.hparams.window_length + self.hparams.target_length"
   ]
  },
  {
   "cell_type": "code",
   "execution_count": null,
   "metadata": {},
   "outputs": [],
   "source": []
  }
 ],
 "metadata": {
  "file_extension": ".py",
  "kernelspec": {
   "display_name": "jup3.7.3",
   "language": "python",
   "name": "jup3.7.3"
  },
  "language_info": {
   "codemirror_mode": {
    "name": "ipython",
    "version": 3
   },
   "file_extension": ".py",
   "mimetype": "text/x-python",
   "name": "python",
   "nbconvert_exporter": "python",
   "pygments_lexer": "ipython3",
   "version": "3.7.3"
  },
  "mimetype": "text/x-python",
  "name": "python",
  "npconvert_exporter": "python",
  "pygments_lexer": "ipython3",
  "toc": {
   "base_numbering": 1,
   "nav_menu": {},
   "number_sections": true,
   "sideBar": true,
   "skip_h1_title": false,
   "title_cell": "Table of Contents",
   "title_sidebar": "Contents",
   "toc_cell": false,
   "toc_position": {
    "height": "calc(100% - 180px)",
    "left": "10px",
    "top": "150px",
    "width": "384px"
   },
   "toc_section_display": true,
   "toc_window_display": true
  },
  "version": 3
 },
 "nbformat": 4,
 "nbformat_minor": 2
}
