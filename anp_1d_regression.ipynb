{
 "cells": [
  {
   "cell_type": "code",
   "execution_count": 199,
   "metadata": {
    "ExecuteTime": {
     "end_time": "2020-02-01T03:19:32.799666Z",
     "start_time": "2020-02-01T03:19:32.787679Z"
    }
   },
   "outputs": [
    {
     "name": "stdout",
     "output_type": "stream",
     "text": [
      "Populating the interactive namespace from numpy and matplotlib\n"
     ]
    }
   ],
   "source": [
    "import pandas as pd\n",
    "import numpy as np\n",
    "import matplotlib as plt\n",
    "import collections\n",
    "from tqdm.auto import tqdm\n",
    "from tensorboardX import SummaryWriter\n",
    "\n",
    "import math\n",
    "%pylab inline"
   ]
  },
  {
   "cell_type": "code",
   "execution_count": 200,
   "metadata": {
    "ExecuteTime": {
     "end_time": "2020-02-01T03:19:32.814367Z",
     "start_time": "2020-02-01T03:19:32.804007Z"
    }
   },
   "outputs": [],
   "source": [
    "import torch\n",
    "from torch import nn\n",
    "import torch.nn.functional as F\n",
    "from torch.utils.data import TensorDataset, DataLoader"
   ]
  },
  {
   "cell_type": "code",
   "execution_count": null,
   "metadata": {
    "ExecuteTime": {
     "end_time": "2020-02-01T02:13:20.324359Z",
     "start_time": "2020-02-01T02:13:20.314382Z"
    }
   },
   "outputs": [],
   "source": []
  },
  {
   "cell_type": "markdown",
   "metadata": {},
   "source": [
    "# Helpers"
   ]
  },
  {
   "cell_type": "markdown",
   "metadata": {},
   "source": [
    "## Data"
   ]
  },
  {
   "cell_type": "code",
   "execution_count": 201,
   "metadata": {
    "ExecuteTime": {
     "end_time": "2020-02-01T03:19:32.863577Z",
     "start_time": "2020-02-01T03:19:32.817900Z"
    }
   },
   "outputs": [],
   "source": [
    "# The (A)NP takes as input a `NPRegressionDescription` namedtuple with fields:\n",
    "#   `query`: a tuple containing ((context_x, context_y), target_x)\n",
    "#   `target_y`: a tensor containing the ground truth for the targets to be\n",
    "#     predicted\n",
    "#   `num_total_points`: A vector containing a scalar that describes the total\n",
    "#     number of datapoints used (context + target)\n",
    "#   `num_context_points`: A vector containing a scalar that describes the number\n",
    "#     of datapoints used as context\n",
    "# The GPCurvesReader returns the newly sampled data in this format at each\n",
    "# iteration\n",
    "\n",
    "NPRegressionDescription = collections.namedtuple(\n",
    "    \"NPRegressionDescription\",\n",
    "    (\"query\", \"target_y\", \"num_total_points\", \"num_context_points\"))\n",
    "\n",
    "\n",
    "class GPCurvesReader(object):\n",
    "    \"\"\"Generates curves using a Gaussian Process (GP).\n",
    "\n",
    "  Supports vector inputs (x) and vector outputs (y). Kernel is\n",
    "  mean-squared exponential, using the x-value l2 coordinate distance scaled by\n",
    "  some factor chosen randomly in a range. Outputs are independent gaussian\n",
    "  processes.\n",
    "      \"\"\"\n",
    "\n",
    "    def __init__(self,\n",
    "               batch_size,\n",
    "               max_num_context,\n",
    "               x_size=1,\n",
    "               y_size=1,\n",
    "               l1_scale=0.6,\n",
    "               sigma_scale=1.0,\n",
    "               random_kernel_parameters=True,\n",
    "               testing=False):\n",
    "        \"\"\"Creates a regression dataset of functions sampled from a GP.\n",
    "\n",
    "    Args:\n",
    "      batch_size: An integer.\n",
    "      max_num_context: The max number of observations in the context.\n",
    "      x_size: Integer >= 1 for length of \"x values\" vector.\n",
    "      y_size: Integer >= 1 for length of \"y values\" vector.\n",
    "      l1_scale: Float; typical scale for kernel distance function.\n",
    "      sigma_scale: Float; typical scale for variance.\n",
    "      random_kernel_parameters: If `True`, the kernel parameters (l1 and sigma) \n",
    "          will be sampled uniformly within [0.1, l1_scale] and [0.1, sigma_scale].\n",
    "      testing: Boolean that indicates whether we are testing. If so there are\n",
    "          more targets for visualization.\n",
    "        \"\"\"\n",
    "        self._batch_size = batch_size\n",
    "        self._max_num_context = max_num_context\n",
    "        self._x_size = x_size\n",
    "        self._y_size = y_size\n",
    "        self._l1_scale = l1_scale\n",
    "        self._sigma_scale = sigma_scale\n",
    "        self._random_kernel_parameters = random_kernel_parameters\n",
    "        self._testing = testing\n",
    "\n",
    "    def _gaussian_kernel(self, xdata, l1, sigma_f, sigma_noise=2e-2):\n",
    "        \"\"\"Applies the Gaussian kernel to generate curve data.\n",
    "\n",
    "    Args:\n",
    "      xdata: Tensor of shape [B, num_total_points, x_size] with\n",
    "          the values of the x-axis data.\n",
    "      l1: Tensor of shape [B, y_size, x_size], the scale\n",
    "          parameter of the Gaussian kernel.\n",
    "      sigma_f: Tensor of shape [B, y_size], the magnitude\n",
    "          of the std.\n",
    "      sigma_noise: Float, std of the noise that we add for stability.\n",
    "\n",
    "    Returns:\n",
    "      The kernel, a float tensor of shape\n",
    "      [B, y_size, num_total_points, num_total_points].\n",
    "        \"\"\"\n",
    "        num_total_points = xdata.shape[1]\n",
    "\n",
    "    # Expand and take the difference\n",
    "        xdata1 = xdata.unsqueeze(1)  # [B, 1, num_total_points, x_size]\n",
    "        xdata2 = xdata.unsqueeze(2)  # [B, num_total_points, 1, x_size]\n",
    "        diff = xdata1 - xdata2  # [B, num_total_points, num_total_points, x_size]\n",
    "\n",
    "    # [B, y_size, num_total_points, num_total_points, x_size]\n",
    "        norm = (diff[:, None, :, :, :] / l1[:, :, None, None, :])**2\n",
    "\n",
    "        norm = torch.sum(norm, -1)  # [B, data_size, num_total_points, num_total_points]\n",
    "\n",
    "    # [B, y_size, num_total_points, num_total_points]\n",
    "        kernel = ((sigma_f)**2)[:, :, None, None] * torch.exp(-0.5 * norm)\n",
    "\n",
    "    # Add some noise to the diagonal to make the cholesky work.\n",
    "        kernel += (sigma_noise**2) * torch.eye(num_total_points)\n",
    "\n",
    "        return kernel\n",
    "\n",
    "    def generate_curves(self):\n",
    "        \"\"\"Builds the op delivering the data.\n",
    "\n",
    "    Generated functions are `float32` with x values between -2 and 2.\n",
    "    \n",
    "    Returns:\n",
    "      A `CNPRegressionDescription` namedtuple.\n",
    "        \"\"\"\n",
    "        num_context = int(np.random.rand()*(self._max_num_context - 3) + 3)\n",
    "    # If we are testing we want to have more targets and have them evenly\n",
    "    # distributed in order to plot the function.\n",
    "        if self._testing:\n",
    "            num_target = 400\n",
    "            num_total_points = num_target\n",
    "            x_values = torch.arange(-2, 2, 1.0/100).unsqueeze(0).repeat(self._batch_size, 1)\n",
    "            x_values = x_values.unsqueeze(-1)\n",
    "    # During training the number of target points and their x-positions are\n",
    "    # selected at random\n",
    "        else:\n",
    "            num_target = int(np.random.rand()*(self._max_num_context - num_context))\n",
    "            num_total_points = num_context + num_target\n",
    "            x_values = torch.rand((self._batch_size, num_total_points, self._x_size))*4 - 2\n",
    "            \n",
    "\n",
    "    # Set kernel parameters\n",
    "    # Either choose a set of random parameters for the mini-batch\n",
    "        if self._random_kernel_parameters:\n",
    "            l1 = torch.rand((self._batch_size, self._y_size, self._x_size))*(self._l1_scale - 0.1) + 0.1\n",
    "            sigma_f = torch.rand((self._batch_size, self._y_size))*(self._sigma_scale - 0.1) + 0.1\n",
    "            \n",
    "    # Or use the same fixed parameters for all mini-batches\n",
    "        else:\n",
    "            l1 = torch.ones((self._batch_size, self._y_size, self._x_size))*self._l1_scale\n",
    "            sigma_f = torch.ones((self._batch_size, self._y_size))*self._sigma_scale\n",
    "\n",
    "    # Pass the x_values through the Gaussian kernel\n",
    "    # [batch_size, y_size, num_total_points, num_total_points]\n",
    "        kernel = self._gaussian_kernel(x_values, l1, sigma_f)\n",
    "\n",
    "    # Calculate Cholesky, using double precision for better stability:\n",
    "        cholesky = torch.cholesky(kernel)\n",
    "\n",
    "    # Sample a curve\n",
    "    # [batch_size, y_size, num_total_points, 1]\n",
    "        y_values = torch.matmul(cholesky, torch.randn((self._batch_size, self._y_size, num_total_points, 1)))\n",
    "\n",
    "    # [batch_size, num_total_points, y_size]\n",
    "        y_values = y_values.squeeze(3)\n",
    "        y_values = y_values.permute(0, 2, 1)\n",
    "\n",
    "        if self._testing:\n",
    "      # Select the targets\n",
    "            target_x = x_values\n",
    "            target_y = y_values\n",
    "\n",
    "      # Select the observations\n",
    "            idx = torch.randperm(num_target)\n",
    "            context_x = x_values[:, idx[:num_context]]\n",
    "            context_y = y_values[:, idx[:num_context]]\n",
    "\n",
    "        else:\n",
    "      # Select the targets which will consist of the context points as well as\n",
    "      # some new target points\n",
    "            target_x = x_values[:, :num_target + num_context, :]\n",
    "            target_y = y_values[:, :num_target + num_context, :]\n",
    "\n",
    "      # Select the observations\n",
    "            context_x = x_values[:, :num_context, :]\n",
    "            context_y = y_values[:, :num_context, :]\n",
    "\n",
    "        query = ((context_x, context_y), target_x)\n",
    "\n",
    "        return NPRegressionDescription(\n",
    "        query=query,\n",
    "        target_y=target_y,\n",
    "        num_total_points=target_x.shape[1],\n",
    "        num_context_points=num_context)\n"
   ]
  },
  {
   "cell_type": "markdown",
   "metadata": {},
   "source": [
    "## Modules"
   ]
  },
  {
   "cell_type": "code",
   "execution_count": 202,
   "metadata": {
    "ExecuteTime": {
     "end_time": "2020-02-01T03:19:32.895332Z",
     "start_time": "2020-02-01T03:19:32.868161Z"
    }
   },
   "outputs": [],
   "source": [
    "\n",
    "class NPBlockRelu2d(nn.Module):\n",
    "    \"\"\"Block for Neural Processes.\"\"\"\n",
    "\n",
    "    def __init__(self, in_channels, out_channels, dropout=0, norm=False, bias=False):\n",
    "        super().__init__()\n",
    "        self.linear = nn.Linear(in_channels, out_channels, bias=bias)\n",
    "        self.act = nn.ReLU()\n",
    "        self.dropout = nn.Dropout2d(dropout)\n",
    "        self.norm = nn.BatchNorm2d(out_channels) if norm else False\n",
    "\n",
    "    def forward(self, x):\n",
    "        # x.shape is (Batch, Sequence, Channels)\n",
    "        # We pass a linear over it which operates on the Channels\n",
    "        x = self.act(self.linear(x))\n",
    "\n",
    "        # Now we want to apply batchnorm and dropout to the channels. So we put it in shape\n",
    "        # (Batch, Channels, Sequence, None) so we can use Dropout2d\n",
    "        x = x.permute(0, 2, 1)[:, :, :, None]\n",
    "\n",
    "        if self.norm:\n",
    "            x = self.norm(x)\n",
    "\n",
    "        x = self.dropout(x)\n",
    "        return x[:, :, :, 0].permute(0, 2, 1)\n",
    "\n",
    "\n",
    "class BatchMLP(nn.Module):\n",
    "    \"\"\"Apply MLP to the final axis of a 3D tensor (reusing already defined MLPs).\n",
    "\n",
    "    Args:\n",
    "        input: input tensor of shape [B,n,d_in].\n",
    "        output_sizes: An iterable containing the output sizes of the MLP as defined \n",
    "            in `basic.Linear`.\n",
    "    Returns:\n",
    "        tensor of shape [B,n,d_out] where d_out=output_size\n",
    "    \"\"\"\n",
    "\n",
    "    def __init__(self, input_size, output_size, num_layers=2, dropout=0, norm=False):\n",
    "        super().__init__()\n",
    "        self.input_size = input_size\n",
    "        self.output_size = output_size\n",
    "        self.num_layers = num_layers\n",
    "        \n",
    "        \n",
    "        self.initial = NPBlockRelu2d(input_size, output_size, dropout=dropout, norm=norm)\n",
    "        self.encoder = nn.Sequential(* [\n",
    "            NPBlockRelu2d(output_size, output_size, dropout=dropout, norm=norm) for _ in range(num_layers - 2)\n",
    "        ])\n",
    "        self.final = nn.Linear(output_size, output_size)\n",
    "\n",
    "    def forward(self, x):\n",
    "        x = self.initial(x)\n",
    "        x = self.encoder(x)\n",
    "        return self.final(x)"
   ]
  },
  {
   "cell_type": "code",
   "execution_count": null,
   "metadata": {
    "ExecuteTime": {
     "end_time": "2020-02-01T03:10:39.791917Z",
     "start_time": "2020-02-01T03:10:39.775892Z"
    }
   },
   "outputs": [],
   "source": []
  },
  {
   "cell_type": "code",
   "execution_count": 203,
   "metadata": {
    "ExecuteTime": {
     "end_time": "2020-02-01T03:19:32.954104Z",
     "start_time": "2020-02-01T03:19:32.902132Z"
    }
   },
   "outputs": [],
   "source": [
    "class AttnLinear(nn.Module):\n",
    "\n",
    "    def __init__(self, in_channels, out_channels):\n",
    "        super().__init__()\n",
    "        self.linear = nn.Linear(in_channels, out_channels, bias=False)\n",
    "        torch.nn.init.normal_(self.linear.weight, std=in_channels**-0.5)\n",
    "\n",
    "    def forward(self, x):\n",
    "        x = self.linear(x)\n",
    "        return x\n",
    "\n",
    "\n",
    "class Attention(nn.Module):\n",
    "    def __init__(self, hidden_dim, attention_type, attention_layers=2, n_heads=8, x_dim=1, rep='mlp', dropout=0):\n",
    "        super().__init__()\n",
    "        self._rep = rep\n",
    "        \n",
    "        if self._rep == 'mlp':\n",
    "            self.batch_mlp_k = BatchMLP(x_dim, hidden_dim, attention_layers, dropout=dropout)\n",
    "            self.batch_mlp_q = BatchMLP(x_dim, hidden_dim, attention_layers, dropout=dropout)\n",
    "\n",
    "        if attention_type == \"uniform\":\n",
    "            self._attention_func = self._uniform_attention\n",
    "        elif attention_type == \"laplace\":\n",
    "            self._attention_func = self._laplace_attention\n",
    "        elif attention_type == \"dot\":\n",
    "            self._attention_func = self._dot_attention\n",
    "        elif attention_type == \"multihead\":\n",
    "            self._W_k = nn.ModuleList(\n",
    "                [AttnLinear(hidden_dim, hidden_dim) for _ in range(n_heads)])\n",
    "            self._W_v = nn.ModuleList(\n",
    "                [AttnLinear(hidden_dim, hidden_dim) for _ in range(n_heads)])\n",
    "            self._W_q = nn.ModuleList(\n",
    "                [AttnLinear(hidden_dim, hidden_dim) for _ in range(n_heads)])\n",
    "            self._W = AttnLinear(n_heads * hidden_dim, hidden_dim)\n",
    "            self._attention_func = self._multihead_attention\n",
    "            self.n_heads = n_heads\n",
    "        elif attention_type ==\"ptmultihead\":\n",
    "            self._attention_func = torch.nn.MultiheadAttention(\n",
    "                hidden_dim, n_heads, bias=False, dropout=dropout\n",
    "            )\n",
    "        else:\n",
    "            raise NotImplementedError\n",
    "\n",
    "    def forward(self, k, v, q):\n",
    "        if self._rep == 'mlp':\n",
    "            k = self.batch_mlp_k(k)\n",
    "            q = self.batch_mlp_q(q)\n",
    "        rep = self._attention_func(k, v, q)\n",
    "        return rep\n",
    "\n",
    "    def _uniform_attention(self, k, v, q):\n",
    "        total_points = q.shape[1]\n",
    "        rep = torch.mean(v, dim=1, keepdim=True)\n",
    "        rep = rep.repeat(1, total_points, 1)\n",
    "        return rep\n",
    "\n",
    "    def _laplace_attention(self, k, v, q, scale=0.5):\n",
    "        k_ = k.unsqueeze(1)\n",
    "        v_ = v.unsqueeze(2)\n",
    "        unnorm_weights = torch.abs((k_ - v_) * scale)\n",
    "        unnorm_weights = unnorm_weights.sum(dim=-1)\n",
    "        weights = torch.softmax(unnorm_weights, dim=-1)\n",
    "        rep = torch.einsum('bik,bkj->bij', weights, v)\n",
    "        return rep\n",
    "\n",
    "    def _dot_attention(self, k, v, q):\n",
    "        scale = q.shape[-1]**0.5\n",
    "        unnorm_weights = torch.einsum('bjk,bik->bij', k, q) / scale\n",
    "        weights = torch.softmax(unnorm_weights, dim=-1)\n",
    "\n",
    "        rep = torch.einsum('bik,bkj->bij', weights, v)\n",
    "        return rep\n",
    "\n",
    "    def _multihead_attention(self, k, v, q):\n",
    "        outs = []\n",
    "        for i in range(self.n_heads):\n",
    "            k_ = self._W_k[i](k)\n",
    "            v_ = self._W_v[i](v)\n",
    "            q_ = self._W_q[i](q)\n",
    "            out = self._dot_attention(k_, v_, q_)\n",
    "            outs.append(out)\n",
    "        outs = torch.stack(outs, dim=-1)\n",
    "        outs = outs.view(outs.shape[0], outs.shape[1], -1)\n",
    "        rep = self._W(outs)\n",
    "        return rep\n",
    "    \n",
    "    def _pytorch_multihead_attention(self, k, v, q):\n",
    "        # Pytorch multiheaded attention takes inputs if diff order and permutation\n",
    "        q = q.permute(1, 0, 2)\n",
    "        k = k.permute(1, 0, 2)\n",
    "        v = v.permute(1, 0, 2)\n",
    "        o = self._attention_func(q, k, v)[0]\n",
    "        return o.permute(1, 0, 2)"
   ]
  },
  {
   "cell_type": "code",
   "execution_count": 204,
   "metadata": {
    "ExecuteTime": {
     "end_time": "2020-02-01T03:19:32.981923Z",
     "start_time": "2020-02-01T03:19:32.957280Z"
    }
   },
   "outputs": [],
   "source": [
    "class LatentEncoder(nn.Module):\n",
    "    def __init__(self,\n",
    "                 input_dim,\n",
    "                 hidden_dim=32,\n",
    "                 latent_dim=32,\n",
    "                 self_attention_type=\"dot\",\n",
    "                 n_encoder_layers=3,\n",
    "                 min_std=0.01,\n",
    "                 use_lvar=False,\n",
    "                 use_self_attn=False,      \n",
    "                 attention_layers=2,\n",
    "                ):\n",
    "        super().__init__()\n",
    "        self._input_layer = nn.Linear(input_dim, hidden_dim)\n",
    "        self._encoder = nn.ModuleList([\n",
    "            nn.Linear(hidden_dim, hidden_dim) for _ in range(n_encoder_layers)\n",
    "        ])\n",
    "        if use_self_attn:\n",
    "            self._self_attention = Attention(hidden_dim, self_attention_type, attention_layers, rep='identity')\n",
    "        self._penultimate_layer = nn.Linear(hidden_dim, hidden_dim)\n",
    "        self._mean = nn.Linear(hidden_dim, latent_dim)\n",
    "        self._log_var = nn.Linear(hidden_dim, latent_dim)\n",
    "        self._min_std = min_std\n",
    "        self._use_lvar = use_lvar\n",
    "        self._use_self_attn = use_self_attn\n",
    "\n",
    "    def forward(self, x, y):\n",
    "        encoder_input = torch.cat([x, y], dim=-1)\n",
    "\n",
    "        # Pass final axis through MLP\n",
    "        encoded = self._input_layer(encoder_input)\n",
    "        for layer in self._encoder:\n",
    "            encoded = torch.relu(layer(encoded))\n",
    "\n",
    "        # Aggregator: take the mean over all points\n",
    "        if self._use_self_attn:\n",
    "            attention_output = self._self_attention(encoded, encoded, encoded)\n",
    "            mean_repr = attention_output.mean(dim=1)\n",
    "        else:\n",
    "            mean_repr = encoded.mean(dim=1)\n",
    "\n",
    "        # Have further MLP layers that map to the parameters of the Gaussian latent\n",
    "        mean_repr = torch.relu(self._penultimate_layer(mean_repr))\n",
    "\n",
    "        # Then apply further linear layers to output latent mu and log sigma\n",
    "        mean = self._mean(mean_repr)\n",
    "        log_var = self._log_var(mean_repr)\n",
    "\n",
    "        # Clip it in the log domain, so it can only approach self.min_std, this helps avoid mode collapase\n",
    "        # 2 ways, a better but untested way using the more stable log domain, and the way from the deepmind repo\n",
    "        if self._use_lvar:\n",
    "            log_var = log_var + math.log(self._min_std)\n",
    "            sigma = torch.exp(0.5 * log_var)\n",
    "        else:\n",
    "            sigma = self._min_std + (1 - self._min_std) * torch.sigmoid(log_var * 0.5)\n",
    "        dist = torch.distributions.Normal(mean, sigma)\n",
    "        return dist, log_var"
   ]
  },
  {
   "cell_type": "code",
   "execution_count": 205,
   "metadata": {
    "ExecuteTime": {
     "end_time": "2020-02-01T03:19:32.998565Z",
     "start_time": "2020-02-01T03:19:32.984808Z"
    }
   },
   "outputs": [],
   "source": [
    "class DeterministicEncoder(nn.Module):\n",
    "    def __init__(\n",
    "            self,\n",
    "            input_dim,\n",
    "            x_dim,\n",
    "            hidden_dim=32,\n",
    "            n_d_encoder_layers=3,\n",
    "            self_attention_type=\"dot\",\n",
    "            cross_attention_type=\"dot\",\n",
    "            use_self_attn=False,\n",
    "            attention_layers=2, ):\n",
    "        super().__init__()\n",
    "        self._use_self_attn = use_self_attn\n",
    "        self._input_layer = nn.Linear(input_dim, hidden_dim)\n",
    "        self._d_encoder = nn.ModuleList([\n",
    "            nn.Linear(hidden_dim, hidden_dim)\n",
    "            for _ in range(n_d_encoder_layers)\n",
    "        ])\n",
    "        if use_self_attn:\n",
    "            self._self_attention = Attention(\n",
    "                hidden_dim,\n",
    "                self_attention_type,\n",
    "                attention_layers,\n",
    "                rep='identity')\n",
    "        self._cross_attention = Attention(\n",
    "            hidden_dim,\n",
    "            cross_attention_type,\n",
    "            x_dim=x_dim,\n",
    "            attention_layers=attention_layers)\n",
    "\n",
    "    def forward(self, context_x, context_y, target_x):\n",
    "        # Concatenate x and y along the filter axes\n",
    "        d_encoder_input = torch.cat([context_x, context_y], dim=-1)\n",
    "\n",
    "        # Pass final axis through MLP\n",
    "        d_encoded = self._input_layer(d_encoder_input)\n",
    "        for layer in self._d_encoder:\n",
    "            d_encoded = torch.relu(layer(d_encoded))\n",
    "\n",
    "        if self._use_self_attn:\n",
    "            d_encoded = self._self_attention(d_encoded, d_encoded, d_encoded)\n",
    "\n",
    "        # Apply attention\n",
    "        h = self._cross_attention(context_x, d_encoded, target_x)\n",
    "\n",
    "        return h"
   ]
  },
  {
   "cell_type": "code",
   "execution_count": 206,
   "metadata": {
    "ExecuteTime": {
     "end_time": "2020-02-01T03:19:33.019374Z",
     "start_time": "2020-02-01T03:19:33.002371Z"
    }
   },
   "outputs": [],
   "source": [
    "class Decoder(nn.Module):\n",
    "    def __init__(self,\n",
    "                 x_dim,\n",
    "                 y_dim,\n",
    "                 hidden_dim=32,\n",
    "                 latent_dim=32,\n",
    "                 n_decoder_layers=3,\n",
    "                 use_deterministic_path=True,\n",
    "                 min_std=0.01,\n",
    "                 use_lvar=False):\n",
    "        super(Decoder, self).__init__()\n",
    "        self._target_transform = nn.Linear(x_dim, hidden_dim)\n",
    "        if use_deterministic_path:\n",
    "            hidden_dim_2 = 2 * hidden_dim + latent_dim\n",
    "        else:\n",
    "            hidden_dim_2 = hidden_dim + latent_dim\n",
    "        self._decoder = nn.ModuleList([\n",
    "            nn.Linear(hidden_dim_2, hidden_dim_2)\n",
    "            for _ in range(n_decoder_layers)\n",
    "        ])\n",
    "        self._mean = nn.Linear(hidden_dim_2, y_dim)\n",
    "        self._std = nn.Linear(hidden_dim_2, y_dim)\n",
    "        self._use_deterministic_path = use_deterministic_path\n",
    "        self._min_std = min_std\n",
    "        self._use_lvar = use_lvar\n",
    "\n",
    "    def forward(self, r, z, target_x):\n",
    "        # concatenate target_x and representation\n",
    "        x = self._target_transform(target_x)\n",
    "\n",
    "        if self._use_deterministic_path:\n",
    "            z = torch.cat([r, z], dim=-1)\n",
    "\n",
    "        representation = torch.cat([z, x], dim=-1)\n",
    "        \n",
    "        # Pass final axis through MLP\n",
    "        for layer in self._decoder:\n",
    "            representation = torch.relu(layer(representation))\n",
    "\n",
    "        # Get the mean and the variance\n",
    "        mean = self._mean(representation)\n",
    "        log_sigma = self._std(representation)\n",
    "\n",
    "        # Bound the variance\n",
    "        if self._use_lvar:\n",
    "            log_sigma = log_sigma + math.log(self._min_std)\n",
    "            sigma = torch.exp(log_sigma)\n",
    "        else:\n",
    "            sigma = self._min_std + (1 - self._min_std) * F.softplus(log_sigma)\n",
    "\n",
    "        dist = torch.distributions.Normal(mean, sigma)\n",
    "        return dist, log_sigma"
   ]
  },
  {
   "cell_type": "markdown",
   "metadata": {},
   "source": [
    "## Model"
   ]
  },
  {
   "cell_type": "code",
   "execution_count": 207,
   "metadata": {
    "ExecuteTime": {
     "end_time": "2020-02-01T03:19:33.033796Z",
     "start_time": "2020-02-01T03:19:33.021744Z"
    }
   },
   "outputs": [],
   "source": [
    "def kl_loss_var(prior_mu, log_var_prior, post_mu, log_var_post):\n",
    "    \"\"\"\n",
    "    Analytical KLD for two gaussians, taking in log_variance instead of scale ( given variance=scale**2) for more stable gradients\n",
    "    \n",
    "    For version using scale see https://github.com/pytorch/pytorch/blob/master/torch/distributions/kl.py#L398\n",
    "    \"\"\"\n",
    "\n",
    "    var_ratio_log = log_var_post - log_var_prior\n",
    "    kl_div = (\n",
    "        (var_ratio_log.exp() +\n",
    "         (post_mu - prior_mu)**2) / log_var_prior.exp() - 1.0 - var_ratio_log)\n",
    "    kl_div = 0.5 * kl_div\n",
    "    return kl_div\n",
    "\n",
    "def log_prob_sigma(value, loc, log_scale):\n",
    "    \"\"\"A slightly more stable (not confirmed yet) log prob taking in log_var instead of scale.\n",
    "    modified from https://github.com/pytorch/pytorch/blob/2431eac7c011afe42d4c22b8b3f46dedae65e7c0/torch/distributions/normal.py#L65\n",
    "    \"\"\"\n",
    "    var = torch.exp(log_scale * 2)\n",
    "    return (\n",
    "        -((value - loc) ** 2) / (2 * var) - log_scale - math.log(math.sqrt(2 * math.pi))\n",
    "    )"
   ]
  },
  {
   "cell_type": "code",
   "execution_count": 208,
   "metadata": {
    "ExecuteTime": {
     "end_time": "2020-02-01T03:19:33.064975Z",
     "start_time": "2020-02-01T03:19:33.036431Z"
    }
   },
   "outputs": [],
   "source": [
    "class LatentModel(nn.Module):\n",
    "    def __init__(self,\n",
    "                 x_dim,\n",
    "                 y_dim,\n",
    "                 hidden_dim=32,\n",
    "                 latent_dim=32,\n",
    "                 latent_enc_self_attn_type=\"dot\",\n",
    "                 det_enc_self_attn_type=\"dot\",\n",
    "                 det_enc_cross_attn_type=\"dot\",\n",
    "                 n_latent_encoder_layers=3,\n",
    "                 n_det_encoder_layers=3,\n",
    "                 n_decoder_layers=3,\n",
    "                 use_deterministic_path=True,\n",
    "                 min_std=0.01,\n",
    "                 use_lvar=False,\n",
    "                 attention_layers=2,\n",
    "                ):\n",
    "\n",
    "        super(LatentModel, self).__init__()\n",
    "\n",
    "        self._latent_encoder = LatentEncoder(\n",
    "            x_dim + y_dim,\n",
    "            hidden_dim=hidden_dim,\n",
    "            latent_dim=latent_dim,\n",
    "            self_attention_type=latent_enc_self_attn_type,\n",
    "            n_encoder_layers=n_latent_encoder_layers,\n",
    "            attention_layers=attention_layers)\n",
    "\n",
    "        self._deterministic_encoder = DeterministicEncoder(\n",
    "            input_dim=x_dim + y_dim,\n",
    "            x_dim=x_dim,\n",
    "            hidden_dim=hidden_dim,\n",
    "            self_attention_type=det_enc_self_attn_type,\n",
    "            cross_attention_type=det_enc_cross_attn_type,\n",
    "            n_d_encoder_layers=n_det_encoder_layers,\n",
    "            attention_layers=attention_layers)\n",
    "\n",
    "        self._decoder = Decoder(\n",
    "            x_dim,\n",
    "            y_dim,\n",
    "            hidden_dim=hidden_dim,\n",
    "            latent_dim=latent_dim,\n",
    "            min_std=min_std,\n",
    "            use_lvar=use_lvar,\n",
    "            n_decoder_layers=n_decoder_layers,\n",
    "            use_deterministic_path=use_deterministic_path,\n",
    "            \n",
    "        )\n",
    "        self._use_deterministic_path = use_deterministic_path\n",
    "        self._use_lvar = use_lvar\n",
    "\n",
    "    def forward(self, context_x, context_y, target_x, target_y=None):\n",
    "        num_targets = target_x.size(1)\n",
    "\n",
    "        dist_prior, log_var_prior = self._latent_encoder(context_x, context_y)\n",
    "\n",
    "        if target_y is not None:\n",
    "            dist_post, log_var_post = self._latent_encoder(target_x,\n",
    "                                                             target_y)\n",
    "            z = dist_post.loc\n",
    "        else:\n",
    "            z = dist_prior.loc\n",
    "\n",
    "        z = z.unsqueeze(1).repeat(1, num_targets, 1)  # [B, T_target, H]\n",
    "\n",
    "        if self._use_deterministic_path:\n",
    "            r = self._deterministic_encoder(context_x, context_y,\n",
    "                                            target_x)  # [B, T_target, H]\n",
    "        else:\n",
    "            r = None\n",
    "\n",
    "        dist, log_sigma = self._decoder(r, z, target_x)\n",
    "        if target_y is not None:\n",
    "            if self._use_lvar:\n",
    "                log_p = log_prob_sigma(target_y, dist.loc, log_sigma).mean(-1) # [B, T_target, Y].mean(-1)\n",
    "                kl_loss = kl_loss_var(dist_prior.loc, log_var_prior,\n",
    "                                      dist_post.loc, log_var_post).mean(-1) # [B, R].mean(-1)\n",
    "            else:\n",
    "                log_p = dist.log_prob(target_y).mean(-1)\n",
    "                kl_loss = torch.distributions.kl_divergence(\n",
    "                    dist_post, dist_prior).mean(-1)\n",
    "            kl_loss = kl_loss[:, None].expand(log_p.shape)\n",
    "            mse_loss = F.mse_loss(dist.loc, target_y)\n",
    "            loss = (kl_loss - log_p).mean()\n",
    "\n",
    "        else:\n",
    "            log_p = None\n",
    "            mse_loss = None\n",
    "            kl_loss = None\n",
    "            loss = None\n",
    "\n",
    "        y_pred = dist.rsample() if self.training else dist.loc\n",
    "        return y_pred, kl_loss, loss, mse_loss, dist.scale"
   ]
  },
  {
   "cell_type": "markdown",
   "metadata": {},
   "source": [
    "## Util"
   ]
  },
  {
   "cell_type": "code",
   "execution_count": 209,
   "metadata": {
    "ExecuteTime": {
     "end_time": "2020-02-01T03:19:33.080375Z",
     "start_time": "2020-02-01T03:19:33.067520Z"
    }
   },
   "outputs": [],
   "source": [
    "def plot_functions(target_x, target_y, context_x, context_y, pred_y, std):\n",
    "    \"\"\"Plots the predicted mean and variance and the context points.\n",
    "  \n",
    "  Args: \n",
    "    target_x: An array of shape [B,num_targets,1] that contains the\n",
    "        x values of the target points.\n",
    "    target_y: An array of shape [B,num_targets,1] that contains the\n",
    "        y values of the target points.\n",
    "    context_x: An array of shape [B,num_contexts,1] that contains \n",
    "        the x values of the context points.\n",
    "    context_y: An array of shape [B,num_contexts,1] that contains \n",
    "        the y values of the context points.\n",
    "    pred_y: An array of shape [B,num_targets,1] that contains the\n",
    "        predicted means of the y values at the target points in target_x.\n",
    "    std: An array of shape [B,num_targets,1] that contains the\n",
    "        predicted std dev of the y values at the target points in target_x.\n",
    "      \"\"\"\n",
    "    # Plot everything\n",
    "    plt.plot(target_x[0], pred_y[0], 'b', linewidth=2)\n",
    "    plt.plot(target_x[0], target_y[0], 'k:', linewidth=2)\n",
    "    plt.plot(context_x[0], context_y[0], 'ko', markersize=10)\n",
    "    plt.fill_between(\n",
    "          target_x[0, :, 0],\n",
    "          pred_y[0, :, 0] - std[0, :, 0],\n",
    "          pred_y[0, :, 0] + std[0, :, 0],\n",
    "          alpha=0.2,\n",
    "          facecolor='#65c9f7',\n",
    "          interpolate=True)\n",
    "\n",
    "    # Make the plot pretty\n",
    "    plt.yticks([-2, 0, 2], fontsize=16)\n",
    "    plt.xticks([-2, 0, 2], fontsize=16)\n",
    "    plt.ylim([-2, 2])\n",
    "    plt.grid('off')\n",
    "    ax = plt.gca()"
   ]
  },
  {
   "cell_type": "code",
   "execution_count": 210,
   "metadata": {
    "ExecuteTime": {
     "end_time": "2020-02-01T03:19:33.099668Z",
     "start_time": "2020-02-01T03:19:33.083014Z"
    }
   },
   "outputs": [],
   "source": [
    "def test(model, dataset_test, writer=None, plot=False, global_step=None):\n",
    "    model.eval()\n",
    "    with torch.no_grad():\n",
    "        data_test = dataset_test.generate_curves()\n",
    "\n",
    "        (context_x, context_y), target_x = data_test.query\n",
    "        target_y = data_test.target_y\n",
    "\n",
    "        context_x = context_x.cuda()\n",
    "        context_y = context_y.cuda()\n",
    "        target_x = target_x.cuda()\n",
    "        target_y = target_y.cuda()\n",
    "\n",
    "        y_pred, kl, loss, mse_loss, y_std = model(context_x, context_y, target_x, target_y)\n",
    "\n",
    "        if writer is not None:\n",
    "            writer.add_scalar('val/loss', loss, global_step=global_step)\n",
    "            writer.add_scalar('val/y_std', y_std.mean(), global_step=global_step)\n",
    "            writer.add_scalar('val/mse_loss', mse_loss, global_step=global_step)\n",
    "            writer.add_scalar('val/kl', kl.mean(), global_step=global_step)\n",
    "        \n",
    "        if plot:\n",
    "            fig = plt.figure()\n",
    "            plt.title(f\"Iter {n_iter}\")            \n",
    "            plot_functions(target_x.detach().cpu().numpy(),\n",
    "                           target_y.detach().cpu().numpy(),\n",
    "                           context_x.detach().cpu().numpy(),\n",
    "                           context_y.detach().cpu().numpy(),\n",
    "                           y_pred.detach().cpu().numpy(),\n",
    "                           y_std.detach().cpu().numpy())\n",
    "            \n",
    "            writer.add_figure('test', fig, global_step=global_step, close=False)\n",
    "            plt.show()\n",
    "            \n",
    "    return y_pred, kl, loss, y_std"
   ]
  },
  {
   "cell_type": "markdown",
   "metadata": {},
   "source": [
    "# Init"
   ]
  },
  {
   "cell_type": "code",
   "execution_count": 211,
   "metadata": {
    "ExecuteTime": {
     "end_time": "2020-02-01T03:19:33.119679Z",
     "start_time": "2020-02-01T03:19:33.101969Z"
    }
   },
   "outputs": [
    {
     "name": "stdout",
     "output_type": "stream",
     "text": [
      "runs/Feb01_11-19-33_mjcdesktop-anp_1d_reg\n"
     ]
    }
   ],
   "source": [
    "\n",
    "MAX_CONTEXT_POINTS = 50 \n",
    "random_kernel_parameters=True \n",
    "\n",
    "dataset_train = GPCurvesReader(\n",
    "    batch_size=16, max_num_context=MAX_CONTEXT_POINTS, random_kernel_parameters=random_kernel_parameters)\n",
    "\n",
    "dataset_test = GPCurvesReader(\n",
    "    batch_size=1, max_num_context=MAX_CONTEXT_POINTS, testing=True, random_kernel_parameters=random_kernel_parameters)\n",
    "\n",
    "writer = SummaryWriter(comment='-anp_1d_reg')\n",
    "print(writer.logdir)"
   ]
  },
  {
   "cell_type": "code",
   "execution_count": 212,
   "metadata": {
    "ExecuteTime": {
     "end_time": "2020-02-01T03:19:33.175871Z",
     "start_time": "2020-02-01T03:19:33.122446Z"
    }
   },
   "outputs": [],
   "source": [
    "hparams = dict(x_dim=1, y_dim=1, hidden_dim=128, latent_dim=128, latent_enc_self_attn_type=\"multihead\", det_enc_self_attn_type=\"multihead\",\n",
    "                   det_enc_cross_attn_type=\"multihead\")\n",
    "model = LatentModel(**hparams).cuda()\n",
    "\n",
    "optim = torch.optim.Adam(model.parameters(), lr=1e-4)"
   ]
  },
  {
   "cell_type": "markdown",
   "metadata": {
    "ExecuteTime": {
     "end_time": "2020-02-01T01:23:02.658135Z",
     "start_time": "2020-02-01T01:23:02.653762Z"
    }
   },
   "source": [
    "# Train"
   ]
  },
  {
   "cell_type": "code",
   "execution_count": null,
   "metadata": {
    "ExecuteTime": {
     "start_time": "2020-02-01T03:19:32.800Z"
    },
    "scrolled": true
   },
   "outputs": [
    {
     "data": {
      "application/vnd.jupyter.widget-view+json": {
       "model_id": "6c16408b24384de3bb64ec531aabba61",
       "version_major": 2,
       "version_minor": 0
      },
      "text/plain": [
       "HBox(children=(FloatProgress(value=0.0, max=100000.0), HTML(value='')))"
      ]
     },
     "metadata": {},
     "output_type": "display_data"
    },
    {
     "name": "stdout",
     "output_type": "stream",
     "text": [
      "train: 0 loss= 0.9087 val_loss= 2.267\n"
     ]
    },
    {
     "data": {
      "image/png": "[encoded data removed]",
      "text/plain": [
       "<Figure size 432x288 with 1 Axes>"
      ]
     },
     "metadata": {
      "needs_background": "light"
     },
     "output_type": "display_data"
    }
   ],
   "source": [
    "epochs = 100000\n",
    "PLOT_AFTER = 10000\n",
    "PRINT_AFTER = 1000\n",
    "for n_iter in tqdm(range(epochs)):\n",
    "    model.train()\n",
    "    \n",
    "    data_train = dataset_train.generate_curves()\n",
    "    \n",
    "    (context_x, context_y), target_x = data_train.query\n",
    "    target_y = data_train.target_y\n",
    "    \n",
    "    context_x = context_x.cuda()\n",
    "    context_y = context_y.cuda()\n",
    "    target_x = target_x.cuda()\n",
    "    target_y = target_y.cuda()\n",
    "\n",
    "    optim.zero_grad()\n",
    "    y_pred, kl, loss, mse_loss, y_std = model(context_x, context_y, target_x, target_y)    \n",
    "    loss.backward()\n",
    "    optim.step()\n",
    "    \n",
    "    writer.add_scalar('train/loss', loss, n_iter)\n",
    "    writer.add_scalar('train/mse_loss', mse_loss, n_iter)\n",
    "    writer.add_scalar('train/y_std', y_std.mean(), n_iter)\n",
    "    writer.add_scalar('train/kl', kl.mean(), n_iter)\n",
    "    \n",
    "    if n_iter % PRINT_AFTER == 0:\n",
    "        y_pred, kl, val_loss, y_std = test(model, dataset_test, writer, plot=False, global_step=n_iter)\n",
    "        print(f\"train: {n_iter} loss={loss.item(): 4.4g} val_loss={val_loss.item(): 4.4g}\")\n",
    "\n",
    "    if n_iter % PLOT_AFTER == 0:\n",
    "        test(model, dataset_test, writer, plot=True, global_step=n_iter)"
   ]
  },
  {
   "cell_type": "code",
   "execution_count": null,
   "metadata": {
    "ExecuteTime": {
     "end_time": "2020-02-01T03:19:26.014782Z",
     "start_time": "2020-02-01T03:11:00.300Z"
    },
    "scrolled": true
   },
   "outputs": [],
   "source": []
  },
  {
   "cell_type": "markdown",
   "metadata": {},
   "source": [
    "# Test"
   ]
  },
  {
   "cell_type": "code",
   "execution_count": null,
   "metadata": {
    "ExecuteTime": {
     "start_time": "2020-02-01T03:19:32.800Z"
    }
   },
   "outputs": [],
   "source": [
    "# Final validation\n",
    "loss = torch.stack([test(model, dataset_test)[2] for _ in tqdm(range(100))]).mean().cpu()\n",
    "print(loss)"
   ]
  },
  {
   "cell_type": "code",
   "execution_count": null,
   "metadata": {
    "ExecuteTime": {
     "start_time": "2020-02-01T03:19:32.800Z"
    }
   },
   "outputs": [],
   "source": [
    "writer.add_hparams(hparams, dict(val_loss=loss))"
   ]
  },
  {
   "cell_type": "code",
   "execution_count": null,
   "metadata": {},
   "outputs": [],
   "source": []
  }
 ],
 "metadata": {
  "kernelspec": {
   "display_name": "jup3.7.2",
   "language": "python",
   "name": "jup3.7.2"
  },
  "toc": {
   "base_numbering": 1,
   "nav_menu": {},
   "number_sections": true,
   "sideBar": false,
   "skip_h1_title": false,
   "title_cell": "Table of Contents",
   "title_sidebar": "Contents",
   "toc_cell": false,
   "toc_position": {},
   "toc_section_display": true,
   "toc_window_display": true
  }
 },
 "nbformat": 4,
 "nbformat_minor": 2
}
