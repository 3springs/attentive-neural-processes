{
 "cells": [
  {
   "cell_type": "code",
   "execution_count": 1,
   "metadata": {
    "ExecuteTime": {
     "end_time": "2020-02-15T01:37:16.219722Z",
     "start_time": "2020-02-15T01:37:15.839731Z"
    }
   },
   "outputs": [],
   "source": [
    "%matplotlib inline\n",
    "%reload_ext autoreload"
   ]
  },
  {
   "cell_type": "code",
   "execution_count": 2,
   "metadata": {
    "ExecuteTime": {
     "end_time": "2020-02-15T01:37:17.400940Z",
     "start_time": "2020-02-15T01:37:16.223520Z"
    }
   },
   "outputs": [
    {
     "name": "stdout",
     "output_type": "stream",
     "text": [
      "Populating the interactive namespace from numpy and matplotlib\n"
     ]
    },
    {
     "name": "stderr",
     "output_type": "stream",
     "text": [
      "/home/wassname/.pyenv/versions/3.7.2/envs/jup3.7.2/lib/python3.7/site-packages/IPython/core/magics/pylab.py:160: UserWarning: pylab import has clobbered these variables: ['plt']\n",
      "`%matplotlib` prevents importing * from pylab and numpy\n",
      "  \"\\n`%matplotlib` prevents importing * from pylab and numpy\"\n"
     ]
    }
   ],
   "source": [
    "import pandas as pd\n",
    "import numpy as np\n",
    "import matplotlib as plt\n",
    "import collections\n",
    "from tqdm.auto import tqdm\n",
    "from tensorboardX import SummaryWriter\n",
    "\n",
    "import math\n",
    "%pylab inline"
   ]
  },
  {
   "cell_type": "code",
   "execution_count": 3,
   "metadata": {
    "ExecuteTime": {
     "end_time": "2020-02-15T01:37:17.739638Z",
     "start_time": "2020-02-15T01:37:17.405045Z"
    }
   },
   "outputs": [],
   "source": [
    "import torch\n",
    "from torch import nn\n",
    "import torch.nn.functional as F\n",
    "from torch.utils.data import TensorDataset, DataLoader"
   ]
  },
  {
   "cell_type": "code",
   "execution_count": 4,
   "metadata": {
    "ExecuteTime": {
     "end_time": "2020-02-15T01:37:17.750739Z",
     "start_time": "2020-02-15T01:37:17.742317Z"
    }
   },
   "outputs": [],
   "source": [
    "from src.data.gp_curves import GPCurvesReader\n",
    "from src.models.model import LatentModel"
   ]
  },
  {
   "cell_type": "markdown",
   "metadata": {},
   "source": [
    "## Util"
   ]
  },
  {
   "cell_type": "code",
   "execution_count": 5,
   "metadata": {
    "ExecuteTime": {
     "end_time": "2020-02-15T01:37:17.760279Z",
     "start_time": "2020-02-15T01:37:17.753680Z"
    }
   },
   "outputs": [],
   "source": [
    "def set_seed(n=42):\n",
    "    np.random.seed(n)\n",
    "    torch.manual_seed(n)\n",
    "#     torch.backends.cudnn.deterministic = True\n",
    "#     torch.backends.cudnn.benchmark = False"
   ]
  },
  {
   "cell_type": "code",
   "execution_count": 6,
   "metadata": {
    "ExecuteTime": {
     "end_time": "2020-02-15T01:37:17.775195Z",
     "start_time": "2020-02-15T01:37:17.763344Z"
    }
   },
   "outputs": [],
   "source": [
    "def plot_functions(target_x, target_y, context_x, context_y, pred_y, std):\n",
    "    \"\"\"Plots the predicted mean and variance and the context points.\n",
    "  \n",
    "  Args: \n",
    "    target_x: An array of shape [B,num_targets,1] that contains the\n",
    "        x values of the target points.\n",
    "    target_y: An array of shape [B,num_targets,1] that contains the\n",
    "        y values of the target points.\n",
    "    context_x: An array of shape [B,num_contexts,1] that contains \n",
    "        the x values of the context points.\n",
    "    context_y: An array of shape [B,num_contexts,1] that contains \n",
    "        the y values of the context points.\n",
    "    pred_y: An array of shape [B,num_targets,1] that contains the\n",
    "        predicted means of the y values at the target points in target_x.\n",
    "    std: An array of shape [B,num_targets,1] that contains the\n",
    "        predicted std dev of the y values at the target points in target_x.\n",
    "      \"\"\"\n",
    "    # Plot everything\n",
    "    plt.plot(target_x[0], pred_y[0], 'b', linewidth=2)\n",
    "    plt.plot(target_x[0], target_y[0], 'k:', linewidth=2)\n",
    "    plt.plot(context_x[0], context_y[0], 'ko', markersize=10)\n",
    "    plt.fill_between(\n",
    "          target_x[0, :, 0],\n",
    "          pred_y[0, :, 0] - std[0, :, 0],\n",
    "          pred_y[0, :, 0] + std[0, :, 0],\n",
    "          alpha=0.2,\n",
    "          facecolor='#65c9f7',\n",
    "          interpolate=True)\n",
    "\n",
    "    # Make the plot pretty\n",
    "    plt.yticks([-2, 0, 2], fontsize=16)\n",
    "    plt.xticks([-2, 0, 2], fontsize=16)\n",
    "    plt.ylim([-2, 2])\n",
    "    plt.grid('off')\n",
    "    ax = plt.gca()"
   ]
  },
  {
   "cell_type": "code",
   "execution_count": 7,
   "metadata": {
    "ExecuteTime": {
     "end_time": "2020-02-15T01:37:17.796927Z",
     "start_time": "2020-02-15T01:37:17.777547Z"
    }
   },
   "outputs": [],
   "source": [
    "def test(model, dataset_test, writer=None, plot=False, global_step=None, seed=42, title=''):\n",
    "    model.eval()\n",
    "    with torch.no_grad():\n",
    "        data_test = dataset_test.generate_curves()\n",
    "\n",
    "        (context_x, context_y), target_x = data_test.query\n",
    "        target_y = data_test.target_y\n",
    "\n",
    "        context_x = context_x.cuda()\n",
    "        context_y = context_y.cuda()\n",
    "        target_x = target_x.cuda()\n",
    "        target_y = target_y.cuda()\n",
    "\n",
    "        y_pred, kl, loss, mse_loss, y_std = model(context_x, context_y, target_x, target_y)\n",
    "\n",
    "        # Lets order the result, for plotting\n",
    "        target_inds = torch.argsort(target_x[0, :, 0])\n",
    "        target_x = target_x[:, target_inds, :]\n",
    "        target_y = target_y[:, target_inds, :]\n",
    "        context_inds = torch.argsort(context_x[0, :, 0])\n",
    "        context_y = context_y[:, context_inds, :]\n",
    "        context_x = context_x[:, context_inds, :]\n",
    "        y_pred = y_pred[:, target_inds, :]\n",
    "        y_std = y_std[:, target_inds, :]\n",
    "        \n",
    "        if writer is not None:\n",
    "            writer.add_scalar('val/loss', loss, global_step=global_step)\n",
    "            writer.add_scalar('val/y_std', y_std.mean(), global_step=global_step)\n",
    "            writer.add_scalar('val/mse_loss', mse_loss, global_step=global_step)\n",
    "            writer.add_scalar('val/kl', kl.mean(), global_step=global_step)\n",
    "        \n",
    "        if plot:\n",
    "            set_seed(seed)\n",
    "            fig = plt.figure()\n",
    "            plt.title(f\"{title}. Iter {global_step}\")            \n",
    "            plot_functions(target_x.detach().cpu().numpy(),\n",
    "                           target_y.detach().cpu().numpy(),\n",
    "                           context_x.detach().cpu().numpy(),\n",
    "                           context_y.detach().cpu().numpy(),\n",
    "                           y_pred.detach().cpu().numpy(),\n",
    "                           y_std.detach().cpu().numpy())\n",
    "            \n",
    "            writer.add_figure('test', fig, global_step=global_step, close=False)\n",
    "            plt.show()\n",
    "            \n",
    "    return y_pred, kl, loss, y_std"
   ]
  },
  {
   "cell_type": "markdown",
   "metadata": {},
   "source": [
    "# Init"
   ]
  },
  {
   "cell_type": "code",
   "execution_count": 9,
   "metadata": {
    "ExecuteTime": {
     "end_time": "2020-02-15T01:37:17.839053Z",
     "start_time": "2020-02-15T01:37:17.823647Z"
    }
   },
   "outputs": [],
   "source": [
    "MAX_CONTEXT_POINTS = 50\n",
    "random_kernel_parameters = True\n",
    "\n",
    "dataset_train = GPCurvesReader(\n",
    "    batch_size=16,\n",
    "    max_num_context=MAX_CONTEXT_POINTS,\n",
    "    random_kernel_parameters=random_kernel_parameters,\n",
    "    sequential=True,\n",
    ")\n",
    "\n",
    "dataset_test = GPCurvesReader(\n",
    "    batch_size=1,\n",
    "    max_num_context=MAX_CONTEXT_POINTS,\n",
    "    testing=True,\n",
    "    random_kernel_parameters=random_kernel_parameters,\n",
    "    sequential=True,\n",
    ")"
   ]
  },
  {
   "cell_type": "markdown",
   "metadata": {},
   "source": [
    "## Replicate ANP paper"
   ]
  },
  {
   "cell_type": "code",
   "execution_count": 10,
   "metadata": {
    "ExecuteTime": {
     "end_time": "2020-02-15T01:37:17.857781Z",
     "start_time": "2020-02-15T01:37:17.845425Z"
    }
   },
   "outputs": [],
   "source": [
    "epochs = 100000\n",
    "PLOT_AFTER = 10000\n",
    "PRINT_AFTER = 1000"
   ]
  },
  {
   "cell_type": "code",
   "execution_count": null,
   "metadata": {
    "ExecuteTime": {
     "start_time": "2020-02-15T01:37:15.900Z"
    },
    "scrolled": true
   },
   "outputs": [
    {
     "name": "stdout",
     "output_type": "stream",
     "text": [
      "runs/Feb15_09-37-17_mjcdesktop-anp_1d_reg\n"
     ]
    },
    {
     "data": {
      "application/vnd.jupyter.widget-view+json": {
       "model_id": "dfd10f911bde4d9b8efc5aac94863c29",
       "version_major": 2,
       "version_minor": 0
      },
      "text/plain": [
       "HBox(children=(FloatProgress(value=0.0, max=100000.0), HTML(value='')))"
      ]
     },
     "metadata": {},
     "output_type": "display_data"
    },
    {
     "name": "stdout",
     "output_type": "stream",
     "text": [
      "train: 0 loss= 0.8772 val_loss= 1.351\n"
     ]
    },
    {
     "data": {
      "image/png": "[encoded data removed]",
      "text/plain": [
       "<Figure size 432x288 with 1 Axes>"
      ]
     },
     "metadata": {
      "needs_background": "light"
     },
     "output_type": "display_data"
    },
    {
     "data": {
      "image/png": "[encoded data removed]",
      "text/plain": [
       "<Figure size 432x288 with 1 Axes>"
      ]
     },
     "metadata": {
      "needs_background": "light"
     },
     "output_type": "display_data"
    }
   ],
   "source": [
    "\n",
    "\n",
    "writer = SummaryWriter(comment='-anp_1d_reg')\n",
    "print(writer.logdir)\n",
    "\n",
    "hparams = dict(\n",
    "    x_dim=1,\n",
    "    y_dim=1,\n",
    "    hidden_dim=128,\n",
    "    latent_dim=128,\n",
    "    latent_enc_self_attn_type=\"uniform\",\n",
    "    det_enc_self_attn_type=\"uniform\",\n",
    "    det_enc_cross_attn_type=\"multihead\",\n",
    "    use_rnn=True)\n",
    "model = LatentModel(**hparams).cuda()\n",
    "\n",
    "optim = torch.optim.Adam(model.parameters(), lr=1e-4)\n",
    "\n",
    "for n_iter in tqdm(range(epochs)):\n",
    "    model.train()\n",
    "\n",
    "    data_train = dataset_train.generate_curves()\n",
    "\n",
    "    (context_x, context_y), target_x = data_train.query\n",
    "    target_y = data_train.target_y\n",
    "\n",
    "    context_x = context_x.cuda()\n",
    "    context_y = context_y.cuda()\n",
    "    target_x = target_x.cuda()\n",
    "    target_y = target_y.cuda()\n",
    "\n",
    "    optim.zero_grad()\n",
    "    y_pred, kl, loss, mse_loss, y_std = model(context_x, context_y, target_x,\n",
    "                                              target_y)\n",
    "    loss.backward()\n",
    "    optim.step()\n",
    "\n",
    "    writer.add_scalar('train/loss', loss, n_iter)\n",
    "    writer.add_scalar('train/mse_loss', mse_loss, n_iter)\n",
    "    writer.add_scalar('train/y_std', y_std.mean(), n_iter)\n",
    "    writer.add_scalar('train/kl', kl.mean(), n_iter)\n",
    "\n",
    "    if n_iter % PRINT_AFTER == 0:\n",
    "        y_pred, kl, val_loss, y_std = test(\n",
    "            model, dataset_test, writer, plot=False, global_step=n_iter)\n",
    "        print(\n",
    "            f\"train: {n_iter} loss={loss.item(): 4.4g} val_loss={val_loss.item(): 4.4g}\"\n",
    "        )\n",
    "\n",
    "    if n_iter % PLOT_AFTER == 0:\n",
    "        test(model, dataset_test, writer, plot=True, global_step=n_iter, title='test')\n",
    "        \n",
    "        test(model, dataset_train, writer, plot=True, global_step=n_iter, seed=n_iter, title='train')"
   ]
  },
  {
   "cell_type": "code",
   "execution_count": null,
   "metadata": {
    "ExecuteTime": {
     "end_time": "2020-02-15T01:35:16.595569Z",
     "start_time": "2020-02-15T01:35:16.586714Z"
    }
   },
   "outputs": [],
   "source": []
  },
  {
   "cell_type": "code",
   "execution_count": null,
   "metadata": {
    "ExecuteTime": {
     "start_time": "2020-02-15T01:37:15.900Z"
    },
    "scrolled": true
   },
   "outputs": [],
   "source": [
    "for i in range(3):\n",
    "    set_seed(i)\n",
    "    test(model, dataset_test, writer, plot=True, global_step=i, seed=i)"
   ]
  },
  {
   "cell_type": "code",
   "execution_count": null,
   "metadata": {
    "ExecuteTime": {
     "start_time": "2020-02-15T01:37:15.900Z"
    }
   },
   "outputs": [],
   "source": [
    "for i in range(3):\n",
    "    test(model, dataset_train, writer, plot=True, global_step=i, seed=i)"
   ]
  },
  {
   "cell_type": "code",
   "execution_count": null,
   "metadata": {
    "ExecuteTime": {
     "start_time": "2020-02-15T01:37:15.900Z"
    },
    "scrolled": true
   },
   "outputs": [],
   "source": [
    "# Final validation\n",
    "loss = torch.stack([test(model, dataset_test)[2] for _ in tqdm(range(100))]).mean().cpu()\n",
    "print('val loss (n=100)', loss)\n",
    "writer.add_hparams(hparams, dict(val_loss=loss))"
   ]
  },
  {
   "cell_type": "markdown",
   "metadata": {
    "ExecuteTime": {
     "end_time": "2020-02-01T03:26:03.797075Z",
     "start_time": "2020-02-01T03:19:32.800Z"
    }
   },
   "source": [
    "## Improved\n",
    "\n",
    "These have no been extensively tested:\n",
    "\n",
    "- use torches ~50% faster multiheaded attention\n",
    "- calc loss in log domain for stability (and untested changes to clipping)\n",
    "- dropout"
   ]
  },
  {
   "cell_type": "code",
   "execution_count": null,
   "metadata": {
    "ExecuteTime": {
     "end_time": "2020-02-01T07:27:59.578047Z",
     "start_time": "2020-02-01T07:27:59.573762Z"
    }
   },
   "outputs": [],
   "source": []
  },
  {
   "cell_type": "code",
   "execution_count": null,
   "metadata": {
    "ExecuteTime": {
     "start_time": "2020-02-15T01:37:15.900Z"
    }
   },
   "outputs": [],
   "source": [
    "writer = SummaryWriter(comment='-anp_1d_impr')\n",
    "print(writer.logdir)\n",
    "                 \n",
    "hparams = dict(\n",
    "    x_dim=1,\n",
    "    y_dim=1,\n",
    "    hidden_dim=128,\n",
    "    latent_dim=128,\n",
    "    latent_enc_self_attn_type=\"ptmultihead\",\n",
    "    det_enc_self_attn_type=\"ptmultihead\",\n",
    "    det_enc_cross_attn_type=\"ptmultihead\",\n",
    "    use_rnn=True\n",
    "    min_std=1e-3,\n",
    "    use_lvar=True,\n",
    "    use_self_attn=True,\n",
    "#     attention_dropout=0.3,\n",
    "#     dropout=0.3,\n",
    "#     batchnorm=True,\n",
    ")\n",
    "model = LatentModel(**hparams).cuda()\n",
    "\n",
    "optim = torch.optim.AdamW(model.parameters(), lr=1e-4)\n",
    "\n",
    "for n_iter in tqdm(range(epochs)):\n",
    "    model.train()\n",
    "\n",
    "    data_train = dataset_train.generate_curves()\n",
    "\n",
    "    (context_x, context_y), target_x = data_train.query\n",
    "    target_y = data_train.target_y\n",
    "\n",
    "    context_x = context_x.cuda()\n",
    "    context_y = context_y.cuda()\n",
    "    target_x = target_x.cuda()\n",
    "    target_y = target_y.cuda()\n",
    "\n",
    "    optim.zero_grad()\n",
    "    y_pred, kl, loss, mse_loss, y_std = model(context_x, context_y, target_x,\n",
    "                                              target_y)\n",
    "    loss.backward()\n",
    "    optim.step()\n",
    "\n",
    "    writer.add_scalar('train/loss', loss, n_iter)\n",
    "    writer.add_scalar('train/mse_loss', mse_loss, n_iter)\n",
    "    writer.add_scalar('train/y_std', y_std.mean(), n_iter)\n",
    "    writer.add_scalar('train/kl', kl.mean(), n_iter)\n",
    "\n",
    "    if n_iter % PRINT_AFTER == 0:\n",
    "        y_pred, kl, val_loss, y_std = test(\n",
    "            model, dataset_test, writer, plot=False, global_step=n_iter)\n",
    "        print(\n",
    "            f\"train: {n_iter} loss={loss.item(): 4.4g} val_loss={val_loss.item(): 4.4g}\"\n",
    "        )\n",
    "\n",
    "    if n_iter % PLOT_AFTER == 0:\n",
    "        test(model, dataset_test, writer, plot=True, global_step=n_iter)\n",
    "        test(model, dataset_train, writer, plot=True, global_step=n_iter, seed=n_iter)"
   ]
  },
  {
   "cell_type": "code",
   "execution_count": null,
   "metadata": {
    "ExecuteTime": {
     "start_time": "2020-02-15T01:37:15.900Z"
    },
    "scrolled": true
   },
   "outputs": [],
   "source": [
    "for i in range(3):\n",
    "    test(model, dataset_test, writer, plot=True, global_step=i, seed=i)"
   ]
  },
  {
   "cell_type": "code",
   "execution_count": null,
   "metadata": {
    "ExecuteTime": {
     "start_time": "2020-02-15T01:37:15.900Z"
    }
   },
   "outputs": [],
   "source": [
    "for i in range(3):\n",
    "    test(model, dataset_train, writer, plot=True, global_step=i, seed=i)"
   ]
  },
  {
   "cell_type": "code",
   "execution_count": null,
   "metadata": {
    "ExecuteTime": {
     "start_time": "2020-02-15T01:37:15.900Z"
    }
   },
   "outputs": [],
   "source": [
    "# Final validation\n",
    "loss = torch.stack([test(model, dataset_test)[2] for _ in tqdm(range(100))]).mean().cpu()\n",
    "print('val loss (n=100)', loss)\n",
    "writer.add_hparams(hparams, dict(val_loss=loss))"
   ]
  },
  {
   "cell_type": "code",
   "execution_count": null,
   "metadata": {
    "ExecuteTime": {
     "start_time": "2020-02-15T01:37:15.900Z"
    }
   },
   "outputs": [],
   "source": [
    "(hparams, dict(val_loss=loss))"
   ]
  },
  {
   "cell_type": "code",
   "execution_count": null,
   "metadata": {},
   "outputs": [],
   "source": []
  },
  {
   "cell_type": "code",
   "execution_count": null,
   "metadata": {},
   "outputs": [],
   "source": []
  },
  {
   "cell_type": "code",
   "execution_count": null,
   "metadata": {},
   "outputs": [],
   "source": []
  },
  {
   "cell_type": "code",
   "execution_count": null,
   "metadata": {},
   "outputs": [],
   "source": []
  },
  {
   "cell_type": "code",
   "execution_count": null,
   "metadata": {},
   "outputs": [],
   "source": []
  },
  {
   "cell_type": "code",
   "execution_count": null,
   "metadata": {},
   "outputs": [],
   "source": []
  }
 ],
 "metadata": {
  "kernelspec": {
   "display_name": "jup3.7.2",
   "language": "python",
   "name": "jup3.7.2"
  },
  "language_info": {
   "codemirror_mode": {
    "name": "ipython",
    "version": 3
   },
   "file_extension": ".py",
   "mimetype": "text/x-python",
   "name": "python",
   "nbconvert_exporter": "python",
   "pygments_lexer": "ipython3",
   "version": "3.7.2"
  },
  "toc": {
   "base_numbering": 1,
   "nav_menu": {},
   "number_sections": true,
   "sideBar": true,
   "skip_h1_title": false,
   "title_cell": "Table of Contents",
   "title_sidebar": "Contents",
   "toc_cell": false,
   "toc_position": {
    "height": "calc(100% - 180px)",
    "left": "10px",
    "top": "150px",
    "width": "384px"
   },
   "toc_section_display": true,
   "toc_window_display": true
  }
 },
 "nbformat": 4,
 "nbformat_minor": 2
}
