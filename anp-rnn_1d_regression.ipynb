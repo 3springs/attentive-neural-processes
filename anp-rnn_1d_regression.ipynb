{
 "cells": [
  {
   "cell_type": "markdown",
   "metadata": {},
   "source": [
    "This notebook tests various neural processes on a toy 1d regression problem. The problem is from the [deep mind papers](https://github.com/deepmind/neural-processes).\n",
    "\n",
    "Results:\n",
    "\n",
    "|model|val_loss|\n",
    "|-----|---------|\n",
    "|ANP-RNN| -0.62|\n",
    "| ANP-RNN(impr)| -1.3217|\n",
    "| ANP| -0.4228|\n",
    "| ANP(impr)| -0.3182|\n",
    "| NP|   |"
   ]
  },
  {
   "cell_type": "code",
   "execution_count": 12,
   "metadata": {
    "ExecuteTime": {
     "end_time": "2020-03-15T07:26:29.324576Z",
     "start_time": "2020-03-15T07:26:29.284683Z"
    }
   },
   "outputs": [],
   "source": [
    "%matplotlib inline\n",
    "%reload_ext autoreload"
   ]
  },
  {
   "cell_type": "code",
   "execution_count": 13,
   "metadata": {
    "ExecuteTime": {
     "end_time": "2020-03-15T07:26:29.596545Z",
     "start_time": "2020-03-15T07:26:29.587472Z"
    }
   },
   "outputs": [
    {
     "name": "stdout",
     "output_type": "stream",
     "text": [
      "Populating the interactive namespace from numpy and matplotlib\n"
     ]
    },
    {
     "name": "stderr",
     "output_type": "stream",
     "text": [
      "/home/wassname/.pyenv/versions/3.7.2/envs/jup3.7.2/lib/python3.7/site-packages/IPython/core/magics/pylab.py:160: UserWarning: pylab import has clobbered these variables: ['test', 'plt']\n",
      "`%matplotlib` prevents importing * from pylab and numpy\n",
      "  \"\\n`%matplotlib` prevents importing * from pylab and numpy\"\n"
     ]
    }
   ],
   "source": [
    "import pandas as pd\n",
    "import numpy as np\n",
    "import matplotlib as plt\n",
    "import collections\n",
    "from tqdm.auto import tqdm\n",
    "from tensorboardX import SummaryWriter\n",
    "\n",
    "import math\n",
    "%pylab inline"
   ]
  },
  {
   "cell_type": "code",
   "execution_count": 14,
   "metadata": {
    "ExecuteTime": {
     "end_time": "2020-03-15T07:26:29.837313Z",
     "start_time": "2020-03-15T07:26:29.833007Z"
    }
   },
   "outputs": [],
   "source": [
    "import torch\n",
    "from torch import nn\n",
    "import torch.nn.functional as F\n",
    "from torch.utils.data import TensorDataset, DataLoader"
   ]
  },
  {
   "cell_type": "code",
   "execution_count": 15,
   "metadata": {
    "ExecuteTime": {
     "end_time": "2020-03-15T07:26:30.086442Z",
     "start_time": "2020-03-15T07:26:30.081435Z"
    }
   },
   "outputs": [],
   "source": [
    "from neural_processes.data.gp_curves import GPCurvesReader\n",
    "from neural_processes.models.model import LatentModel"
   ]
  },
  {
   "cell_type": "markdown",
   "metadata": {},
   "source": [
    "## Util"
   ]
  },
  {
   "cell_type": "code",
   "execution_count": 16,
   "metadata": {
    "ExecuteTime": {
     "end_time": "2020-03-15T07:26:31.166314Z",
     "start_time": "2020-03-15T07:26:31.161096Z"
    }
   },
   "outputs": [],
   "source": [
    "def set_seed(n=42):\n",
    "    np.random.seed(n)\n",
    "    torch.manual_seed(n)\n",
    "#     torch.backends.cudnn.deterministic = True\n",
    "#     torch.backends.cudnn.benchmark = False"
   ]
  },
  {
   "cell_type": "code",
   "execution_count": 17,
   "metadata": {
    "ExecuteTime": {
     "end_time": "2020-03-15T07:26:31.355499Z",
     "start_time": "2020-03-15T07:26:31.343493Z"
    }
   },
   "outputs": [],
   "source": [
    "def plot_functions(target_x, target_y, context_x, context_y, pred_y, std):\n",
    "    \"\"\"Plots the predicted mean and variance and the context points.\n",
    "  \n",
    "  Args: \n",
    "    target_x: An array of shape [B,num_targets,1] that contains the\n",
    "        x values of the target points.\n",
    "    target_y: An array of shape [B,num_targets,1] that contains the\n",
    "        y values of the target points.\n",
    "    context_x: An array of shape [B,num_contexts,1] that contains \n",
    "        the x values of the context points.\n",
    "    context_y: An array of shape [B,num_contexts,1] that contains \n",
    "        the y values of the context points.\n",
    "    pred_y: An array of shape [B,num_targets,1] that contains the\n",
    "        predicted means of the y values at the target points in target_x.\n",
    "    std: An array of shape [B,num_targets,1] that contains the\n",
    "        predicted std dev of the y values at the target points in target_x.\n",
    "      \"\"\"\n",
    "    # Plot everything\n",
    "    plt.plot(target_x[0], pred_y[0], 'b', linewidth=2)\n",
    "    plt.plot(target_x[0], target_y[0], 'k:', linewidth=2)\n",
    "    plt.plot(context_x[0], context_y[0], 'ko', markersize=10)\n",
    "    plt.fill_between(\n",
    "          target_x[0, :, 0],\n",
    "          pred_y[0, :, 0] - std[0, :, 0],\n",
    "          pred_y[0, :, 0] + std[0, :, 0],\n",
    "          alpha=0.25,\n",
    "          facecolor='blue',\n",
    "          interpolate=True)\n",
    "\n",
    "    # Make the plot pretty\n",
    "    plt.yticks([-2, 0, 2], fontsize=16)\n",
    "    plt.xticks([-2, 0, 2], fontsize=16)\n",
    "    plt.ylim([-2, 2])\n",
    "    plt.grid('off')\n",
    "    ax = plt.gca()"
   ]
  },
  {
   "cell_type": "code",
   "execution_count": 32,
   "metadata": {
    "ExecuteTime": {
     "end_time": "2020-03-15T07:31:27.293507Z",
     "start_time": "2020-03-15T07:31:27.270845Z"
    }
   },
   "outputs": [],
   "source": [
    "def test(model, dataset_test, writer=None, plot=False, global_step=None, seed=42, title=''):\n",
    "    model.eval()\n",
    "    with torch.no_grad():\n",
    "        data_test = dataset_test.generate_curves()\n",
    "\n",
    "        (context_x, context_y), target_x = data_test.query\n",
    "        target_y = data_test.target_y\n",
    "\n",
    "        context_x = context_x.cuda()\n",
    "        context_y = context_y.cuda()\n",
    "        target_x = target_x.cuda()\n",
    "        target_y = target_y.cuda()\n",
    "\n",
    "#         y_pred, kl, loss, mse_loss, y_std\n",
    "        y_pred, losses, extra = model(context_x, context_y, target_x, target_y)\n",
    "        y_std = extra['dist'].scale\n",
    "\n",
    "        # Lets order the result, for plotting\n",
    "        target_inds = torch.argsort(target_x[0, :, 0])\n",
    "        target_x = target_x[:, target_inds, :]\n",
    "        target_y = target_y[:, target_inds, :]\n",
    "        context_inds = torch.argsort(context_x[0, :, 0])\n",
    "        context_y = context_y[:, context_inds, :]\n",
    "        context_x = context_x[:, context_inds, :]\n",
    "        y_pred = y_pred[:, target_inds, :]\n",
    "        y_std = y_std[:, target_inds, :]\n",
    "        \n",
    "        if writer is not None:\n",
    "            writer.add_scalar('val/loss', losses[\"loss\"], global_step=global_step)\n",
    "            writer.add_scalar('val/y_std', y_std.mean(), global_step=global_step)\n",
    "            writer.add_scalar('val/mse_loss', losses[\"loss_mse\"], global_step=global_step)\n",
    "            writer.add_scalar('val/kl', losses[\"loss_kl\"].mean(), global_step=global_step)\n",
    "        \n",
    "        if plot:\n",
    "            set_seed(seed)\n",
    "            fig = plt.figure()\n",
    "            plt.title(f\"{title}. Iter {global_step}\")            \n",
    "            plot_functions(target_x.detach().cpu().numpy(),\n",
    "                           target_y.detach().cpu().numpy(),\n",
    "                           context_x.detach().cpu().numpy(),\n",
    "                           context_y.detach().cpu().numpy(),\n",
    "                           y_pred.detach().cpu().numpy(),\n",
    "                           y_std.detach().cpu().numpy())\n",
    "            \n",
    "            writer.add_figure('test', fig, global_step=global_step, close=False)\n",
    "            plt.show()\n",
    "            \n",
    "    return y_pred, losses[\"loss_kl\"], losses[\"loss\"], y_std"
   ]
  },
  {
   "cell_type": "code",
   "execution_count": 33,
   "metadata": {
    "ExecuteTime": {
     "end_time": "2020-03-15T07:31:27.470761Z",
     "start_time": "2020-03-15T07:31:27.465244Z"
    }
   },
   "outputs": [],
   "source": [
    "def evaluate(model, dataset_test, n=100):\n",
    "    return torch.stack([\n",
    "        test(model, dataset_test)[2] for _ in tqdm(range(n))\n",
    "    ]).mean().cpu()"
   ]
  },
  {
   "cell_type": "markdown",
   "metadata": {},
   "source": [
    "# Init"
   ]
  },
  {
   "cell_type": "code",
   "execution_count": 34,
   "metadata": {
    "ExecuteTime": {
     "end_time": "2020-03-15T07:31:27.808592Z",
     "start_time": "2020-03-15T07:31:27.796659Z"
    }
   },
   "outputs": [],
   "source": [
    "MAX_CONTEXT_POINTS = 50\n",
    "random_kernel_parameters = True\n",
    "\n",
    "dataset_train = GPCurvesReader(\n",
    "    batch_size=16,\n",
    "    max_num_context=MAX_CONTEXT_POINTS,\n",
    "    random_kernel_parameters=random_kernel_parameters,\n",
    "    sequential=True,\n",
    ")\n",
    "\n",
    "dataset_test = GPCurvesReader(\n",
    "    batch_size=1,\n",
    "    max_num_context=MAX_CONTEXT_POINTS,\n",
    "    testing=True,\n",
    "    random_kernel_parameters=random_kernel_parameters,\n",
    "    sequential=True,\n",
    ")"
   ]
  },
  {
   "cell_type": "markdown",
   "metadata": {},
   "source": [
    "## Replicate ANP paper"
   ]
  },
  {
   "cell_type": "code",
   "execution_count": 35,
   "metadata": {
    "ExecuteTime": {
     "end_time": "2020-03-15T07:31:28.071408Z",
     "start_time": "2020-03-15T07:31:28.066209Z"
    }
   },
   "outputs": [],
   "source": [
    "epochs = 100000\n",
    "PLOT_AFTER = sorted(set([100, 200, 400, 1000, 2000, 4000, 8000] + list(range(0, epochs+1, 10000))))\n",
    "PRINT_AFTER = 1000"
   ]
  },
  {
   "cell_type": "code",
   "execution_count": null,
   "metadata": {
    "ExecuteTime": {
     "end_time": "2020-02-15T07:19:07.054039Z",
     "start_time": "2020-02-15T07:19:07.044472Z"
    }
   },
   "outputs": [],
   "source": []
  },
  {
   "cell_type": "code",
   "execution_count": 36,
   "metadata": {
    "ExecuteTime": {
     "end_time": "2020-03-15T07:31:46.700930Z",
     "start_time": "2020-03-15T07:31:28.464980Z"
    },
    "scrolled": true
   },
   "outputs": [
    {
     "name": "stdout",
     "output_type": "stream",
     "text": [
      "runs/Mar15_15-31-28_mjcdesktop-anp-rnn_1d_reg\n"
     ]
    },
    {
     "data": {
      "application/vnd.jupyter.widget-view+json": {
       "model_id": "ebe1609e16714bff9edd1a17fdaed5ce",
       "version_major": 2,
       "version_minor": 0
      },
      "text/plain": [
       "HBox(children=(FloatProgress(value=0.0, max=100000.0), HTML(value='')))"
      ]
     },
     "metadata": {},
     "output_type": "display_data"
    },
    {
     "data": {
      "application/vnd.jupyter.widget-view+json": {
       "model_id": "86e7dbfceaee4232b28d8a3d6c9487ef",
       "version_major": 2,
       "version_minor": 0
      },
      "text/plain": [
       "HBox(children=(FloatProgress(value=0.0), HTML(value='')))"
      ]
     },
     "metadata": {},
     "output_type": "display_data"
    },
    {
     "name": "stdout",
     "output_type": "stream",
     "text": [
      "\n",
      "train: 0 loss= 1.219 val_loss= 0.9614\n"
     ]
    },
    {
     "data": {
      "image/png": "[encoded data removed]",
      "text/plain": [
       "<Figure size 432x288 with 1 Axes>"
      ]
     },
     "metadata": {
      "needs_background": "light"
     },
     "output_type": "display_data"
    },
    {
     "data": {
      "image/png": "[encoded data removed]",
      "text/plain": [
       "<Figure size 432x288 with 1 Axes>"
      ]
     },
     "metadata": {
      "needs_background": "light"
     },
     "output_type": "display_data"
    },
    {
     "data": {
      "image/png": "[encoded data removed]",
      "text/plain": [
       "<Figure size 432x288 with 1 Axes>"
      ]
     },
     "metadata": {
      "needs_background": "light"
     },
     "output_type": "display_data"
    },
    {
     "data": {
      "image/png": "[encoded data removed]",
      "text/plain": [
       "<Figure size 432x288 with 1 Axes>"
      ]
     },
     "metadata": {
      "needs_background": "light"
     },
     "output_type": "display_data"
    },
    {
     "ename": "KeyboardInterrupt",
     "evalue": "",
     "output_type": "error",
     "traceback": [
      "\u001b[0;31m---------------------------------------------------------------------------\u001b[0m",
      "\u001b[0;31mKeyboardInterrupt\u001b[0m                         Traceback (most recent call last)",
      "\u001b[0;32m<ipython-input-36-da74ef626d81>\u001b[0m in \u001b[0;36m<module>\u001b[0;34m\u001b[0m\n\u001b[1;32m     35\u001b[0m     \u001b[0my_std\u001b[0m \u001b[0;34m=\u001b[0m \u001b[0mextra\u001b[0m\u001b[0;34m[\u001b[0m\u001b[0;34m'dist'\u001b[0m\u001b[0;34m]\u001b[0m\u001b[0;34m.\u001b[0m\u001b[0mscale\u001b[0m\u001b[0;34m\u001b[0m\u001b[0;34m\u001b[0m\u001b[0m\n\u001b[1;32m     36\u001b[0m     \u001b[0mloss\u001b[0m \u001b[0;34m=\u001b[0m \u001b[0mlosses\u001b[0m\u001b[0;34m[\u001b[0m\u001b[0;34m'loss'\u001b[0m\u001b[0;34m]\u001b[0m\u001b[0;34m\u001b[0m\u001b[0;34m\u001b[0m\u001b[0m\n\u001b[0;32m---> 37\u001b[0;31m     \u001b[0mloss\u001b[0m\u001b[0;34m.\u001b[0m\u001b[0mbackward\u001b[0m\u001b[0;34m(\u001b[0m\u001b[0;34m)\u001b[0m\u001b[0;34m\u001b[0m\u001b[0;34m\u001b[0m\u001b[0m\n\u001b[0m\u001b[1;32m     38\u001b[0m     \u001b[0moptim\u001b[0m\u001b[0;34m.\u001b[0m\u001b[0mstep\u001b[0m\u001b[0;34m(\u001b[0m\u001b[0;34m)\u001b[0m\u001b[0;34m\u001b[0m\u001b[0;34m\u001b[0m\u001b[0m\n\u001b[1;32m     39\u001b[0m \u001b[0;34m\u001b[0m\u001b[0m\n",
      "\u001b[0;32m~/.pyenv/versions/3.7.2/envs/jup3.7.2/lib/python3.7/site-packages/torch/tensor.py\u001b[0m in \u001b[0;36mbackward\u001b[0;34m(self, gradient, retain_graph, create_graph)\u001b[0m\n\u001b[1;32m    164\u001b[0m                 \u001b[0mproducts\u001b[0m\u001b[0;34m.\u001b[0m \u001b[0mDefaults\u001b[0m \u001b[0mto\u001b[0m\u001b[0;31m \u001b[0m\u001b[0;31m`\u001b[0m\u001b[0;31m`\u001b[0m\u001b[0;32mFalse\u001b[0m\u001b[0;31m`\u001b[0m\u001b[0;31m`\u001b[0m\u001b[0;34m.\u001b[0m\u001b[0;34m\u001b[0m\u001b[0;34m\u001b[0m\u001b[0m\n\u001b[1;32m    165\u001b[0m         \"\"\"\n\u001b[0;32m--> 166\u001b[0;31m         \u001b[0mtorch\u001b[0m\u001b[0;34m.\u001b[0m\u001b[0mautograd\u001b[0m\u001b[0;34m.\u001b[0m\u001b[0mbackward\u001b[0m\u001b[0;34m(\u001b[0m\u001b[0mself\u001b[0m\u001b[0;34m,\u001b[0m \u001b[0mgradient\u001b[0m\u001b[0;34m,\u001b[0m \u001b[0mretain_graph\u001b[0m\u001b[0;34m,\u001b[0m \u001b[0mcreate_graph\u001b[0m\u001b[0;34m)\u001b[0m\u001b[0;34m\u001b[0m\u001b[0;34m\u001b[0m\u001b[0m\n\u001b[0m\u001b[1;32m    167\u001b[0m \u001b[0;34m\u001b[0m\u001b[0m\n\u001b[1;32m    168\u001b[0m     \u001b[0;32mdef\u001b[0m \u001b[0mregister_hook\u001b[0m\u001b[0;34m(\u001b[0m\u001b[0mself\u001b[0m\u001b[0;34m,\u001b[0m \u001b[0mhook\u001b[0m\u001b[0;34m)\u001b[0m\u001b[0;34m:\u001b[0m\u001b[0;34m\u001b[0m\u001b[0;34m\u001b[0m\u001b[0m\n",
      "\u001b[0;32m~/.pyenv/versions/3.7.2/envs/jup3.7.2/lib/python3.7/site-packages/torch/autograd/__init__.py\u001b[0m in \u001b[0;36mbackward\u001b[0;34m(tensors, grad_tensors, retain_graph, create_graph, grad_variables)\u001b[0m\n\u001b[1;32m     97\u001b[0m     Variable._execution_engine.run_backward(\n\u001b[1;32m     98\u001b[0m         \u001b[0mtensors\u001b[0m\u001b[0;34m,\u001b[0m \u001b[0mgrad_tensors\u001b[0m\u001b[0;34m,\u001b[0m \u001b[0mretain_graph\u001b[0m\u001b[0;34m,\u001b[0m \u001b[0mcreate_graph\u001b[0m\u001b[0;34m,\u001b[0m\u001b[0;34m\u001b[0m\u001b[0;34m\u001b[0m\u001b[0m\n\u001b[0;32m---> 99\u001b[0;31m         allow_unreachable=True)  # allow_unreachable flag\n\u001b[0m\u001b[1;32m    100\u001b[0m \u001b[0;34m\u001b[0m\u001b[0m\n\u001b[1;32m    101\u001b[0m \u001b[0;34m\u001b[0m\u001b[0m\n",
      "\u001b[0;31mKeyboardInterrupt\u001b[0m: "
     ]
    }
   ],
   "source": [
    "\n",
    "\n",
    "writer = SummaryWriter(comment='-anp-rnn_1d_reg')\n",
    "print(writer.logdir)\n",
    "\n",
    "hparams = dict(\n",
    "    x_dim=1,\n",
    "    y_dim=1,\n",
    "    hidden_dim=128,\n",
    "    latent_dim=128,\n",
    "    latent_enc_self_attn_type=\"uniform\",\n",
    "    det_enc_self_attn_type=\"uniform\",\n",
    "    det_enc_cross_attn_type=\"multihead\",\n",
    "    use_rnn=True)\n",
    "model = LatentModel(**hparams).cuda()\n",
    "\n",
    "optim = torch.optim.Adam(model.parameters(), lr=1e-4)\n",
    "\n",
    "for n_iter in tqdm(range(epochs)):\n",
    "    model.train()\n",
    "\n",
    "    data_train = dataset_train.generate_curves()\n",
    "\n",
    "    (context_x, context_y), target_x = data_train.query\n",
    "    target_y = data_train.target_y\n",
    "\n",
    "    context_x = context_x.cuda()\n",
    "    context_y = context_y.cuda()\n",
    "    target_x = target_x.cuda()\n",
    "    target_y = target_y.cuda()\n",
    "\n",
    "    optim.zero_grad()\n",
    "    y_pred, losses, extra = model(context_x, context_y, target_x,\n",
    "                                              target_y)\n",
    "    y_std = extra['dist'].scale\n",
    "    loss = losses['loss']\n",
    "    loss.backward()\n",
    "    optim.step()\n",
    "\n",
    "    writer.add_scalar('train/loss', loss, n_iter)\n",
    "    writer.add_scalar('train/mse', losses['loss_mse'], n_iter)\n",
    "    writer.add_scalar('train/y_std', y_std.mean(), n_iter)\n",
    "    writer.add_scalar('train/kl', losses['loss_kl'].mean(), n_iter)\n",
    "\n",
    "    if n_iter % PRINT_AFTER == 0:\n",
    "        y_pred, kl, val_loss, y_std = test(\n",
    "            model, dataset_test, writer, plot=False, global_step=n_iter)\n",
    "        val_loss = evaluate(model, dataset_test, 100)\n",
    "        writer.add_scalar('val/loss_mean', val_loss, n_iter)\n",
    "        print(\n",
    "            f\"train: {n_iter} loss={loss.item(): 4.4g} val_loss={val_loss.item(): 4.4g}\"\n",
    "        )\n",
    "\n",
    "    if n_iter in PLOT_AFTER:\n",
    "        test(model, dataset_test, writer, plot=True, global_step=n_iter, title='test')\n",
    "        \n",
    "        test(model, dataset_train, writer, plot=True, global_step=n_iter, seed=n_iter, title='train')\n",
    "        \n",
    "    # Final validation\n",
    "val_loss = evaluate(model, dataset_test, 300)\n",
    "print('val loss (n=300)', loss)\n",
    "writer.add_hparams(hparams, dict(val_loss=loss))\n",
    "\n",
    "for i in range(3):\n",
    "    set_seed(i)\n",
    "    test(model, dataset_test, writer, plot=True, global_step=-1, seed=i, title='test_final')\n",
    "    \n",
    "for i in range(3):\n",
    "    test(model, dataset_train, writer, plot=True, global_step=-1, seed=i, title='train_final')"
   ]
  },
  {
   "cell_type": "code",
   "execution_count": null,
   "metadata": {
    "ExecuteTime": {
     "end_time": "2020-02-15T07:11:03.866882Z",
     "start_time": "2020-02-15T07:09:00.100Z"
    }
   },
   "outputs": [],
   "source": []
  },
  {
   "cell_type": "code",
   "execution_count": null,
   "metadata": {
    "ExecuteTime": {
     "end_time": "2020-02-15T07:11:03.868460Z",
     "start_time": "2020-02-15T07:09:00.100Z"
    },
    "scrolled": true
   },
   "outputs": [],
   "source": []
  },
  {
   "cell_type": "markdown",
   "metadata": {
    "ExecuteTime": {
     "end_time": "2020-02-01T03:26:03.797075Z",
     "start_time": "2020-02-01T03:19:32.800Z"
    }
   },
   "source": [
    "## Improved\n",
    "\n",
    "These have no tbeen extensively tested:"
   ]
  },
  {
   "cell_type": "code",
   "execution_count": 37,
   "metadata": {
    "ExecuteTime": {
     "end_time": "2020-03-15T07:31:49.606656Z",
     "start_time": "2020-03-15T07:31:49.420978Z"
    }
   },
   "outputs": [
    {
     "name": "stdout",
     "output_type": "stream",
     "text": [
      "runs/Mar15_15-31-49_mjcdesktop-anp-rnn_1d_impr\n"
     ]
    },
    {
     "data": {
      "application/vnd.jupyter.widget-view+json": {
       "model_id": "7008497847134666929acfcaa114da71",
       "version_major": 2,
       "version_minor": 0
      },
      "text/plain": [
       "HBox(children=(FloatProgress(value=0.0, max=100000.0), HTML(value='')))"
      ]
     },
     "metadata": {},
     "output_type": "display_data"
    },
    {
     "ename": "ValueError",
     "evalue": "not enough values to unpack (expected 5, got 3)",
     "output_type": "error",
     "traceback": [
      "\u001b[0;31m---------------------------------------------------------------------------\u001b[0m",
      "\u001b[0;31mValueError\u001b[0m                                Traceback (most recent call last)",
      "\u001b[0;32m<ipython-input-37-053ceacd9c45>\u001b[0m in \u001b[0;36m<module>\u001b[0;34m\u001b[0m\n\u001b[1;32m     37\u001b[0m     \u001b[0moptim\u001b[0m\u001b[0;34m.\u001b[0m\u001b[0mzero_grad\u001b[0m\u001b[0;34m(\u001b[0m\u001b[0;34m)\u001b[0m\u001b[0;34m\u001b[0m\u001b[0;34m\u001b[0m\u001b[0m\n\u001b[1;32m     38\u001b[0m     y_pred, kl, loss, mse_loss, y_std = model(context_x, context_y, target_x,\n\u001b[0;32m---> 39\u001b[0;31m                                               target_y)\n\u001b[0m\u001b[1;32m     40\u001b[0m     \u001b[0mloss\u001b[0m\u001b[0;34m.\u001b[0m\u001b[0mbackward\u001b[0m\u001b[0;34m(\u001b[0m\u001b[0;34m)\u001b[0m\u001b[0;34m\u001b[0m\u001b[0;34m\u001b[0m\u001b[0m\n\u001b[1;32m     41\u001b[0m     \u001b[0moptim\u001b[0m\u001b[0;34m.\u001b[0m\u001b[0mstep\u001b[0m\u001b[0;34m(\u001b[0m\u001b[0;34m)\u001b[0m\u001b[0;34m\u001b[0m\u001b[0;34m\u001b[0m\u001b[0m\n",
      "\u001b[0;31mValueError\u001b[0m: not enough values to unpack (expected 5, got 3)"
     ]
    }
   ],
   "source": [
    "writer = SummaryWriter(comment='-anp-rnn_1d_impr')\n",
    "print(writer.logdir)\n",
    "                 \n",
    "hparams = dict(\n",
    "    x_dim=1,\n",
    "    y_dim=1,\n",
    "    hidden_dim=128,\n",
    "    latent_dim=128,\n",
    "    latent_enc_self_attn_type=\"ptmultihead\",\n",
    "    det_enc_self_attn_type=\"uniform\",\n",
    "    det_enc_cross_attn_type=\"uniform\",\n",
    "    use_rnn=True,\n",
    "    min_std=1e-3,\n",
    "    use_lvar=True,\n",
    "    use_self_attn=True,\n",
    "#     attention_dropout=0.3,\n",
    "#     dropout=0.3,\n",
    "#     batchnorm=True,\n",
    ")\n",
    "model = LatentModel(**hparams).cuda()\n",
    "\n",
    "optim = torch.optim.AdamW(model.parameters(), lr=1e-4)\n",
    "\n",
    "for n_iter in tqdm(range(epochs)):\n",
    "    model.train()\n",
    "\n",
    "    data_train = dataset_train.generate_curves()\n",
    "\n",
    "    (context_x, context_y), target_x = data_train.query\n",
    "    target_y = data_train.target_y\n",
    "\n",
    "    context_x = context_x.cuda()\n",
    "    context_y = context_y.cuda()\n",
    "    target_x = target_x.cuda()\n",
    "    target_y = target_y.cuda()\n",
    "\n",
    "    optim.zero_grad()\n",
    "    y_pred, losses, extra = model(context_x, context_y, target_x,\n",
    "                                              target_y)\n",
    "    y_std = extra['dist'].scale\n",
    "    loss = losses['loss']\n",
    "    loss.backward()\n",
    "    optim.step()\n",
    "\n",
    "    writer.add_scalar('train/loss', loss, n_iter)\n",
    "    writer.add_scalar('train/mse', losses['loss_mse'], n_iter)\n",
    "    writer.add_scalar('train/y_std', y_std.mean(), n_iter)\n",
    "    writer.add_scalar('train/kl', losses['loss_kl'].mean(), n_iter)\n",
    "\n",
    "    if n_iter % PRINT_AFTER == 0:\n",
    "        y_pred, kl, val_loss, y_std = test(\n",
    "            model, dataset_test, writer, plot=False, global_step=n_iter)\n",
    "        val_loss = evaluate(model, dataset_test, 100)\n",
    "        writer.add_scalar('val/loss_mean', val_loss, n_iter)\n",
    "        print(\n",
    "            f\"train: {n_iter} loss={loss.item(): 4.4g} val_loss={val_loss.item(): 4.4g}\"\n",
    "        )\n",
    "\n",
    "    if n_iter in PLOT_AFTER:\n",
    "        test(model, dataset_test, writer, plot=True, global_step=n_iter, title='test')\n",
    "        \n",
    "        test(model, dataset_train, writer, plot=True, global_step=n_iter, seed=n_iter, title='train')\n",
    "        \n",
    "    # Final validation\n",
    "val_loss = evaluate(model, dataset_test, 300)\n",
    "print('val loss (n=300)', loss)\n",
    "writer.add_hparams(hparams, dict(val_loss=loss))\n",
    "\n",
    "for i in range(3):\n",
    "    set_seed(i)\n",
    "    test(model, dataset_test, writer, plot=True, global_step=-1, seed=i, title='test_final')\n",
    "    \n",
    "for i in range(3):\n",
    "    test(model, dataset_train, writer, plot=True, global_step=-1, seed=i, title='train_final')"
   ]
  },
  {
   "cell_type": "code",
   "execution_count": null,
   "metadata": {},
   "outputs": [],
   "source": []
  },
  {
   "cell_type": "markdown",
   "metadata": {
    "ExecuteTime": {
     "end_time": "2020-02-15T07:11:03.881881Z",
     "start_time": "2020-02-15T07:11:00.000Z"
    }
   },
   "source": [
    "# ANP"
   ]
  },
  {
   "cell_type": "code",
   "execution_count": 39,
   "metadata": {
    "ExecuteTime": {
     "end_time": "2020-03-15T07:32:41.919168Z",
     "start_time": "2020-03-15T07:32:41.748195Z"
    }
   },
   "outputs": [
    {
     "name": "stdout",
     "output_type": "stream",
     "text": [
      "runs/Mar15_15-32-41_mjcdesktop-anp_1d\n"
     ]
    },
    {
     "data": {
      "application/vnd.jupyter.widget-view+json": {
       "model_id": "cab4131fc33b4b5887f5fed9e8b8eaee",
       "version_major": 2,
       "version_minor": 0
      },
      "text/plain": [
       "HBox(children=(FloatProgress(value=0.0, max=100000.0), HTML(value='')))"
      ]
     },
     "metadata": {},
     "output_type": "display_data"
    },
    {
     "ename": "NameError",
     "evalue": "name 'mse_loss' is not defined",
     "output_type": "error",
     "traceback": [
      "\u001b[0;31m---------------------------------------------------------------------------\u001b[0m",
      "\u001b[0;31mNameError\u001b[0m                                 Traceback (most recent call last)",
      "\u001b[0;32m<ipython-input-39-a8fa5b961d88>\u001b[0m in \u001b[0;36m<module>\u001b[0;34m\u001b[0m\n\u001b[1;32m     37\u001b[0m \u001b[0;34m\u001b[0m\u001b[0m\n\u001b[1;32m     38\u001b[0m     \u001b[0mwriter\u001b[0m\u001b[0;34m.\u001b[0m\u001b[0madd_scalar\u001b[0m\u001b[0;34m(\u001b[0m\u001b[0;34m'train/loss'\u001b[0m\u001b[0;34m,\u001b[0m \u001b[0mloss\u001b[0m\u001b[0;34m,\u001b[0m \u001b[0mn_iter\u001b[0m\u001b[0;34m)\u001b[0m\u001b[0;34m\u001b[0m\u001b[0;34m\u001b[0m\u001b[0m\n\u001b[0;32m---> 39\u001b[0;31m     \u001b[0mwriter\u001b[0m\u001b[0;34m.\u001b[0m\u001b[0madd_scalar\u001b[0m\u001b[0;34m(\u001b[0m\u001b[0;34m'train/mse_loss'\u001b[0m\u001b[0;34m,\u001b[0m \u001b[0mmse_loss\u001b[0m\u001b[0;34m,\u001b[0m \u001b[0mn_iter\u001b[0m\u001b[0;34m)\u001b[0m\u001b[0;34m\u001b[0m\u001b[0;34m\u001b[0m\u001b[0m\n\u001b[0m\u001b[1;32m     40\u001b[0m     \u001b[0mwriter\u001b[0m\u001b[0;34m.\u001b[0m\u001b[0madd_scalar\u001b[0m\u001b[0;34m(\u001b[0m\u001b[0;34m'train/y_std'\u001b[0m\u001b[0;34m,\u001b[0m \u001b[0my_std\u001b[0m\u001b[0;34m.\u001b[0m\u001b[0mmean\u001b[0m\u001b[0;34m(\u001b[0m\u001b[0;34m)\u001b[0m\u001b[0;34m,\u001b[0m \u001b[0mn_iter\u001b[0m\u001b[0;34m)\u001b[0m\u001b[0;34m\u001b[0m\u001b[0;34m\u001b[0m\u001b[0m\n\u001b[1;32m     41\u001b[0m     \u001b[0mwriter\u001b[0m\u001b[0;34m.\u001b[0m\u001b[0madd_scalar\u001b[0m\u001b[0;34m(\u001b[0m\u001b[0;34m'train/kl'\u001b[0m\u001b[0;34m,\u001b[0m \u001b[0mkl\u001b[0m\u001b[0;34m.\u001b[0m\u001b[0mmean\u001b[0m\u001b[0;34m(\u001b[0m\u001b[0;34m)\u001b[0m\u001b[0;34m,\u001b[0m \u001b[0mn_iter\u001b[0m\u001b[0;34m)\u001b[0m\u001b[0;34m\u001b[0m\u001b[0;34m\u001b[0m\u001b[0m\n",
      "\u001b[0;31mNameError\u001b[0m: name 'mse_loss' is not defined"
     ]
    }
   ],
   "source": [
    "writer = SummaryWriter(comment='-anp_1d')\n",
    "print(writer.logdir)\n",
    "                 \n",
    "hparams = dict(\n",
    "    x_dim=1,\n",
    "    y_dim=1,\n",
    "    hidden_dim=128,\n",
    "    latent_dim=128,\n",
    "    latent_enc_self_attn_type=\"multihead\",\n",
    "    det_enc_self_attn_type=\"multihead\",\n",
    "    det_enc_cross_attn_type=\"multihead\",\n",
    "    use_rnn=False)\n",
    "model = LatentModel(**hparams).cuda()\n",
    "\n",
    "optim = torch.optim.AdamW(model.parameters(), lr=1e-4)\n",
    "\n",
    "for n_iter in tqdm(range(epochs)):\n",
    "    model.train()\n",
    "\n",
    "    data_train = dataset_train.generate_curves()\n",
    "\n",
    "    (context_x, context_y), target_x = data_train.query\n",
    "    target_y = data_train.target_y\n",
    "\n",
    "    context_x = context_x.cuda()\n",
    "    context_y = context_y.cuda()\n",
    "    target_x = target_x.cuda()\n",
    "    target_y = target_y.cuda()\n",
    "\n",
    "    optim.zero_grad()\n",
    "    y_pred, losses, extra = model(context_x, context_y, target_x,\n",
    "                                              target_y)\n",
    "    y_std = extra['dist'].scale\n",
    "    loss = losses['loss']\n",
    "    loss.backward()\n",
    "    optim.step()\n",
    "\n",
    "    writer.add_scalar('train/loss', loss, n_iter)\n",
    "    writer.add_scalar('train/mse', losses['loss_mse'], n_iter)\n",
    "    writer.add_scalar('train/y_std', y_std.mean(), n_iter)\n",
    "    writer.add_scalar('train/kl', losses['loss_kl'].mean(), n_iter)\n",
    "\n",
    "    if n_iter % PRINT_AFTER == 0:\n",
    "        y_pred, kl, val_loss, y_std = test(\n",
    "            model, dataset_test, writer, plot=False, global_step=n_iter)\n",
    "        val_loss = evaluate(model, dataset_test, 100)\n",
    "        writer.add_scalar('val/loss_mean', val_loss, n_iter)\n",
    "        print(\n",
    "            f\"train: {n_iter} loss={loss.item(): 4.4g} val_loss={val_loss.item(): 4.4g}\"\n",
    "        )\n",
    "\n",
    "    if n_iter in PLOT_AFTER:\n",
    "        test(model, dataset_test, writer, plot=True, global_step=n_iter, title='test')\n",
    "        \n",
    "        test(model, dataset_train, writer, plot=True, global_step=n_iter, seed=n_iter, title='train')\n",
    "        \n",
    "    # Final validation\n",
    "val_loss = evaluate(model, dataset_test, 300)\n",
    "print('val loss (n=300)', loss)\n",
    "writer.add_hparams(hparams, dict(val_loss=loss))\n",
    "\n",
    "for i in range(3):\n",
    "    set_seed(i)\n",
    "    test(model, dataset_test, writer, plot=True, global_step=-1, seed=i, title='test_final')\n",
    "    \n",
    "for i in range(3):\n",
    "    test(model, dataset_train, writer, plot=True, global_step=-1, seed=i, title='train_final')"
   ]
  },
  {
   "cell_type": "code",
   "execution_count": null,
   "metadata": {},
   "outputs": [],
   "source": []
  },
  {
   "cell_type": "code",
   "execution_count": 38,
   "metadata": {
    "ExecuteTime": {
     "end_time": "2020-03-15T07:32:36.664221Z",
     "start_time": "2020-03-15T07:32:36.471985Z"
    }
   },
   "outputs": [
    {
     "name": "stdout",
     "output_type": "stream",
     "text": [
      "runs/Mar15_15-32-36_mjcdesktop-anp_1d_impr\n"
     ]
    },
    {
     "data": {
      "application/vnd.jupyter.widget-view+json": {
       "model_id": "ab86ce89f8854dec89db5277bbdf4638",
       "version_major": 2,
       "version_minor": 0
      },
      "text/plain": [
       "HBox(children=(FloatProgress(value=0.0, max=100000.0), HTML(value='')))"
      ]
     },
     "metadata": {},
     "output_type": "display_data"
    },
    {
     "ename": "NameError",
     "evalue": "name 'mse_loss' is not defined",
     "output_type": "error",
     "traceback": [
      "\u001b[0;31m---------------------------------------------------------------------------\u001b[0m",
      "\u001b[0;31mNameError\u001b[0m                                 Traceback (most recent call last)",
      "\u001b[0;32m<ipython-input-38-38027767d058>\u001b[0m in \u001b[0;36m<module>\u001b[0;34m\u001b[0m\n\u001b[1;32m     38\u001b[0m \u001b[0;34m\u001b[0m\u001b[0m\n\u001b[1;32m     39\u001b[0m     \u001b[0mwriter\u001b[0m\u001b[0;34m.\u001b[0m\u001b[0madd_scalar\u001b[0m\u001b[0;34m(\u001b[0m\u001b[0;34m'train/loss'\u001b[0m\u001b[0;34m,\u001b[0m \u001b[0mloss\u001b[0m\u001b[0;34m,\u001b[0m \u001b[0mn_iter\u001b[0m\u001b[0;34m)\u001b[0m\u001b[0;34m\u001b[0m\u001b[0;34m\u001b[0m\u001b[0m\n\u001b[0;32m---> 40\u001b[0;31m     \u001b[0mwriter\u001b[0m\u001b[0;34m.\u001b[0m\u001b[0madd_scalar\u001b[0m\u001b[0;34m(\u001b[0m\u001b[0;34m'train/mse_loss'\u001b[0m\u001b[0;34m,\u001b[0m \u001b[0mmse_loss\u001b[0m\u001b[0;34m,\u001b[0m \u001b[0mn_iter\u001b[0m\u001b[0;34m)\u001b[0m\u001b[0;34m\u001b[0m\u001b[0;34m\u001b[0m\u001b[0m\n\u001b[0m\u001b[1;32m     41\u001b[0m     \u001b[0mwriter\u001b[0m\u001b[0;34m.\u001b[0m\u001b[0madd_scalar\u001b[0m\u001b[0;34m(\u001b[0m\u001b[0;34m'train/y_std'\u001b[0m\u001b[0;34m,\u001b[0m \u001b[0my_std\u001b[0m\u001b[0;34m.\u001b[0m\u001b[0mmean\u001b[0m\u001b[0;34m(\u001b[0m\u001b[0;34m)\u001b[0m\u001b[0;34m,\u001b[0m \u001b[0mn_iter\u001b[0m\u001b[0;34m)\u001b[0m\u001b[0;34m\u001b[0m\u001b[0;34m\u001b[0m\u001b[0m\n\u001b[1;32m     42\u001b[0m     \u001b[0mwriter\u001b[0m\u001b[0;34m.\u001b[0m\u001b[0madd_scalar\u001b[0m\u001b[0;34m(\u001b[0m\u001b[0;34m'train/kl'\u001b[0m\u001b[0;34m,\u001b[0m \u001b[0mkl\u001b[0m\u001b[0;34m.\u001b[0m\u001b[0mmean\u001b[0m\u001b[0;34m(\u001b[0m\u001b[0;34m)\u001b[0m\u001b[0;34m,\u001b[0m \u001b[0mn_iter\u001b[0m\u001b[0;34m)\u001b[0m\u001b[0;34m\u001b[0m\u001b[0;34m\u001b[0m\u001b[0m\n",
      "\u001b[0;31mNameError\u001b[0m: name 'mse_loss' is not defined"
     ]
    }
   ],
   "source": [
    "writer = SummaryWriter(comment='-anp_1d_impr')\n",
    "print(writer.logdir)\n",
    "                 \n",
    "hparams = dict(\n",
    "    x_dim=1,\n",
    "    y_dim=1,\n",
    "    hidden_dim=128,\n",
    "    latent_dim=128,\n",
    "    latent_enc_self_attn_type=\"ptmultihead\",\n",
    "    det_enc_self_attn_type=\"ptmultihead\",\n",
    "    det_enc_cross_attn_type=\"ptmultihead\",\n",
    "    use_lvar=True,\n",
    "    use_rnn=False)\n",
    "model = LatentModel(**hparams).cuda()\n",
    "\n",
    "optim = torch.optim.AdamW(model.parameters(), lr=1e-4)\n",
    "\n",
    "for n_iter in tqdm(range(epochs)):\n",
    "    model.train()\n",
    "\n",
    "    data_train = dataset_train.generate_curves()\n",
    "\n",
    "    (context_x, context_y), target_x = data_train.query\n",
    "    target_y = data_train.target_y\n",
    "\n",
    "    context_x = context_x.cuda()\n",
    "    context_y = context_y.cuda()\n",
    "    target_x = target_x.cuda()\n",
    "    target_y = target_y.cuda()\n",
    "\n",
    "    optim.zero_grad()\n",
    "    y_pred, losses, extra = model(context_x, context_y, target_x,\n",
    "                                              target_y)\n",
    "    y_std = extra['dist'].scale\n",
    "    loss = losses['loss']\n",
    "    loss.backward()\n",
    "    optim.step()\n",
    "\n",
    "    writer.add_scalar('train/loss', loss, n_iter)\n",
    "    writer.add_scalar('train/mse', losses['loss_mse'], n_iter)\n",
    "    writer.add_scalar('train/y_std', y_std.mean(), n_iter)\n",
    "    writer.add_scalar('train/kl', losses['loss_kl'].mean(), n_iter)\n",
    "\n",
    "    if n_iter % PRINT_AFTER == 0:\n",
    "        y_pred, kl, val_loss, y_std = test(\n",
    "            model, dataset_test, writer, plot=False, global_step=n_iter)\n",
    "        val_loss = evaluate(model, dataset_test, 100)\n",
    "        writer.add_scalar('val/loss_mean', val_loss, n_iter)\n",
    "        print(\n",
    "            f\"train: {n_iter} loss={loss.item(): 4.4g} val_loss={val_loss.item(): 4.4g}\"\n",
    "        )\n",
    "\n",
    "    if n_iter in PLOT_AFTER:\n",
    "        test(model, dataset_test, writer, plot=True, global_step=n_iter, title='test')\n",
    "        \n",
    "        test(model, dataset_train, writer, plot=True, global_step=n_iter, seed=n_iter, title='train')\n",
    "        \n",
    "    # Final validation\n",
    "val_loss = evaluate(model, dataset_test, 300)\n",
    "print('val loss (n=300)', loss)\n",
    "writer.add_hparams(hparams, dict(val_loss=loss))\n",
    "\n",
    "for i in range(3):\n",
    "    set_seed(i)\n",
    "    test(model, dataset_test, writer, plot=True, global_step=-1, seed=i, title='test_final')\n",
    "    \n",
    "for i in range(3):\n",
    "    test(model, dataset_train, writer, plot=True, global_step=-1, seed=i, title='train_final')"
   ]
  },
  {
   "cell_type": "code",
   "execution_count": null,
   "metadata": {},
   "outputs": [],
   "source": []
  },
  {
   "cell_type": "markdown",
   "metadata": {
    "ExecuteTime": {
     "end_time": "2020-02-15T07:12:16.785888Z",
     "start_time": "2020-02-15T07:12:16.782565Z"
    }
   },
   "source": [
    "# NP"
   ]
  },
  {
   "cell_type": "code",
   "execution_count": 40,
   "metadata": {
    "ExecuteTime": {
     "end_time": "2020-03-15T07:33:23.822594Z",
     "start_time": "2020-03-15T07:33:17.220214Z"
    }
   },
   "outputs": [
    {
     "name": "stdout",
     "output_type": "stream",
     "text": [
      "runs/Mar15_15-33-17_mjcdesktop-np_1d\n"
     ]
    },
    {
     "data": {
      "application/vnd.jupyter.widget-view+json": {
       "model_id": "cdb23cbdb35f4eb68d6d1450b67d174a",
       "version_major": 2,
       "version_minor": 0
      },
      "text/plain": [
       "HBox(children=(FloatProgress(value=0.0, max=100000.0), HTML(value='')))"
      ]
     },
     "metadata": {},
     "output_type": "display_data"
    },
    {
     "data": {
      "application/vnd.jupyter.widget-view+json": {
       "model_id": "04d16e8da8ab40e8accbcd649afe19f8",
       "version_major": 2,
       "version_minor": 0
      },
      "text/plain": [
       "HBox(children=(FloatProgress(value=0.0), HTML(value='')))"
      ]
     },
     "metadata": {},
     "output_type": "display_data"
    },
    {
     "name": "stdout",
     "output_type": "stream",
     "text": [
      "\n",
      "train: 0 loss= 0.8093 val_loss= 0.8741\n"
     ]
    },
    {
     "data": {
      "image/png": "[encoded data removed]",
      "text/plain": [
       "<Figure size 432x288 with 1 Axes>"
      ]
     },
     "metadata": {
      "needs_background": "light"
     },
     "output_type": "display_data"
    },
    {
     "data": {
      "image/png": "[encoded data removed]",
      "text/plain": [
       "<Figure size 432x288 with 1 Axes>"
      ]
     },
     "metadata": {
      "needs_background": "light"
     },
     "output_type": "display_data"
    },
    {
     "ename": "KeyboardInterrupt",
     "evalue": "",
     "output_type": "error",
     "traceback": [
      "\u001b[0;31m---------------------------------------------------------------------------\u001b[0m",
      "\u001b[0;31mKeyboardInterrupt\u001b[0m                         Traceback (most recent call last)",
      "\u001b[0;32m<ipython-input-40-52f853d0d49c>\u001b[0m in \u001b[0;36m<module>\u001b[0;34m\u001b[0m\n\u001b[1;32m     18\u001b[0m     \u001b[0mmodel\u001b[0m\u001b[0;34m.\u001b[0m\u001b[0mtrain\u001b[0m\u001b[0;34m(\u001b[0m\u001b[0;34m)\u001b[0m\u001b[0;34m\u001b[0m\u001b[0;34m\u001b[0m\u001b[0m\n\u001b[1;32m     19\u001b[0m \u001b[0;34m\u001b[0m\u001b[0m\n\u001b[0;32m---> 20\u001b[0;31m     \u001b[0mdata_train\u001b[0m \u001b[0;34m=\u001b[0m \u001b[0mdataset_train\u001b[0m\u001b[0;34m.\u001b[0m\u001b[0mgenerate_curves\u001b[0m\u001b[0;34m(\u001b[0m\u001b[0;34m)\u001b[0m\u001b[0;34m\u001b[0m\u001b[0;34m\u001b[0m\u001b[0m\n\u001b[0m\u001b[1;32m     21\u001b[0m \u001b[0;34m\u001b[0m\u001b[0m\n\u001b[1;32m     22\u001b[0m     \u001b[0;34m(\u001b[0m\u001b[0mcontext_x\u001b[0m\u001b[0;34m,\u001b[0m \u001b[0mcontext_y\u001b[0m\u001b[0;34m)\u001b[0m\u001b[0;34m,\u001b[0m \u001b[0mtarget_x\u001b[0m \u001b[0;34m=\u001b[0m \u001b[0mdata_train\u001b[0m\u001b[0;34m.\u001b[0m\u001b[0mquery\u001b[0m\u001b[0;34m\u001b[0m\u001b[0;34m\u001b[0m\u001b[0m\n",
      "\u001b[0;32m/media/wassname/Storage5/projects2/3ST/attentive-neural-processes/src/data/gp_curves.py\u001b[0m in \u001b[0;36mgenerate_curves\u001b[0;34m(self)\u001b[0m\n\u001b[1;32m    157\u001b[0m         \u001b[0;31m# Pass the x_values through the Gaussian kernel\u001b[0m\u001b[0;34m\u001b[0m\u001b[0;34m\u001b[0m\u001b[0;34m\u001b[0m\u001b[0m\n\u001b[1;32m    158\u001b[0m         \u001b[0;31m# [batch_size, y_size, num_total_points, num_total_points]\u001b[0m\u001b[0;34m\u001b[0m\u001b[0;34m\u001b[0m\u001b[0;34m\u001b[0m\u001b[0m\n\u001b[0;32m--> 159\u001b[0;31m         \u001b[0mkernel\u001b[0m \u001b[0;34m=\u001b[0m \u001b[0mself\u001b[0m\u001b[0;34m.\u001b[0m\u001b[0m_gaussian_kernel\u001b[0m\u001b[0;34m(\u001b[0m\u001b[0mx_values\u001b[0m\u001b[0;34m,\u001b[0m \u001b[0ml1\u001b[0m\u001b[0;34m,\u001b[0m \u001b[0msigma_f\u001b[0m\u001b[0;34m)\u001b[0m\u001b[0;34m\u001b[0m\u001b[0;34m\u001b[0m\u001b[0m\n\u001b[0m\u001b[1;32m    160\u001b[0m \u001b[0;34m\u001b[0m\u001b[0m\n\u001b[1;32m    161\u001b[0m         \u001b[0;31m# Calculate Cholesky, using double precision for better stability:\u001b[0m\u001b[0;34m\u001b[0m\u001b[0;34m\u001b[0m\u001b[0;34m\u001b[0m\u001b[0m\n",
      "\u001b[0;32m/media/wassname/Storage5/projects2/3ST/attentive-neural-processes/src/data/gp_curves.py\u001b[0m in \u001b[0;36m_gaussian_kernel\u001b[0;34m(self, xdata, l1, sigma_f, sigma_noise)\u001b[0m\n\u001b[1;32m     96\u001b[0m \u001b[0;34m\u001b[0m\u001b[0m\n\u001b[1;32m     97\u001b[0m         \u001b[0;31m# [B, y_size, num_total_points, num_total_points]\u001b[0m\u001b[0;34m\u001b[0m\u001b[0;34m\u001b[0m\u001b[0;34m\u001b[0m\u001b[0m\n\u001b[0;32m---> 98\u001b[0;31m         \u001b[0mkernel\u001b[0m \u001b[0;34m=\u001b[0m \u001b[0;34m(\u001b[0m\u001b[0;34m(\u001b[0m\u001b[0msigma_f\u001b[0m\u001b[0;34m)\u001b[0m \u001b[0;34m**\u001b[0m \u001b[0;36m2\u001b[0m\u001b[0;34m)\u001b[0m\u001b[0;34m[\u001b[0m\u001b[0;34m:\u001b[0m\u001b[0;34m,\u001b[0m \u001b[0;34m:\u001b[0m\u001b[0;34m,\u001b[0m \u001b[0;32mNone\u001b[0m\u001b[0;34m,\u001b[0m \u001b[0;32mNone\u001b[0m\u001b[0;34m]\u001b[0m \u001b[0;34m*\u001b[0m \u001b[0mtorch\u001b[0m\u001b[0;34m.\u001b[0m\u001b[0mexp\u001b[0m\u001b[0;34m(\u001b[0m\u001b[0;34m-\u001b[0m\u001b[0;36m0.5\u001b[0m \u001b[0;34m*\u001b[0m \u001b[0mnorm\u001b[0m\u001b[0;34m)\u001b[0m\u001b[0;34m\u001b[0m\u001b[0;34m\u001b[0m\u001b[0m\n\u001b[0m\u001b[1;32m     99\u001b[0m \u001b[0;34m\u001b[0m\u001b[0m\n\u001b[1;32m    100\u001b[0m         \u001b[0;31m# Add some noise to the diagonal to make the cholesky work.\u001b[0m\u001b[0;34m\u001b[0m\u001b[0;34m\u001b[0m\u001b[0;34m\u001b[0m\u001b[0m\n",
      "\u001b[0;31mKeyboardInterrupt\u001b[0m: "
     ]
    }
   ],
   "source": [
    "writer = SummaryWriter(comment='-np_1d')\n",
    "print(writer.logdir)\n",
    "                 \n",
    "hparams = dict(\n",
    "    x_dim=1,\n",
    "    y_dim=1,\n",
    "    hidden_dim=128,\n",
    "    latent_dim=128,\n",
    "    latent_enc_self_attn_type=\"uniform\",\n",
    "    det_enc_self_attn_type=\"uniform\",\n",
    "    det_enc_cross_attn_type=\"uniform\",\n",
    "    use_rnn=False)\n",
    "model = LatentModel(**hparams).cuda()\n",
    "\n",
    "optim = torch.optim.AdamW(model.parameters(), lr=1e-4)\n",
    "\n",
    "for n_iter in tqdm(range(epochs)):\n",
    "    model.train()\n",
    "\n",
    "    data_train = dataset_train.generate_curves()\n",
    "\n",
    "    (context_x, context_y), target_x = data_train.query\n",
    "    target_y = data_train.target_y\n",
    "\n",
    "    context_x = context_x.cuda()\n",
    "    context_y = context_y.cuda()\n",
    "    target_x = target_x.cuda()\n",
    "    target_y = target_y.cuda()\n",
    "\n",
    "    optim.zero_grad()\n",
    "    y_pred, losses, extra = model(context_x, context_y, target_x,\n",
    "                                              target_y)\n",
    "    y_std = extra['dist'].scale\n",
    "    loss = losses['loss']\n",
    "    loss.backward()\n",
    "    optim.step()\n",
    "\n",
    "    writer.add_scalar('train/loss', loss, n_iter)\n",
    "    writer.add_scalar('train/mse', losses['loss_mse'], n_iter)\n",
    "    writer.add_scalar('train/y_std', y_std.mean(), n_iter)\n",
    "    writer.add_scalar('train/kl', losses['loss_kl'].mean(), n_iter)\n",
    "\n",
    "    if n_iter in PLOT_AFTER:\n",
    "        y_pred, kl, val_loss, y_std = test(\n",
    "            model, dataset_test, writer, plot=False, global_step=n_iter)\n",
    "        val_loss = evaluate(model, dataset_test, 100)\n",
    "        writer.add_scalar('val/loss_mean', val_loss, n_iter)\n",
    "        print(\n",
    "            f\"train: {n_iter} loss={loss.item(): 4.4g} val_loss={val_loss.item(): 4.4g}\"\n",
    "        )\n",
    "\n",
    "    if n_iter in PLOT_AFTER:\n",
    "        test(model, dataset_test, writer, plot=True, global_step=n_iter, title='test')\n",
    "        test(model, dataset_train, writer, plot=True, global_step=n_iter, seed=n_iter, title='train')"
   ]
  },
  {
   "cell_type": "code",
   "execution_count": null,
   "metadata": {
    "ExecuteTime": {
     "end_time": "2020-03-15T07:26:17.857048Z",
     "start_time": "2020-03-15T07:26:05.700Z"
    }
   },
   "outputs": [],
   "source": [
    "# Final validation\n",
    "val_loss = evaluate(model, dataset_test, 300)\n",
    "print('val loss (n=300)', loss)\n",
    "writer.add_hparams(hparams, dict(val_loss=loss))\n",
    "\n",
    "for i in range(3):\n",
    "    set_seed(i)\n",
    "    test(model, dataset_test, writer, plot=True, global_step=-1, seed=i, title='test_final')\n",
    "    \n",
    "for i in range(3):\n",
    "    test(model, dataset_train, writer, plot=True, global_step=-1, seed=i, title='train_final')"
   ]
  },
  {
   "cell_type": "code",
   "execution_count": null,
   "metadata": {},
   "outputs": [],
   "source": []
  },
  {
   "cell_type": "code",
   "execution_count": null,
   "metadata": {},
   "outputs": [],
   "source": []
  }
 ],
 "metadata": {
  "kernelspec": {
   "display_name": "jup3.7.2",
   "language": "python",
   "name": "jup3.7.2"
  },
  "language_info": {
   "codemirror_mode": {
    "name": "ipython",
    "version": 3
   },
   "file_extension": ".py",
   "mimetype": "text/x-python",
   "name": "python",
   "nbconvert_exporter": "python",
   "pygments_lexer": "ipython3",
   "version": "3.7.2"
  },
  "toc": {
   "base_numbering": 1,
   "nav_menu": {},
   "number_sections": true,
   "sideBar": true,
   "skip_h1_title": false,
   "title_cell": "Table of Contents",
   "title_sidebar": "Contents",
   "toc_cell": false,
   "toc_position": {
    "height": "calc(100% - 180px)",
    "left": "10px",
    "top": "150px",
    "width": "384px"
   },
   "toc_section_display": true,
   "toc_window_display": true
  }
 },
 "nbformat": 4,
 "nbformat_minor": 2
}
