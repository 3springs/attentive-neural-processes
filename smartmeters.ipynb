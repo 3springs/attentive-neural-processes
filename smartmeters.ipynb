{
 "cells": [
  {
   "cell_type": "code",
   "execution_count": 1,
   "metadata": {
    "ExecuteTime": {
     "end_time": "2019-11-02T06:30:34.467434Z",
     "start_time": "2019-11-02T06:30:33.698241Z"
    }
   },
   "outputs": [
    {
     "name": "stdout",
     "output_type": "stream",
     "text": [
      "Populating the interactive namespace from numpy and matplotlib\n"
     ]
    },
    {
     "name": "stderr",
     "output_type": "stream",
     "text": [
      "/home/wassname/.pyenv/versions/3.7.2/envs/jup3.7.2/lib/python3.7/site-packages/IPython/core/magics/pylab.py:160: UserWarning: pylab import has clobbered these variables: ['plt']\n",
      "`%matplotlib` prevents importing * from pylab and numpy\n",
      "  \"\\n`%matplotlib` prevents importing * from pylab and numpy\"\n"
     ]
    }
   ],
   "source": [
    "import pandas as pd\n",
    "import numpy as np\n",
    "import matplotlib as plt\n",
    "import collections\n",
    "from pathlib import Path\n",
    "from tqdm.auto import tqdm\n",
    "\n",
    "import math\n",
    "%pylab inline\n",
    "%reload_ext autoreload\n",
    "%autoreload 2"
   ]
  },
  {
   "cell_type": "code",
   "execution_count": 2,
   "metadata": {
    "ExecuteTime": {
     "end_time": "2019-11-02T06:30:34.492702Z",
     "start_time": "2019-11-02T06:30:34.469748Z"
    }
   },
   "outputs": [],
   "source": [
    "import logging\n",
    "logging.basicConfig(stream=sys.stdout, level=logging.INFO)\n",
    "logger = logging.getLogger(\"smartmeters.ipynb\")"
   ]
  },
  {
   "cell_type": "code",
   "execution_count": 3,
   "metadata": {
    "ExecuteTime": {
     "end_time": "2019-11-02T06:30:34.882252Z",
     "start_time": "2019-11-02T06:30:34.497766Z"
    }
   },
   "outputs": [],
   "source": [
    "import torch\n",
    "from torch import nn\n",
    "import torch.nn.functional as F"
   ]
  },
  {
   "cell_type": "code",
   "execution_count": 4,
   "metadata": {
    "ExecuteTime": {
     "end_time": "2019-11-02T06:30:34.919402Z",
     "start_time": "2019-11-02T06:30:34.887070Z"
    }
   },
   "outputs": [],
   "source": [
    "from src.models.model import LatentModel\n",
    "from src.data.smart_meter import collate_fns, SmartMeterDataSet"
   ]
  },
  {
   "cell_type": "code",
   "execution_count": 5,
   "metadata": {
    "ExecuteTime": {
     "end_time": "2019-11-02T06:30:34.954444Z",
     "start_time": "2019-11-02T06:30:34.922129Z"
    }
   },
   "outputs": [],
   "source": [
    "# Params\n",
    "device='cuda'\n",
    "batch_size=32\n",
    "num_workers=5\n",
    "use_logy=False\n",
    "num_context, num_extra_target = 24*2*3, 24*2\n",
    "esp=1e-4"
   ]
  },
  {
   "cell_type": "markdown",
   "metadata": {},
   "source": [
    "# Load kaggle smart meter data"
   ]
  },
  {
   "cell_type": "code",
   "execution_count": 6,
   "metadata": {
    "ExecuteTime": {
     "end_time": "2019-11-02T06:30:39.473449Z",
     "start_time": "2019-11-02T06:30:34.957279Z"
    }
   },
   "outputs": [
    {
     "data": {
      "application/vnd.jupyter.widget-view+json": {
       "model_id": "1f7cadf677d34a71b4341fcf3c9a00a4",
       "version_major": 2,
       "version_minor": 0
      },
      "text/plain": [
       "HBox(children=(IntProgress(value=0, max=2), HTML(value='')))"
      ]
     },
     "metadata": {},
     "output_type": "display_data"
    },
    {
     "name": "stdout",
     "output_type": "stream",
     "text": [
      "\n",
      "<class 'pandas.core.frame.DataFrame'>\n",
      "Int64Index: 2738535 entries, 0 to 1515864\n",
      "Data columns (total 3 columns):\n",
      "LCLid             object\n",
      "tstp              datetime64[ns]\n",
      "energy(kWh/hh)    float64\n",
      "dtypes: datetime64[ns](1), float64(1), object(1)\n",
      "memory usage: 83.6+ MB\n",
      "None\n"
     ]
    },
    {
     "data": {
      "text/html": [
       "<div>\n",
       "<style scoped>\n",
       "    .dataframe tbody tr th:only-of-type {\n",
       "        vertical-align: middle;\n",
       "    }\n",
       "\n",
       "    .dataframe tbody tr th {\n",
       "        vertical-align: top;\n",
       "    }\n",
       "\n",
       "    .dataframe thead th {\n",
       "        text-align: right;\n",
       "    }\n",
       "</style>\n",
       "<table border=\"1\" class=\"dataframe\">\n",
       "  <thead>\n",
       "    <tr style=\"text-align: right;\">\n",
       "      <th></th>\n",
       "      <th>energy(kWh/hh)</th>\n",
       "      <th>tstp</th>\n",
       "    </tr>\n",
       "    <tr>\n",
       "      <th></th>\n",
       "      <th></th>\n",
       "      <th></th>\n",
       "    </tr>\n",
       "  </thead>\n",
       "  <tbody>\n",
       "    <tr>\n",
       "      <th>2011-12-03 09:00:00</th>\n",
       "      <td>0.149</td>\n",
       "      <td>2011-12-03 09:00:00</td>\n",
       "    </tr>\n",
       "    <tr>\n",
       "      <th>2011-12-03 09:30:00</th>\n",
       "      <td>0.154</td>\n",
       "      <td>2011-12-03 09:30:00</td>\n",
       "    </tr>\n",
       "    <tr>\n",
       "      <th>2011-12-03 10:00:00</th>\n",
       "      <td>0.768</td>\n",
       "      <td>2011-12-03 10:00:00</td>\n",
       "    </tr>\n",
       "  </tbody>\n",
       "</table>\n",
       "</div>"
      ],
      "text/plain": [
       "                     energy(kWh/hh)                tstp\n",
       "                                                       \n",
       "2011-12-03 09:00:00           0.149 2011-12-03 09:00:00\n",
       "2011-12-03 09:30:00           0.154 2011-12-03 09:30:00\n",
       "2011-12-03 10:00:00           0.768 2011-12-03 10:00:00"
      ]
     },
     "execution_count": 6,
     "metadata": {},
     "output_type": "execute_result"
    }
   ],
   "source": [
    "csv_files = sorted(Path('data/smart-meters-in-london/halfhourly_dataset').glob('*.csv'))[:1]\n",
    "df = pd.concat([pd.read_csv(f, parse_dates=[1], na_values=['Null']) for f in tqdm(csv_files)])\n",
    "print(df.info())\n",
    "\n",
    "df = df.groupby('tstp').mean()\n",
    "df['tstp'] = df.index\n",
    "df.index.name = ''\n",
    "df.head(3)\n",
    "\n"
   ]
  },
  {
   "cell_type": "code",
   "execution_count": 7,
   "metadata": {
    "ExecuteTime": {
     "end_time": "2019-11-02T06:30:39.681068Z",
     "start_time": "2019-11-02T06:30:39.475648Z"
    }
   },
   "outputs": [
    {
     "name": "stdout",
     "output_type": "stream",
     "text": [
      "39340\n"
     ]
    },
    {
     "data": {
      "text/plain": [
       "39225"
      ]
     },
     "execution_count": 7,
     "metadata": {},
     "output_type": "execute_result"
    }
   ],
   "source": [
    "# Load weather data\n",
    "df_weather = pd.read_csv('data/smart-meters-in-london/weather_hourly_darksky.csv', parse_dates=[3])\n",
    "\n",
    "use_cols = ['visibility', 'windBearing', 'temperature', 'time', 'dewPoint',\n",
    "       'pressure', 'apparentTemperature', 'windSpeed', \n",
    "       'humidity']\n",
    "df_weather = df_weather[use_cols].set_index('time')\n",
    "\n",
    "# Resample to match energy data    \n",
    "df_weather = df_weather.resample('30T').ffill()\n",
    "\n",
    "# Normalise\n",
    "weather_norms=dict(mean={'visibility': 11.2,\n",
    " 'windBearing': 195.7,\n",
    " 'temperature': 10.5,\n",
    " 'dewPoint': 6.5,\n",
    " 'pressure': 1014.1,\n",
    " 'apparentTemperature': 9.2,\n",
    " 'windSpeed': 3.9,\n",
    " 'humidity': 0.8},\n",
    "std={'visibility': 3.1,\n",
    " 'windBearing': 90.6,\n",
    " 'temperature': 5.8,\n",
    " 'dewPoint': 5.0,\n",
    " 'pressure': 11.4,\n",
    " 'apparentTemperature': 6.9,\n",
    " 'windSpeed': 2.0,\n",
    " 'humidity': 0.1})\n",
    "\n",
    "for col in df_weather.columns:\n",
    "    df_weather[col] -= weather_norms['mean'][col]\n",
    "    df_weather[col] /= weather_norms['std'][col]\n",
    "\n",
    "    \n",
    "print(len(df))\n",
    "df = pd.concat([df, df_weather], 1).dropna()\n",
    "len(df)"
   ]
  },
  {
   "cell_type": "code",
   "execution_count": 8,
   "metadata": {
    "ExecuteTime": {
     "end_time": "2019-11-02T06:30:39.796198Z",
     "start_time": "2019-11-02T06:30:39.683489Z"
    }
   },
   "outputs": [],
   "source": [
    "# Add time features\n",
    "time = df.tstp\n",
    "df[\"month\"] = time.dt.month / 12.0\n",
    "df['day'] = time.dt.day / 310.0\n",
    "df['week'] = time.dt.week / 52.0\n",
    "df['hour'] = time.dt.hour / 24.0"
   ]
  },
  {
   "cell_type": "code",
   "execution_count": 9,
   "metadata": {
    "ExecuteTime": {
     "end_time": "2019-11-02T06:30:39.955351Z",
     "start_time": "2019-11-02T06:30:39.799370Z"
    }
   },
   "outputs": [
    {
     "data": {
      "text/html": [
       "<div>\n",
       "<style scoped>\n",
       "    .dataframe tbody tr th:only-of-type {\n",
       "        vertical-align: middle;\n",
       "    }\n",
       "\n",
       "    .dataframe tbody tr th {\n",
       "        vertical-align: top;\n",
       "    }\n",
       "\n",
       "    .dataframe thead th {\n",
       "        text-align: right;\n",
       "    }\n",
       "</style>\n",
       "<table border=\"1\" class=\"dataframe\">\n",
       "  <thead>\n",
       "    <tr style=\"text-align: right;\">\n",
       "      <th></th>\n",
       "      <th>energy(kWh/hh)</th>\n",
       "      <th>visibility</th>\n",
       "      <th>windBearing</th>\n",
       "      <th>temperature</th>\n",
       "      <th>dewPoint</th>\n",
       "      <th>pressure</th>\n",
       "      <th>apparentTemperature</th>\n",
       "      <th>windSpeed</th>\n",
       "      <th>humidity</th>\n",
       "      <th>month</th>\n",
       "      <th>day</th>\n",
       "      <th>week</th>\n",
       "      <th>hour</th>\n",
       "    </tr>\n",
       "  </thead>\n",
       "  <tbody>\n",
       "    <tr>\n",
       "      <th>count</th>\n",
       "      <td>39225.000000</td>\n",
       "      <td>39225.000000</td>\n",
       "      <td>39225.000000</td>\n",
       "      <td>39225.000000</td>\n",
       "      <td>39225.000000</td>\n",
       "      <td>39225.000000</td>\n",
       "      <td>39225.000000</td>\n",
       "      <td>39225.000000</td>\n",
       "      <td>39225.000000</td>\n",
       "      <td>39225.000000</td>\n",
       "      <td>39225.000000</td>\n",
       "      <td>39225.000000</td>\n",
       "      <td>39225.000000</td>\n",
       "    </tr>\n",
       "    <tr>\n",
       "      <th>mean</th>\n",
       "      <td>0.393734</td>\n",
       "      <td>0.029285</td>\n",
       "      <td>0.018890</td>\n",
       "      <td>0.005533</td>\n",
       "      <td>0.009592</td>\n",
       "      <td>-0.010061</td>\n",
       "      <td>0.010214</td>\n",
       "      <td>0.013695</td>\n",
       "      <td>-0.202741</td>\n",
       "      <td>0.529373</td>\n",
       "      <td>0.050786</td>\n",
       "      <td>0.495566</td>\n",
       "      <td>0.479369</td>\n",
       "    </tr>\n",
       "    <tr>\n",
       "      <th>std</th>\n",
       "      <td>0.177905</td>\n",
       "      <td>0.959951</td>\n",
       "      <td>1.002480</td>\n",
       "      <td>1.021497</td>\n",
       "      <td>1.030993</td>\n",
       "      <td>1.005238</td>\n",
       "      <td>1.030426</td>\n",
       "      <td>1.020799</td>\n",
       "      <td>1.401747</td>\n",
       "      <td>0.306145</td>\n",
       "      <td>0.028288</td>\n",
       "      <td>0.307568</td>\n",
       "      <td>0.288379</td>\n",
       "    </tr>\n",
       "    <tr>\n",
       "      <th>min</th>\n",
       "      <td>0.025000</td>\n",
       "      <td>-3.525806</td>\n",
       "      <td>-2.160044</td>\n",
       "      <td>-2.782759</td>\n",
       "      <td>-3.296000</td>\n",
       "      <td>-3.364912</td>\n",
       "      <td>-2.620290</td>\n",
       "      <td>-1.930000</td>\n",
       "      <td>-5.700000</td>\n",
       "      <td>0.083333</td>\n",
       "      <td>0.003226</td>\n",
       "      <td>0.019231</td>\n",
       "      <td>0.000000</td>\n",
       "    </tr>\n",
       "    <tr>\n",
       "      <th>25%</th>\n",
       "      <td>0.266000</td>\n",
       "      <td>-0.270968</td>\n",
       "      <td>-0.758278</td>\n",
       "      <td>-0.706897</td>\n",
       "      <td>-0.756000</td>\n",
       "      <td>-0.594737</td>\n",
       "      <td>-0.791304</td>\n",
       "      <td>-0.740000</td>\n",
       "      <td>-1.000000</td>\n",
       "      <td>0.250000</td>\n",
       "      <td>0.025806</td>\n",
       "      <td>0.211538</td>\n",
       "      <td>0.250000</td>\n",
       "    </tr>\n",
       "    <tr>\n",
       "      <th>50%</th>\n",
       "      <td>0.378571</td>\n",
       "      <td>0.358065</td>\n",
       "      <td>0.257174</td>\n",
       "      <td>-0.089655</td>\n",
       "      <td>0.022000</td>\n",
       "      <td>0.034211</td>\n",
       "      <td>0.078261</td>\n",
       "      <td>-0.095000</td>\n",
       "      <td>0.100000</td>\n",
       "      <td>0.500000</td>\n",
       "      <td>0.051613</td>\n",
       "      <td>0.480769</td>\n",
       "      <td>0.500000</td>\n",
       "    </tr>\n",
       "    <tr>\n",
       "      <th>75%</th>\n",
       "      <td>0.501250</td>\n",
       "      <td>0.606452</td>\n",
       "      <td>0.676600</td>\n",
       "      <td>0.712069</td>\n",
       "      <td>0.794000</td>\n",
       "      <td>0.680702</td>\n",
       "      <td>0.786957</td>\n",
       "      <td>0.605000</td>\n",
       "      <td>0.900000</td>\n",
       "      <td>0.833333</td>\n",
       "      <td>0.074194</td>\n",
       "      <td>0.769231</td>\n",
       "      <td>0.750000</td>\n",
       "    </tr>\n",
       "    <tr>\n",
       "      <th>max</th>\n",
       "      <td>1.914000</td>\n",
       "      <td>1.577419</td>\n",
       "      <td>1.802428</td>\n",
       "      <td>3.775862</td>\n",
       "      <td>2.676000</td>\n",
       "      <td>2.563158</td>\n",
       "      <td>3.365217</td>\n",
       "      <td>5.450000</td>\n",
       "      <td>2.000000</td>\n",
       "      <td>1.000000</td>\n",
       "      <td>0.100000</td>\n",
       "      <td>1.000000</td>\n",
       "      <td>0.958333</td>\n",
       "    </tr>\n",
       "  </tbody>\n",
       "</table>\n",
       "</div>"
      ],
      "text/plain": [
       "       energy(kWh/hh)    visibility   windBearing   temperature      dewPoint  \\\n",
       "count    39225.000000  39225.000000  39225.000000  39225.000000  39225.000000   \n",
       "mean         0.393734      0.029285      0.018890      0.005533      0.009592   \n",
       "std          0.177905      0.959951      1.002480      1.021497      1.030993   \n",
       "min          0.025000     -3.525806     -2.160044     -2.782759     -3.296000   \n",
       "25%          0.266000     -0.270968     -0.758278     -0.706897     -0.756000   \n",
       "50%          0.378571      0.358065      0.257174     -0.089655      0.022000   \n",
       "75%          0.501250      0.606452      0.676600      0.712069      0.794000   \n",
       "max          1.914000      1.577419      1.802428      3.775862      2.676000   \n",
       "\n",
       "           pressure  apparentTemperature     windSpeed      humidity  \\\n",
       "count  39225.000000         39225.000000  39225.000000  39225.000000   \n",
       "mean      -0.010061             0.010214      0.013695     -0.202741   \n",
       "std        1.005238             1.030426      1.020799      1.401747   \n",
       "min       -3.364912            -2.620290     -1.930000     -5.700000   \n",
       "25%       -0.594737            -0.791304     -0.740000     -1.000000   \n",
       "50%        0.034211             0.078261     -0.095000      0.100000   \n",
       "75%        0.680702             0.786957      0.605000      0.900000   \n",
       "max        2.563158             3.365217      5.450000      2.000000   \n",
       "\n",
       "              month           day          week          hour  \n",
       "count  39225.000000  39225.000000  39225.000000  39225.000000  \n",
       "mean       0.529373      0.050786      0.495566      0.479369  \n",
       "std        0.306145      0.028288      0.307568      0.288379  \n",
       "min        0.083333      0.003226      0.019231      0.000000  \n",
       "25%        0.250000      0.025806      0.211538      0.250000  \n",
       "50%        0.500000      0.051613      0.480769      0.500000  \n",
       "75%        0.833333      0.074194      0.769231      0.750000  \n",
       "max        1.000000      0.100000      1.000000      0.958333  "
      ]
     },
     "execution_count": 9,
     "metadata": {},
     "output_type": "execute_result"
    }
   ],
   "source": [
    "# Drop nan and 0's\n",
    "df = df[df['energy(kWh/hh)']!=0]\n",
    "df = df.dropna()\n",
    "\n",
    "if use_logy:\n",
    "    df['energy(kWh/hh)'] = np.log(df['energy(kWh/hh)']+eps)\n",
    "df = df.sort_values('tstp')\n",
    "df.describe()"
   ]
  },
  {
   "cell_type": "code",
   "execution_count": null,
   "metadata": {
    "ExecuteTime": {
     "end_time": "2019-11-02T05:00:36.615523Z",
     "start_time": "2019-11-02T05:00:36.538916Z"
    }
   },
   "outputs": [],
   "source": []
  },
  {
   "cell_type": "code",
   "execution_count": 10,
   "metadata": {
    "ExecuteTime": {
     "end_time": "2019-11-02T06:30:39.991282Z",
     "start_time": "2019-11-02T06:30:39.959604Z"
    }
   },
   "outputs": [
    {
     "data": {
      "text/plain": [
       "(35303, 3922)"
      ]
     },
     "execution_count": 10,
     "metadata": {},
     "output_type": "execute_result"
    }
   ],
   "source": [
    "# split data\n",
    "n_split = -int(len(df)*0.1)\n",
    "df_train = df[:n_split]\n",
    "df_test = df[n_split:]\n",
    "len(df_train), len(df_test)"
   ]
  },
  {
   "cell_type": "markdown",
   "metadata": {
    "ExecuteTime": {
     "end_time": "2019-11-02T05:35:58.304088Z",
     "start_time": "2019-11-02T05:35:58.274458Z"
    }
   },
   "source": [
    "# Plot helpers"
   ]
  },
  {
   "cell_type": "code",
   "execution_count": 11,
   "metadata": {
    "ExecuteTime": {
     "end_time": "2019-11-02T06:30:40.046541Z",
     "start_time": "2019-11-02T06:30:39.994099Z"
    }
   },
   "outputs": [],
   "source": [
    "def plot_functions(target_x, target_y, context_x, context_y, pred_y, std, undo_log=use_logy):\n",
    "    \"\"\"Plots the predicted mean and variance and the context points.\n",
    "  \n",
    "  Args: \n",
    "    target_x: An array of shape [B,num_targets,1] that contains the\n",
    "        x values of the target points.\n",
    "    target_y: An array of shape [B,num_targets,1] that contains the\n",
    "        y values of the target points.\n",
    "    context_x: An array of shape [B,num_contexts,1] that contains \n",
    "        the x values of the context points.\n",
    "    context_y: An array of shape [B,num_contexts,1] that contains \n",
    "        the y values of the context points.\n",
    "    pred_y: An array of shape [B,num_targets,1] that contains the\n",
    "        predicted means of the y values at the target points in target_x.\n",
    "    std: An array of shape [B,num_targets,1] that contains the\n",
    "        predicted std dev of the y values at the target points in target_x.\n",
    "      \"\"\"\n",
    "    if undo_log:\n",
    "        target_y=np.exp(target_y)-eps\n",
    "        context_y=np.exp(context_y)-eps\n",
    "    # Plot everything \n",
    "    # Note: days is first feature in x, since we made sure of that in the dataloader)\n",
    "    j=0\n",
    "    plt.plot(target_x[0,:,j], pred_y[0], 'b', linewidth=2)\n",
    "    plt.plot(target_x[0,:,j], target_y[0], 'k:', linewidth=2)\n",
    "    plt.plot(context_x[0,:,j], context_y[0], 'ko', markersize=6)\n",
    "    plt.fill_between(\n",
    "          target_x[0, :, j],\n",
    "          pred_y[0, :, 0] - std[0, :, 0],\n",
    "          pred_y[0, :, 0] + std[0, :, 0],\n",
    "          alpha=0.5,\n",
    "          facecolor='#65c9f7',\n",
    "          interpolate=True)\n",
    "\n",
    "    # Make the plot pretty\n",
    "#     plt.ylim([context_y.min()-1, context_y.max()+1])\n",
    "    plt.xlabel('Days')\n",
    "    plt.ylabel('Energy (kWh/hh)')\n",
    "    plt.grid('off')\n",
    "    ax = plt.gca()\n",
    "    plt.show()"
   ]
  },
  {
   "cell_type": "code",
   "execution_count": null,
   "metadata": {
    "ExecuteTime": {
     "end_time": "2019-11-02T05:00:50.134912Z",
     "start_time": "2019-11-02T05:00:50.072166Z"
    }
   },
   "outputs": [],
   "source": []
  },
  {
   "cell_type": "code",
   "execution_count": 12,
   "metadata": {
    "ExecuteTime": {
     "end_time": "2019-11-02T06:30:40.093663Z",
     "start_time": "2019-11-02T06:30:40.051668Z"
    }
   },
   "outputs": [],
   "source": [
    "def plot_from_loader(loader, undo_log=use_logy, title=''):\n",
    "    data = next(iter(loader))\n",
    "    data = [d.to(device) for d in data]\n",
    "    context_x, context_y, target_x, target_y = data\n",
    "\n",
    "    model.eval()\n",
    "    with torch.no_grad():\n",
    "        y_pred, kl, loss_test, y_std = model(context_x, context_y, target_x, target_y)\n",
    "\n",
    "        plt.title(title+f\" loss={loss: 2.2g}\")\n",
    "        plot_functions(target_x.detach().cpu().numpy(),\n",
    "                        target_y.detach().cpu().numpy(),\n",
    "                        context_x.detach().cpu().numpy(),\n",
    "                        context_y.detach().cpu().numpy(),\n",
    "                        y_pred.detach().cpu().numpy(),\n",
    "                        y_std.detach().cpu().numpy(), undo_log=undo_log)\n",
    "    return loss_test"
   ]
  },
  {
   "cell_type": "code",
   "execution_count": 13,
   "metadata": {
    "ExecuteTime": {
     "end_time": "2019-11-02T06:30:40.125766Z",
     "start_time": "2019-11-02T06:30:40.096598Z"
    }
   },
   "outputs": [],
   "source": []
  },
  {
   "cell_type": "markdown",
   "metadata": {
    "ExecuteTime": {
     "end_time": "2019-11-02T05:13:17.870138Z",
     "start_time": "2019-11-02T05:13:17.836065Z"
    }
   },
   "source": [
    "# Dataloaders"
   ]
  },
  {
   "cell_type": "code",
   "execution_count": 14,
   "metadata": {
    "ExecuteTime": {
     "end_time": "2019-11-02T06:30:40.157355Z",
     "start_time": "2019-11-02T06:30:40.128185Z"
    }
   },
   "outputs": [],
   "source": [
    "data_train = SmartMeterDataSet(df_train, num_context, num_extra_target)\n",
    "data_test = SmartMeterDataSet(df_test, num_context, num_extra_target)"
   ]
  },
  {
   "cell_type": "code",
   "execution_count": null,
   "metadata": {
    "ExecuteTime": {
     "end_time": "2019-11-02T05:19:43.988134Z",
     "start_time": "2019-11-02T05:19:43.959496Z"
    }
   },
   "outputs": [],
   "source": []
  },
  {
   "cell_type": "code",
   "execution_count": 19,
   "metadata": {
    "ExecuteTime": {
     "end_time": "2019-11-02T06:52:25.557242Z",
     "start_time": "2019-11-02T06:52:25.528242Z"
    }
   },
   "outputs": [],
   "source": [
    "loader_train = torch.utils.data.DataLoader(data_train, batch_size=batch_size, shuffle=True, \n",
    "    collate_fn=collate_fns(num_context, num_extra_target, sample=True),\n",
    "    num_workers=num_workers,\n",
    ")\n",
    "\n",
    "loader_test = torch.utils.data.DataLoader(data_test, batch_size=batch_size, shuffle=False, \n",
    "    collate_fn=collate_fns(num_context, num_extra_target, sample=False)\n",
    ")"
   ]
  },
  {
   "cell_type": "markdown",
   "metadata": {},
   "source": [
    "# Run"
   ]
  },
  {
   "cell_type": "code",
   "execution_count": 20,
   "metadata": {
    "ExecuteTime": {
     "end_time": "2019-11-02T06:52:26.551295Z",
     "start_time": "2019-11-02T06:52:25.560345Z"
    },
    "scrolled": true
   },
   "outputs": [
    {
     "data": {
      "text/plain": [
       "(torch.Size([32, 101, 13]), torch.Size([32, 101, 1]))"
      ]
     },
     "execution_count": 20,
     "metadata": {},
     "output_type": "execute_result"
    }
   ],
   "source": [
    "x, y, _, _ = next(iter(loader_train))\n",
    "x.shape, y.shape"
   ]
  },
  {
   "cell_type": "code",
   "execution_count": 21,
   "metadata": {
    "ExecuteTime": {
     "end_time": "2019-11-02T06:52:26.617866Z",
     "start_time": "2019-11-02T06:52:26.553940Z"
    }
   },
   "outputs": [],
   "source": [
    "from src.models.model import LatentModel\n",
    "model = LatentModel(\n",
    "    x_dim=x.shape[-1], \n",
    "    y_dim=y.shape[-1], \n",
    "    hidden_dim=64, \n",
    "    latent_dim=64,\n",
    "    dropout=0.5,\n",
    "    num_heads=8,\n",
    "    n_latent_encoder_layers=4,\n",
    "    n_det_encoder_layers=4,\n",
    "    n_decoder_layers=4,\n",
    "    latent_enc_self_attn_type=\"multihead\", \n",
    "    det_enc_self_attn_type=\"multihead\",\n",
    "    det_enc_cross_attn_type=\"multihead\").to(device)\n",
    "\n",
    "optim = torch.optim.AdamW(model.parameters(), lr=1e-4)"
   ]
  },
  {
   "cell_type": "code",
   "execution_count": null,
   "metadata": {
    "ExecuteTime": {
     "end_time": "2019-11-02T05:36:52.393804Z",
     "start_time": "2019-11-02T05:36:52.367108Z"
    }
   },
   "outputs": [],
   "source": []
  },
  {
   "cell_type": "code",
   "execution_count": null,
   "metadata": {
    "ExecuteTime": {
     "start_time": "2019-11-02T06:52:25.600Z"
    }
   },
   "outputs": [
    {
     "data": {
      "application/vnd.jupyter.widget-view+json": {
       "model_id": "e1ce9e65837544fd99c165f71f90a2e2",
       "version_major": 2,
       "version_minor": 0
      },
      "text/plain": [
       "HBox(children=(IntProgress(value=0), HTML(value='')))"
      ]
     },
     "metadata": {},
     "output_type": "display_data"
    },
    {
     "data": {
      "application/vnd.jupyter.widget-view+json": {
       "model_id": "44bc09deef7d42d8bf3ef64bb53f26d1",
       "version_major": 2,
       "version_minor": 0
      },
      "text/plain": [
       "HBox(children=(IntProgress(value=0, max=1098), HTML(value='')))"
      ]
     },
     "metadata": {},
     "output_type": "display_data"
    },
    {
     "data": {
      "image/png": "[encoded data removed]",
      "text/plain": [
       "<Figure size 432x288 with 1 Axes>"
      ]
     },
     "metadata": {
      "needs_background": "light"
     },
     "output_type": "display_data"
    },
    {
     "name": "stdout",
     "output_type": "stream",
     "text": [
      "0, i=0, loss: 19.05, test: 3.835, grad_norm:  4e+02, std:  0.24\n"
     ]
    }
   ],
   "source": [
    "epochs = 100\n",
    "grad_clip = 10\n",
    "history = []\n",
    "for epoch in tqdm(range(epochs), unit='epoch'):\n",
    "\n",
    "    pbar = tqdm(loader_train, unit='batch')\n",
    "    for i, data in enumerate(pbar):\n",
    "        model.train()\n",
    "        assert all(torch.isfinite(d).all() for d in data)\n",
    "        data = [d.to(device) for d in data]\n",
    "        context_x, context_y, target_x, target_y = data\n",
    "\n",
    "        optim.zero_grad()\n",
    "        y_pred, kl, loss, y_std = model(context_x, context_y, target_x, target_y)\n",
    "\n",
    "        # These attentive NP models work great when you need uncertainty, but still seem a bit unstable. \n",
    "        # Sometimes they produce nans, especically if the data is not fully normalized. \n",
    "        assert torch.isfinite(y_pred.sum())\n",
    "        if not torch.isfinite(loss):\n",
    "            logger.error(\"loss is not finite\")\n",
    "            continue\n",
    "        loss.backward()\n",
    "        grad_norm = torch.nn.utils.clip_grad_norm_(model.parameters(), grad_clip)\n",
    "        if not np.isfinite(grad_norm):\n",
    "            logger.error(\"grad_norm is not finite\")\n",
    "            continue\n",
    "        optim.step()\n",
    "\n",
    "        if i%300==0:\n",
    "            model.eval()\n",
    "            test_loss = plot_from_loader(loader_test)\n",
    "            pbar.set_description(f\"{epoch}, loss: {loss.item():4.4g}, test: {test_loss.item():4.4g}\")\n",
    "            print(f\"{epoch}, i={i}, loss: {loss.item():4.4g}, test: {test_loss.item():4.4g}, grad_norm: {grad_norm: 2.2g}, std: {y_std.mean().item(): 2.2g}\")\n",
    "            \n",
    "            history.append(dict(\n",
    "                n=epoch*len(loader_train) + i,\n",
    "                epoch=epoch,\n",
    "                i=i,\n",
    "                loss=loss.item(),\n",
    "                kl=kl.mean().item(),\n",
    "                test_loss=test_loss.item(),\n",
    "                y_std=y_std.mean().item(),\n",
    "                grad_norm=grad_norm,\n",
    "            ))\n",
    "        \n",
    "    test_loss = plot_from_loader(loader_train, title=f'epoch={epoch}, train,')\n",
    "    model.eval()\n",
    "    test_loss = plot_from_loader(loader_test, title=f'epoch={epoch}, test,')\n",
    "    print(f\"epoch: {epoch}, loss: {loss.item():4.4g}, loss_test:{test_loss.item():4.4g}, kl={kl.mean().item()}, grad_norm: {grad_norm: 2.2g}\")"
   ]
  },
  {
   "cell_type": "code",
   "execution_count": null,
   "metadata": {
    "ExecuteTime": {
     "start_time": "2019-11-02T06:52:25.600Z"
    }
   },
   "outputs": [],
   "source": [
    "plot_from_loader(loader_test)"
   ]
  },
  {
   "cell_type": "code",
   "execution_count": null,
   "metadata": {
    "ExecuteTime": {
     "start_time": "2019-11-02T06:52:25.600Z"
    }
   },
   "outputs": [],
   "source": [
    "plot_from_loader(loader_train, undo_log=False)"
   ]
  },
  {
   "cell_type": "code",
   "execution_count": null,
   "metadata": {
    "ExecuteTime": {
     "start_time": "2019-11-02T06:52:25.600Z"
    }
   },
   "outputs": [],
   "source": [
    "df_hist = pd.DataFrame(history)\n",
    "df_hist['n'] = df_hist['n']/(df_hist['epoch']+1)\n",
    "df_hist = df_hist.set_index('n')\n",
    "df_hist"
   ]
  },
  {
   "cell_type": "code",
   "execution_count": null,
   "metadata": {
    "ExecuteTime": {
     "start_time": "2019-11-02T06:52:25.600Z"
    }
   },
   "outputs": [],
   "source": [
    "df_hist[['loss', 'test_loss']].plot()"
   ]
  },
  {
   "cell_type": "code",
   "execution_count": null,
   "metadata": {},
   "outputs": [],
   "source": []
  }
 ],
 "metadata": {
  "file_extension": ".py",
  "kernelspec": {
   "display_name": "jup3.7.2",
   "language": "python",
   "name": "jup3.7.2"
  },
  "language_info": {
   "codemirror_mode": {
    "name": "ipython",
    "version": 3
   },
   "file_extension": ".py",
   "mimetype": "text/x-python",
   "name": "python",
   "nbconvert_exporter": "python",
   "pygments_lexer": "ipython3",
   "version": "3.7.2"
  },
  "mimetype": "text/x-python",
  "name": "python",
  "npconvert_exporter": "python",
  "pygments_lexer": "ipython3",
  "toc": {
   "base_numbering": 1,
   "nav_menu": {},
   "number_sections": true,
   "sideBar": false,
   "skip_h1_title": false,
   "title_cell": "Table of Contents",
   "title_sidebar": "Contents",
   "toc_cell": false,
   "toc_position": {},
   "toc_section_display": true,
   "toc_window_display": true
  },
  "version": 3
 },
 "nbformat": 4,
 "nbformat_minor": 2
}
