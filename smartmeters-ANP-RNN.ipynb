{
 "cells": [
  {
   "cell_type": "markdown",
   "metadata": {},
   "source": [
    "# This notebook uses pytorch lightning & optuna & a Recurrent Attentive Neural Process for Sequential Data (RANPfSQ)\n",
    "\n",
    "This notebook trains an Attentional Neural Network on timeseries data from smartmeters.\n",
    "\n",
    "It uses pytorch lighting for the training loop. And Optuna for the hyperparameter optimisation.\n",
    "\n",
    "It also pushes results to the tensorboard hyperparameter dashboard for examination.\n",
    "\n",
    "- https://github.com/optuna/optuna/blob/master/examples/pytorch_lightning_simple.py\n",
    "\n",
    "- similar to https://arxiv.org/abs/1910.09323"
   ]
  },
  {
   "cell_type": "markdown",
   "metadata": {
    "ExecuteTime": {
     "end_time": "2020-02-15T11:09:58.775974Z",
     "start_time": "2020-02-15T11:09:43.765111Z"
    }
   },
   "source": [
    "Results on *Smartmeter* prediction\n",
    "\n",
    "|Model|val_loss|\n",
    "|--|--| \n",
    "|ANP-RNN|-1.27|\n",
    "|ANP-RNN_imp|-1.38|\n",
    "|ANP|-1.3|\n",
    "|ANP_impr|-1.2|\n",
    "|NP|-1.3|"
   ]
  },
  {
   "cell_type": "code",
   "execution_count": 1,
   "metadata": {
    "ExecuteTime": {
     "end_time": "2020-04-11T05:31:36.604028Z",
     "start_time": "2020-04-11T05:31:34.179270Z"
    }
   },
   "outputs": [],
   "source": [
    "import sys, re, os, itertools, functools, collections\n",
    "import pandas as pd\n",
    "import numpy as np\n",
    "import matplotlib.pyplot as plt\n",
    "import collections\n",
    "from pathlib import Path\n",
    "from tqdm.auto import tqdm\n",
    "\n",
    "import optuna\n",
    "import pytorch_lightning as pl\n",
    "from optuna.integration import PyTorchLightningPruningCallback\n",
    "\n",
    "\n",
    "import math\n",
    "%matplotlib inline\n",
    "%reload_ext autoreload\n",
    "%autoreload 2"
   ]
  },
  {
   "cell_type": "code",
   "execution_count": 2,
   "metadata": {
    "ExecuteTime": {
     "end_time": "2020-04-11T05:31:36.672837Z",
     "start_time": "2020-04-11T05:31:36.609199Z"
    }
   },
   "outputs": [],
   "source": [
    "import torch\n",
    "from torch import nn\n",
    "import torch.nn.functional as F"
   ]
  },
  {
   "cell_type": "code",
   "execution_count": 3,
   "metadata": {
    "ExecuteTime": {
     "end_time": "2020-04-11T05:31:36.811071Z",
     "start_time": "2020-04-11T05:31:36.675979Z"
    }
   },
   "outputs": [
    {
     "name": "stderr",
     "output_type": "stream",
     "text": [
      "/home/wassname/.pyenv/versions/jup3.7.3/lib/python3.7/site-packages/pytorch_lightning/core/decorators.py:13: UserWarning:\n",
      "\n",
      "data_loader decorator deprecated in 0.7.0. Will remove 0.9.0\n",
      "\n"
     ]
    }
   ],
   "source": [
    "\n",
    "from neural_processes.data.smart_meter import collate_fns, SmartMeterDataSet, get_smartmeter_df\n",
    "from neural_processes.plot import plot_from_loader\n",
    "\n",
    "from neural_processes.dict_logger import DictLogger\n",
    "from neural_processes.utils import PyTorchLightningPruningCallback\n",
    "from neural_processes.train import main, objective, add_number, run_trial\n",
    "\n",
    "from neural_processes.models.neural_process import PL_NeuralProcess\n",
    "\n",
    "from neural_processes.models.transformer import PL_Transformer\n",
    "from neural_processes.models.transformer_seq2seq import TransformerSeq2Seq_PL\n",
    "\n",
    "from neural_processes.models.lstm_seqseq import LSTMSeq2Seq_PL\n",
    "from neural_processes.models.lstm_std import LSTM_PL_STD"
   ]
  },
  {
   "cell_type": "code",
   "execution_count": 4,
   "metadata": {
    "ExecuteTime": {
     "end_time": "2020-04-11T05:31:36.865423Z",
     "start_time": "2020-04-11T05:31:36.814579Z"
    }
   },
   "outputs": [],
   "source": [
    "# Params\n",
    "device='cuda'\n",
    "use_logy=False"
   ]
  },
  {
   "cell_type": "code",
   "execution_count": 5,
   "metadata": {
    "ExecuteTime": {
     "end_time": "2020-04-11T05:31:36.918980Z",
     "start_time": "2020-04-11T05:31:36.868490Z"
    }
   },
   "outputs": [],
   "source": [
    "import logging\n",
    "logging.basicConfig(stream=sys.stdout, level=logging.INFO)\n",
    "logger = logging.getLogger(\"RANP.ipynb\")"
   ]
  },
  {
   "cell_type": "markdown",
   "metadata": {},
   "source": [
    "# Load kaggle smart meter data"
   ]
  },
  {
   "cell_type": "code",
   "execution_count": 6,
   "metadata": {
    "ExecuteTime": {
     "end_time": "2020-04-11T05:31:45.902849Z",
     "start_time": "2020-04-11T05:31:36.921263Z"
    }
   },
   "outputs": [],
   "source": [
    "df_train, df_val, df_test = get_smartmeter_df()"
   ]
  },
  {
   "cell_type": "code",
   "execution_count": 7,
   "metadata": {
    "ExecuteTime": {
     "end_time": "2020-04-11T05:31:46.602152Z",
     "start_time": "2020-04-11T05:31:45.906531Z"
    }
   },
   "outputs": [
    {
     "data": {
      "text/plain": [
       "<matplotlib.legend.Legend at 0x7f27ce25c4a8>"
      ]
     },
     "execution_count": 7,
     "metadata": {},
     "output_type": "execute_result"
    },
    {
     "data": {
      "image/png": "[encoded data removed]",
      "text/plain": [
       "<Figure size 432x288 with 1 Axes>"
      ]
     },
     "metadata": {
      "needs_background": "light"
     },
     "output_type": "display_data"
    }
   ],
   "source": [
    "# Show split\n",
    "df_train['energy(kWh/hh)'].plot(label='train')\n",
    "df_val['energy(kWh/hh)'].plot(label='val')\n",
    "df_test['energy(kWh/hh)'].plot(label='test')\n",
    "plt.title('energy(kWh/hh)')\n",
    "plt.legend()"
   ]
  },
  {
   "cell_type": "markdown",
   "metadata": {},
   "source": [
    "# Default params"
   ]
  },
  {
   "cell_type": "code",
   "execution_count": 8,
   "metadata": {
    "ExecuteTime": {
     "end_time": "2020-04-11T05:31:46.658638Z",
     "start_time": "2020-04-11T05:31:46.606018Z"
    }
   },
   "outputs": [],
   "source": [
    "default_user_attrs = {\n",
    "    'context_in_target': True,\n",
    "    'x_dim': 17,\n",
    "    'y_dim': 1,\n",
    "    'vis_i': '670',\n",
    "    'num_workers': 3,\n",
    "    'num_context': 24*4,\n",
    "    'num_extra_target': 24*4,\n",
    "    'max_nb_epochs': 200,\n",
    "    'min_std': 0.005,\n",
    "    'grad_clip': 40,\n",
    "    'batch_size': 16,\n",
    "    'patience': 2\n",
    "}"
   ]
  },
  {
   "cell_type": "code",
   "execution_count": 9,
   "metadata": {
    "ExecuteTime": {
     "end_time": "2020-04-11T05:31:46.715140Z",
     "start_time": "2020-04-11T05:31:46.661863Z"
    }
   },
   "outputs": [],
   "source": [
    "results = {}"
   ]
  },
  {
   "cell_type": "markdown",
   "metadata": {
    "ExecuteTime": {
     "end_time": "2020-04-11T01:56:38.106876Z",
     "start_time": "2020-04-11T01:56:38.100361Z"
    }
   },
   "source": [
    "# Models"
   ]
  },
  {
   "cell_type": "markdown",
   "metadata": {},
   "source": [
    "## ANP-RNN"
   ]
  },
  {
   "cell_type": "code",
   "execution_count": null,
   "metadata": {
    "ExecuteTime": {
     "start_time": "2020-04-11T05:31:34.200Z"
    }
   },
   "outputs": [
    {
     "name": "stdout",
     "output_type": "stream",
     "text": [
      "now run `tensorboard --logdir lightning_logs`\n",
      "trial.number -31\n",
      "trial <optuna.trial.FixedTrial object at 0x7f27cf19b860>\n",
      "INFO:root:GPU available: True, used: True\n",
      "INFO:root:VISIBLE GPUS: 0\n",
      "INFO:root:\n",
      "    | Name                                                                       | Type                 | Params\n",
      "----------------------------------------------------------------------------------------------------------------\n",
      "0   | _model                                                                     | NeuralProcess        | 1 M   \n",
      "1   | _model.norm_x                                                              | BatchNormSequence    | 34    \n",
      "2   | _model.norm_x.norm                                                         | BatchNorm1d          | 34    \n",
      "3   | _model.norm_y                                                              | BatchNormSequence    | 2     \n",
      "4   | _model.norm_y.norm                                                         | BatchNorm1d          | 2     \n",
      "5   | _model._lstm_x                                                             | LSTM                 | 207 K \n",
      "6   | _model._lstm_y                                                             | LSTM                 | 199 K \n",
      "7   | _model._latent_encoder                                                     | LatentEncoder        | 98 K  \n",
      "8   | _model._latent_encoder._encoder                                            | BatchMLP             | 49 K  \n",
      "9   | _model._latent_encoder._encoder.initial                                    | NPBlockRelu2d        | 32 K  \n",
      "10  | _model._latent_encoder._encoder.initial.linear                             | Linear               | 32 K  \n",
      "11  | _model._latent_encoder._encoder.initial.act                                | ReLU                 | 0     \n",
      "12  | _model._latent_encoder._encoder.initial.dropout                            | Dropout2d            | 0     \n",
      "13  | _model._latent_encoder._encoder.encoder                                    | Sequential           | 0     \n",
      "14  | _model._latent_encoder._encoder.final                                      | Linear               | 16 K  \n",
      "15  | _model._latent_encoder._self_attention                                     | Attention            | 0     \n",
      "16  | _model._latent_encoder._penultimate_layer                                  | Linear               | 16 K  \n",
      "17  | _model._latent_encoder._mean                                               | Linear               | 16 K  \n",
      "18  | _model._latent_encoder._log_var                                            | Linear               | 16 K  \n",
      "19  | _model._deterministic_encoder                                              | DeterministicEncoder | 672 K \n",
      "20  | _model._deterministic_encoder._d_encoder                                   | BatchMLP             | 82 K  \n",
      "21  | _model._deterministic_encoder._d_encoder.initial                           | NPBlockRelu2d        | 32 K  \n",
      "22  | _model._deterministic_encoder._d_encoder.initial.linear                    | Linear               | 32 K  \n",
      "23  | _model._deterministic_encoder._d_encoder.initial.act                       | ReLU                 | 0     \n",
      "24  | _model._deterministic_encoder._d_encoder.initial.dropout                   | Dropout2d            | 0     \n",
      "25  | _model._deterministic_encoder._d_encoder.encoder                           | Sequential           | 32 K  \n",
      "26  | _model._deterministic_encoder._d_encoder.encoder.0                         | NPBlockRelu2d        | 16 K  \n",
      "27  | _model._deterministic_encoder._d_encoder.encoder.0.linear                  | Linear               | 16 K  \n",
      "28  | _model._deterministic_encoder._d_encoder.encoder.0.act                     | ReLU                 | 0     \n",
      "29  | _model._deterministic_encoder._d_encoder.encoder.0.dropout                 | Dropout2d            | 0     \n",
      "30  | _model._deterministic_encoder._d_encoder.encoder.1                         | NPBlockRelu2d        | 16 K  \n",
      "31  | _model._deterministic_encoder._d_encoder.encoder.1.linear                  | Linear               | 16 K  \n",
      "32  | _model._deterministic_encoder._d_encoder.encoder.1.act                     | ReLU                 | 0     \n",
      "33  | _model._deterministic_encoder._d_encoder.encoder.1.dropout                 | Dropout2d            | 0     \n",
      "34  | _model._deterministic_encoder._d_encoder.final                             | Linear               | 16 K  \n",
      "35  | _model._deterministic_encoder._self_attention                              | Attention            | 0     \n",
      "36  | _model._deterministic_encoder._cross_attention                             | Attention            | 590 K \n",
      "37  | _model._deterministic_encoder._cross_attention.batch_mlp_k                 | BatchMLP             | 32 K  \n",
      "38  | _model._deterministic_encoder._cross_attention.batch_mlp_k.initial         | NPBlockRelu2d        | 16 K  \n",
      "39  | _model._deterministic_encoder._cross_attention.batch_mlp_k.initial.linear  | Linear               | 16 K  \n",
      "40  | _model._deterministic_encoder._cross_attention.batch_mlp_k.initial.act     | ReLU                 | 0     \n",
      "41  | _model._deterministic_encoder._cross_attention.batch_mlp_k.initial.dropout | Dropout2d            | 0     \n",
      "42  | _model._deterministic_encoder._cross_attention.batch_mlp_k.encoder         | Sequential           | 0     \n",
      "43  | _model._deterministic_encoder._cross_attention.batch_mlp_k.final           | Linear               | 16 K  \n",
      "44  | _model._deterministic_encoder._cross_attention.batch_mlp_q                 | BatchMLP             | 32 K  \n",
      "45  | _model._deterministic_encoder._cross_attention.batch_mlp_q.initial         | NPBlockRelu2d        | 16 K  \n",
      "46  | _model._deterministic_encoder._cross_attention.batch_mlp_q.initial.linear  | Linear               | 16 K  \n",
      "47  | _model._deterministic_encoder._cross_attention.batch_mlp_q.initial.act     | ReLU                 | 0     \n",
      "48  | _model._deterministic_encoder._cross_attention.batch_mlp_q.initial.dropout | Dropout2d            | 0     \n",
      "49  | _model._deterministic_encoder._cross_attention.batch_mlp_q.encoder         | Sequential           | 0     \n",
      "50  | _model._deterministic_encoder._cross_attention.batch_mlp_q.final           | Linear               | 16 K  \n",
      "51  | _model._deterministic_encoder._cross_attention._W_k                        | ModuleList           | 131 K \n",
      "52  | _model._deterministic_encoder._cross_attention._W_k.0                      | AttnLinear           | 16 K  \n",
      "53  | _model._deterministic_encoder._cross_attention._W_k.0.linear               | Linear               | 16 K  \n",
      "54  | _model._deterministic_encoder._cross_attention._W_k.1                      | AttnLinear           | 16 K  \n",
      "55  | _model._deterministic_encoder._cross_attention._W_k.1.linear               | Linear               | 16 K  \n",
      "56  | _model._deterministic_encoder._cross_attention._W_k.2                      | AttnLinear           | 16 K  \n",
      "57  | _model._deterministic_encoder._cross_attention._W_k.2.linear               | Linear               | 16 K  \n",
      "58  | _model._deterministic_encoder._cross_attention._W_k.3                      | AttnLinear           | 16 K  \n",
      "59  | _model._deterministic_encoder._cross_attention._W_k.3.linear               | Linear               | 16 K  \n",
      "60  | _model._deterministic_encoder._cross_attention._W_k.4                      | AttnLinear           | 16 K  \n",
      "61  | _model._deterministic_encoder._cross_attention._W_k.4.linear               | Linear               | 16 K  \n",
      "62  | _model._deterministic_encoder._cross_attention._W_k.5                      | AttnLinear           | 16 K  \n",
      "63  | _model._deterministic_encoder._cross_attention._W_k.5.linear               | Linear               | 16 K  \n",
      "64  | _model._deterministic_encoder._cross_attention._W_k.6                      | AttnLinear           | 16 K  \n",
      "65  | _model._deterministic_encoder._cross_attention._W_k.6.linear               | Linear               | 16 K  \n",
      "66  | _model._deterministic_encoder._cross_attention._W_k.7                      | AttnLinear           | 16 K  \n",
      "67  | _model._deterministic_encoder._cross_attention._W_k.7.linear               | Linear               | 16 K  \n",
      "68  | _model._deterministic_encoder._cross_attention._W_v                        | ModuleList           | 131 K \n",
      "69  | _model._deterministic_encoder._cross_attention._W_v.0                      | AttnLinear           | 16 K  \n",
      "70  | _model._deterministic_encoder._cross_attention._W_v.0.linear               | Linear               | 16 K  \n",
      "71  | _model._deterministic_encoder._cross_attention._W_v.1                      | AttnLinear           | 16 K  \n",
      "72  | _model._deterministic_encoder._cross_attention._W_v.1.linear               | Linear               | 16 K  \n",
      "73  | _model._deterministic_encoder._cross_attention._W_v.2                      | AttnLinear           | 16 K  \n",
      "74  | _model._deterministic_encoder._cross_attention._W_v.2.linear               | Linear               | 16 K  \n",
      "75  | _model._deterministic_encoder._cross_attention._W_v.3                      | AttnLinear           | 16 K  \n",
      "76  | _model._deterministic_encoder._cross_attention._W_v.3.linear               | Linear               | 16 K  \n",
      "77  | _model._deterministic_encoder._cross_attention._W_v.4                      | AttnLinear           | 16 K  \n",
      "78  | _model._deterministic_encoder._cross_attention._W_v.4.linear               | Linear               | 16 K  \n",
      "79  | _model._deterministic_encoder._cross_attention._W_v.5                      | AttnLinear           | 16 K  \n",
      "80  | _model._deterministic_encoder._cross_attention._W_v.5.linear               | Linear               | 16 K  \n",
      "81  | _model._deterministic_encoder._cross_attention._W_v.6                      | AttnLinear           | 16 K  \n",
      "82  | _model._deterministic_encoder._cross_attention._W_v.6.linear               | Linear               | 16 K  \n",
      "83  | _model._deterministic_encoder._cross_attention._W_v.7                      | AttnLinear           | 16 K  \n",
      "84  | _model._deterministic_encoder._cross_attention._W_v.7.linear               | Linear               | 16 K  \n",
      "85  | _model._deterministic_encoder._cross_attention._W_q                        | ModuleList           | 131 K \n",
      "86  | _model._deterministic_encoder._cross_attention._W_q.0                      | AttnLinear           | 16 K  \n",
      "87  | _model._deterministic_encoder._cross_attention._W_q.0.linear               | Linear               | 16 K  \n",
      "88  | _model._deterministic_encoder._cross_attention._W_q.1                      | AttnLinear           | 16 K  \n",
      "89  | _model._deterministic_encoder._cross_attention._W_q.1.linear               | Linear               | 16 K  \n",
      "90  | _model._deterministic_encoder._cross_attention._W_q.2                      | AttnLinear           | 16 K  \n",
      "91  | _model._deterministic_encoder._cross_attention._W_q.2.linear               | Linear               | 16 K  \n",
      "92  | _model._deterministic_encoder._cross_attention._W_q.3                      | AttnLinear           | 16 K  \n",
      "93  | _model._deterministic_encoder._cross_attention._W_q.3.linear               | Linear               | 16 K  \n",
      "94  | _model._deterministic_encoder._cross_attention._W_q.4                      | AttnLinear           | 16 K  \n",
      "95  | _model._deterministic_encoder._cross_attention._W_q.4.linear               | Linear               | 16 K  \n",
      "96  | _model._deterministic_encoder._cross_attention._W_q.5                      | AttnLinear           | 16 K  \n",
      "97  | _model._deterministic_encoder._cross_attention._W_q.5.linear               | Linear               | 16 K  \n",
      "98  | _model._deterministic_encoder._cross_attention._W_q.6                      | AttnLinear           | 16 K  \n",
      "99  | _model._deterministic_encoder._cross_attention._W_q.6.linear               | Linear               | 16 K  \n",
      "100 | _model._deterministic_encoder._cross_attention._W_q.7                      | AttnLinear           | 16 K  \n",
      "101 | _model._deterministic_encoder._cross_attention._W_q.7.linear               | Linear               | 16 K  \n",
      "102 | _model._deterministic_encoder._cross_attention._W                          | AttnLinear           | 131 K \n",
      "103 | _model._deterministic_encoder._cross_attention._W.linear                   | Linear               | 131 K \n",
      "104 | _model._decoder                                                            | Decoder              | 607 K \n",
      "105 | _model._decoder._target_transform                                          | Linear               | 16 K  \n",
      "106 | _model._decoder._decoder                                                   | BatchMLP             | 590 K \n",
      "107 | _model._decoder._decoder.initial                                           | NPBlockRelu2d        | 147 K \n",
      "108 | _model._decoder._decoder.initial.linear                                    | Linear               | 147 K \n",
      "109 | _model._decoder._decoder.initial.act                                       | ReLU                 | 0     \n",
      "110 | _model._decoder._decoder.initial.dropout                                   | Dropout2d            | 0     \n",
      "111 | _model._decoder._decoder.encoder                                           | Sequential           | 294 K \n",
      "112 | _model._decoder._decoder.encoder.0                                         | NPBlockRelu2d        | 147 K \n",
      "113 | _model._decoder._decoder.encoder.0.linear                                  | Linear               | 147 K \n",
      "114 | _model._decoder._decoder.encoder.0.act                                     | ReLU                 | 0     \n",
      "115 | _model._decoder._decoder.encoder.0.dropout                                 | Dropout2d            | 0     \n",
      "116 | _model._decoder._decoder.encoder.1                                         | NPBlockRelu2d        | 147 K \n",
      "117 | _model._decoder._decoder.encoder.1.linear                                  | Linear               | 147 K \n",
      "118 | _model._decoder._decoder.encoder.1.act                                     | ReLU                 | 0     \n",
      "119 | _model._decoder._decoder.encoder.1.dropout                                 | Dropout2d            | 0     \n",
      "120 | _model._decoder._decoder.final                                             | Linear               | 147 K \n",
      "121 | _model._decoder._mean                                                      | Linear               | 385   \n",
      "122 | _model._decoder._std                                                       | Linear               | 385   \n"
     ]
    },
    {
     "data": {
      "application/vnd.jupyter.widget-view+json": {
       "model_id": "",
       "version_major": 2,
       "version_minor": 0
      },
      "text/plain": [
       "HBox(children=(FloatProgress(value=0.0, description='Validation sanity check', layout=Layout(flex='2'), max=5.…"
      ]
     },
     "metadata": {},
     "output_type": "display_data"
    },
    {
     "data": {
      "image/png": "[encoded data removed]",
      "text/plain": [
       "<Figure size 432x288 with 1 Axes>"
      ]
     },
     "metadata": {
      "needs_background": "light"
     },
     "output_type": "display_data"
    },
    {
     "name": "stdout",
     "output_type": "stream",
     "text": [
      "step 0, {'val_loss': '0.44150611758232117', 'val/loss_mse': '0.2931194007396698', 'val/loss_p': '0.44150611758232117', 'val/sigma': '1.0362932682037354'}\n",
      "\r"
     ]
    },
    {
     "data": {
      "application/vnd.jupyter.widget-view+json": {
       "model_id": "c1091128cecf44d5a9a0973151c2f7e7",
       "version_major": 2,
       "version_minor": 0
      },
      "text/plain": [
       "HBox(children=(FloatProgress(value=1.0, bar_style='info', layout=Layout(flex='2'), max=1.0), HTML(value='')), …"
      ]
     },
     "metadata": {},
     "output_type": "display_data"
    }
   ],
   "source": [
    "trial, trainer, model = run_trial(\n",
    "    name=\"anp-rnn\",\n",
    "    params={\n",
    "     'det_enc_cross_attn_type': 'multihead',\n",
    "     'det_enc_self_attn_type': 'uniform',\n",
    "     'latent_enc_self_attn_type': 'uniform',\n",
    "     'use_deterministic_path': True,\n",
    "     'use_rnn': True,\n",
    "     'use_lvar': False,\n",
    "    },\n",
    "    user_attrs = default_user_attrs,\n",
    "    PL_MODEL_CLS=PL_NeuralProcess\n",
    ")"
   ]
  },
  {
   "cell_type": "code",
   "execution_count": null,
   "metadata": {
    "ExecuteTime": {
     "start_time": "2020-04-11T05:31:34.200Z"
    }
   },
   "outputs": [],
   "source": [
    "%debug"
   ]
  },
  {
   "cell_type": "code",
   "execution_count": null,
   "metadata": {
    "ExecuteTime": {
     "start_time": "2020-04-11T05:31:34.200Z"
    }
   },
   "outputs": [],
   "source": [
    "results"
   ]
  },
  {
   "cell_type": "code",
   "execution_count": null,
   "metadata": {
    "ExecuteTime": {
     "start_time": "2020-04-11T05:31:34.200Z"
    }
   },
   "outputs": [],
   "source": [
    "trainer.logger.metrics"
   ]
  },
  {
   "cell_type": "markdown",
   "metadata": {
    "ExecuteTime": {
     "end_time": "2020-02-15T07:40:36.819548Z",
     "start_time": "2020-02-15T07:40:07.785566Z"
    }
   },
   "source": [
    "## ANP-RNN 2"
   ]
  },
  {
   "cell_type": "code",
   "execution_count": null,
   "metadata": {
    "ExecuteTime": {
     "start_time": "2020-04-11T05:31:34.300Z"
    }
   },
   "outputs": [],
   "source": [
    "trial, trainer, model = run_trial(\n",
    "    name=\"anp-rnn2\",\n",
    "    params={ \n",
    "        'det_enc_self_attn_type': 'multihead',\n",
    "        'latent_enc_self_attn_type': 'multihead',\n",
    "        'use_deterministic_path': False,\n",
    "        'use_rnn': True,\n",
    "        'use_lvar': False,\n",
    "    },\n",
    "    user_attrs=default_user_attrs,\n",
    "    PL_MODEL_CLS=PL_NeuralProcess)"
   ]
  },
  {
   "cell_type": "code",
   "execution_count": null,
   "metadata": {
    "ExecuteTime": {
     "end_time": "2020-02-15T07:01:21.281138Z",
     "start_time": "2020-02-15T07:01:20.834255Z"
    }
   },
   "outputs": [],
   "source": []
  },
  {
   "cell_type": "markdown",
   "metadata": {
    "ExecuteTime": {
     "end_time": "2020-02-15T07:00:04.268233Z",
     "start_time": "2020-02-15T06:57:58.700Z"
    },
    "scrolled": true
   },
   "source": [
    "## ANP"
   ]
  },
  {
   "cell_type": "code",
   "execution_count": null,
   "metadata": {
    "ExecuteTime": {
     "start_time": "2020-04-11T05:31:34.300Z"
    }
   },
   "outputs": [],
   "source": [
    "trial, trainer, model = run_trial(name=\"anp_c\",\n",
    "                                  params={\n",
    "                                      'det_enc_cross_attn_type': 'multihead',\n",
    "                                      'det_enc_self_attn_type': 'multihead',\n",
    "                                      'latent_enc_self_attn_type': 'multihead',\n",
    "                                      'use_deterministic_path': False,\n",
    "                                      'use_lvar': False,\n",
    "                                  },\n",
    "                                  user_attrs=default_user_attrs,\n",
    "                                  PL_MODEL_CLS=PL_NeuralProcess)"
   ]
  },
  {
   "cell_type": "markdown",
   "metadata": {},
   "source": [
    "## NP"
   ]
  },
  {
   "cell_type": "code",
   "execution_count": null,
   "metadata": {
    "ExecuteTime": {
     "start_time": "2020-04-11T05:31:34.300Z"
    }
   },
   "outputs": [],
   "source": [
    "trial, trainer, model = run_trial(name=\"np\",\n",
    "                                  params={\n",
    "                                      'det_enc_cross_attn_type': 'uniform',\n",
    "                                      'det_enc_self_attn_type': 'uniform',\n",
    "                                      'latent_enc_self_attn_type': 'uniform',\n",
    "                                      'use_deterministic_path': False,\n",
    "                                      'use_lvar': False,\n",
    "                                  },\n",
    "                                  user_attrs=default_user_attrs,\n",
    "                                  PL_MODEL_CLS=PL_NeuralProcess)"
   ]
  },
  {
   "cell_type": "markdown",
   "metadata": {
    "ExecuteTime": {
     "end_time": "2020-04-11T01:24:32.163872Z",
     "start_time": "2020-04-11T01:24:32.160011Z"
    }
   },
   "source": [
    "## Transformer"
   ]
  },
  {
   "cell_type": "code",
   "execution_count": null,
   "metadata": {
    "ExecuteTime": {
     "start_time": "2020-04-11T05:31:34.300Z"
    }
   },
   "outputs": [],
   "source": [
    "trial, trainer, model = run_trial(name=\"PL_Transformer\",\n",
    "                                  params={\n",
    "                                      'det_enc_cross_attn_type': 'uniform',\n",
    "                                      'det_enc_self_attn_type': 'uniform',\n",
    "                                      'latent_enc_self_attn_type': 'uniform',\n",
    "                                      'use_deterministic_path': False,\n",
    "                                      'use_lvar': False,\n",
    "                                  },\n",
    "                                  user_attrs=default_user_attrs,\n",
    "                                  PL_MODEL_CLS=PL_Transformer)"
   ]
  },
  {
   "cell_type": "markdown",
   "metadata": {},
   "source": [
    "## Transformer Seq2Seq"
   ]
  },
  {
   "cell_type": "code",
   "execution_count": null,
   "metadata": {
    "ExecuteTime": {
     "start_time": "2020-04-11T05:31:34.300Z"
    }
   },
   "outputs": [],
   "source": [
    "trial, trainer, model = run_trial(name=\"TransformerSeq2Seq_PL\",\n",
    "                                  params={\n",
    "                                      'det_enc_cross_attn_type': 'uniform',\n",
    "                                      'det_enc_self_attn_type': 'uniform',\n",
    "                                      'latent_enc_self_attn_type': 'uniform',\n",
    "                                      'use_deterministic_path': False,\n",
    "                                      'use_lvar': False,\n",
    "                                  },\n",
    "                                  user_attrs=default_user_attrs,\n",
    "                                  PL_MODEL_CLS=TransformerSeq2Seq_PL)"
   ]
  },
  {
   "cell_type": "markdown",
   "metadata": {},
   "source": [
    "## LSTM"
   ]
  },
  {
   "cell_type": "code",
   "execution_count": null,
   "metadata": {
    "ExecuteTime": {
     "start_time": "2020-04-11T05:31:34.300Z"
    }
   },
   "outputs": [],
   "source": [
    "trial, trainer, model = run_trial(name=\"LSTM_PL_STD\",\n",
    "                                  params={\n",
    "                                      'det_enc_cross_attn_type': 'uniform',\n",
    "                                      'det_enc_self_attn_type': 'uniform',\n",
    "                                      'latent_enc_self_attn_type': 'uniform',\n",
    "                                      'use_deterministic_path': False,\n",
    "                                      'use_lvar': False,\n",
    "                                  },\n",
    "                                  user_attrs=default_user_attrs,\n",
    "                                  PL_MODEL_CLS=LSTM_PL_STD)"
   ]
  },
  {
   "cell_type": "markdown",
   "metadata": {},
   "source": [
    "## LSTM seq2seq"
   ]
  },
  {
   "cell_type": "code",
   "execution_count": null,
   "metadata": {
    "ExecuteTime": {
     "start_time": "2020-04-11T05:31:34.300Z"
    }
   },
   "outputs": [],
   "source": [
    "trial, trainer, model = run_trial(name=\"LSTMSeq2Seq_PL\",\n",
    "                                  params={\n",
    "                                      'det_enc_cross_attn_type': 'uniform',\n",
    "                                      'det_enc_self_attn_type': 'uniform',\n",
    "                                      'latent_enc_self_attn_type': 'uniform',\n",
    "                                      'use_deterministic_path': False,\n",
    "                                      'use_lvar': False,\n",
    "                                  },\n",
    "                                  user_attrs=default_user_attrs,\n",
    "                                  PL_MODEL_CLS=LSTMSeq2Seq_PL)"
   ]
  },
  {
   "cell_type": "markdown",
   "metadata": {
    "ExecuteTime": {
     "end_time": "2020-01-27T04:27:28.582523Z",
     "start_time": "2020-01-27T04:27:28.445326Z"
    }
   },
   "source": [
    "# Hyperparam"
   ]
  },
  {
   "cell_type": "code",
   "execution_count": null,
   "metadata": {
    "ExecuteTime": {
     "start_time": "2020-04-11T05:31:34.300Z"
    },
    "scrolled": true
   },
   "outputs": [],
   "source": [
    "import argparse \n",
    "\n",
    "parser = argparse.ArgumentParser(description='PyTorch Lightning example.')\n",
    "parser.add_argument('--pruning', '-p', action='store_true',\n",
    "                    help='Activate the pruning feature. `MedianPruner` stops unpromising '\n",
    "                         'trials at the early stages of training.')\n",
    "args = parser.parse_args(['-p'])\n",
    "\n",
    "pruner = optuna.pruners.MedianPruner(n_warmup_steps=1, n_startup_trials=20) if args.pruning else optuna.pruners.NopPruner()\n",
    "pruner = optuna.pruners.PercentilePruner(75.0)\n",
    "name = 'anp-rnn1'\n",
    "study = optuna.create_study(direction='minimize', pruner=pruner, storage=f'sqlite:///optuna_result/{name}.db', study_name=name, load_if_exists=True)\n"
   ]
  },
  {
   "cell_type": "code",
   "execution_count": null,
   "metadata": {
    "ExecuteTime": {
     "start_time": "2020-04-11T05:31:34.300Z"
    },
    "scrolled": true
   },
   "outputs": [],
   "source": [
    "study.optimize(objective, n_trials=200, timeout=pd.Timedelta('3d').total_seconds())"
   ]
  },
  {
   "cell_type": "code",
   "execution_count": null,
   "metadata": {
    "ExecuteTime": {
     "end_time": "2020-02-16T04:12:26.187191Z",
     "start_time": "2020-02-16T04:12:26.081801Z"
    }
   },
   "outputs": [],
   "source": []
  },
  {
   "cell_type": "code",
   "execution_count": null,
   "metadata": {
    "ExecuteTime": {
     "start_time": "2020-04-11T05:31:34.300Z"
    },
    "scrolled": true
   },
   "outputs": [],
   "source": [
    "\n",
    "print('Number of finished trials: {}'.format(len(study.trials)))\n",
    "\n",
    "print('Best trial:')\n",
    "trial = study.best_trial\n",
    "\n",
    "print('  Value: {}'.format(trial.value))\n",
    "\n",
    "print('  Params: ')\n",
    "for key, value in trial.params.items():\n",
    "    print('    {}: {}'.format(key, value))\n",
    "\n",
    "# shutil.rmtree(MODEL_DIR)"
   ]
  },
  {
   "cell_type": "code",
   "execution_count": null,
   "metadata": {
    "ExecuteTime": {
     "end_time": "2020-01-27T07:45:29.794794Z",
     "start_time": "2020-01-27T07:45:29.733450Z"
    }
   },
   "outputs": [],
   "source": []
  },
  {
   "cell_type": "markdown",
   "metadata": {
    "ExecuteTime": {
     "end_time": "2020-01-27T07:35:33.470251Z",
     "start_time": "2020-01-27T07:34:47.800Z"
    }
   },
   "source": [
    "## View\n",
    "\n",
    "TODO"
   ]
  },
  {
   "cell_type": "code",
   "execution_count": null,
   "metadata": {
    "ExecuteTime": {
     "start_time": "2020-04-11T05:31:34.300Z"
    }
   },
   "outputs": [],
   "source": [
    "df = study.trials_dataframe(attrs=('number', 'value', 'params', 'state'))\n",
    "df.sort_values('value')"
   ]
  },
  {
   "cell_type": "code",
   "execution_count": null,
   "metadata": {
    "ExecuteTime": {
     "start_time": "2020-04-11T05:31:34.300Z"
    }
   },
   "outputs": [],
   "source": [
    "df.sort_values('value').head(17).T"
   ]
  },
  {
   "cell_type": "code",
   "execution_count": null,
   "metadata": {},
   "outputs": [],
   "source": []
  },
  {
   "cell_type": "code",
   "execution_count": null,
   "metadata": {},
   "outputs": [],
   "source": []
  },
  {
   "cell_type": "code",
   "execution_count": null,
   "metadata": {},
   "outputs": [],
   "source": []
  }
 ],
 "metadata": {
  "file_extension": ".py",
  "kernelspec": {
   "display_name": "jup3.7.3",
   "language": "python",
   "name": "jup3.7.3"
  },
  "language_info": {
   "codemirror_mode": {
    "name": "ipython",
    "version": 3
   },
   "file_extension": ".py",
   "mimetype": "text/x-python",
   "name": "python",
   "nbconvert_exporter": "python",
   "pygments_lexer": "ipython3",
   "version": "3.7.3"
  },
  "mimetype": "text/x-python",
  "name": "python",
  "npconvert_exporter": "python",
  "pygments_lexer": "ipython3",
  "toc": {
   "base_numbering": 1,
   "nav_menu": {},
   "number_sections": true,
   "sideBar": true,
   "skip_h1_title": false,
   "title_cell": "Table of Contents",
   "title_sidebar": "Contents",
   "toc_cell": false,
   "toc_position": {
    "height": "calc(100% - 180px)",
    "left": "10px",
    "top": "150px",
    "width": "384px"
   },
   "toc_section_display": true,
   "toc_window_display": true
  },
  "version": 3
 },
 "nbformat": 4,
 "nbformat_minor": 2
}
