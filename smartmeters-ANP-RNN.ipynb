{
 "cells": [
  {
   "cell_type": "markdown",
   "metadata": {},
   "source": [
    "# This notebook uses pytorch lightning & optuna & a Recurrent Attentive Neural Process for Sequential Data (RANPfSQ)\n",
    "\n",
    "This notebook trains an Attentional Neural Network on timeseries data from smartmeters.\n",
    "\n",
    "It uses pytorch lighting for the training loop. And Optuna for the hyperparameter optimisation.\n",
    "\n",
    "It also pushes results to the tensorboard hyperparameter dashboard for examination.\n",
    "\n",
    "- https://github.com/optuna/optuna/blob/master/examples/pytorch_lightning_simple.py\n",
    "\n",
    "- similar to https://arxiv.org/abs/1910.09323"
   ]
  },
  {
   "cell_type": "markdown",
   "metadata": {
    "ExecuteTime": {
     "end_time": "2020-02-15T11:09:58.775974Z",
     "start_time": "2020-02-15T11:09:43.765111Z"
    }
   },
   "source": [
    "Results on *Smartmeter* prediction\n",
    "\n",
    "|Model|val_loss|\n",
    "|--|--| \n",
    "|ANP-RNN|-1.27|\n",
    "|ANP-RNN_imp|-1.38|\n",
    "|ANP|-1.3|\n",
    "|ANP_impr|-1.2|\n",
    "|NP|-1.3|"
   ]
  },
  {
   "cell_type": "code",
   "execution_count": 1,
   "metadata": {
    "ExecuteTime": {
     "end_time": "2020-03-15T07:41:55.286976Z",
     "start_time": "2020-03-15T07:41:52.856091Z"
    }
   },
   "outputs": [],
   "source": [
    "import sys, re, os, itertools, functools, collections\n",
    "import pandas as pd\n",
    "import numpy as np\n",
    "import matplotlib.pyplot as plt\n",
    "import collections\n",
    "from pathlib import Path\n",
    "from tqdm.auto import tqdm\n",
    "\n",
    "import optuna\n",
    "import pytorch_lightning as pl\n",
    "from optuna.integration import PyTorchLightningPruningCallback\n",
    "\n",
    "\n",
    "import math\n",
    "%matplotlib inline\n",
    "%reload_ext autoreload\n",
    "%autoreload 2"
   ]
  },
  {
   "cell_type": "code",
   "execution_count": 2,
   "metadata": {
    "ExecuteTime": {
     "end_time": "2020-03-15T07:41:55.338169Z",
     "start_time": "2020-03-15T07:41:55.289507Z"
    }
   },
   "outputs": [],
   "source": [
    "import logging\n",
    "logging.basicConfig(stream=sys.stdout, level=logging.INFO)\n",
    "logger = logging.getLogger(\"RANP.ipynb\")"
   ]
  },
  {
   "cell_type": "code",
   "execution_count": 3,
   "metadata": {
    "ExecuteTime": {
     "end_time": "2020-03-15T07:41:55.387996Z",
     "start_time": "2020-03-15T07:41:55.340500Z"
    }
   },
   "outputs": [],
   "source": [
    "import torch\n",
    "from torch import nn\n",
    "import torch.nn.functional as F"
   ]
  },
  {
   "cell_type": "code",
   "execution_count": 4,
   "metadata": {
    "ExecuteTime": {
     "end_time": "2020-03-15T07:41:55.509522Z",
     "start_time": "2020-03-15T07:41:55.391093Z"
    }
   },
   "outputs": [],
   "source": [
    "from src.models.model import LatentModel\n",
    "from src.data.smart_meter import collate_fns, SmartMeterDataSet, get_smartmeter_df\n",
    "from src.plot import plot_from_loader\n",
    "from src.models.lightning_anp import LatentModelPL\n",
    "from src.dict_logger import DictLogger\n",
    "from src.utils import PyTorchLightningPruningCallback\n",
    "from src.train import main, objective, add_number, run_trial"
   ]
  },
  {
   "cell_type": "code",
   "execution_count": 5,
   "metadata": {
    "ExecuteTime": {
     "end_time": "2020-03-15T07:41:55.563222Z",
     "start_time": "2020-03-15T07:41:55.512791Z"
    }
   },
   "outputs": [],
   "source": [
    "# Params\n",
    "device='cuda'\n",
    "use_logy=False"
   ]
  },
  {
   "cell_type": "markdown",
   "metadata": {},
   "source": [
    "# Load kaggle smart meter data"
   ]
  },
  {
   "cell_type": "code",
   "execution_count": 6,
   "metadata": {
    "ExecuteTime": {
     "end_time": "2020-03-15T07:42:04.571965Z",
     "start_time": "2020-03-15T07:41:55.565891Z"
    }
   },
   "outputs": [],
   "source": [
    "df_train, df_val, df_test = get_smartmeter_df()"
   ]
  },
  {
   "cell_type": "code",
   "execution_count": 7,
   "metadata": {
    "ExecuteTime": {
     "end_time": "2020-03-15T07:42:05.220207Z",
     "start_time": "2020-03-15T07:42:04.574602Z"
    }
   },
   "outputs": [
    {
     "data": {
      "text/plain": [
       "<matplotlib.legend.Legend at 0x7f3392558e10>"
      ]
     },
     "execution_count": 7,
     "metadata": {},
     "output_type": "execute_result"
    },
    {
     "data": {
      "image/png": "[encoded data removed]",
      "text/plain": [
       "<Figure size 432x288 with 1 Axes>"
      ]
     },
     "metadata": {
      "needs_background": "light"
     },
     "output_type": "display_data"
    }
   ],
   "source": [
    "# Show split\n",
    "df_train['energy(kWh/hh)'].plot(label='train')\n",
    "df_val['energy(kWh/hh)'].plot(label='val')\n",
    "df_test['energy(kWh/hh)'].plot(label='test')\n",
    "plt.title('energy(kWh/hh)')\n",
    "plt.legend()"
   ]
  },
  {
   "cell_type": "markdown",
   "metadata": {},
   "source": [
    "# Train helpers"
   ]
  },
  {
   "cell_type": "code",
   "execution_count": null,
   "metadata": {},
   "outputs": [],
   "source": []
  },
  {
   "cell_type": "code",
   "execution_count": null,
   "metadata": {
    "ExecuteTime": {
     "end_time": "2020-02-16T04:12:04.687280Z",
     "start_time": "2020-02-16T04:12:04.611238Z"
    }
   },
   "outputs": [],
   "source": []
  },
  {
   "cell_type": "markdown",
   "metadata": {},
   "source": [
    "# Default params"
   ]
  },
  {
   "cell_type": "code",
   "execution_count": 13,
   "metadata": {
    "ExecuteTime": {
     "end_time": "2020-03-15T07:48:24.922502Z",
     "start_time": "2020-03-15T07:48:24.853638Z"
    }
   },
   "outputs": [],
   "source": [
    "default_params = {\n",
    " 'attention_dropout': 0,\n",
    " 'attention_layers': 2,\n",
    " 'batchnorm': False,\n",
    " 'det_enc_cross_attn_type': 'multihead',\n",
    " 'det_enc_self_attn_type': 'uniform',\n",
    " 'dropout': 0,\n",
    " 'hidden_dim': 128,\n",
    " 'latent_dim': 128,\n",
    " 'latent_enc_self_attn_type': 'uniform',\n",
    " 'learning_rate': 0.002,\n",
    " 'n_decoder_layers': 4,\n",
    " 'n_det_encoder_layers': 4,\n",
    " 'n_latent_encoder_layers': 2,\n",
    " 'num_heads': 8,\n",
    " 'use_deterministic_path': True,\n",
    " 'use_lvar': True,\n",
    " 'use_self_attn': True,\n",
    " 'use_rnn': False,\n",
    "}\n",
    "default_attrs = {\n",
    "    'context_in_target': True,\n",
    "    'x_dim': 17,\n",
    "     'y_dim': 1,\n",
    "    'vis_i': '670',\n",
    "    'num_workers': 3,\n",
    "    'num_context': 24*4,\n",
    "    'num_extra_target': 24*4,\n",
    "    'max_nb_epochs': 200,\n",
    "    'min_std': 0.005,\n",
    "    'grad_clip': 40,\n",
    "    'batch_size': 16,\n",
    "    'patience': 2\n",
    "}"
   ]
  },
  {
   "cell_type": "code",
   "execution_count": null,
   "metadata": {},
   "outputs": [],
   "source": []
  },
  {
   "cell_type": "code",
   "execution_count": null,
   "metadata": {
    "ExecuteTime": {
     "end_time": "2020-02-15T07:05:44.545917Z",
     "start_time": "2020-02-15T07:05:44.487280Z"
    }
   },
   "outputs": [],
   "source": []
  },
  {
   "cell_type": "markdown",
   "metadata": {},
   "source": [
    "# Train ANP-RNN"
   ]
  },
  {
   "cell_type": "code",
   "execution_count": null,
   "metadata": {
    "ExecuteTime": {
     "start_time": "2020-03-15T07:48:25.600Z"
    }
   },
   "outputs": [
    {
     "name": "stdout",
     "output_type": "stream",
     "text": [
      "now run `tensorboard --logdir lightning_logs`\n",
      "trial.number -2\n",
      "INFO:root:GPU available: True, used: True\n",
      "INFO:root:VISIBLE GPUS: 0\n",
      "INFO:root:\n",
      "    | Name                                                                      | Type                 | Params\n",
      "---------------------------------------------------------------------------------------------------------------\n",
      "0   | model                                                                     | LatentModel          | 1 M   \n",
      "1   | model.norm_x                                                              | BatchNormSequence    | 34    \n",
      "2   | model.norm_x.norm                                                         | BatchNorm1d          | 34    \n",
      "3   | model.norm_y                                                              | BatchNormSequence    | 2     \n",
      "4   | model.norm_y.norm                                                         | BatchNorm1d          | 2     \n",
      "5   | model._lstm_x                                                             | LSTM                 | 207 K \n",
      "6   | model._lstm_y                                                             | LSTM                 | 199 K \n",
      "7   | model._latent_encoder                                                     | LatentEncoder        | 98 K  \n",
      "8   | model._latent_encoder._encoder                                            | BatchMLP             | 49 K  \n",
      "9   | model._latent_encoder._encoder.initial                                    | NPBlockRelu2d        | 32 K  \n",
      "10  | model._latent_encoder._encoder.initial.linear                             | Linear               | 32 K  \n",
      "11  | model._latent_encoder._encoder.initial.act                                | ReLU                 | 0     \n",
      "12  | model._latent_encoder._encoder.initial.dropout                            | Dropout2d            | 0     \n",
      "13  | model._latent_encoder._encoder.encoder                                    | Sequential           | 0     \n",
      "14  | model._latent_encoder._encoder.final                                      | Linear               | 16 K  \n",
      "15  | model._latent_encoder._self_attention                                     | Attention            | 0     \n",
      "16  | model._latent_encoder._penultimate_layer                                  | Linear               | 16 K  \n",
      "17  | model._latent_encoder._mean                                               | Linear               | 16 K  \n",
      "18  | model._latent_encoder._log_var                                            | Linear               | 16 K  \n",
      "19  | model._deterministic_encoder                                              | DeterministicEncoder | 672 K \n",
      "20  | model._deterministic_encoder._d_encoder                                   | BatchMLP             | 82 K  \n",
      "21  | model._deterministic_encoder._d_encoder.initial                           | NPBlockRelu2d        | 32 K  \n",
      "22  | model._deterministic_encoder._d_encoder.initial.linear                    | Linear               | 32 K  \n",
      "23  | model._deterministic_encoder._d_encoder.initial.act                       | ReLU                 | 0     \n",
      "24  | model._deterministic_encoder._d_encoder.initial.dropout                   | Dropout2d            | 0     \n",
      "25  | model._deterministic_encoder._d_encoder.encoder                           | Sequential           | 32 K  \n",
      "26  | model._deterministic_encoder._d_encoder.encoder.0                         | NPBlockRelu2d        | 16 K  \n",
      "27  | model._deterministic_encoder._d_encoder.encoder.0.linear                  | Linear               | 16 K  \n",
      "28  | model._deterministic_encoder._d_encoder.encoder.0.act                     | ReLU                 | 0     \n",
      "29  | model._deterministic_encoder._d_encoder.encoder.0.dropout                 | Dropout2d            | 0     \n",
      "30  | model._deterministic_encoder._d_encoder.encoder.1                         | NPBlockRelu2d        | 16 K  \n",
      "31  | model._deterministic_encoder._d_encoder.encoder.1.linear                  | Linear               | 16 K  \n",
      "32  | model._deterministic_encoder._d_encoder.encoder.1.act                     | ReLU                 | 0     \n",
      "33  | model._deterministic_encoder._d_encoder.encoder.1.dropout                 | Dropout2d            | 0     \n",
      "34  | model._deterministic_encoder._d_encoder.final                             | Linear               | 16 K  \n",
      "35  | model._deterministic_encoder._self_attention                              | Attention            | 0     \n",
      "36  | model._deterministic_encoder._cross_attention                             | Attention            | 590 K \n",
      "37  | model._deterministic_encoder._cross_attention.batch_mlp_k                 | BatchMLP             | 32 K  \n",
      "38  | model._deterministic_encoder._cross_attention.batch_mlp_k.initial         | NPBlockRelu2d        | 16 K  \n",
      "39  | model._deterministic_encoder._cross_attention.batch_mlp_k.initial.linear  | Linear               | 16 K  \n",
      "40  | model._deterministic_encoder._cross_attention.batch_mlp_k.initial.act     | ReLU                 | 0     \n",
      "41  | model._deterministic_encoder._cross_attention.batch_mlp_k.initial.dropout | Dropout2d            | 0     \n",
      "42  | model._deterministic_encoder._cross_attention.batch_mlp_k.encoder         | Sequential           | 0     \n",
      "43  | model._deterministic_encoder._cross_attention.batch_mlp_k.final           | Linear               | 16 K  \n",
      "44  | model._deterministic_encoder._cross_attention.batch_mlp_q                 | BatchMLP             | 32 K  \n",
      "45  | model._deterministic_encoder._cross_attention.batch_mlp_q.initial         | NPBlockRelu2d        | 16 K  \n",
      "46  | model._deterministic_encoder._cross_attention.batch_mlp_q.initial.linear  | Linear               | 16 K  \n",
      "47  | model._deterministic_encoder._cross_attention.batch_mlp_q.initial.act     | ReLU                 | 0     \n",
      "48  | model._deterministic_encoder._cross_attention.batch_mlp_q.initial.dropout | Dropout2d            | 0     \n",
      "49  | model._deterministic_encoder._cross_attention.batch_mlp_q.encoder         | Sequential           | 0     \n",
      "50  | model._deterministic_encoder._cross_attention.batch_mlp_q.final           | Linear               | 16 K  \n",
      "51  | model._deterministic_encoder._cross_attention._W_k                        | ModuleList           | 131 K \n",
      "52  | model._deterministic_encoder._cross_attention._W_k.0                      | AttnLinear           | 16 K  \n",
      "53  | model._deterministic_encoder._cross_attention._W_k.0.linear               | Linear               | 16 K  \n",
      "54  | model._deterministic_encoder._cross_attention._W_k.1                      | AttnLinear           | 16 K  \n",
      "55  | model._deterministic_encoder._cross_attention._W_k.1.linear               | Linear               | 16 K  \n",
      "56  | model._deterministic_encoder._cross_attention._W_k.2                      | AttnLinear           | 16 K  \n",
      "57  | model._deterministic_encoder._cross_attention._W_k.2.linear               | Linear               | 16 K  \n",
      "58  | model._deterministic_encoder._cross_attention._W_k.3                      | AttnLinear           | 16 K  \n",
      "59  | model._deterministic_encoder._cross_attention._W_k.3.linear               | Linear               | 16 K  \n",
      "60  | model._deterministic_encoder._cross_attention._W_k.4                      | AttnLinear           | 16 K  \n",
      "61  | model._deterministic_encoder._cross_attention._W_k.4.linear               | Linear               | 16 K  \n",
      "62  | model._deterministic_encoder._cross_attention._W_k.5                      | AttnLinear           | 16 K  \n",
      "63  | model._deterministic_encoder._cross_attention._W_k.5.linear               | Linear               | 16 K  \n",
      "64  | model._deterministic_encoder._cross_attention._W_k.6                      | AttnLinear           | 16 K  \n",
      "65  | model._deterministic_encoder._cross_attention._W_k.6.linear               | Linear               | 16 K  \n",
      "66  | model._deterministic_encoder._cross_attention._W_k.7                      | AttnLinear           | 16 K  \n",
      "67  | model._deterministic_encoder._cross_attention._W_k.7.linear               | Linear               | 16 K  \n",
      "68  | model._deterministic_encoder._cross_attention._W_v                        | ModuleList           | 131 K \n",
      "69  | model._deterministic_encoder._cross_attention._W_v.0                      | AttnLinear           | 16 K  \n",
      "70  | model._deterministic_encoder._cross_attention._W_v.0.linear               | Linear               | 16 K  \n",
      "71  | model._deterministic_encoder._cross_attention._W_v.1                      | AttnLinear           | 16 K  \n",
      "72  | model._deterministic_encoder._cross_attention._W_v.1.linear               | Linear               | 16 K  \n",
      "73  | model._deterministic_encoder._cross_attention._W_v.2                      | AttnLinear           | 16 K  \n",
      "74  | model._deterministic_encoder._cross_attention._W_v.2.linear               | Linear               | 16 K  \n",
      "75  | model._deterministic_encoder._cross_attention._W_v.3                      | AttnLinear           | 16 K  \n",
      "76  | model._deterministic_encoder._cross_attention._W_v.3.linear               | Linear               | 16 K  \n",
      "77  | model._deterministic_encoder._cross_attention._W_v.4                      | AttnLinear           | 16 K  \n",
      "78  | model._deterministic_encoder._cross_attention._W_v.4.linear               | Linear               | 16 K  \n",
      "79  | model._deterministic_encoder._cross_attention._W_v.5                      | AttnLinear           | 16 K  \n",
      "80  | model._deterministic_encoder._cross_attention._W_v.5.linear               | Linear               | 16 K  \n",
      "81  | model._deterministic_encoder._cross_attention._W_v.6                      | AttnLinear           | 16 K  \n",
      "82  | model._deterministic_encoder._cross_attention._W_v.6.linear               | Linear               | 16 K  \n",
      "83  | model._deterministic_encoder._cross_attention._W_v.7                      | AttnLinear           | 16 K  \n",
      "84  | model._deterministic_encoder._cross_attention._W_v.7.linear               | Linear               | 16 K  \n",
      "85  | model._deterministic_encoder._cross_attention._W_q                        | ModuleList           | 131 K \n",
      "86  | model._deterministic_encoder._cross_attention._W_q.0                      | AttnLinear           | 16 K  \n",
      "87  | model._deterministic_encoder._cross_attention._W_q.0.linear               | Linear               | 16 K  \n",
      "88  | model._deterministic_encoder._cross_attention._W_q.1                      | AttnLinear           | 16 K  \n",
      "89  | model._deterministic_encoder._cross_attention._W_q.1.linear               | Linear               | 16 K  \n",
      "90  | model._deterministic_encoder._cross_attention._W_q.2                      | AttnLinear           | 16 K  \n",
      "91  | model._deterministic_encoder._cross_attention._W_q.2.linear               | Linear               | 16 K  \n",
      "92  | model._deterministic_encoder._cross_attention._W_q.3                      | AttnLinear           | 16 K  \n",
      "93  | model._deterministic_encoder._cross_attention._W_q.3.linear               | Linear               | 16 K  \n",
      "94  | model._deterministic_encoder._cross_attention._W_q.4                      | AttnLinear           | 16 K  \n",
      "95  | model._deterministic_encoder._cross_attention._W_q.4.linear               | Linear               | 16 K  \n",
      "96  | model._deterministic_encoder._cross_attention._W_q.5                      | AttnLinear           | 16 K  \n",
      "97  | model._deterministic_encoder._cross_attention._W_q.5.linear               | Linear               | 16 K  \n",
      "98  | model._deterministic_encoder._cross_attention._W_q.6                      | AttnLinear           | 16 K  \n",
      "99  | model._deterministic_encoder._cross_attention._W_q.6.linear               | Linear               | 16 K  \n",
      "100 | model._deterministic_encoder._cross_attention._W_q.7                      | AttnLinear           | 16 K  \n",
      "101 | model._deterministic_encoder._cross_attention._W_q.7.linear               | Linear               | 16 K  \n",
      "102 | model._deterministic_encoder._cross_attention._W                          | AttnLinear           | 131 K \n",
      "103 | model._deterministic_encoder._cross_attention._W.linear                   | Linear               | 131 K \n",
      "104 | model._decoder                                                            | Decoder              | 607 K \n",
      "105 | model._decoder._target_transform                                          | Linear               | 16 K  \n",
      "106 | model._decoder._decoder                                                   | BatchMLP             | 590 K \n",
      "107 | model._decoder._decoder.initial                                           | NPBlockRelu2d        | 147 K \n",
      "108 | model._decoder._decoder.initial.linear                                    | Linear               | 147 K \n",
      "109 | model._decoder._decoder.initial.act                                       | ReLU                 | 0     \n",
      "110 | model._decoder._decoder.initial.dropout                                   | Dropout2d            | 0     \n",
      "111 | model._decoder._decoder.encoder                                           | Sequential           | 294 K \n",
      "112 | model._decoder._decoder.encoder.0                                         | NPBlockRelu2d        | 147 K \n",
      "113 | model._decoder._decoder.encoder.0.linear                                  | Linear               | 147 K \n",
      "114 | model._decoder._decoder.encoder.0.act                                     | ReLU                 | 0     \n",
      "115 | model._decoder._decoder.encoder.0.dropout                                 | Dropout2d            | 0     \n",
      "116 | model._decoder._decoder.encoder.1                                         | NPBlockRelu2d        | 147 K \n",
      "117 | model._decoder._decoder.encoder.1.linear                                  | Linear               | 147 K \n",
      "118 | model._decoder._decoder.encoder.1.act                                     | ReLU                 | 0     \n",
      "119 | model._decoder._decoder.encoder.1.dropout                                 | Dropout2d            | 0     \n",
      "120 | model._decoder._decoder.final                                             | Linear               | 147 K \n",
      "121 | model._decoder._mean                                                      | Linear               | 385   \n",
      "122 | model._decoder._std                                                       | Linear               | 385   \n"
     ]
    },
    {
     "data": {
      "application/vnd.jupyter.widget-view+json": {
       "model_id": "",
       "version_major": 2,
       "version_minor": 0
      },
      "text/plain": [
       "HBox(children=(FloatProgress(value=0.0, description='Validation sanity check', layout=Layout(flex='2'), max=5.…"
      ]
     },
     "metadata": {},
     "output_type": "display_data"
    },
    {
     "data": {
      "image/png": "[encoded data removed]",
      "text/plain": [
       "<Figure size 432x288 with 1 Axes>"
      ]
     },
     "metadata": {
      "needs_background": "light"
     },
     "output_type": "display_data"
    },
    {
     "name": "stdout",
     "output_type": "stream",
     "text": [
      "step val 0, {'val_loss': '1.0521490573883057', 'val/kl': '0.5039555430412292', 'val/std': '1.0264629125595093', 'val/mse': '0.29038164019584656'} {}\n",
      "\r"
     ]
    },
    {
     "data": {
      "application/vnd.jupyter.widget-view+json": {
       "model_id": "92ea14a067a54af3955790f769c6a5b2",
       "version_major": 2,
       "version_minor": 0
      },
      "text/plain": [
       "HBox(children=(FloatProgress(value=1.0, bar_style='info', layout=Layout(flex='2'), max=1.0), HTML(value='')), …"
      ]
     },
     "metadata": {},
     "output_type": "display_data"
    },
    {
     "name": "stdout",
     "output_type": "stream",
     "text": [
      "INFO:root:Detected KeyboardInterrupt, attempting graceful shutdown...\n",
      "\n"
     ]
    },
    {
     "data": {
      "application/vnd.jupyter.widget-view+json": {
       "model_id": "cf73adaf09a342ef89ee6da54e04c84f",
       "version_major": 2,
       "version_minor": 0
      },
      "text/plain": [
       "HBox(children=(FloatProgress(value=0.0, description='Testing', layout=Layout(flex='2'), max=356.0, style=Progr…"
      ]
     },
     "metadata": {},
     "output_type": "display_data"
    }
   ],
   "source": [
    "trial, trainer, model = run_trial(\n",
    "    name=\"anp-rnn\",\n",
    "    params={\n",
    "     **default_params, \n",
    "     'det_enc_cross_attn_type': 'multihead',\n",
    "     'det_enc_self_attn_type': 'uniform',\n",
    "     'latent_enc_self_attn_type': 'uniform',\n",
    "     'use_deterministic_path': True,\n",
    "     'use_rnn': True\n",
    "    },\n",
    "    user_attrs = default_attrs,\n",
    "    PL_MODEL_CLS=LatentModelPL\n",
    ")"
   ]
  },
  {
   "cell_type": "code",
   "execution_count": null,
   "metadata": {
    "ExecuteTime": {
     "end_time": "2020-03-15T07:42:06.297126Z",
     "start_time": "2020-03-15T07:42:05.346541Z"
    }
   },
   "outputs": [],
   "source": []
  },
  {
   "cell_type": "markdown",
   "metadata": {
    "ExecuteTime": {
     "end_time": "2020-02-15T07:40:36.819548Z",
     "start_time": "2020-02-15T07:40:07.785566Z"
    }
   },
   "source": [
    "# ANP-RNN 2"
   ]
  },
  {
   "cell_type": "code",
   "execution_count": null,
   "metadata": {},
   "outputs": [],
   "source": [
    "trial, trainer, model = run_trial(\n",
    "    name=\"anp-rnn-nodt\",\n",
    "    params={\n",
    "        **default_params, \n",
    "        'det_enc_cross_attn_type': 'ptmultihead',\n",
    "        'det_enc_self_attn_type': 'uniform',\n",
    "        'latent_enc_self_attn_type': 'uniform',\n",
    "        'use_deterministic_path': False,\n",
    "        'use_rnn': True\n",
    "    },\n",
    "    user_attrs=default_attrs,\n",
    "    PL_MODEL_CLS=LatentModelPL)"
   ]
  },
  {
   "cell_type": "code",
   "execution_count": null,
   "metadata": {
    "ExecuteTime": {
     "end_time": "2020-03-15T07:42:06.304901Z",
     "start_time": "2020-03-15T07:41:53.000Z"
    }
   },
   "outputs": [],
   "source": []
  },
  {
   "cell_type": "code",
   "execution_count": null,
   "metadata": {
    "ExecuteTime": {
     "end_time": "2020-02-15T07:01:21.281138Z",
     "start_time": "2020-02-15T07:01:20.834255Z"
    }
   },
   "outputs": [],
   "source": []
  },
  {
   "cell_type": "markdown",
   "metadata": {
    "ExecuteTime": {
     "end_time": "2020-02-15T07:00:04.268233Z",
     "start_time": "2020-02-15T06:57:58.700Z"
    },
    "scrolled": true
   },
   "source": [
    "# ANP"
   ]
  },
  {
   "cell_type": "code",
   "execution_count": null,
   "metadata": {
    "ExecuteTime": {
     "end_time": "2020-03-15T07:42:06.319984Z",
     "start_time": "2020-03-15T07:41:53.000Z"
    }
   },
   "outputs": [],
   "source": []
  },
  {
   "cell_type": "code",
   "execution_count": null,
   "metadata": {},
   "outputs": [],
   "source": [
    "trial, trainer, model = run_trial(name=\"anp\",\n",
    "                                  params={\n",
    "                                      **default_params,\n",
    "                                      'det_enc_cross_attn_type': 'multihead',\n",
    "                                      'det_enc_self_attn_type': 'multihead',\n",
    "                                      'latent_enc_self_attn_type': 'multihead',\n",
    "                                      'use_deterministic_path': True,\n",
    "                                  },\n",
    "                                  user_attrs=default_attrs,\n",
    "                                  PL_MODEL_CLS=LatentModelPL)"
   ]
  },
  {
   "cell_type": "markdown",
   "metadata": {},
   "source": [
    "# NP"
   ]
  },
  {
   "cell_type": "code",
   "execution_count": null,
   "metadata": {
    "ExecuteTime": {
     "end_time": "2020-03-15T07:42:06.321603Z",
     "start_time": "2020-03-15T07:41:53.000Z"
    }
   },
   "outputs": [],
   "source": [
    "trial, trainer, model = run_trial(name=\"np\",\n",
    "                                  params={\n",
    "                                      **default_params,\n",
    "                                      'det_enc_cross_attn_type': 'uniform',\n",
    "                                      'det_enc_self_attn_type': 'uniform',\n",
    "                                      'latent_enc_self_attn_type': 'uniform',\n",
    "                                      'use_deterministic_path': False,\n",
    "                                  },\n",
    "                                  user_attrs=default_attrs,\n",
    "                                  PL_MODEL_CLS=LatentModelPL)"
   ]
  },
  {
   "cell_type": "markdown",
   "metadata": {
    "ExecuteTime": {
     "end_time": "2020-01-27T04:27:28.582523Z",
     "start_time": "2020-01-27T04:27:28.445326Z"
    }
   },
   "source": [
    "# Hyperparam"
   ]
  },
  {
   "cell_type": "code",
   "execution_count": null,
   "metadata": {
    "ExecuteTime": {
     "end_time": "2020-03-15T07:42:06.323283Z",
     "start_time": "2020-03-15T07:41:53.000Z"
    },
    "scrolled": true
   },
   "outputs": [],
   "source": [
    "import argparse \n",
    "\n",
    "parser = argparse.ArgumentParser(description='PyTorch Lightning example.')\n",
    "parser.add_argument('--pruning', '-p', action='store_true',\n",
    "                    help='Activate the pruning feature. `MedianPruner` stops unpromising '\n",
    "                         'trials at the early stages of training.')\n",
    "args = parser.parse_args(['-p'])\n",
    "\n",
    "pruner = optuna.pruners.MedianPruner(n_warmup_steps=1, n_startup_trials=20) if args.pruning else optuna.pruners.NopPruner()\n",
    "pruner = optuna.pruners.PercentilePruner(75.0)\n",
    "name = 'anp-rnn1'\n",
    "study = optuna.create_study(direction='minimize', pruner=pruner, storage=f'sqlite:///optuna_result/{name}.db', study_name=name, load_if_exists=True)\n"
   ]
  },
  {
   "cell_type": "code",
   "execution_count": null,
   "metadata": {
    "ExecuteTime": {
     "end_time": "2020-03-15T07:42:06.324846Z",
     "start_time": "2020-03-15T07:41:53.100Z"
    },
    "scrolled": true
   },
   "outputs": [],
   "source": [
    "study.optimize(objective, n_trials=200, timeout=pd.Timedelta('3d').total_seconds())"
   ]
  },
  {
   "cell_type": "code",
   "execution_count": null,
   "metadata": {
    "ExecuteTime": {
     "end_time": "2020-02-16T04:12:26.187191Z",
     "start_time": "2020-02-16T04:12:26.081801Z"
    }
   },
   "outputs": [],
   "source": []
  },
  {
   "cell_type": "code",
   "execution_count": null,
   "metadata": {
    "ExecuteTime": {
     "end_time": "2020-03-15T07:42:06.326272Z",
     "start_time": "2020-03-15T07:41:53.100Z"
    },
    "scrolled": true
   },
   "outputs": [],
   "source": [
    "\n",
    "print('Number of finished trials: {}'.format(len(study.trials)))\n",
    "\n",
    "print('Best trial:')\n",
    "trial = study.best_trial\n",
    "\n",
    "print('  Value: {}'.format(trial.value))\n",
    "\n",
    "print('  Params: ')\n",
    "for key, value in trial.params.items():\n",
    "    print('    {}: {}'.format(key, value))\n",
    "\n",
    "# shutil.rmtree(MODEL_DIR)"
   ]
  },
  {
   "cell_type": "code",
   "execution_count": null,
   "metadata": {
    "ExecuteTime": {
     "end_time": "2020-01-27T07:45:29.794794Z",
     "start_time": "2020-01-27T07:45:29.733450Z"
    }
   },
   "outputs": [],
   "source": []
  },
  {
   "cell_type": "markdown",
   "metadata": {
    "ExecuteTime": {
     "end_time": "2020-01-27T07:35:33.470251Z",
     "start_time": "2020-01-27T07:34:47.800Z"
    }
   },
   "source": [
    "## View\n",
    "\n",
    "TODO"
   ]
  },
  {
   "cell_type": "code",
   "execution_count": null,
   "metadata": {
    "ExecuteTime": {
     "end_time": "2020-03-15T07:42:06.327694Z",
     "start_time": "2020-03-15T07:41:53.100Z"
    }
   },
   "outputs": [],
   "source": [
    "df = study.trials_dataframe(attrs=('number', 'value', 'params', 'state'))\n",
    "df.sort_values('value')"
   ]
  },
  {
   "cell_type": "code",
   "execution_count": null,
   "metadata": {
    "ExecuteTime": {
     "end_time": "2020-03-15T07:42:06.332315Z",
     "start_time": "2020-03-15T07:41:53.100Z"
    }
   },
   "outputs": [],
   "source": [
    "df.sort_values('value').head(17).T"
   ]
  },
  {
   "cell_type": "code",
   "execution_count": null,
   "metadata": {},
   "outputs": [],
   "source": []
  },
  {
   "cell_type": "code",
   "execution_count": null,
   "metadata": {},
   "outputs": [],
   "source": []
  },
  {
   "cell_type": "code",
   "execution_count": null,
   "metadata": {},
   "outputs": [],
   "source": []
  }
 ],
 "metadata": {
  "file_extension": ".py",
  "kernelspec": {
   "display_name": "jup3.7.3",
   "language": "python",
   "name": "jup3.7.3"
  },
  "language_info": {
   "codemirror_mode": {
    "name": "ipython",
    "version": 3
   },
   "file_extension": ".py",
   "mimetype": "text/x-python",
   "name": "python",
   "nbconvert_exporter": "python",
   "pygments_lexer": "ipython3",
   "version": "3.7.3"
  },
  "mimetype": "text/x-python",
  "name": "python",
  "npconvert_exporter": "python",
  "pygments_lexer": "ipython3",
  "toc": {
   "base_numbering": 1,
   "nav_menu": {},
   "number_sections": true,
   "sideBar": true,
   "skip_h1_title": false,
   "title_cell": "Table of Contents",
   "title_sidebar": "Contents",
   "toc_cell": false,
   "toc_position": {
    "height": "calc(100% - 180px)",
    "left": "10px",
    "top": "150px",
    "width": "384px"
   },
   "toc_section_display": true,
   "toc_window_display": true
  },
  "version": 3
 },
 "nbformat": 4,
 "nbformat_minor": 2
}
