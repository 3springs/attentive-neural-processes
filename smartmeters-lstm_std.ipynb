{
 "cells": [
  {
   "cell_type": "markdown",
   "metadata": {},
   "source": [
    "# This notebook uses pytorch lightning & optuna & an LSTM\n",
    "\n",
    "This notebook trains an LSTM on timeseries data from smartmeters.\n",
    "\n",
    "It uses pytorch lighting for the training loop. And Optuna for the hyperparameter optimisation.\n",
    "\n",
    "It also pushes results to the tensorboard hyperparameter dashboard for examination.\n",
    "\n",
    "- https://github.com/optuna/optuna/blob/master/examples/pytorch_lightning_simple.py"
   ]
  },
  {
   "cell_type": "code",
   "execution_count": 1,
   "metadata": {
    "ExecuteTime": {
     "end_time": "2020-03-16T02:34:30.359698Z",
     "start_time": "2020-03-16T02:34:29.957087Z"
    }
   },
   "outputs": [],
   "source": [
    "%matplotlib inline\n",
    "%reload_ext autoreload\n",
    "%autoreload 2"
   ]
  },
  {
   "cell_type": "code",
   "execution_count": 2,
   "metadata": {
    "ExecuteTime": {
     "end_time": "2020-03-16T02:34:32.445501Z",
     "start_time": "2020-03-16T02:34:30.363837Z"
    }
   },
   "outputs": [],
   "source": [
    "import sys, re, os, itertools, functools, collections\n",
    "import pandas as pd\n",
    "import numpy as np\n",
    "import matplotlib.pyplot as plt\n",
    "import collections\n",
    "from pathlib import Path\n",
    "from tqdm.auto import tqdm\n",
    "\n",
    "import pytorch_lightning as pl\n",
    "import optuna\n",
    "from optuna.integration import PyTorchLightningPruningCallback\n",
    "\n",
    "\n",
    "import math\n"
   ]
  },
  {
   "cell_type": "code",
   "execution_count": 3,
   "metadata": {
    "ExecuteTime": {
     "end_time": "2020-03-16T02:34:32.506510Z",
     "start_time": "2020-03-16T02:34:32.449562Z"
    }
   },
   "outputs": [],
   "source": [
    "import torch\n",
    "from torch import nn\n",
    "import torch.nn.functional as F"
   ]
  },
  {
   "cell_type": "code",
   "execution_count": 4,
   "metadata": {
    "ExecuteTime": {
     "end_time": "2020-03-16T02:34:32.643521Z",
     "start_time": "2020-03-16T02:34:32.510020Z"
    }
   },
   "outputs": [
    {
     "name": "stderr",
     "output_type": "stream",
     "text": [
      "/home/wassname/.pyenv/versions/jup3.7.3/lib/python3.7/site-packages/pytorch_lightning/core/decorators.py:13: UserWarning:\n",
      "\n",
      "data_loader decorator deprecated in 0.7.0. Will remove 0.9.0\n",
      "\n"
     ]
    }
   ],
   "source": [
    "from src.models.model import LatentModel\n",
    "from src.data.smart_meter import collate_fns, SmartMeterDataSet, get_smartmeter_df\n",
    "# from src.plot import plot_from_loader\n",
    "from src.models.lstm_std import SequenceDfDataSet, LSTM_PL, plot_from_loader\n",
    "from src.dict_logger import DictLogger\n",
    "from src.utils import PyTorchLightningPruningCallback\n",
    "from src.train import main, objective, add_number, run_trial"
   ]
  },
  {
   "cell_type": "code",
   "execution_count": 5,
   "metadata": {
    "ExecuteTime": {
     "end_time": "2020-03-16T02:34:32.696704Z",
     "start_time": "2020-03-16T02:34:32.645627Z"
    }
   },
   "outputs": [],
   "source": [
    "import logging\n",
    "logging.basicConfig(stream=sys.stdout, level=logging.INFO)\n",
    "logger = logging.getLogger(\"smartmeters.ipynb\")"
   ]
  },
  {
   "cell_type": "code",
   "execution_count": 6,
   "metadata": {
    "ExecuteTime": {
     "end_time": "2020-03-16T02:34:32.755779Z",
     "start_time": "2020-03-16T02:34:32.699327Z"
    }
   },
   "outputs": [],
   "source": [
    "# Params\n",
    "device='cuda'\n",
    "use_logy=False"
   ]
  },
  {
   "cell_type": "markdown",
   "metadata": {},
   "source": [
    "# Load kaggle smart meter data"
   ]
  },
  {
   "cell_type": "code",
   "execution_count": 7,
   "metadata": {
    "ExecuteTime": {
     "end_time": "2020-03-16T02:34:42.021649Z",
     "start_time": "2020-03-16T02:34:32.758457Z"
    }
   },
   "outputs": [],
   "source": [
    "df_train, df_val, df_test = get_smartmeter_df()"
   ]
  },
  {
   "cell_type": "code",
   "execution_count": 8,
   "metadata": {
    "ExecuteTime": {
     "end_time": "2020-03-16T02:34:42.781049Z",
     "start_time": "2020-03-16T02:34:42.027287Z"
    }
   },
   "outputs": [
    {
     "data": {
      "text/plain": [
       "<matplotlib.legend.Legend at 0x7f80c3a080f0>"
      ]
     },
     "execution_count": 8,
     "metadata": {},
     "output_type": "execute_result"
    },
    {
     "data": {
      "image/png": "[encoded data removed]",
      "text/plain": [
       "<Figure size 432x288 with 1 Axes>"
      ]
     },
     "metadata": {
      "needs_background": "light"
     },
     "output_type": "display_data"
    }
   ],
   "source": [
    "# Show split\n",
    "df_train['energy(kWh/hh)'].plot(label='train')\n",
    "df_val['energy(kWh/hh)'].plot(label='val')\n",
    "df_test['energy(kWh/hh)'].plot(label='test')\n",
    "plt.title('energy(kWh/hh)')\n",
    "plt.legend()"
   ]
  },
  {
   "cell_type": "code",
   "execution_count": null,
   "metadata": {
    "ExecuteTime": {
     "end_time": "2020-02-16T00:24:15.905017Z",
     "start_time": "2020-02-16T00:24:15.747859Z"
    }
   },
   "outputs": [],
   "source": []
  },
  {
   "cell_type": "markdown",
   "metadata": {},
   "source": [
    "# Train helpers"
   ]
  },
  {
   "cell_type": "code",
   "execution_count": null,
   "metadata": {
    "ExecuteTime": {
     "end_time": "2020-02-16T08:59:31.666864Z",
     "start_time": "2020-02-16T08:59:31.614455Z"
    }
   },
   "outputs": [],
   "source": []
  },
  {
   "cell_type": "code",
   "execution_count": null,
   "metadata": {
    "ExecuteTime": {
     "end_time": "2020-02-16T08:59:31.723074Z",
     "start_time": "2020-02-16T08:59:31.669382Z"
    }
   },
   "outputs": [],
   "source": []
  },
  {
   "cell_type": "code",
   "execution_count": null,
   "metadata": {
    "ExecuteTime": {
     "end_time": "2020-02-16T08:59:31.776108Z",
     "start_time": "2020-02-16T08:59:31.725544Z"
    }
   },
   "outputs": [],
   "source": []
  },
  {
   "cell_type": "markdown",
   "metadata": {},
   "source": [
    "# Train"
   ]
  },
  {
   "cell_type": "code",
   "execution_count": null,
   "metadata": {
    "ExecuteTime": {
     "end_time": "2020-02-16T08:59:31.847706Z",
     "start_time": "2020-02-16T08:59:31.778240Z"
    }
   },
   "outputs": [],
   "source": []
  },
  {
   "cell_type": "code",
   "execution_count": null,
   "metadata": {
    "ExecuteTime": {
     "start_time": "2020-03-16T02:34:30.000Z"
    }
   },
   "outputs": [
    {
     "name": "stdout",
     "output_type": "stream",
     "text": [
      "now run `tensorboard --logdir lightning_logs`\n",
      "trial.number -22\n",
      "INFO:root:GPU available: True, used: True\n",
      "INFO:root:VISIBLE GPUS: 0\n",
      "INFO:root:\n",
      "  | Name         | Type    | Params\n",
      "-------------------------------------\n",
      "0 | _model       | LSTMNet | 207 K \n",
      "1 | _model.lstm1 | LSTM    | 207 K \n",
      "2 | _model.mean  | Linear  | 129   \n",
      "3 | _model.std   | Linear  | 129   \n"
     ]
    },
    {
     "data": {
      "application/vnd.jupyter.widget-view+json": {
       "model_id": "",
       "version_major": 2,
       "version_minor": 0
      },
      "text/plain": [
       "HBox(children=(FloatProgress(value=0.0, description='Validation sanity check', layout=Layout(flex='2'), max=5.…"
      ]
     },
     "metadata": {},
     "output_type": "display_data"
    },
    {
     "data": {
      "application/vnd.jupyter.widget-view+json": {
       "model_id": "a99bc199d0914e8b8db7e6755871e2d9",
       "version_major": 2,
       "version_minor": 0
      },
      "text/plain": [
       "HBox(children=(FloatProgress(value=0.0, max=1.0), HTML(value='')))"
      ]
     },
     "metadata": {},
     "output_type": "display_data"
    },
    {
     "name": "stdout",
     "output_type": "stream",
     "text": [
      "\n"
     ]
    },
    {
     "data": {
      "image/png": "[encoded data removed]",
      "text/plain": [
       "<Figure size 432x288 with 1 Axes>"
      ]
     },
     "metadata": {
      "needs_background": "light"
     },
     "output_type": "display_data"
    },
    {
     "name": "stdout",
     "output_type": "stream",
     "text": [
      "step 0, {'val_loss': '1.1009114980697632', 'val/loss': '1.1009114980697632', 'val/loss_mse': '0.29708001017570496', 'val/loss_p': '1.1009114980697632', 'val/sigma': '1.047681450843811'}\n",
      "\r"
     ]
    },
    {
     "data": {
      "application/vnd.jupyter.widget-view+json": {
       "model_id": "c9de86edbd9544c495e43cee3a99e64e",
       "version_major": 2,
       "version_minor": 0
      },
      "text/plain": [
       "HBox(children=(FloatProgress(value=1.0, bar_style='info', layout=Layout(flex='2'), max=1.0), HTML(value='')), …"
      ]
     },
     "metadata": {},
     "output_type": "display_data"
    }
   ],
   "source": [
    "trial, trainer, model = run_trial(\n",
    "    name=\"lstm_std\",\n",
    "    params={\n",
    "        'bidirectional': False,\n",
    "        'hidden_size': 128,\n",
    "        'learning_rate': 2e-4,\n",
    "        'lstm_dropout': 0.0,\n",
    "        'lstm_layers': 2,\n",
    "    },\n",
    "    user_attrs = {\n",
    "        'batch_size': 16,\n",
    "        'grad_clip': 40,\n",
    "        'max_nb_epochs': 200,\n",
    "        'num_workers': 4,\n",
    "        'window_length': 24*4,\n",
    "        'vis_i': '670',\n",
    "        'target_length': 24*4,\n",
    "        'input_size': 17,\n",
    "        'input_size_decoder': 17,\n",
    "        'context_in_target': True,\n",
    "        'output_size': 1\n",
    "    },\n",
    "    PL_MODEL_CLS=LSTM_PL,\n",
    "    plot_from_loader=plot_from_loader\n",
    ")"
   ]
  },
  {
   "cell_type": "code",
   "execution_count": null,
   "metadata": {
    "ExecuteTime": {
     "end_time": "2020-03-15T08:15:08.028990Z",
     "start_time": "2020-03-15T08:15:07.975058Z"
    }
   },
   "outputs": [],
   "source": []
  },
  {
   "cell_type": "markdown",
   "metadata": {},
   "source": [
    "[I 2020-01-29 08:42:54,398] Finished trial#8 resulted in value: 0.005635036621242762. Current best value is 0.005635036621242762 with parameters: {'batch_size': 16, 'bidirectional': False, 'grad_clip': 40, 'hidden_size': 128, 'input_size': 17, 'learning_rate': 0.00019134834148401144, 'lstm_dropout': 0.4080689425353674, 'lstm_layers': 8, 'max_nb_epochs': 20, 'num_workers': 4, 'target_length': 24, 'vis_i': 670, 'window_length': 48}."
   ]
  },
  {
   "cell_type": "code",
   "execution_count": null,
   "metadata": {
    "ExecuteTime": {
     "end_time": "2020-03-15T07:41:37.510713Z",
     "start_time": "2020-03-15T07:41:37.455728Z"
    },
    "scrolled": true
   },
   "outputs": [],
   "source": []
  },
  {
   "cell_type": "code",
   "execution_count": null,
   "metadata": {
    "ExecuteTime": {
     "start_time": "2020-03-16T02:34:30.100Z"
    }
   },
   "outputs": [],
   "source": [
    "loader = model.val_dataloader()\n",
    "dset_test = loader.dataset\n",
    "label_names = dset_test.label_names\n",
    "plot_from_loader(loader, model, i=670)"
   ]
  },
  {
   "cell_type": "code",
   "execution_count": null,
   "metadata": {
    "ExecuteTime": {
     "start_time": "2020-03-16T02:34:30.100Z"
    }
   },
   "outputs": [],
   "source": [
    "# test\n",
    "trainer.test(model)"
   ]
  },
  {
   "cell_type": "code",
   "execution_count": null,
   "metadata": {
    "ExecuteTime": {
     "end_time": "2020-02-16T00:49:01.520212Z",
     "start_time": "2020-02-16T00:49:01.461810Z"
    }
   },
   "outputs": [],
   "source": []
  },
  {
   "cell_type": "markdown",
   "metadata": {
    "ExecuteTime": {
     "end_time": "2020-01-27T09:03:28.792465Z",
     "start_time": "2020-01-27T09:03:28.346446Z"
    }
   },
   "source": [
    "# Hyperparam opt"
   ]
  },
  {
   "cell_type": "code",
   "execution_count": null,
   "metadata": {},
   "outputs": [],
   "source": []
  },
  {
   "cell_type": "code",
   "execution_count": null,
   "metadata": {
    "ExecuteTime": {
     "start_time": "2020-03-16T02:34:30.100Z"
    }
   },
   "outputs": [],
   "source": [
    "import argparse \n",
    "\n",
    "parser = argparse.ArgumentParser(description='PyTorch Lightning example.')\n",
    "parser.add_argument('--pruning', '-p', action='store_true',\n",
    "                    help='Activate the pruning feature. `MedianPruner` stops unpromising '\n",
    "                         'trials at the early stages of training.')\n",
    "args = parser.parse_args(['-p'])\n",
    "\n",
    "pruner = optuna.pruners.MedianPruner() if args.pruning else optuna.pruners.NopPruner()\n",
    "\n",
    "study = optuna.create_study(direction='minimize', pruner=pruner, storage=f'sqlite:///optuna_result/{name}.db', study_name='no-name-b60e37fc-4ab6-4793-8a0a-c87a1b40c5c0', load_if_exists=True)\n",
    "\n",
    "# shutil.rmtree(MODEL_DIR)"
   ]
  },
  {
   "cell_type": "code",
   "execution_count": null,
   "metadata": {
    "ExecuteTime": {
     "end_time": "2020-01-27T23:38:16.813496Z",
     "start_time": "2020-01-27T23:38:16.766674Z"
    }
   },
   "outputs": [],
   "source": []
  },
  {
   "cell_type": "code",
   "execution_count": null,
   "metadata": {
    "ExecuteTime": {
     "start_time": "2020-03-16T02:34:30.100Z"
    }
   },
   "outputs": [],
   "source": [
    "study.optimize(objective, n_trials=200, timeout=6000)\n",
    "\n",
    "\n"
   ]
  },
  {
   "cell_type": "code",
   "execution_count": null,
   "metadata": {
    "ExecuteTime": {
     "start_time": "2020-03-16T02:34:30.100Z"
    }
   },
   "outputs": [],
   "source": [
    "print('Number of finished trials: {}'.format(len(study.trials)))\n",
    "\n",
    "print('Best trial:')\n",
    "trial = study.best_trial\n",
    "\n",
    "print('  Value: {}'.format(trial.value))\n",
    "\n",
    "print('  Params: ')\n",
    "for key, value in trial.params.items():\n",
    "    print('    {}: {}'.format(key, value))"
   ]
  },
  {
   "cell_type": "code",
   "execution_count": null,
   "metadata": {
    "ExecuteTime": {
     "start_time": "2020-03-16T02:34:30.100Z"
    }
   },
   "outputs": [],
   "source": [
    "study.optimize(objective, n_trials=200, timeout=6000)"
   ]
  },
  {
   "cell_type": "code",
   "execution_count": null,
   "metadata": {
    "ExecuteTime": {
     "start_time": "2020-03-16T02:34:30.100Z"
    }
   },
   "outputs": [],
   "source": [
    "df = study.trials_dataframe(attrs=('number', 'value', 'params', 'state'))\n",
    "df.sort_values('value')"
   ]
  }
 ],
 "metadata": {
  "file_extension": ".py",
  "kernelspec": {
   "display_name": "jup3.7.3",
   "language": "python",
   "name": "jup3.7.3"
  },
  "language_info": {
   "codemirror_mode": {
    "name": "ipython",
    "version": 3
   },
   "file_extension": ".py",
   "mimetype": "text/x-python",
   "name": "python",
   "nbconvert_exporter": "python",
   "pygments_lexer": "ipython3",
   "version": "3.7.3"
  },
  "mimetype": "text/x-python",
  "name": "python",
  "npconvert_exporter": "python",
  "pygments_lexer": "ipython3",
  "toc": {
   "base_numbering": 1,
   "nav_menu": {},
   "number_sections": true,
   "sideBar": true,
   "skip_h1_title": false,
   "title_cell": "Table of Contents",
   "title_sidebar": "Contents",
   "toc_cell": false,
   "toc_position": {
    "height": "calc(100% - 180px)",
    "left": "10px",
    "top": "150px",
    "width": "384px"
   },
   "toc_section_display": true,
   "toc_window_display": true
  },
  "version": 3
 },
 "nbformat": 4,
 "nbformat_minor": 2
}
